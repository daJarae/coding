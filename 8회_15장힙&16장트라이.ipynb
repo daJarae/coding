{
  "nbformat": 4,
  "nbformat_minor": 0,
  "metadata": {
    "colab": {
      "name": "15장힙_16장트라이.ipynb",
      "provenance": [],
      "authorship_tag": "ABX9TyPSIG840Ai7VsxKctMwHVyR",
      "include_colab_link": true
    },
    "kernelspec": {
      "name": "python3",
      "display_name": "Python 3"
    },
    "language_info": {
      "name": "python"
    }
  },
  "cells": [
    {
      "cell_type": "markdown",
      "metadata": {
        "id": "view-in-github",
        "colab_type": "text"
      },
      "source": [
        "<a href=\"https://colab.research.google.com/github/daJarae/coding/blob/main/8%ED%9A%8C_15%EC%9E%A5%ED%9E%99%2616%EC%9E%A5%ED%8A%B8%EB%9D%BC%EC%9D%B4.ipynb\" target=\"_parent\"><img src=\"https://colab.research.google.com/assets/colab-badge.svg\" alt=\"Open In Colab\"/></a>"
      ]
    },
    {
      "cell_type": "markdown",
      "source": [
        "#55 배열의 K번째 큰 요소"
      ],
      "metadata": {
        "id": "qy0pqo95NF-K"
      }
    },
    {
      "cell_type": "code",
      "source": [
        "def kth(nums,k):\n",
        "  return sorted(nums)[-k]"
      ],
      "metadata": {
        "id": "zks_JjWjNIuz"
      },
      "execution_count": null,
      "outputs": []
    },
    {
      "cell_type": "code",
      "source": [
        "kth([3,2,3,1,2,4,5,5,6],4)"
      ],
      "metadata": {
        "colab": {
          "base_uri": "https://localhost:8080/"
        },
        "id": "1cHmq-bWNVGR",
        "outputId": "3b0a2236-298d-48f6-8790-7ec658796aa2"
      },
      "execution_count": null,
      "outputs": [
        {
          "output_type": "execute_result",
          "data": {
            "text/plain": [
              "4"
            ]
          },
          "metadata": {},
          "execution_count": 61
        }
      ]
    },
    {
      "cell_type": "code",
      "source": [
        "def kth2(nums,k):\n",
        "  import heapq\n",
        "  heapq.heapify(nums)\n",
        "  return nums[-k]"
      ],
      "metadata": {
        "id": "h5-l1Ny9NbU8"
      },
      "execution_count": null,
      "outputs": []
    },
    {
      "cell_type": "code",
      "source": [
        "kth2([3,2,3,1,2,4,5,5,6],4)"
      ],
      "metadata": {
        "colab": {
          "base_uri": "https://localhost:8080/"
        },
        "id": "DbBwzG8CNi0m",
        "outputId": "8441cfb8-df94-45f7-fa99-cad8511d04ea"
      },
      "execution_count": null,
      "outputs": [
        {
          "output_type": "execute_result",
          "data": {
            "text/plain": [
              "4"
            ]
          },
          "metadata": {},
          "execution_count": 63
        }
      ]
    },
    {
      "cell_type": "code",
      "source": [
        "def kth3(nums,k):\n",
        "  import heapq\n",
        "  srt=[]\n",
        "  for n in nums:\n",
        "    heapq.heappush(srt, n)\n",
        "  for _ in range(1,len(nums)-k +1): #len(nums)-k번 pop 또는 nums 원소를 음수로 저장\n",
        "    heapq.heappop(srt)\n",
        "  return heapq.heappop(srt)"
      ],
      "metadata": {
        "id": "kI6HSl6KNk3q"
      },
      "execution_count": null,
      "outputs": []
    },
    {
      "cell_type": "code",
      "source": [
        "kth3([3,2,3,1,2,4,5,5,6],4)"
      ],
      "metadata": {
        "colab": {
          "base_uri": "https://localhost:8080/"
        },
        "id": "Kwr5vu_iNxBR",
        "outputId": "1389ecab-e5c7-4b56-db26-a418bb62d7a9"
      },
      "execution_count": null,
      "outputs": [
        {
          "output_type": "execute_result",
          "data": {
            "text/plain": [
              "4"
            ]
          },
          "metadata": {},
          "execution_count": 73
        }
      ]
    },
    {
      "cell_type": "code",
      "source": [
        "def kth4(nums, k):\n",
        "  import heapq\n",
        "  return heapq.nlargest(k,nums)[-1]"
      ],
      "metadata": {
        "id": "i3c9YtWFOk_f"
      },
      "execution_count": null,
      "outputs": []
    },
    {
      "cell_type": "code",
      "source": [
        "kth4([3,2,3,1,2,4,5,5,6],4)"
      ],
      "metadata": {
        "colab": {
          "base_uri": "https://localhost:8080/"
        },
        "id": "egvkhSDCOtKk",
        "outputId": "b449becc-aa82-418c-a2a0-7be8e66127ac"
      },
      "execution_count": null,
      "outputs": [
        {
          "output_type": "execute_result",
          "data": {
            "text/plain": [
              "4"
            ]
          },
          "metadata": {},
          "execution_count": 75
        }
      ]
    },
    {
      "cell_type": "code",
      "source": [
        "import heapq\n",
        "heapq.nlargest(3,[5,3,2,1,4])\n",
        "#가장 큰 3개"
      ],
      "metadata": {
        "colab": {
          "base_uri": "https://localhost:8080/"
        },
        "id": "rJqyibOBOvNf",
        "outputId": "383b50a5-e593-401b-faf8-8c20db40e401"
      },
      "execution_count": null,
      "outputs": [
        {
          "output_type": "execute_result",
          "data": {
            "text/plain": [
              "[5, 4, 3]"
            ]
          },
          "metadata": {},
          "execution_count": 76
        }
      ]
    },
    {
      "cell_type": "markdown",
      "source": [
        "\n",
        "\n",
        "---\n",
        "\n"
      ],
      "metadata": {
        "id": "OLlq6HXgO8Xw"
      }
    },
    {
      "cell_type": "markdown",
      "source": [
        "# 56 트라이 구현"
      ],
      "metadata": {
        "id": "1WnrY0frO5uZ"
      }
    },
    {
      "cell_type": "code",
      "execution_count": null,
      "metadata": {
        "id": "mIK39BvQGD7v"
      },
      "outputs": [],
      "source": [
        "class TrieNode:\n",
        "  def __init__(self):\n",
        "    self.word=False\n",
        "    from collections import defaultdict as dd\n",
        "    self.children = dd(TrieNode)\n",
        "\n",
        "class Trie:\n",
        "  def __init__(self):\n",
        "    self.root=TrieNode()\n",
        "\n",
        "  def insert(self, word: str) -> None:\n",
        "    node=self.root\n",
        "    for char in word:\n",
        "      node=node.children[char]\n",
        "    node.word= True #단어의 마지막 글자일 때만 True로\n",
        "\n",
        "  def search(self, word:str)->bool:\n",
        "    node=self.root\n",
        "    for char in word:\n",
        "      if char not in node.children:\n",
        "        return False\n",
        "      node=node.children[char]\n",
        "      print(node.children[char])\n",
        "    return node.word\n",
        "\n",
        "  def startswith(self, prefix: str) -> bool:\n",
        "    node=self.root\n",
        "    for char in prefix:\n",
        "      if char not in node.children:\n",
        "        return False\n",
        "      node=node.children[char]\n",
        "    return True"
      ]
    },
    {
      "cell_type": "code",
      "source": [
        "a = Trie();\n",
        "\n",
        "a.insert('a')"
      ],
      "metadata": {
        "id": "VZn7ozSoKLS5"
      },
      "execution_count": null,
      "outputs": []
    },
    {
      "cell_type": "code",
      "source": [
        "a.root.word"
      ],
      "metadata": {
        "colab": {
          "base_uri": "https://localhost:8080/"
        },
        "id": "TDjSeJtYKWhW",
        "outputId": "a5e0f1ef-6de7-461f-8dfc-141635842263"
      },
      "execution_count": null,
      "outputs": [
        {
          "output_type": "execute_result",
          "data": {
            "text/plain": [
              "False"
            ]
          },
          "metadata": {},
          "execution_count": 21
        }
      ]
    },
    {
      "cell_type": "code",
      "source": [
        "a.search('asb')"
      ],
      "metadata": {
        "colab": {
          "base_uri": "https://localhost:8080/"
        },
        "id": "qIjb3fzoKuuu",
        "outputId": "d3ab9299-412a-4345-d64f-f282e683f385"
      },
      "execution_count": null,
      "outputs": [
        {
          "output_type": "execute_result",
          "data": {
            "text/plain": [
              "False"
            ]
          },
          "metadata": {},
          "execution_count": 22
        }
      ]
    },
    {
      "cell_type": "code",
      "source": [
        "a.startswith('a')"
      ],
      "metadata": {
        "colab": {
          "base_uri": "https://localhost:8080/"
        },
        "id": "meBL0j2LLDq0",
        "outputId": "5e5012a1-f27e-4249-9fe9-1749f7d431e5"
      },
      "execution_count": null,
      "outputs": [
        {
          "output_type": "stream",
          "name": "stdout",
          "text": [
            "<__main__.TrieNode object at 0x7ff2ea82f350>\n"
          ]
        },
        {
          "output_type": "execute_result",
          "data": {
            "text/plain": [
              "True"
            ]
          },
          "metadata": {},
          "execution_count": 23
        }
      ]
    },
    {
      "cell_type": "code",
      "source": [
        "a.root.children['b'].word"
      ],
      "metadata": {
        "colab": {
          "base_uri": "https://localhost:8080/"
        },
        "id": "QgU63IW5M9iV",
        "outputId": "b36dac09-3341-469f-bdad-1b5ca263f6e5"
      },
      "execution_count": null,
      "outputs": [
        {
          "output_type": "execute_result",
          "data": {
            "text/plain": [
              "False"
            ]
          },
          "metadata": {},
          "execution_count": 39
        }
      ]
    },
    {
      "cell_type": "code",
      "source": [
        "a.root.children['a'].word"
      ],
      "metadata": {
        "colab": {
          "base_uri": "https://localhost:8080/"
        },
        "id": "udzVdUyPMNje",
        "outputId": "40d80824-d7d0-4cfb-91e6-9266c3eb9347"
      },
      "execution_count": null,
      "outputs": [
        {
          "output_type": "execute_result",
          "data": {
            "text/plain": [
              "True"
            ]
          },
          "metadata": {},
          "execution_count": 38
        }
      ]
    },
    {
      "cell_type": "code",
      "source": [
        ""
      ],
      "metadata": {
        "id": "BrpFTZUXjivs"
      },
      "execution_count": null,
      "outputs": []
    },
    {
      "cell_type": "markdown",
      "source": [
        "\n",
        "\n",
        "---\n",
        "\n"
      ],
      "metadata": {
        "id": "MDLR5DC6PCFg"
      }
    },
    {
      "cell_type": "markdown",
      "source": [
        "#57 팰린드롬 페어"
      ],
      "metadata": {
        "id": "vn6x14IJO-f1"
      }
    },
    {
      "cell_type": "code",
      "source": [
        "[\"abcd\", \"dcba\", 'lls','s','sssll']\n",
        "#단어리스트에서 words[i]+words[j]가 펠린드롬이 되는 모든 인덱스 조합 (i,j)를 구하라\n",
        "\n",
        "def pldr(strs):\n",
        "  res=[]\n",
        "\n",
        "  for i in strs:\n",
        "    for j in strs:\n",
        "      if i==j: continue\n",
        "      \n",
        "      word=i+j\n",
        "      for x in range(len(word)//2+1):\n",
        "        if word[x]!=word[len(word)-x-1]:\n",
        "          break\n",
        "      res.append(word)\n",
        "\n",
        "  return res"
      ],
      "metadata": {
        "id": "klB63jYmO93L"
      },
      "execution_count": null,
      "outputs": []
    },
    {
      "cell_type": "code",
      "source": [
        "pldr([\"abcd\", \"dcba\", 'lls','s','sssll'])"
      ],
      "metadata": {
        "colab": {
          "base_uri": "https://localhost:8080/"
        },
        "id": "9KHz7qJUR-c1",
        "outputId": "edf74cf4-81c7-43ae-8322-a4f216d8ae6b"
      },
      "execution_count": null,
      "outputs": [
        {
          "output_type": "execute_result",
          "data": {
            "text/plain": [
              "['abcddcba',\n",
              " 'abcdlls',\n",
              " 'abcds',\n",
              " 'abcdsssll',\n",
              " 'dcbaabcd',\n",
              " 'dcballs',\n",
              " 'dcbas',\n",
              " 'dcbasssll',\n",
              " 'llsabcd',\n",
              " 'llsdcba',\n",
              " 'llss',\n",
              " 'llssssll',\n",
              " 'sabcd',\n",
              " 'sdcba',\n",
              " 'slls',\n",
              " 'ssssll',\n",
              " 'sssllabcd',\n",
              " 'ssslldcba',\n",
              " 'ssslllls',\n",
              " 'ssslls']"
            ]
          },
          "metadata": {},
          "execution_count": 83
        }
      ]
    },
    {
      "cell_type": "markdown",
      "source": [
        "완전 망했군.."
      ],
      "metadata": {
        "id": "9Q27A0fCSb8m"
      }
    },
    {
      "cell_type": "markdown",
      "source": [
        "교재풀이1: 브루트포스"
      ],
      "metadata": {
        "id": "5tXI7_pbS-2B"
      }
    },
    {
      "cell_type": "code",
      "source": [
        "def pldr(strs):\n",
        "  res=[]\n",
        "\n",
        "  for i in range(len(strs)):\n",
        "    for j in range(len(strs)):\n",
        "      if i==j: continue\n",
        "      if strs[i]+strs[j]==(strs[i]+strs[j])[::-1]:\n",
        "        res.append([i,j])\n",
        "\n",
        "  return res"
      ],
      "metadata": {
        "id": "aBPpXxwqSOV3"
      },
      "execution_count": null,
      "outputs": []
    },
    {
      "cell_type": "code",
      "source": [
        "pldr([\"abcd\", \"dcba\", 'lls','s','sssll'])"
      ],
      "metadata": {
        "colab": {
          "base_uri": "https://localhost:8080/"
        },
        "id": "dsGKwCiCSzYG",
        "outputId": "f7d66ae4-45c0-444f-ac82-1428bc64ebe9"
      },
      "execution_count": null,
      "outputs": [
        {
          "output_type": "execute_result",
          "data": {
            "text/plain": [
              "[[0, 1], [1, 0], [2, 4], [3, 2]]"
            ]
          },
          "metadata": {},
          "execution_count": 87
        }
      ]
    },
    {
      "cell_type": "markdown",
      "source": [
        "교재풀이2: 트라이"
      ],
      "metadata": {
        "id": "VBIeVvgMTB1S"
      }
    },
    {
      "cell_type": "code",
      "source": [
        "abc cba\n",
        "\n",
        "c b a\n",
        "a b c\n",
        "\n",
        "[0,1] [1,0]"
      ],
      "metadata": {
        "id": "uRPs2yTokg18"
      },
      "execution_count": null,
      "outputs": []
    },
    {
      "cell_type": "code",
      "source": [
        "class TrieNode:\n",
        "  def __init__(self):\n",
        "    self.word_id=-1\n",
        "    from collections import defaultdict as dd\n",
        "    self.children = dd(TrieNode)\n",
        "    self.palindrome_word_ids=[]\n",
        "\n",
        "class Trie:\n",
        "  def __init__(self):\n",
        "    self.root=TrieNode()\n",
        "\n",
        "  @staticmethod\n",
        "  def is_palindrome(word: str)->bool:\n",
        "    return word[::] == word[::-1]\n",
        "\n",
        "  def insert(self, index, word: str) -> None:\n",
        "    node=self.root\n",
        "    for i, char in enumerate(reversed(word)):\n",
        "      if self.is_palindrome(word[0:len(word)-i]):\n",
        "        node.palindrome_word_ids.append(index)\n",
        "      node=node.children[char]\n",
        "    node.word_id= index\n",
        "\n",
        "  def search(self, index, word:str):\n",
        "    result = []\n",
        "    node=self.root\n",
        "\n",
        "    while word:\n",
        "      if node.word_id>=9:\n",
        "        if self.is_palindrome(word):\n",
        "          result.append([3, index,node.word_id])\n",
        "      if not word[0] in node.children:\n",
        "        return result\n",
        "      node=node.children[word[0]]\n",
        "      word=word[1:]\n",
        "      \n",
        "      if node.word_id >= 0 and node.word_id != index:\n",
        "        result.append([1, index, node.word_id])\n",
        "\n",
        "      for palindrome_word_id in node.palindrome_word_ids:\n",
        "        result.append([2, index, palindrome_word_id])\n",
        "\n",
        "      return result\n",
        "\n",
        "class Solution:\n",
        "  def palindromePairs(self, words):\n",
        "    trie=Trie()\n",
        "\n",
        "    for i, word in enumerate(words):\n",
        "      trie.insert(i, word)\n",
        "\n",
        "    results=[]\n",
        "    for i, word in enumerate(words):\n",
        "      results.extend(trie.search(i, word))\n",
        "\n",
        "    return results"
      ],
      "metadata": {
        "id": "42cLeqVWS1du"
      },
      "execution_count": null,
      "outputs": []
    },
    {
      "cell_type": "code",
      "source": [
        "s=Solution()\n",
        "s.palindromePairs(['d','cbbcd','dcbb','dcbc','cbbc'])"
      ],
      "metadata": {
        "colab": {
          "base_uri": "https://localhost:8080/"
        },
        "id": "cpgszM-uWvE1",
        "outputId": "75ead088-261b-41a3-945d-14734598b0f0"
      },
      "execution_count": null,
      "outputs": [
        {
          "output_type": "execute_result",
          "data": {
            "text/plain": [
              "[[2, 0, 1], [1, 2, 0], [2, 2, 1], [1, 3, 0], [2, 3, 1]]"
            ]
          },
          "metadata": {},
          "execution_count": 93
        }
      ]
    },
    {
      "cell_type": "code",
      "source": [
        ""
      ],
      "metadata": {
        "id": "awnJ81hLnism"
      },
      "execution_count": null,
      "outputs": []
    }
  ]
}