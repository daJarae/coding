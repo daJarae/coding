{
  "nbformat": 4,
  "nbformat_minor": 0,
  "metadata": {
    "colab": {
      "name": "2회차2회.ipynb",
      "provenance": [],
      "authorship_tag": "ABX9TyP2PTq2+Nh8jt0SXdom+sqv",
      "include_colab_link": true
    },
    "kernelspec": {
      "name": "python3",
      "display_name": "Python 3"
    },
    "language_info": {
      "name": "python"
    }
  },
  "cells": [
    {
      "cell_type": "markdown",
      "metadata": {
        "id": "view-in-github",
        "colab_type": "text"
      },
      "source": [
        "<a href=\"https://colab.research.google.com/github/daJarae/coding/blob/main/2%ED%9A%8C%EC%B0%A82%ED%9A%8C.ipynb\" target=\"_parent\"><img src=\"https://colab.research.google.com/assets/colab-badge.svg\" alt=\"Open In Colab\"/></a>"
      ]
    },
    {
      "cell_type": "code",
      "source": [
        ""
      ],
      "metadata": {
        "id": "FdT0Z0Kyswob"
      },
      "execution_count": null,
      "outputs": []
    },
    {
      "cell_type": "code",
      "execution_count": 5,
      "metadata": {
        "id": "zFwf4opaqcTd"
      },
      "outputs": [],
      "source": [
        "#중복문자 제거 & 사전순 나열\n",
        "\n",
        "def rearr(strs):\n",
        "  return ''.join(list(set(sorted([s for s in strs]))))    "
      ]
    },
    {
      "cell_type": "code",
      "source": [
        "rearr('zbscabbs')\n",
        "\n",
        "#?? sort 사용 정렬 실패의 현장..."
      ],
      "metadata": {
        "colab": {
          "base_uri": "https://localhost:8080/",
          "height": 36
        },
        "id": "ysU-j_KqrN0K",
        "outputId": "bc02c3ff-3899-4e4e-db93-4d091256ba3c"
      },
      "execution_count": 8,
      "outputs": [
        {
          "output_type": "execute_result",
          "data": {
            "text/plain": [
              "'bzacs'"
            ],
            "application/vnd.google.colaboratory.intrinsic+json": {
              "type": "string"
            }
          },
          "metadata": {},
          "execution_count": 8
        }
      ]
    },
    {
      "cell_type": "code",
      "source": [
        "def rearr(strs):\n",
        "  res=''\n",
        "  for s in 'abcdefghijklmnopqrstuvwxyz':\n",
        "    if s in strs:\n",
        "      res+=s\n",
        "\n",
        "  return res"
      ],
      "metadata": {
        "id": "fxen6VCiqvNR"
      },
      "execution_count": 24,
      "outputs": []
    },
    {
      "cell_type": "code",
      "source": [
        "rearr('aasesdsdsjldkfsdf')"
      ],
      "metadata": {
        "colab": {
          "base_uri": "https://localhost:8080/",
          "height": 36
        },
        "id": "tv23bW_Jr7Gx",
        "outputId": "47cddf1c-9b4e-4994-e9a0-91f748e564aa"
      },
      "execution_count": 28,
      "outputs": [
        {
          "output_type": "execute_result",
          "data": {
            "text/plain": [
              "'adefjkls'"
            ],
            "application/vnd.google.colaboratory.intrinsic+json": {
              "type": "string"
            }
          },
          "metadata": {},
          "execution_count": 28
        }
      ]
    },
    {
      "cell_type": "markdown",
      "source": [
        "아 이게 아니구나 .........."
      ],
      "metadata": {
        "id": "tPs3cf3xs7mm"
      }
    },
    {
      "cell_type": "code",
      "source": [
        "class sol:\n",
        "\n",
        "  def remov(self, s):\n",
        "    for char in sorted(set(s)):\n",
        "      suffix=s[s.index(char):]\n",
        "\n",
        "      if set(s)==set(suffix):\n",
        "        return char+self.remov(suffix.replace(char,''))"
      ],
      "metadata": {
        "id": "_gYt0FMks6zi"
      },
      "execution_count": 38,
      "outputs": []
    },
    {
      "cell_type": "code",
      "source": [
        ""
      ],
      "metadata": {
        "id": "a4JxS6LDsmxv"
      },
      "execution_count": 58,
      "outputs": []
    },
    {
      "cell_type": "code",
      "source": [
        "set(['29','24','2','200']) #아 .................... 이거였군"
      ],
      "metadata": {
        "colab": {
          "base_uri": "https://localhost:8080/"
        },
        "id": "puoDjd0mw56e",
        "outputId": "ab437eb8-29dc-4e7f-c67f-b69a62b12b24"
      },
      "execution_count": 58,
      "outputs": [
        {
          "output_type": "execute_result",
          "data": {
            "text/plain": [
              "{'2', '200', '24', '29'}"
            ]
          },
          "metadata": {},
          "execution_count": 58
        }
      ]
    },
    {
      "cell_type": "code",
      "source": [
        "def remov(s):\n",
        "  from collections import Counter\n",
        "  counter=Counter(s)\n",
        "  seen=set()\n",
        "  stack=[]\n",
        "  print(counter)\n",
        "\n",
        "  for char in s:\n",
        "    counter[char]-=1\n",
        "\n",
        "    if char in seen:\n",
        "      continue\n",
        "    while stack and char<stack[-1] and counter[stack[-1]]>0:\n",
        "      seen.remove(stack.pop())\n",
        "    \n",
        "    stack.append(char)\n",
        "    seen.add(char)\n",
        "    print(char, seen, stack)\n",
        "\n",
        "  return ''.join(stack)"
      ],
      "metadata": {
        "id": "JBb-XoKquYU7"
      },
      "execution_count": 51,
      "outputs": []
    },
    {
      "cell_type": "code",
      "source": [
        "remov('awefkdelfk')\n",
        "\n",
        "#w는 a보다 뒤라서(조건2 x) 바로 append\n",
        "#e는 w가 전부 등장했으므로 (조건3 x) 바로 append\n",
        "#f는 세 "
      ],
      "metadata": {
        "colab": {
          "base_uri": "https://localhost:8080/",
          "height": 240
        },
        "id": "jxXkmOPCu8IT",
        "outputId": "494b370a-941b-45a6-8e5a-3f363215fdcf"
      },
      "execution_count": 55,
      "outputs": [
        {
          "output_type": "stream",
          "name": "stdout",
          "text": [
            "Counter({'e': 2, 'f': 2, 'k': 2, 'a': 1, 'w': 1, 'd': 1, 'l': 1})\n",
            "a {'a'} ['a']\n",
            "w {'a', 'w'} ['a', 'w']\n",
            "e {'a', 'w', 'e'} ['a', 'w', 'e']\n",
            "f {'a', 'f', 'w', 'e'} ['a', 'w', 'e', 'f']\n",
            "k {'w', 'a', 'e', 'f', 'k'} ['a', 'w', 'e', 'f', 'k']\n",
            "d {'w', 'a', 'd'} ['a', 'w', 'd']\n",
            "e {'w', 'a', 'e', 'd'} ['a', 'w', 'd', 'e']\n",
            "l {'w', 'l', 'a', 'e', 'd'} ['a', 'w', 'd', 'e', 'l']\n",
            "f {'w', 'l', 'a', 'e', 'f', 'd'} ['a', 'w', 'd', 'e', 'l', 'f']\n",
            "k {'w', 'l', 'a', 'e', 'f', 'k', 'd'} ['a', 'w', 'd', 'e', 'l', 'f', 'k']\n"
          ]
        },
        {
          "output_type": "execute_result",
          "data": {
            "text/plain": [
              "'awdelfk'"
            ],
            "application/vnd.google.colaboratory.intrinsic+json": {
              "type": "string"
            }
          },
          "metadata": {},
          "execution_count": 55
        }
      ]
    },
    {
      "cell_type": "markdown",
      "source": [
        "문자끼리 순서 비교 가능..."
      ],
      "metadata": {
        "id": "yLgQauI7wDUX"
      }
    },
    {
      "cell_type": "code",
      "source": [
        "'a'<'b'"
      ],
      "metadata": {
        "colab": {
          "base_uri": "https://localhost:8080/"
        },
        "id": "ZDCRKH3KwADo",
        "outputId": "347cb3e7-9ff2-4f33-f857-4f7aff690368"
      },
      "execution_count": 53,
      "outputs": [
        {
          "output_type": "execute_result",
          "data": {
            "text/plain": [
              "True"
            ]
          },
          "metadata": {},
          "execution_count": 53
        }
      ]
    },
    {
      "cell_type": "code",
      "source": [
        "'v'<'a'"
      ],
      "metadata": {
        "colab": {
          "base_uri": "https://localhost:8080/"
        },
        "id": "DdAVursrwBn2",
        "outputId": "8c355f46-a834-4512-de69-2927cf33ede2"
      },
      "execution_count": 54,
      "outputs": [
        {
          "output_type": "execute_result",
          "data": {
            "text/plain": [
              "False"
            ]
          },
          "metadata": {},
          "execution_count": 54
        }
      ]
    },
    {
      "cell_type": "markdown",
      "source": [
        "일일온도"
      ],
      "metadata": {
        "id": "hPSQEuzKxMJz"
      }
    },
    {
      "cell_type": "code",
      "source": [
        "def Temps(T):\n",
        "\n",
        "  stack=[]\n",
        "  ans=len(T)*[0]\n",
        "\n",
        "  for i, cur in enumerate(T):\n",
        "    \n",
        "    while stack and cur>T[stack[-1]]:   #stack은 stack[-1]이 오류 나기 전에 while을 거치지 않게 함\n",
        "      last=stack.pop()\n",
        "      ans[last]=i-last\n",
        "    stack.append(i)\n",
        "\n",
        "  return ans"
      ],
      "metadata": {
        "id": "fomb0kaxr92X"
      },
      "execution_count": null,
      "outputs": []
    },
    {
      "cell_type": "markdown",
      "source": [
        "#2030. Smallest K-Length Subsequence With Occurrences of a Letter\n",
        "\n",
        "\n",
        "어아아악 너무 어렵다 패스"
      ],
      "metadata": {
        "id": "bhGlQmE7yR0K"
      }
    },
    {
      "cell_type": "markdown",
      "source": [
        "#402 Remove k digit\n"
      ],
      "metadata": {
        "id": "GldeclC6yLey"
      }
    },
    {
      "cell_type": "code",
      "source": [
        "class Solution:\n",
        "    def removeKdigits(self, num: str, k: int) -> str:\n",
        "        st = list()\n",
        "        for n in num:\n",
        "            while st and k and st[-1] > n:\n",
        "                st.pop()\n",
        "                k -= 1\n",
        "            \n",
        "            if st or n is not '0': # prevent leading zeros\n",
        "                st.append(n)\n",
        "                \n",
        "        if k: # not fully spent\n",
        "\t\t\tst = st[0:-k]\n",
        "            \n",
        "        return ''.join(st) or '0'"
      ],
      "metadata": {
        "id": "hclRZ6pcyNXq"
      },
      "execution_count": null,
      "outputs": []
    }
  ]
}