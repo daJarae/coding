{
  "nbformat": 4,
  "nbformat_minor": 0,
  "metadata": {
    "colab": {
      "name": "7회_13장_최단경로문제.ipynb",
      "provenance": [],
      "collapsed_sections": [],
      "authorship_tag": "ABX9TyPwltp5RigQQ0liMRwOkPRs",
      "include_colab_link": true
    },
    "kernelspec": {
      "name": "python3",
      "display_name": "Python 3"
    },
    "language_info": {
      "name": "python"
    }
  },
  "cells": [
    {
      "cell_type": "markdown",
      "metadata": {
        "id": "view-in-github",
        "colab_type": "text"
      },
      "source": [
        "<a href=\"https://colab.research.google.com/github/daJarae/coding/blob/main/7%ED%9A%8C_13%EC%9E%A5_%EC%B5%9C%EB%8B%A8%EA%B2%BD%EB%A1%9C%EB%AC%B8%EC%A0%9C.ipynb\" target=\"_parent\"><img src=\"https://colab.research.google.com/assets/colab-badge.svg\" alt=\"Open In Colab\"/></a>"
      ]
    },
    {
      "cell_type": "markdown",
      "source": [
        "# 네트워크 딜레이 타임\n",
        "\n",
        "a에서 b까지 c만큼 소요된다는 [a,b,c]가 주어질 때 k에서 출발해 모든 노드로 도착하는데 걸리는 (최소) 시간 계산"
      ],
      "metadata": {
        "id": "K-_OHrrojNqi"
      }
    },
    {
      "cell_type": "code",
      "execution_count": 4,
      "metadata": {
        "id": "CB82GJc2gog1"
      },
      "outputs": [],
      "source": [
        "times=[[2,1,1],[2,3,1],[3,4,1]]\n",
        "n=4\n",
        "k=2"
      ]
    },
    {
      "cell_type": "markdown",
      "source": [
        "전제: 간선 시간은 양수"
      ],
      "metadata": {
        "id": "bOqN2ZU3ojtT"
      }
    },
    {
      "cell_type": "code",
      "source": [
        "arrived=[]\n",
        "\n",
        "from collections import defaultdict\n",
        "net=defaultdict(list)\n",
        "net_time=defaultdict(int)\n",
        "\n",
        "for time in times:\n",
        "  net[time[0]].append(time[1])\n",
        "  net_time[(time[0],time[1])]=time[2]\n",
        "\n",
        "#너비 탐색을 하며 새로운 튜플을 모두 dict의 key로 넣으며 찾아가다가... 겹치면 더 작은 튜플의 value로 합치고...\n",
        "\n",
        "for key in net.keys():\n",
        "  node=key\n",
        "\n",
        "  while net[node]:          #모든 주변 노드들에 대해\n",
        "    next=net[node].pop()\n",
        "    if next not in arrived: #발견한 노드로 전환\n",
        "      arrived.append(next)\n",
        "      print(next, arrived)\n",
        "    \n",
        "    if net_time[(k, next)]==0: #0이 아닐 때 실행 (값이 존재할 때)\n",
        "      net_time[(k,next)]=net_time[(k, node)]+net_time[(node, next)]\n",
        "    else:                      #두 경로 거리 합과 기존 거리 중 최소 택\n",
        "      net_time[(k, next)]=min(net_time[(k,next)], net_time[(k, node)]+net_time[(node, next)])\n",
        "\n",
        "    print(net_time) \n",
        "\n",
        "max(net_time.values())"
      ],
      "metadata": {
        "colab": {
          "base_uri": "https://localhost:8080/"
        },
        "id": "fohS2sw-kesr",
        "outputId": "29af1f42-ae17-4381-8154-9d3b0ea46752"
      },
      "execution_count": 24,
      "outputs": [
        {
          "output_type": "stream",
          "name": "stdout",
          "text": [
            "3 [3]\n",
            "defaultdict(<class 'int'>, {(2, 1): 1, (2, 3): 1, (3, 4): 1, (2, 2): 0})\n",
            "1 [3, 1]\n",
            "defaultdict(<class 'int'>, {(2, 1): 1, (2, 3): 1, (3, 4): 1, (2, 2): 0})\n",
            "4 [3, 1, 4]\n",
            "defaultdict(<class 'int'>, {(2, 1): 1, (2, 3): 1, (3, 4): 1, (2, 2): 0, (2, 4): 2})\n"
          ]
        },
        {
          "output_type": "execute_result",
          "data": {
            "text/plain": [
              "2"
            ]
          },
          "metadata": {},
          "execution_count": 24
        }
      ]
    },
    {
      "cell_type": "markdown",
      "source": [
        "내 풀이 (40분 소요)"
      ],
      "metadata": {
        "id": "3is0v2rSqnkr"
      }
    },
    {
      "cell_type": "code",
      "source": [
        "def delay_time(times, n, k):\n",
        "  arrived=[]\n",
        "\n",
        "  from collections import defaultdict\n",
        "  net=defaultdict(list)\n",
        "  net_time=defaultdict(int)\n",
        "\n",
        "  for time in times:\n",
        "    net[time[0]].append(time[1])\n",
        "    net_time[(time[0],time[1])]=time[2]\n",
        "\n",
        "  #너비 탐색을 하며 새로운 튜플을 모두 dict의 key로 넣으며 찾아가다가... 겹치면 더 작은 튜플의 value로 합치고...\n",
        "\n",
        "  for key in net.keys():\n",
        "    node=key\n",
        "\n",
        "    while net[node]:          #모든 주변 노드들에 대해\n",
        "      next=net[node].pop()\n",
        "      if next not in arrived: #발견한 노드로 전환\n",
        "        arrived.append(next)\n",
        "      \n",
        "      if net_time[(k, next)]==0: #0이 아닐 때 실행 (값이 존재할 때)\n",
        "        net_time[(k,next)]=net_time[(k, node)]+net_time[(node, next)]\n",
        "      else:                      #두 경로 거리 합과 기존 거리 중 최소 택\n",
        "        net_time[(k, next)]=min(net_time[(k,next)], net_time[(k, node)]+net_time[(node, next)])\n",
        "\n",
        "  return max(net_time.values())"
      ],
      "metadata": {
        "id": "6TSLx6xuj8Fw"
      },
      "execution_count": 25,
      "outputs": []
    },
    {
      "cell_type": "code",
      "source": [
        "times=[[2,1,1],[2,3,1],[3,4,1]]\n",
        "n=4\n",
        "k=2\n",
        "\n",
        "delay_time(times, n, k)"
      ],
      "metadata": {
        "colab": {
          "base_uri": "https://localhost:8080/"
        },
        "id": "CkgilKk7odnY",
        "outputId": "e2892899-900d-487f-da78-c9105d85a0e1"
      },
      "execution_count": 66,
      "outputs": [
        {
          "output_type": "execute_result",
          "data": {
            "text/plain": [
              "2"
            ]
          },
          "metadata": {},
          "execution_count": 66
        }
      ]
    },
    {
      "cell_type": "markdown",
      "source": [
        "해당 테스트 케이스에선 통과... 다른 건 알지 못합니다 근데 아마 불통..."
      ],
      "metadata": {
        "id": "dPNJMKeTqkXC"
      }
    },
    {
      "cell_type": "code",
      "source": [
        "delay_time([[3,1,5],[3,2,2,],[2,1,2],[3,4,1],[4,5,1],[5,6,1],[6,7,1],[7,8,1],[8,1,1]], 8, 3)"
      ],
      "metadata": {
        "colab": {
          "base_uri": "https://localhost:8080/"
        },
        "id": "J8QFQBKNtJHU",
        "outputId": "4cdc2c52-4bc2-4239-aa1f-5d75daf26b6b"
      },
      "execution_count": 67,
      "outputs": [
        {
          "output_type": "execute_result",
          "data": {
            "text/plain": [
              "5"
            ]
          },
          "metadata": {},
          "execution_count": 67
        }
      ]
    },
    {
      "cell_type": "markdown",
      "source": [
        "?? 교재랑 발상 공통된거 같아서 교재 테스트 케이스도 돌렸는데 됐습니다? 짱이다!"
      ],
      "metadata": {
        "id": "FWu2mqi4tacC"
      }
    },
    {
      "cell_type": "markdown",
      "source": [
        "1) 모든 노드가 신호를 받는데 걸리는 시간\n",
        "2) 모든 노드에 도달할 수 있는지 여부\n",
        "\n",
        "둘이 관건이랬고... 1은 가장 오래 걸리는 노드까지의 시간 (ㅇㅇ max(net_time.values())\n",
        "\n",
        "2는.. for key in net.keys()로 확인\n",
        "\n",
        "* 노드가 n개인데 다익스트라 알고리즘은 n-1개만 계산된다면 모든 노드에 도달할 수 없으므로 -1 리턴 했어야함"
      ],
      "metadata": {
        "id": "QMIBUq8Yqzf6"
      }
    },
    {
      "cell_type": "markdown",
      "source": [
        "교재풀이"
      ],
      "metadata": {
        "id": "odQajnYsvIt6"
      }
    },
    {
      "cell_type": "code",
      "source": [
        "def delay_time2(time, n, k):\n",
        "\n",
        "  from collections import defaultdict\n",
        "  net=defaultdict(list)\n",
        "  net_time=defaultdict(int)\n",
        "\n",
        "  for node,next,time in times:\n",
        "    net[node].append((next, time)) #(node, next) 튜플을 key로 두는 게 아니라 (next, time) 튜플을 value로 했네\n",
        "  print(net)\n",
        "  import heapq\n",
        "  que=[(0,k)] #queue의 첫 원소는 k노드로부터의 (소요시간, 도착노드)\n",
        "\n",
        "  while que:\n",
        "    print(\"\\n\",net_time)\n",
        "    time, node= heapq.heappop(que)\n",
        "    print(\"이번 노드: {}\".format(node), \"다음 노드:\", net[node])\n",
        "    \n",
        "    if node not in net_time: #arrived를 따로 사용하지 않고 dist.key()로 확인\n",
        "      net_time[node] = time\n",
        "      for next, new_time in net[node]:\n",
        "        heapq.heappush(que, (time + new_time, next)) #지금 노드까지의 시간 + 다음 노드까지 시간\n",
        "        print((time + new_time, next), que)     #dict로 key-value 따라 움직이므로 \n",
        "\n",
        "  if len(net_time)==n:\n",
        "    return max(net_time.values())\n",
        "  return -1"
      ],
      "metadata": {
        "id": "6lmsV2S2vH5H"
      },
      "execution_count": 62,
      "outputs": []
    },
    {
      "cell_type": "code",
      "source": [
        "times=[[2,1,1],[2,3,1],[3,4,1]]\n",
        "n=4\n",
        "k=2\n",
        "\n",
        "delay_time2(times, n, k)\n",
        "\n",
        "#다음 노드 부분이 [(1, 1), (1, 3)]이 아닌 [(1, 1), (3, 1)]인 이유는 \n",
        "#value list를 next 순으로 정렬하려던 목적인듯"
      ],
      "metadata": {
        "colab": {
          "base_uri": "https://localhost:8080/"
        },
        "id": "zbYwELkGxdh_",
        "outputId": "b4c4db47-9c61-43be-aac1-c2e0127b02f2"
      },
      "execution_count": 68,
      "outputs": [
        {
          "output_type": "stream",
          "name": "stdout",
          "text": [
            "defaultdict(<class 'list'>, {2: [(1, 1), (3, 1)], 3: [(4, 1)]})\n",
            "\n",
            " defaultdict(<class 'int'>, {})\n",
            "이번 노드: 2 다음 노드: [(1, 1), (3, 1)]\n",
            "(1, 1) [(1, 1)]\n",
            "(1, 3) [(1, 1), (1, 3)]\n",
            "\n",
            " defaultdict(<class 'int'>, {2: 0})\n",
            "이번 노드: 1 다음 노드: []\n",
            "\n",
            " defaultdict(<class 'int'>, {2: 0, 1: 1})\n",
            "이번 노드: 3 다음 노드: [(4, 1)]\n",
            "(2, 4) [(2, 4)]\n",
            "\n",
            " defaultdict(<class 'int'>, {2: 0, 1: 1, 3: 1})\n",
            "이번 노드: 4 다음 노드: []\n"
          ]
        },
        {
          "output_type": "execute_result",
          "data": {
            "text/plain": [
              "2"
            ]
          },
          "metadata": {},
          "execution_count": 68
        }
      ]
    },
    {
      "cell_type": "code",
      "source": [
        "times=[[3,1,5],[3,2,2],[2,1,2],[3,4,1],[4,5,1],[5,6,1],[6,7,1],[7,8,1],[8,1,1]]\n",
        "n=8\n",
        "k=3\n",
        "delay_time2(times, n, k)"
      ],
      "metadata": {
        "colab": {
          "base_uri": "https://localhost:8080/"
        },
        "id": "xlBizsqzxhAe",
        "outputId": "38f6cdc4-0591-4742-f53e-4d3922abc881"
      },
      "execution_count": 65,
      "outputs": [
        {
          "output_type": "stream",
          "name": "stdout",
          "text": [
            "defaultdict(<class 'list'>, {3: [(1, 5), (2, 2), (4, 1)], 2: [(1, 2)], 4: [(5, 1)], 5: [(6, 1)], 6: [(7, 1)], 7: [(8, 1)], 8: [(1, 1)]})\n",
            "\n",
            " defaultdict(<class 'int'>, {})\n",
            "이번 노드: 3 다음 노드: [(1, 5), (2, 2), (4, 1)]\n",
            "(5, 1) [(5, 1)]\n",
            "(2, 2) [(2, 2), (5, 1)]\n",
            "(1, 4) [(1, 4), (5, 1), (2, 2)]\n",
            "\n",
            " defaultdict(<class 'int'>, {3: 0})\n",
            "이번 노드: 4 다음 노드: [(5, 1)]\n",
            "(2, 5) [(2, 2), (5, 1), (2, 5)]\n",
            "\n",
            " defaultdict(<class 'int'>, {3: 0, 4: 1})\n",
            "이번 노드: 2 다음 노드: [(1, 2)]\n",
            "(4, 1) [(2, 5), (5, 1), (4, 1)]\n",
            "\n",
            " defaultdict(<class 'int'>, {3: 0, 4: 1, 2: 2})\n",
            "이번 노드: 5 다음 노드: [(6, 1)]\n",
            "(3, 6) [(3, 6), (5, 1), (4, 1)]\n",
            "\n",
            " defaultdict(<class 'int'>, {3: 0, 4: 1, 2: 2, 5: 2})\n",
            "이번 노드: 6 다음 노드: [(7, 1)]\n",
            "(4, 7) [(4, 1), (5, 1), (4, 7)]\n",
            "\n",
            " defaultdict(<class 'int'>, {3: 0, 4: 1, 2: 2, 5: 2, 6: 3})\n",
            "이번 노드: 1 다음 노드: []\n",
            "\n",
            " defaultdict(<class 'int'>, {3: 0, 4: 1, 2: 2, 5: 2, 6: 3, 1: 4})\n",
            "이번 노드: 7 다음 노드: [(8, 1)]\n",
            "(5, 8) [(5, 1), (5, 8)]\n",
            "\n",
            " defaultdict(<class 'int'>, {3: 0, 4: 1, 2: 2, 5: 2, 6: 3, 1: 4, 7: 4})\n",
            "이번 노드: 1 다음 노드: []\n",
            "\n",
            " defaultdict(<class 'int'>, {3: 0, 4: 1, 2: 2, 5: 2, 6: 3, 1: 4, 7: 4})\n",
            "이번 노드: 8 다음 노드: [(1, 1)]\n",
            "(6, 1) [(6, 1)]\n",
            "\n",
            " defaultdict(<class 'int'>, {3: 0, 4: 1, 2: 2, 5: 2, 6: 3, 1: 4, 7: 4, 8: 5})\n",
            "이번 노드: 1 다음 노드: []\n"
          ]
        },
        {
          "output_type": "execute_result",
          "data": {
            "text/plain": [
              "5"
            ]
          },
          "metadata": {},
          "execution_count": 65
        }
      ]
    },
    {
      "cell_type": "markdown",
      "source": [
        "#K경유지 내 가장 저렴한 항공권"
      ],
      "metadata": {
        "id": "6VbjGDW1_-nn"
      }
    },
    {
      "cell_type": "code",
      "source": [
        "n=3     #지역 수\n",
        "edges=[[0,1,100],[1,2,100],[0,2,500]] #출발, 도착, 비용\n",
        "src=0   #출발지 노드\n",
        "dst=2   #행선지 노드\n",
        "k=0     #경유 수 (0일 경우, 경유 없음 = 엣지 하나)\n",
        "\n",
        "#가격만 리턴, 경로 미존재 시 -1 리턴"
      ],
      "metadata": {
        "id": "3z55aiMo_7lt"
      },
      "execution_count": 71,
      "outputs": []
    },
    {
      "cell_type": "code",
      "source": [
        "#내풀이\n",
        "#(도착노드, 비용)으로.. 스택이나 딕셔너리 만들고 k로 조기종료 하면 안되나\n",
        "#위 문제에선 n이 모든 노드와 연결되어있는지를 봤는데, 여기서도 필요한가?\n",
        "\n",
        "def ticket_cost(n, edges, src, dst, k):\n",
        "\n",
        "  from collections import defaultdict\n",
        "  costs=defaultdict(list)\n",
        "\n",
        "  for edge in edges:\n",
        "    costs[edge[0]].append((edge[1],edge[2])) #(출발,도착) -> 비용\n",
        "\n",
        "  import heapq\n",
        "  que=[(0,src)] #비용, 이전 지역\n",
        "\n",
        "  i=k+1 #이동 가능한 남은 엣지 수\n",
        "\n",
        "  while i!=0:\n",
        "    cost, depart=heapq.heappop(que)\n",
        "    for tup in costs[depart]:\n",
        "      heapq.heappush(que, (cost+tup[0], tup[1]))\n",
        "    i-=1\n",
        "\n",
        "    que=[x[1] for x in que if x[0]==dst]\n",
        "\n",
        "  return min(que) if que else -1"
      ],
      "metadata": {
        "id": "TUOJih1Q0R4O"
      },
      "execution_count": 79,
      "outputs": []
    },
    {
      "cell_type": "code",
      "source": [
        "ticket_cost(n, edges, src, dst, k)"
      ],
      "metadata": {
        "colab": {
          "base_uri": "https://localhost:8080/"
        },
        "id": "5fegt50sDpte",
        "outputId": "97022ea9-2cca-489c-a452-14662adea06f"
      },
      "execution_count": 80,
      "outputs": [
        {
          "output_type": "execute_result",
          "data": {
            "text/plain": [
              "500"
            ]
          },
          "metadata": {},
          "execution_count": 80
        }
      ]
    },
    {
      "cell_type": "markdown",
      "source": [
        "막줄 코드 맞는지 확인..."
      ],
      "metadata": {
        "id": "P-CnnMR1EfL_"
      }
    },
    {
      "cell_type": "code",
      "source": [
        "x=[2,3]\n",
        "min(x) if x else -1"
      ],
      "metadata": {
        "colab": {
          "base_uri": "https://localhost:8080/"
        },
        "id": "rvWs1mFvEV_G",
        "outputId": "ad6f32a0-8e12-4597-8c40-018d8b4bb96e"
      },
      "execution_count": 84,
      "outputs": [
        {
          "output_type": "execute_result",
          "data": {
            "text/plain": [
              "2"
            ]
          },
          "metadata": {},
          "execution_count": 84
        }
      ]
    },
    {
      "cell_type": "code",
      "source": [
        "x=[]\n",
        "min(x) if x else -1"
      ],
      "metadata": {
        "colab": {
          "base_uri": "https://localhost:8080/"
        },
        "id": "91n_xI9lEbEX",
        "outputId": "9016c851-06a6-4550-93c5-83df211a4a18"
      },
      "execution_count": 83,
      "outputs": [
        {
          "output_type": "execute_result",
          "data": {
            "text/plain": [
              "-1"
            ]
          },
          "metadata": {},
          "execution_count": 83
        }
      ]
    },
    {
      "cell_type": "markdown",
      "source": [
        "일단 풀기는..했는데 n은 아예 사용하지 않았음"
      ],
      "metadata": {
        "id": "EeY-2_FwEKih"
      }
    },
    {
      "cell_type": "code",
      "source": [
        "#교재풀이 \n",
        "\n",
        "def ticket_cost(n, edges, src, dst, k):\n",
        "\n",
        "  from collections import defaultdict\n",
        "  costs=defaultdict(list)\n",
        "\n",
        "  for edge in edges:\n",
        "    costs[edge[0]].append((edge[1],edge[2]))\n",
        "\n",
        "#여기까지 동일\n",
        "\n",
        "  import heapq\n",
        "  que=[(0,src, k)] #[(0,src)]와 달리 k를 포함시켰고, i=k+1를 삭제  \n",
        "\n",
        "  while que: #전체 종료 조건을 i!=0로 두진 않음 (아래 if에 지속 조건 있음)\n",
        "\n",
        "    cost, node, k=heapq.heappop(que) #k 추가\n",
        "\n",
        "    if node==dst: #heapq로 인해 가능한 종료 조건 ★\n",
        "      return cost\n",
        "\n",
        "    if k>=0:   \n",
        "      for depart, new_cost in costs[node]:\n",
        "        heapq.heappush(que, (cost+new_cost, depart, k-1))\n",
        "\n",
        "  return -1\n",
        "\n",
        "\n",
        "#교재풀이도 인풋 n을 사용하지 않았다..."
      ],
      "metadata": {
        "id": "_vV_40rFE9Xy"
      },
      "execution_count": null,
      "outputs": []
    },
    {
      "cell_type": "markdown",
      "source": [
        "이제보니 내 풀이는 사실상 자동정렬 큐의 메리트를 누리지 못한 것 같고\n",
        "\n",
        "\n",
        "    if depart==dst:\n",
        "      return cost\n",
        "\n",
        "요 비교문과 return이 heapq의 장점을 살린듯"
      ],
      "metadata": {
        "id": "mIUXH7v4FjG-"
      }
    },
    {
      "cell_type": "markdown",
      "source": [
        "교재 풀이와 얼추 비슷한데 i를 종료 조건으로 사용하지 않은 점이 다르다\n",
        "\n",
        "내 풀이도 가능한 것 같아 보이지만 문제가 있을지 스터디에서 논의 해보겠다"
      ],
      "metadata": {
        "id": "FLJsC3wNEv5z"
      }
    }
  ]
}