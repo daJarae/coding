{
  "nbformat": 4,
  "nbformat_minor": 0,
  "metadata": {
    "colab": {
      "name": "8장연결리스트_문제풀이.ipynb",
      "provenance": [],
      "collapsed_sections": [],
      "authorship_tag": "ABX9TyPhGV2dH+pTki/TvVIX8sEF",
      "include_colab_link": true
    },
    "kernelspec": {
      "name": "python3",
      "display_name": "Python 3"
    },
    "language_info": {
      "name": "python"
    }
  },
  "cells": [
    {
      "cell_type": "markdown",
      "metadata": {
        "id": "view-in-github",
        "colab_type": "text"
      },
      "source": [
        "<a href=\"https://colab.research.google.com/github/daJarae/coding-test/blob/main/8%EC%9E%A5%EC%97%B0%EA%B2%B0%EB%A6%AC%EC%8A%A4%ED%8A%B8_%EB%AC%B8%EC%A0%9C%ED%92%80%EC%9D%B4.ipynb\" target=\"_parent\"><img src=\"https://colab.research.google.com/assets/colab-badge.svg\" alt=\"Open In Colab\"/></a>"
      ]
    },
    {
      "cell_type": "markdown",
      "source": [
        "#참조:\n",
        "\n",
        "단일 연결리스트 / 파이썬에서는 큰 의미 x\n",
        "\n",
        "장점: 삽입/ 삭제가 O(1), 메모리 관리 용이 (추가시마다 동적으로 할당)\n",
        "\n",
        "단점: 인덱스를 통한 접근 불가, 탐색 O(N) (삽입, 삭제 시에도 탐색 필요, 최악 O(N)) -????"
      ],
      "metadata": {
        "id": "ARzq9xbk0E1y"
      }
    },
    {
      "cell_type": "markdown",
      "source": [
        "기본용어\n",
        "\n",
        "노드: 데이터 저장단위(데이터값, 포인터)로 구성\n",
        "\n",
        "포인터: 각 노드 안에서 전후 노드와 연결 정보를 가진 공간"
      ],
      "metadata": {
        "id": "zv1KhwGE5eSv"
      }
    },
    {
      "cell_type": "markdown",
      "source": [
        "#연결리스트 구현"
      ],
      "metadata": {
        "id": "gtsE5teEFDJK"
      }
    },
    {
      "cell_type": "code",
      "execution_count": null,
      "metadata": {
        "id": "-XfVa49Yz2iO"
      },
      "outputs": [],
      "source": [
        "#내부적으로 작동할 노드\n",
        "\n",
        "class Node:\n",
        "  def __init__(self,data,next=None): #노드의 요소\n",
        "    self.data=data #지금값(data)\n",
        "    self.next=next #다음값(next)을 지정하는 포인터 역할"
      ]
    },
    {
      "cell_type": "markdown",
      "source": [
        "next가 next의 꼬리를 무는 구조로 구성함"
      ],
      "metadata": {
        "id": "KxNSOMm7Em55"
      }
    },
    {
      "cell_type": "markdown",
      "source": [
        "#간단한 연결리스트 구현\n",
        "\n",
        "출력, 크기, 시작/끝 지점 아이템 추가, 인덱스로 추출, 삭제"
      ],
      "metadata": {
        "id": "cd5odOgQLOF-"
      }
    },
    {
      "cell_type": "code",
      "source": [
        "class LinkedList: #연결리스트 시작\n",
        "\n",
        "  def __init__(self):\n",
        "    self.head=None #LL의 head를 직접 지정 가능\n",
        "\n",
        "  def printList(self):  #연결리스트 요소 출력\n",
        "    temp=self.head\n",
        "    while(temp):\n",
        "      print(temp.data)\n",
        "      temp=temp.next\n",
        "  \n",
        "  def printSize(self): #len()\n",
        "    s=0\n",
        "    temp=self.head\n",
        "    while(temp):\n",
        "      s+=1\n",
        "      temp=temp.next #최종 temp는 None이며 이후 while문 탈출\n",
        "      print(temp)\n",
        "    return s\n",
        "\n",
        "  def leftappend(self,data):\n",
        "    temp=self.head #노드를 temp에 저장\n",
        "    self.head=Node(data) #data는 int입니다\n",
        "    self.head.next=temp\n",
        "\n",
        "  def rightappend(self,data):\n",
        "    temp=self.head\n",
        "    while(temp.next): #temp가 마지막 노드여서 temp.next가 None일 때 종료\n",
        "      temp=temp.next\n",
        "    temp.next=Node(data)\n",
        "\n",
        "  def lookfor(self,index):\n",
        "    idx=0\n",
        "    temp=self.head\n",
        "    while(temp.next):\n",
        "      if index==idx:\n",
        "        return temp.data\n",
        "      else:\n",
        "        temp=temp.next\n",
        "        idx+=1\n",
        "  \n",
        "  def delete(self,value):\n",
        "    if self.head.data==value:\n",
        "        self.head=self.head.next #삭제할 값이 head인 경우 head 변경\n",
        "    else:\n",
        "      temp=self.head\n",
        "      while(temp.next):\n",
        "        if temp.next.data==value: #head 다음부터 삭제할 값인지 확인\n",
        "          temp.next=temp.next.next #다음값을 건너 뛰기\n",
        "          break\n",
        "        else:\n",
        "          temp=temp.next"
      ],
      "metadata": {
        "id": "rRsUWKMe7BvP"
      },
      "execution_count": null,
      "outputs": []
    },
    {
      "cell_type": "code",
      "source": [
        "LL=LinkedList()\n",
        "LL.head=Node(1) #LL의 첫값으로 Node(1) 지정"
      ],
      "metadata": {
        "id": "_EhgcT98Dbdy"
      },
      "execution_count": null,
      "outputs": []
    },
    {
      "cell_type": "code",
      "source": [
        "print(LL.head) #값이 보이지 않음!\n",
        "print(LL.head.data)"
      ],
      "metadata": {
        "colab": {
          "base_uri": "https://localhost:8080/"
        },
        "id": "Ib2JvTbgETSe",
        "outputId": "7af213a3-380c-4fb0-cefe-dd94102f1dca"
      },
      "execution_count": null,
      "outputs": [
        {
          "output_type": "stream",
          "name": "stdout",
          "text": [
            "<__main__.Node object at 0x7fa94e9311d0>\n",
            "1\n"
          ]
        }
      ]
    },
    {
      "cell_type": "code",
      "source": [
        "second=Node(2) #별개의 변수에 노드 할당\n",
        "LL.head.next=second #second를 LL의 head(첫값)의 다음으로 지정 \n",
        "third=Node(3)\n",
        "second.next=third"
      ],
      "metadata": {
        "id": "p2t7VMBy8UGj"
      },
      "execution_count": null,
      "outputs": []
    },
    {
      "cell_type": "code",
      "source": [
        "LL.printSize() #1,2,3"
      ],
      "metadata": {
        "colab": {
          "base_uri": "https://localhost:8080/"
        },
        "id": "cObDU8auFtcq",
        "outputId": "fb99c75f-443d-4bb4-9a71-edf61c815f4f"
      },
      "execution_count": null,
      "outputs": [
        {
          "output_type": "stream",
          "name": "stdout",
          "text": [
            "<__main__.Node object at 0x7fa94e9248d0>\n",
            "<__main__.Node object at 0x7fa94e924210>\n",
            "None\n"
          ]
        },
        {
          "output_type": "execute_result",
          "data": {
            "text/plain": [
              "3"
            ]
          },
          "metadata": {},
          "execution_count": 150
        }
      ]
    },
    {
      "cell_type": "code",
      "source": [
        "LL.leftappend(0)\n",
        "LL.printList()"
      ],
      "metadata": {
        "colab": {
          "base_uri": "https://localhost:8080/"
        },
        "id": "AnMmLFa9G8WM",
        "outputId": "ad9a5e21-2cb5-4a55-8949-a7c96162dab2"
      },
      "execution_count": null,
      "outputs": [
        {
          "output_type": "stream",
          "name": "stdout",
          "text": [
            "0\n",
            "1\n",
            "2\n",
            "3\n"
          ]
        }
      ]
    },
    {
      "cell_type": "code",
      "source": [
        "LL.rightappend(4)\n",
        "LL.printList()"
      ],
      "metadata": {
        "colab": {
          "base_uri": "https://localhost:8080/"
        },
        "id": "itc-HSWdHzeM",
        "outputId": "8b04a730-672d-4ca5-d835-c26bbf3443a9"
      },
      "execution_count": null,
      "outputs": [
        {
          "output_type": "stream",
          "name": "stdout",
          "text": [
            "0\n",
            "1\n",
            "2\n",
            "3\n",
            "4\n"
          ]
        }
      ]
    },
    {
      "cell_type": "code",
      "source": [
        "LL.lookfor(3)"
      ],
      "metadata": {
        "colab": {
          "base_uri": "https://localhost:8080/"
        },
        "id": "sGqXohjfJmRB",
        "outputId": "551f8cb3-42a6-4789-d9bf-0f1f54754cea"
      },
      "execution_count": null,
      "outputs": [
        {
          "output_type": "execute_result",
          "data": {
            "text/plain": [
              "3"
            ]
          },
          "metadata": {},
          "execution_count": 153
        }
      ]
    },
    {
      "cell_type": "code",
      "source": [
        "LL.delete(4)\n",
        "LL.printList()"
      ],
      "metadata": {
        "colab": {
          "base_uri": "https://localhost:8080/"
        },
        "id": "ybG-ue5xK_yu",
        "outputId": "d60d1080-eb8d-47b3-ea40-a51a91e8a33e"
      },
      "execution_count": null,
      "outputs": [
        {
          "output_type": "stream",
          "name": "stdout",
          "text": [
            "0\n",
            "1\n",
            "2\n",
            "3\n"
          ]
        }
      ]
    },
    {
      "cell_type": "code",
      "source": [
        "LL.delete(0)\n",
        "LL.printList()"
      ],
      "metadata": {
        "colab": {
          "base_uri": "https://localhost:8080/"
        },
        "id": "AhD7zvq_LBh3",
        "outputId": "cef0de99-9414-4fca-dcfc-92dba265280d"
      },
      "execution_count": null,
      "outputs": [
        {
          "output_type": "stream",
          "name": "stdout",
          "text": [
            "1\n",
            "2\n",
            "3\n"
          ]
        }
      ]
    },
    {
      "cell_type": "markdown",
      "source": [
        "LL 관련 코드는 LL.head와 LL.head.next 뿐이고 second, third 등은 단순 연결 상태의 개별 노드!"
      ],
      "metadata": {
        "id": "WvpFJpLV8kM8"
      }
    },
    {
      "cell_type": "markdown",
      "source": [
        "\n",
        "\n",
        "참고로 LeetCode에서 파이썬 연결리스트인 ListNode 구현은 위와 같다고 합니다"
      ],
      "metadata": {
        "id": "AipmyWMpOK86"
      }
    },
    {
      "cell_type": "markdown",
      "source": [
        "#두 수의 덧셈 "
      ],
      "metadata": {
        "id": "YLd2h_YHL5kI"
      }
    },
    {
      "cell_type": "code",
      "source": [
        "#Input: l1 = [2,4,3], l2 = [5,6,4] #참고로 (리스트+리스트)는 [2,4,3,5,6,4]\n",
        "#Output: [7,0,8]\n",
        "#Explanation: 342 + 465 = 807."
      ],
      "metadata": {
        "id": "H05DAg2E4Qwp"
      },
      "execution_count": null,
      "outputs": []
    },
    {
      "cell_type": "code",
      "source": [
        "class ListNode:\n",
        "    def __init__(self, data, next=None):\n",
        "        self.data = data\n",
        "        self.next = next"
      ],
      "metadata": {
        "id": "97odOvuTPLHk"
      },
      "execution_count": null,
      "outputs": []
    },
    {
      "cell_type": "code",
      "source": [
        "class LinkedList: #연결리스트 시작\n",
        "\n",
        "  def __init__(self):\n",
        "    self.head=None #LL의 head를 직접 지정 가능\n",
        "\n",
        "  def LL_insert(self, data, index=0):\n",
        "    if index==0:\n",
        "      temp_node=self.head\n",
        "      self.head=ListNode(data)\n",
        "      self.head.next=temp_node\n",
        "    \n",
        "    else:\n",
        "      s=1\n",
        "      temp=self.head #임시 인덱스보다 하나 이전 인덱스의 값\n",
        "      while(temp.next):\n",
        "        if s==index:\n",
        "          ListNode(data).next=temp.next #삽입 노드 이후와 임시 노드 이후를 먼저 연결\n",
        "          temp.next=ListNode(data) #임시 노드 이후를 삽입 노드로 지정\n",
        "        else:\n",
        "          s+=1\n",
        "          temp=temp.next\n",
        "\n",
        "  def LL_print(self):\n",
        "    temp=self.head\n",
        "    while(temp):\n",
        "      print(temp.data)\n",
        "      temp=temp.next\n",
        "\n",
        "  def reverseList(self):\n",
        "    node, prev= self.head, None\n",
        "    prev, node= node, node.next\n",
        "\n",
        "    return prev"
      ],
      "metadata": {
        "id": "89RPVXuErPl3"
      },
      "execution_count": null,
      "outputs": []
    },
    {
      "cell_type": "code",
      "source": [
        ""
      ],
      "metadata": {
        "id": "Kgh4QWb3wmnZ"
      },
      "execution_count": null,
      "outputs": []
    },
    {
      "cell_type": "code",
      "source": [
        "LL=LinkedList()\n",
        "LL.head=ListNode(0)\n",
        "LL.LL_print()"
      ],
      "metadata": {
        "colab": {
          "base_uri": "https://localhost:8080/"
        },
        "id": "jt7Idr4kvTWq",
        "outputId": "6c36155c-7ac2-480d-8b35-1939d20b0831"
      },
      "execution_count": null,
      "outputs": [
        {
          "output_type": "stream",
          "name": "stdout",
          "text": [
            "0\n"
          ]
        }
      ]
    },
    {
      "cell_type": "code",
      "source": [
        "LL.LL_insert(1)\n",
        "LL.LL_insert(2)\n",
        "LL.LL_insert(3)\n",
        "LL.LL_print()"
      ],
      "metadata": {
        "colab": {
          "base_uri": "https://localhost:8080/"
        },
        "id": "W5o0byRWvrgc",
        "outputId": "833973c6-cf6e-4154-87a9-266c68ac3c47"
      },
      "execution_count": null,
      "outputs": [
        {
          "output_type": "stream",
          "name": "stdout",
          "text": [
            "3\n",
            "2\n",
            "1\n",
            "0\n"
          ]
        }
      ]
    },
    {
      "cell_type": "code",
      "source": [
        "LL_rev=LL.reverseList()"
      ],
      "metadata": {
        "id": "CBpzgNMIv5S6"
      },
      "execution_count": null,
      "outputs": []
    },
    {
      "cell_type": "markdown",
      "source": [
        "#풀이"
      ],
      "metadata": {
        "id": "TekE9M8jJ8u-"
      }
    },
    {
      "cell_type": "code",
      "source": [
        "#교재 풀이\n",
        "class LinkedList: #연결리스트 (문제 입력을 위해)\n",
        "\n",
        "  def __init__(self):\n",
        "    self.head=None    \n",
        "\n",
        "class ListNode:\n",
        "    def __init__(self, data, next=None):\n",
        "        self.data = data\n",
        "        self.next = next\n",
        "\n",
        "#----------------\n",
        "\n",
        "\n",
        "\n",
        "def reversed_List(LL): #연결리스트를 역순 정렬된 파이썬 리스트로\n",
        "  \n",
        "  node, prev= LL.head, None\n",
        "\n",
        "  while node:\n",
        "    next,node.next =node.next,prev #다음 노드를 임시 저장 (동시 스왑 필요)\n",
        "    prev,node =node,next\n",
        "    #(LL이 1,2,3,4일 경우 4_prev 3 2 1, node: None 와 같은 상황으로 종료)\n",
        "  \n",
        "  List=[]\n",
        "  node=prev #위 prev 노드를 node에 저장\n",
        "\n",
        "  while node:\n",
        "    List.append(node.data)\n",
        "    node=node.next\n",
        "\n",
        "  return List\n",
        "\n",
        "\n",
        "\n",
        "def reversed_LL(List): #파이썬 리스트를 역순 정렬된 연결리스트로\n",
        "  \n",
        "  prev=ListNode(List[0])\n",
        "\n",
        "  for i in List[1:]:\n",
        "    node=ListNode(i) #i번째 값 노드를\n",
        "    node.next =prev #★★prev.noext=node로 헷갈렸다.\n",
        "    prev =node #prev 재지정\n",
        "\n",
        "  return prev #가장 마지막으로 왼쪽에 추가된 노드\n",
        "\n",
        "\n",
        "def two_sum(l1,l2):\n",
        "\n",
        "  num=int(''.join(map(str, reversed_List(l1))))+\\\n",
        "  int(''.join(map(str, reversed_List(l2))))\n",
        "  \n",
        "  return reversed_LL([int(n) for n in str(num)])"
      ],
      "metadata": {
        "id": "uoggfzSUyQlu"
      },
      "execution_count": null,
      "outputs": []
    },
    {
      "cell_type": "markdown",
      "source": [
        "문제입력 & 결과"
      ],
      "metadata": {
        "id": "yWRjkVT4MeeL"
      }
    },
    {
      "cell_type": "code",
      "source": [
        "l1=LinkedList()\n",
        "l1.head=ListNode(2)\n",
        "l1_2=ListNode(4)\n",
        "l1.head.next=l1_2\n",
        "l1_3=ListNode(3)\n",
        "l1_2.next=l1_3\n",
        "\n",
        "l2=LinkedList()\n",
        "l2.head=ListNode(5)\n",
        "l2_2=ListNode(6)\n",
        "l2.head.next=l2_2\n",
        "l2_3=ListNode(4)\n",
        "l2_2.next=l2_3"
      ],
      "metadata": {
        "id": "uEeW-Fj9OR7M"
      },
      "execution_count": null,
      "outputs": []
    },
    {
      "cell_type": "code",
      "source": [
        "print(l1.head.data, l1.head.next.data, l1.head.next.next.data)"
      ],
      "metadata": {
        "colab": {
          "base_uri": "https://localhost:8080/"
        },
        "id": "aEBEUvHiODYF",
        "outputId": "51bc6022-2e6f-4cd6-b2b7-184f4c3392dc"
      },
      "execution_count": null,
      "outputs": [
        {
          "output_type": "stream",
          "name": "stdout",
          "text": [
            "2 4 3\n"
          ]
        }
      ]
    },
    {
      "cell_type": "code",
      "source": [
        "print(l2.head.data, l2.head.next.data, l2.head.next.next.data)"
      ],
      "metadata": {
        "colab": {
          "base_uri": "https://localhost:8080/"
        },
        "id": "PV33iEp5OFik",
        "outputId": "6bec860a-2722-4a1e-9f72-c769416f9f45"
      },
      "execution_count": null,
      "outputs": [
        {
          "output_type": "stream",
          "name": "stdout",
          "text": [
            "5 6 4\n"
          ]
        }
      ]
    },
    {
      "cell_type": "code",
      "source": [
        "ans=two_sum(l1,l2)\n",
        "print(ans.data, ans.next.data, ans.next.next.data)"
      ],
      "metadata": {
        "colab": {
          "base_uri": "https://localhost:8080/"
        },
        "id": "Bb3IUs4nLMFe",
        "outputId": "866b05d2-41cd-4a96-8795-63a95e18768f"
      },
      "execution_count": null,
      "outputs": [
        {
          "output_type": "stream",
          "name": "stdout",
          "text": [
            "7 0 8\n"
          ]
        }
      ]
    },
    {
      "cell_type": "markdown",
      "source": [
        "#풀이2"
      ],
      "metadata": {
        "id": "pZRJr95zOceV"
      }
    },
    {
      "cell_type": "code",
      "source": [
        "divmod(22, 5)"
      ],
      "metadata": {
        "colab": {
          "base_uri": "https://localhost:8080/"
        },
        "id": "LFFfjgN9dapn",
        "outputId": "f2f70a77-9b61-4437-9a10-058afca4fc97"
      },
      "execution_count": null,
      "outputs": [
        {
          "output_type": "execute_result",
          "data": {
            "text/plain": [
              "(4, 2)"
            ]
          },
          "metadata": {},
          "execution_count": 108
        }
      ]
    },
    {
      "cell_type": "markdown",
      "source": [
        "6 3 7 / 1 8 4  : 원래 순서면 일의 자리부터 뒤에서 앞으로 덧셈 계산\n",
        "\n",
        "7 3 6 / 4 8 1  : 역순이면 앞에서 뒤로 덧셈 계산"
      ],
      "metadata": {
        "id": "_0qVJZcqYq5Y"
      }
    },
    {
      "cell_type": "code",
      "source": [
        "l1=LinkedList()\n",
        "l1.head=ListNode(7)\n",
        "l1_2=ListNode(3)\n",
        "l1.head.next=l1_2\n",
        "l1_3=ListNode(6)\n",
        "l1_2.next=l1_3\n",
        "\n",
        "l2=LinkedList()\n",
        "l2.head=ListNode(4)\n",
        "l2_2=ListNode(8)\n",
        "l2.head.next=l2_2\n",
        "l2_3=ListNode(1)\n",
        "l2_2.next=l2_3"
      ],
      "metadata": {
        "id": "BNhRi7cKa9GA"
      },
      "execution_count": null,
      "outputs": []
    },
    {
      "cell_type": "code",
      "source": [
        "#교재풀이2: 가산기 구조\n",
        "\n",
        "def two_sum2(l1,l2):\n",
        " \n",
        "  root=head=ListNode(0) #head를 옮겨가며 추가한 뒤, 첫 노드를 리턴할 것이므로 root=head=~\n",
        "  carry=0\n",
        "\n",
        "  while l1 or l2 or carry: #None and None and 0일 경우 종료\n",
        "\n",
        "    sum=0 #합 갱신 (올림은 carry에 저장)\n",
        "\n",
        "    if l1:\n",
        "      sum+=l1.data\n",
        "      print(l1.data, sum)\n",
        "      l1=l1.next\n",
        "    \n",
        "    if l2:\n",
        "      sum+=l2.data\n",
        "      print(l2.data, sum)\n",
        "      l2=l2.next\n",
        "\n",
        "    carry, data=divmod(sum+carry, 10) #carry, data 갱신\n",
        "    head.next=ListNode(data) #연결리스트에 노드 추가\n",
        "    #print('올림, 노드값', carry, data)\n",
        "    head=head.next #다음 노드로\n",
        "      \n",
        "  return root.next"
      ],
      "metadata": {
        "id": "4rXtHnwvOH4F"
      },
      "execution_count": null,
      "outputs": []
    },
    {
      "cell_type": "code",
      "source": [
        "ans=two_sum2(l1=l1.head,l2=l2.head)\n",
        "print(ans.data, ans.next.data, ans.next.next.data)"
      ],
      "metadata": {
        "colab": {
          "base_uri": "https://localhost:8080/"
        },
        "id": "VRJVkrCKXj9U",
        "outputId": "84ef8264-726d-45ac-cbfd-a2341c4f61c1"
      },
      "execution_count": null,
      "outputs": [
        {
          "output_type": "stream",
          "name": "stdout",
          "text": [
            "7 7\n",
            "4 11\n",
            "올림, 노드값 1 1\n",
            "3 3\n",
            "8 11\n",
            "올림, 노드값 1 2\n",
            "6 6\n",
            "1 7\n",
            "올림, 노드값 0 8\n",
            "1 2 8\n"
          ]
        }
      ]
    },
    {
      "cell_type": "code",
      "source": [
        "from functools import reduce\n",
        "from operator import add, mul #reduce의 파라미터로 사용됨\n",
        "\n",
        "#누적합\n",
        "print(reduce(add, [1,2,3,4]))\n",
        "#누적곱\n",
        "print(reduce(mul, [1,2,3,4]))\n",
        "#자릿수 합치기\n",
        "print(reduce(lambda x,y: 10*x+y, [1,2,3,4])) #x는 i-1번 원소까지 계산된 값, y는 i번 원소"
      ],
      "metadata": {
        "colab": {
          "base_uri": "https://localhost:8080/"
        },
        "id": "ARUKC7K2dtzX",
        "outputId": "313a3f87-a382-4977-8bc1-dfb2552a0f31"
      },
      "execution_count": null,
      "outputs": [
        {
          "output_type": "stream",
          "name": "stdout",
          "text": [
            "10\n",
            "24\n",
            "1234\n"
          ]
        }
      ]
    },
    {
      "cell_type": "markdown",
      "source": [
        "\n",
        "\n",
        "---\n",
        "\n"
      ],
      "metadata": {
        "id": "gpusk9eDOhqF"
      }
    },
    {
      "cell_type": "markdown",
      "source": [
        "#연결리스트 홀->짝"
      ],
      "metadata": {
        "id": "czm1WN7yUq4W"
      }
    },
    {
      "cell_type": "code",
      "source": [
        "LL3.data"
      ],
      "metadata": {
        "colab": {
          "base_uri": "https://localhost:8080/"
        },
        "id": "NyVv0rFSUGPa",
        "outputId": "2e7d3a93-82db-4928-b8f2-3e0e4552e028"
      },
      "execution_count": null,
      "outputs": [
        {
          "output_type": "execute_result",
          "data": {
            "text/plain": [
              "3"
            ]
          },
          "metadata": {},
          "execution_count": 118
        }
      ]
    },
    {
      "cell_type": "code",
      "source": [
        "LL5.next is None"
      ],
      "metadata": {
        "colab": {
          "base_uri": "https://localhost:8080/"
        },
        "id": "NwRIuOE2Xvp2",
        "outputId": "900ff879-150b-472e-df07-f49440ebacb0"
      },
      "execution_count": null,
      "outputs": [
        {
          "output_type": "execute_result",
          "data": {
            "text/plain": [
              "True"
            ]
          },
          "metadata": {},
          "execution_count": 119
        }
      ]
    },
    {
      "cell_type": "code",
      "source": [
        "''' # 망한 풀이1\n",
        "\n",
        "def odd_to_even(LL):\n",
        "  LL_=result=ListNode(LL.data)\n",
        "  \n",
        "  temp=LL #홀수번값 노드 추가 루프\n",
        "  while(temp.next and temp.next.next): #temp.next and 없으면 temp.next가 None일 때 에러 \n",
        "    result.next=temp\n",
        "    temp=temp.next.next\n",
        "    print('홀', temp.data)\n",
        "\n",
        "  temp=LL.next #짝수번값 노드 추가 루프\n",
        "  while(temp.next and temp.next.next):\n",
        "    result.next=temp\n",
        "    temp=temp.next.next\n",
        "    print('짝', temp.data)\n",
        "  \n",
        "  return LL_\n",
        "'''"
      ],
      "metadata": {
        "id": "b3icyuSEUoSF"
      },
      "execution_count": null,
      "outputs": []
    },
    {
      "cell_type": "code",
      "source": [
        "''' #망한 풀이 2\n",
        "\n",
        "#O(N) 제한 = 루프 한번\n",
        "#짝수번째는 짝수용 노드 뒤에,\n",
        "#홀수번째는 홀수용 노드 뒤에 붙이면...\n",
        "\n",
        "def odd_to_even(head):\n",
        "\n",
        "  node=head.next.next #root= =head방식이 연결리스트에서만 쓰이나?\n",
        "\n",
        "  odd,even=head,head.next\n",
        "  odd.next=even\n",
        "  root=odd\n",
        "\n",
        "  while node:\n",
        "\n",
        "    if i%2:\n",
        "      odd.next=node #odd 다음으로 현 node\n",
        "      odd=odd.next #odd 갱신\n",
        "      node=node.next\n",
        "      i+=1\n",
        "\n",
        "    else:\n",
        "      even.next=node #even 다음으로 현 node\n",
        "      even=even.next #eve 갱신\n",
        "      node=node.next\n",
        "      i+=1\n",
        "\n",
        "  return root\n",
        "'''"
      ],
      "metadata": {
        "id": "afQAYlk8UR8_"
      },
      "execution_count": null,
      "outputs": []
    },
    {
      "cell_type": "code",
      "source": [
        "ans=odd_to_even(LL1)\n",
        "print(ans.data, ans.next.data)"
      ],
      "metadata": {
        "id": "MRoLquDyW0r0",
        "colab": {
          "base_uri": "https://localhost:8080/"
        },
        "outputId": "d863ae65-7273-497d-bfd5-0eef06c8790e"
      },
      "execution_count": null,
      "outputs": [
        {
          "output_type": "stream",
          "name": "stdout",
          "text": [
            "1 5\n"
          ]
        }
      ]
    },
    {
      "cell_type": "markdown",
      "source": [
        "#교재풀이"
      ],
      "metadata": {
        "id": "Ufj150vcpNbO"
      }
    },
    {
      "cell_type": "code",
      "source": [
        "LL1=ListNode(1)\n",
        "LL2=ListNode(2)\n",
        "LL1.next=LL2\n",
        "LL3=ListNode(3)\n",
        "LL2.next=LL3\n",
        "LL4=ListNode(4)\n",
        "LL3.next=LL4\n",
        "LL5=ListNode(5)\n",
        "LL4.next=LL5"
      ],
      "metadata": {
        "id": "wGxmCR5iTsQD"
      },
      "execution_count": null,
      "outputs": []
    },
    {
      "cell_type": "code",
      "source": [
        "1 2 3 4 5"
      ],
      "metadata": {
        "id": "F6xFbat4F7MU"
      },
      "execution_count": null,
      "outputs": []
    },
    {
      "cell_type": "code",
      "source": [
        "def OddEven(head):\n",
        "\n",
        "  if head is None: return None\n",
        "\n",
        "  odd=head\n",
        "  even=head.next\n",
        "  even_head=head.next #홀수번째 연결리스트의 끝에 이어주기 위함\n",
        "\n",
        "  while even and even.next:\n",
        "    odd.next, even.next = odd.next.next, even.next.next #다음 홀수값을 odd의 뒤로, 다음 짝수값을 even의 뒤로\n",
        "    odd, even= odd.next, even.next #위에서 odd.next와 even.next로 지정된 노드들을 새 odd, even으로 업데이트\n",
        "\n",
        "  odd.next=even_head #마지막 odd와 even_head 연결 \n",
        "\n",
        "  return head"
      ],
      "metadata": {
        "id": "OFUn2zkTnfXP"
      },
      "execution_count": null,
      "outputs": []
    },
    {
      "cell_type": "code",
      "source": [
        "#스왑 가능?\n",
        "odd.next, odd= odd.next.next, odd.next #는 불가: 앞부분이 선행해야 odd.next가 짝수가 아닌 odd.next.next임"
      ],
      "metadata": {
        "id": "KGZmaB9Lpd68"
      },
      "execution_count": null,
      "outputs": []
    },
    {
      "cell_type": "markdown",
      "source": [
        "#빗물 트래핑 다시,,"
      ],
      "metadata": {
        "id": "ybz3GtvuryJN"
      }
    },
    {
      "cell_type": "code",
      "source": [
        "wall=[0,1,0,2,1,0,1,3,2,1,2,1]"
      ],
      "metadata": {
        "id": "mjT4_KIzrzwN"
      },
      "execution_count": null,
      "outputs": []
    },
    {
      "cell_type": "markdown",
      "source": [
        "낮았다가 높아지면, 이전 벽 중 가장 가까운 i번 높이와 비교해 빗물을 더한다 (right pop) - 유지 or 높았다가 낮아지는 경우는 i를 스택에 저장 하지 않음\n",
        "\n",
        "위에서 확인한 i번째 높이보다 i-1번째 등의 높이가 같거나 높으면서, 현재 벽보다 같거나 작은 경우에 생기는 빗물도 고려해야 하는데\n",
        "\n",
        "높이가 유지된 경우 i가 스택에 저장되지 않아 두칸 이상의 빗물도 거리 계산에 포함됨\n"
      ],
      "metadata": {
        "id": "UezCB9ZEsEgo"
      }
    },
    {
      "cell_type": "code",
      "source": [
        "for i in [1,2,3]:\n",
        "  print(i)\n",
        "  break"
      ],
      "metadata": {
        "colab": {
          "base_uri": "https://localhost:8080/"
        },
        "id": "u8p5m_N8r6ix",
        "outputId": "0e36cd02-6e78-4403-bcdf-3fc84813197d"
      },
      "execution_count": null,
      "outputs": [
        {
          "output_type": "stream",
          "name": "stdout",
          "text": [
            "1\n"
          ]
        }
      ]
    },
    {
      "cell_type": "code",
      "source": [
        "[2, 212]\n",
        "\n",
        "222 212212212\n",
        "\n",
        "2 212\n",
        "212 2\n",
        "\n",
        "[2, 232]\n",
        "\n",
        "232 2\n",
        "2 232"
      ],
      "metadata": {
        "id": "tDP8F718Khl-"
      },
      "execution_count": null,
      "outputs": []
    }
  ]
}