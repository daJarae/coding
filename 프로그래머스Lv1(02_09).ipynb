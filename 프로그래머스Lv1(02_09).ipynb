{
  "nbformat": 4,
  "nbformat_minor": 0,
  "metadata": {
    "colab": {
      "name": "프로그래머스Lv1(02.09).ipynb",
      "provenance": [],
      "authorship_tag": "ABX9TyO5/7kugh2mmXSSJrUNpehA",
      "include_colab_link": true
    },
    "kernelspec": {
      "name": "python3",
      "display_name": "Python 3"
    },
    "language_info": {
      "name": "python"
    }
  },
  "cells": [
    {
      "cell_type": "markdown",
      "metadata": {
        "id": "view-in-github",
        "colab_type": "text"
      },
      "source": [
        "<a href=\"https://colab.research.google.com/github/daJarae/coding-test/blob/main/%ED%94%84%EB%A1%9C%EA%B7%B8%EB%9E%98%EB%A8%B8%EC%8A%A4Lv1(02_09).ipynb\" target=\"_parent\"><img src=\"https://colab.research.google.com/assets/colab-badge.svg\" alt=\"Open In Colab\"/></a>"
      ]
    },
    {
      "cell_type": "markdown",
      "source": [
        "#프로그래머스 1단계 다섯문제"
      ],
      "metadata": {
        "id": "eIvVgfAMa75n"
      }
    },
    {
      "cell_type": "markdown",
      "source": [
        "이전에 Level.1은 다 풀고자 했지만 일부 어려운 문제의 벽 + 시간 없음으로 미뤄진 것 청산하기"
      ],
      "metadata": {
        "id": "MoV6-P61a97A"
      }
    },
    {
      "cell_type": "markdown",
      "source": [
        "전에라면 더 어려워했을 법한 문제들이 더 실마리가 보이게 된 느낌이다."
      ],
      "metadata": {
        "id": "dNAQcZ3oK2tn"
      }
    },
    {
      "cell_type": "markdown",
      "source": [
        "#1. 소수 남기기"
      ],
      "metadata": {
        "id": "yb89l1IdB2CM"
      }
    },
    {
      "cell_type": "code",
      "execution_count": null,
      "metadata": {
        "id": "BC6Zno8GBzyI"
      },
      "outputs": [],
      "source": [
        "def solution(n):\n",
        "\n",
        "    nums=[i for i in range(2,n+1)]\n",
        "    sosu=[] #추가할 때 해당 수로 나눠지는 값들 n에서 버림\n",
        "    k=nums[0]\n",
        "\n",
        "    while True:\n",
        "        nums=[n for n in nums if n%k] #k로 나눠서 0이 아닌 수만 남기기\n",
        "        sosu.append(k)\n",
        "        if k==n or len(nums)==0: break\n",
        "        k=nums[0]                     #k는 항상 왼쪽값으로 통일\n",
        "    \n",
        "    return len(sosu)"
      ]
    },
    {
      "cell_type": "markdown",
      "source": [
        "R 수업에서 배운 에라토스테네스의 체..인가 하는 풀이\n",
        "\n",
        "테스트 케이스 9개 통과하나 시간 초과 ㅠㅠ"
      ],
      "metadata": {
        "id": "NUTjO92JDqeq"
      }
    },
    {
      "cell_type": "code",
      "source": [
        "sum([True, False])"
      ],
      "metadata": {
        "colab": {
          "base_uri": "https://localhost:8080/"
        },
        "id": "5hbCsWrfGVQM",
        "outputId": "71360a9a-edfe-4446-b113-69dd9789b3f9"
      },
      "execution_count": null,
      "outputs": [
        {
          "output_type": "execute_result",
          "data": {
            "text/plain": [
              "1"
            ]
          },
          "metadata": {},
          "execution_count": 17
        }
      ]
    },
    {
      "cell_type": "markdown",
      "source": [
        "#모범 답안"
      ],
      "metadata": {
        "id": "AwYOkeu4Gjz7"
      }
    },
    {
      "cell_type": "code",
      "source": [
        "#질문하기 참조 풀이 : 소수의 체 마스크\n",
        "\n",
        "def solution(n):\n",
        "    sieve = [True]*(n+1)                   #0, 1번 인덱스의 True는 불필요 (편한 인덱스 지정을 위해 n+1크기 체 설정)\n",
        "\n",
        "    for i in range(2, int(n**0.5)+1):\n",
        "        if sieve[i] == True:               #★'배수가 아닌 수'의 확인을 쉬운 if 비교문으로 해결\n",
        "            for j in range(i*i, n+1, i):   #i의 배수들의 위치를 False로\n",
        "                sieve[j] = False\n",
        "                  \n",
        "    return sum(sieve)-2                   #0,1번 인덱스의 True를 True개수 합에서 제외"
      ],
      "metadata": {
        "id": "fNmrYX4jB5Dd"
      },
      "execution_count": null,
      "outputs": []
    },
    {
      "cell_type": "markdown",
      "source": [
        "이중 for문임에도 런타임에러가 나지 않았다는 점이 가장 신기하고\n",
        "\n",
        "i의 배수로서 엄밀한 제거 대상을 (i*i, n+1, i)로 둔 점도 씽크빅하다\n",
        "\n",
        " (5의 배수 제거시 15는 3의 배수이기도 하므로 이미 지워진 상태) \n",
        "\n",
        " range() 설정을 똑똑하게 한듯"
      ],
      "metadata": {
        "id": "my78Hlc9E_7r"
      }
    },
    {
      "cell_type": "markdown",
      "source": [
        "\n",
        "\n",
        "---\n",
        "\n"
      ],
      "metadata": {
        "id": "y4QbzXQVhPQh"
      }
    },
    {
      "cell_type": "markdown",
      "source": [
        "# 2. 나머지가 1이되는 (가장 작은) 수"
      ],
      "metadata": {
        "id": "89LJvnjAIaVo"
      }
    },
    {
      "cell_type": "code",
      "source": [
        "def solution(n):\n",
        "    \n",
        "    num=n-1\n",
        "    \n",
        "    for i in range(2, num+1):\n",
        "        if num%i==0:\n",
        "            return i"
      ],
      "metadata": {
        "id": "q6XCPYiVGHwL"
      },
      "execution_count": null,
      "outputs": []
    },
    {
      "cell_type": "markdown",
      "source": [
        "쉬운 문제도 있긴 했지... 싶은 문제였다"
      ],
      "metadata": {
        "id": "2bkB0kc5IiqP"
      }
    },
    {
      "cell_type": "markdown",
      "source": [
        "\n",
        "\n",
        "---\n",
        "\n"
      ],
      "metadata": {
        "id": "xA1caoK0hOkx"
      }
    },
    {
      "cell_type": "markdown",
      "source": [
        "# 3. 3진법 뒤집기"
      ],
      "metadata": {
        "id": "lG3L1-IHIl7X"
      }
    },
    {
      "cell_type": "code",
      "source": [
        "k=30                 #이전 진수 (아마 81) 나눗셈 후 나머지\n",
        "m, k=divmod(k, 27)   #m은 몫, k는 나머지 or 다음에 나눌 수 이용\n",
        "print(m,k)"
      ],
      "metadata": {
        "colab": {
          "base_uri": "https://localhost:8080/"
        },
        "id": "KTdqfs_LLUe9",
        "outputId": "a0ea38ab-b693-4dcc-d2b6-752d24ec3a8a"
      },
      "execution_count": null,
      "outputs": [
        {
          "output_type": "stream",
          "name": "stdout",
          "text": [
            "1 3\n"
          ]
        }
      ]
    },
    {
      "cell_type": "code",
      "source": [
        "s=[1,2,3]\n",
        "s.sort(reverse=True)\n",
        "s"
      ],
      "metadata": {
        "colab": {
          "base_uri": "https://localhost:8080/"
        },
        "id": "ZCFzdpesLDrq",
        "outputId": "8a61c291-3615-4489-ae53-76cee3089844"
      },
      "execution_count": null,
      "outputs": [
        {
          "output_type": "execute_result",
          "data": {
            "text/plain": [
              "[3, 2, 1]"
            ]
          },
          "metadata": {},
          "execution_count": 19
        }
      ]
    },
    {
      "cell_type": "markdown",
      "source": [
        "합치기는 아래 코드를 쓸 것임~"
      ],
      "metadata": {
        "id": "95FBdO7VMfO1"
      }
    },
    {
      "cell_type": "code",
      "source": [
        "from functools import reduce\n",
        "from operator import add, mul #reduce의 파라미터로 사용됨\n",
        "\n",
        "#누적합\n",
        "print(reduce(add, [1,2,3,4]))\n",
        "#누적곱\n",
        "print(reduce(mul, [1,2,3,4]))\n",
        "#자릿수 합치기\n",
        "print(reduce(lambda x,y: 10*x+y, [1,2,3,4])) #앞이 누적값, 뒤가 다음 값"
      ],
      "metadata": {
        "id": "ztF6fvP_LxEY",
        "colab": {
          "base_uri": "https://localhost:8080/"
        },
        "outputId": "1ea24ea9-8b8e-459e-d063-1e7f0283f385"
      },
      "execution_count": 26,
      "outputs": [
        {
          "output_type": "stream",
          "name": "stdout",
          "text": [
            "10\n",
            "24\n",
            "1234\n"
          ]
        }
      ]
    },
    {
      "cell_type": "code",
      "source": [
        "#def solution(n):  미흡한 풀이 (뒤집기 후 0이 선두에 올 때 고려 x)\n",
        "    \n",
        "#    from functools import reduce\n",
        "#    samjin=[]\n",
        "#    i3=0\n",
        "#\n",
        "#    #최고 3진수 자릿수 찾기\n",
        "#    while 3**(i3+1)<=n: #i3이 while 종료 조건보다 1작아야 하므로 i3+1\n",
        "#        i3+=1\n",
        "#    \n",
        "#    #3진수 변환\n",
        "#    k=n\n",
        "#    while i3>0:\n",
        "#        m, k=divmod(k, 3**i3)   #m은 몫(i3자리의 수), k는 나머지 or 다음에 나눌 수\n",
        "#        samjin.append(m)\n",
        "#        i3-=1\n",
        "#    samjin.append(k)            #일의 자리 나머지 추가\n",
        "#    samjin.sort(reverse=True)\n",
        "#    \n",
        "#    print(reduce(lambda x,y: 10*x+y, samjin))"
      ],
      "metadata": {
        "id": "ruUJwH7lNN0i"
      },
      "execution_count": 27,
      "outputs": []
    },
    {
      "cell_type": "markdown",
      "source": [
        "거의 맞은 풀이 (테스트 케이스 하나 불통)"
      ],
      "metadata": {
        "id": "GU6OKGybRXaj"
      }
    },
    {
      "cell_type": "code",
      "source": [
        "def solution(n):\n",
        "    \n",
        "    from functools import reduce\n",
        "    samjin=''\n",
        "    i3=0\n",
        "\n",
        "    #최고 3진수 자릿수 찾기\n",
        "    while 3**(i3+1)<=n: #i3이 while 종료 조건보다 1작아야 하므로 i3+1\n",
        "        i3+=1\n",
        "    \n",
        "    #3진수 변환\n",
        "    k=n\n",
        "    while i3>0:\n",
        "        m, k=divmod(k, 3**i3)   #m은 몫(i3자리의 수), k는 나머지 or 다음에 나눌 수\n",
        "        samjin+=str(m)\n",
        "        i3-=1\n",
        "    samjin+=str(k)            #일의 자리 나머지 추가\n",
        "    print(samjin)\n",
        "    \n",
        "    #3진수 뒤집기, 초기 0 제거\n",
        "    samjin=samjin[::-1]\n",
        "    samjin=[int(s) for s in samjin]\n",
        "    for n in samjin:                \n",
        "      if n == 0: samjin.remove(n)    \n",
        "      else: break\n",
        "\n",
        "    #10진수 변환\n",
        "    return reduce(lambda x,y: 3*x+y, samjin)"
      ],
      "metadata": {
        "id": "Kc_6HXFMOCts"
      },
      "execution_count": 39,
      "outputs": []
    },
    {
      "cell_type": "code",
      "source": [
        "solution(3)"
      ],
      "metadata": {
        "colab": {
          "base_uri": "https://localhost:8080/"
        },
        "id": "fxhMQj1BNOxC",
        "outputId": "1f346ad4-b112-43bd-d231-e3658477f911"
      },
      "execution_count": 49,
      "outputs": [
        {
          "output_type": "stream",
          "name": "stdout",
          "text": [
            "10\n"
          ]
        },
        {
          "output_type": "execute_result",
          "data": {
            "text/plain": [
              "1"
            ]
          },
          "metadata": {},
          "execution_count": 49
        }
      ]
    },
    {
      "cell_type": "markdown",
      "source": [
        "최종 풀이"
      ],
      "metadata": {
        "id": "59KK432PRo4a"
      }
    },
    {
      "cell_type": "code",
      "source": [
        "def solution(n):\n",
        "    from functools import reduce\n",
        "\n",
        "    sam=''\n",
        "    i3=0\n",
        "    while 3**(i3+1)<=n:\n",
        "        i3+=1\n",
        "    \n",
        "    k=n\n",
        "    while i3>0:\n",
        "        m, k=divmod(k, 3**i3)   #m은 몫(i3자리의 수), k는 나머지 or 다음에 나눌 수\n",
        "        sam+=str(m)\n",
        "        i3-=1\n",
        "    sam+=str(k)              #일의 자리 나머지 추가\n",
        "    sam=sam[::-1]\n",
        "\n",
        "    return reduce(lambda x,y: 3*x+y, [int(s) for s in sam])"
      ],
      "metadata": {
        "id": "NX2H0ftfRclN"
      },
      "execution_count": null,
      "outputs": []
    },
    {
      "cell_type": "markdown",
      "source": [
        "생각해보니 [0,0,1]에 대해 위 reduce를 적용하면 0*3+1 = 1이므로 기존 코드로도\n",
        "\n",
        "3진수의 자리 누적이 발생하지 않기 때문에 굳이 0을 제거할 필요가 없음을 깨달음!"
      ],
      "metadata": {
        "id": "t_aSLF7IRcUq"
      }
    },
    {
      "cell_type": "markdown",
      "source": [
        "\n",
        "\n",
        "---\n",
        "\n"
      ],
      "metadata": {
        "id": "zKNYNoBfhNNZ"
      }
    },
    {
      "cell_type": "markdown",
      "source": [
        "#4. 신고결과 받기"
      ],
      "metadata": {
        "id": "3_ttVgw4TYzR"
      }
    },
    {
      "cell_type": "markdown",
      "source": [
        "코드 짜기 전, 사용할 모듈"
      ],
      "metadata": {
        "id": "QKiSirKAVFGq"
      }
    },
    {
      "cell_type": "code",
      "source": [
        "id_list=[\"muzi\", \"frodo\", \"apeach\", \"neo\"]\n",
        "report=[\"muzi frodo\",\"apeach frodo\",\"frodo neo\",\"muzi neo\",\"apeach muzi\"]\n",
        "k=2"
      ],
      "metadata": {
        "id": "i-MXsmzZTg9z"
      },
      "execution_count": 64,
      "outputs": []
    },
    {
      "cell_type": "code",
      "source": [
        "from collections import defaultdict\n",
        "dict=defaultdict(int)"
      ],
      "metadata": {
        "id": "eCXj8w_zTcGI"
      },
      "execution_count": 65,
      "outputs": []
    },
    {
      "cell_type": "markdown",
      "source": [
        "신고자 별로 결과를 +1 해주기 위해 defaultdict 사용 "
      ],
      "metadata": {
        "id": "jqSeQEFiUHXr"
      }
    },
    {
      "cell_type": "code",
      "source": [
        "reports=[tuple(s.split()) for s in report]\n",
        "reports"
      ],
      "metadata": {
        "colab": {
          "base_uri": "https://localhost:8080/"
        },
        "id": "3V1DPYgiUGBk",
        "outputId": "e4c8459b-59f5-4d9a-eb1b-f87082e41234"
      },
      "execution_count": 67,
      "outputs": [
        {
          "output_type": "execute_result",
          "data": {
            "text/plain": [
              "[('muzi', 'frodo'),\n",
              " ('apeach', 'frodo'),\n",
              " ('frodo', 'neo'),\n",
              " ('muzi', 'neo'),\n",
              " ('apeach', 'muzi')]"
            ]
          },
          "metadata": {},
          "execution_count": 67
        }
      ]
    },
    {
      "cell_type": "markdown",
      "source": [
        "신고자와 피신고자를 분리해 튜플로 관리"
      ],
      "metadata": {
        "id": "Tngx2zivULXh"
      }
    },
    {
      "cell_type": "code",
      "source": [
        "#피신고자 목록\n",
        "reported=[r[1] for r in reports]\n",
        "\n",
        "from collections import Counter\n",
        "freq=Counter(reported)\n",
        "\n",
        "freq.items()"
      ],
      "metadata": {
        "colab": {
          "base_uri": "https://localhost:8080/"
        },
        "id": "sWIZiylIUWl4",
        "outputId": "ca3ce0d9-2836-4d7a-b00b-e0e4a88b626a"
      },
      "execution_count": 72,
      "outputs": [
        {
          "output_type": "execute_result",
          "data": {
            "text/plain": [
              "dict_items([('frodo', 2), ('neo', 2), ('muzi', 1)])"
            ]
          },
          "metadata": {},
          "execution_count": 72
        }
      ]
    },
    {
      "cell_type": "markdown",
      "source": [
        "유저별 피신고 빈도 사전 생성"
      ],
      "metadata": {
        "id": "0uH4O59BUwJ4"
      }
    },
    {
      "cell_type": "code",
      "source": [
        "for k,v in freq.items():\n",
        "  print(k,v)"
      ],
      "metadata": {
        "colab": {
          "base_uri": "https://localhost:8080/"
        },
        "id": "xS7GlfFBU1UX",
        "outputId": "b6289003-e847-42b8-b143-5471316fc3d3"
      },
      "execution_count": 75,
      "outputs": [
        {
          "output_type": "stream",
          "name": "stdout",
          "text": [
            "frodo 2\n",
            "neo 2\n",
            "muzi 1\n"
          ]
        }
      ]
    },
    {
      "cell_type": "markdown",
      "source": [
        "Counter객체.items()와 for k,v 를 이용해 key와 value 끌어오기"
      ],
      "metadata": {
        "id": "NuSJ1zQxU904"
      }
    },
    {
      "cell_type": "code",
      "source": [
        "freq['frodo'] #사전처럼 쓸수도 있고"
      ],
      "metadata": {
        "colab": {
          "base_uri": "https://localhost:8080/"
        },
        "id": "0QK7MlDOYdRL",
        "outputId": "e1376b11-afb2-4f19-a1f6-b33b7fc60c99"
      },
      "execution_count": 91,
      "outputs": [
        {
          "output_type": "execute_result",
          "data": {
            "text/plain": [
              "2"
            ]
          },
          "metadata": {},
          "execution_count": 91
        }
      ]
    },
    {
      "cell_type": "code",
      "source": [
        "#편리한 내림차순 빈도 정렬 기능 \n",
        "\n",
        "freq.most_common()"
      ],
      "metadata": {
        "colab": {
          "base_uri": "https://localhost:8080/"
        },
        "id": "Tl0_VVKlWBMq",
        "outputId": "e71d584f-3017-4368-d78f-43c70ba66a4c"
      },
      "execution_count": 81,
      "outputs": [
        {
          "output_type": "execute_result",
          "data": {
            "text/plain": [
              "[('frodo', 2), ('neo', 2), ('muzi', 1)]"
            ]
          },
          "metadata": {},
          "execution_count": 81
        }
      ]
    },
    {
      "cell_type": "code",
      "source": [
        "#type이 리스트임을 알면 더 편하지요!\n",
        "\n",
        "print(type(freq))\n",
        "print(type(freq.most_common()))"
      ],
      "metadata": {
        "colab": {
          "base_uri": "https://localhost:8080/"
        },
        "id": "blYsZu74WSJk",
        "outputId": "531a3a07-9de4-4fe0-b139-b575ef89bfa6"
      },
      "execution_count": 83,
      "outputs": [
        {
          "output_type": "stream",
          "name": "stdout",
          "text": [
            "<class 'collections.Counter'>\n",
            "<class 'list'>\n"
          ]
        }
      ]
    },
    {
      "cell_type": "markdown",
      "source": [
        "\n",
        "\n",
        "---\n",
        "\n"
      ],
      "metadata": {
        "id": "x_bDKOFBVZod"
      }
    },
    {
      "cell_type": "markdown",
      "source": [
        "거의 맞힌 풀이"
      ],
      "metadata": {
        "id": "GEwyV9igVYvL"
      }
    },
    {
      "cell_type": "code",
      "source": [
        "id_list=[\"muzi\", \"frodo\", \"apeach\", \"neo\"]\n",
        "report=[\"muzi frodo\",\"apeach frodo\",\"frodo neo\",\"muzi neo\",\"apeach muzi\"]\n",
        "k=2"
      ],
      "metadata": {
        "id": "kcw8UI1uXtCm"
      },
      "execution_count": 87,
      "outputs": []
    },
    {
      "cell_type": "code",
      "source": [
        "def solution(id_list, report, k):\n",
        "    \n",
        "    from collections import defaultdict, Counter\n",
        "    dict=defaultdict(int)\n",
        "\n",
        "    reports=[tuple(s.split()) for s in report]\n",
        "    reported=[r[1] for r in reports]\n",
        "    freq=Counter(reported)\n",
        "\n",
        "    for r in reports: #t는 리스트 내 튜플\n",
        "      if freq[r[1]]>=k:    #r[1]: 피신고자\n",
        "        dict[str(r[0])]+=1\n",
        "\n",
        "    ans=[dict[id] for id in id_list]\n",
        "    return ans"
      ],
      "metadata": {
        "id": "QzM0_9KGTaIP"
      },
      "execution_count": 106,
      "outputs": []
    },
    {
      "cell_type": "code",
      "source": [
        "solution(id_list, report, k)"
      ],
      "metadata": {
        "colab": {
          "base_uri": "https://localhost:8080/"
        },
        "id": "ZbPX3BOdXlLi",
        "outputId": "e0386837-9575-437d-a708-3369bfa11d65"
      },
      "execution_count": 107,
      "outputs": [
        {
          "output_type": "execute_result",
          "data": {
            "text/plain": [
              "[2, 1, 1, 0]"
            ]
          },
          "metadata": {},
          "execution_count": 107
        }
      ]
    },
    {
      "cell_type": "code",
      "source": [
        "solution([\"con\", \"ryan\"], [\"ryan con\", \"ryan con\", \"ryan con\", \"ryan con\"], 3)\n",
        "\n",
        "#[0,0]이었어야 맞다"
      ],
      "metadata": {
        "colab": {
          "base_uri": "https://localhost:8080/"
        },
        "id": "hMYPMuPjZR4B",
        "outputId": "2ca04e24-e45f-43b1-fce2-fc4adf0cd272"
      },
      "execution_count": 108,
      "outputs": [
        {
          "output_type": "execute_result",
          "data": {
            "text/plain": [
              "[0, 4]"
            ]
          },
          "metadata": {},
          "execution_count": 108
        }
      ]
    },
    {
      "cell_type": "markdown",
      "source": [
        "이제 안 사실\n",
        "\n",
        "신고자 - 피신고자 매칭이 동일한 경우 여러번 세지 않는다고 한다ㅏ..."
      ],
      "metadata": {
        "id": "JhiRLub3aCNV"
      }
    },
    {
      "cell_type": "code",
      "source": [
        "set([\"ryan con\", \"ryan con\", \"ryan con\", \"ryan con\"]) #엇..? 문자열도 set 적용이 되는군요?"
      ],
      "metadata": {
        "colab": {
          "base_uri": "https://localhost:8080/"
        },
        "id": "5ojstMJfak2m",
        "outputId": "bdd8014b-4cb0-4d34-f980-0a18108f7d87"
      },
      "execution_count": 109,
      "outputs": [
        {
          "output_type": "execute_result",
          "data": {
            "text/plain": [
              "{'ryan con'}"
            ]
          },
          "metadata": {},
          "execution_count": 109
        }
      ]
    },
    {
      "cell_type": "code",
      "source": [
        "def solution(id_list, report, k):\n",
        "    \n",
        "    from collections import defaultdict, Counter\n",
        "    dict=defaultdict(int)\n",
        "\n",
        "    reports=[tuple(s.split()) for s in set(report)]     #set() 추가\n",
        "    reported=[r[1] for r in reports]\n",
        "    freq=Counter(reported)\n",
        "\n",
        "    for r in reports: #t는 리스트 내 튜플\n",
        "      if freq[r[1]]>=k:    #r[1]: 피신고자\n",
        "        dict[str(r[0])]+=1\n",
        "\n",
        "    ans=[dict[id] for id in id_list]\n",
        "    return ans"
      ],
      "metadata": {
        "id": "gyvgFrQLapYM"
      },
      "execution_count": 110,
      "outputs": []
    },
    {
      "cell_type": "code",
      "source": [
        "solution([\"con\", \"ryan\"], [\"ryan con\", \"ryan con\", \"ryan con\", \"ryan con\"], 3)\n",
        "\n",
        "#[0,0] 맞다!"
      ],
      "metadata": {
        "colab": {
          "base_uri": "https://localhost:8080/"
        },
        "id": "eqQniBxraxn2",
        "outputId": "b9bf7f7e-f521-4e98-de6e-b7b46a3832a7"
      },
      "execution_count": 111,
      "outputs": [
        {
          "output_type": "execute_result",
          "data": {
            "text/plain": [
              "[0, 0]"
            ]
          },
          "metadata": {},
          "execution_count": 111
        }
      ]
    },
    {
      "cell_type": "markdown",
      "source": [
        "휴 생각보다 쉽게 해결됐습니다 !"
      ],
      "metadata": {
        "id": "VNp1IYMDa5sV"
      }
    },
    {
      "cell_type": "markdown",
      "source": [
        "생각해보니 defaultdict(list)로 딕셔너리 객체를 만들어서 신고자-피신고자 또는 피신고자-신고자로 매칭했어도 됐겠다는 생각이 듭니다..?"
      ],
      "metadata": {
        "id": "ettyRHWyVaMG"
      }
    },
    {
      "cell_type": "code",
      "source": [
        "from collections import defaultdict\n",
        "dict=defaultdict(list)"
      ],
      "metadata": {
        "id": "Mci-eFZ9cULf"
      },
      "execution_count": 112,
      "outputs": []
    },
    {
      "cell_type": "code",
      "source": [
        "dict['a']=['A']\n",
        "dict['a'].append('B')\n",
        "dict['a']"
      ],
      "metadata": {
        "colab": {
          "base_uri": "https://localhost:8080/"
        },
        "id": "Lomf3Nq7cXt_",
        "outputId": "8f3f4f0e-9552-41dd-eeac-fd31490813ba"
      },
      "execution_count": 115,
      "outputs": [
        {
          "output_type": "execute_result",
          "data": {
            "text/plain": [
              "['A', 'B']"
            ]
          },
          "metadata": {},
          "execution_count": 115
        }
      ]
    },
    {
      "cell_type": "markdown",
      "source": [
        "와! 이게 된다?\n",
        "\n",
        "defaultdict가 아니어도 가능할까요?"
      ],
      "metadata": {
        "id": "Nff_w87hcgs8"
      }
    },
    {
      "cell_type": "code",
      "source": [
        "dict={}\n",
        "dict['a']=['A']\n",
        "dict['a'].append('B')\n",
        "dict['a']"
      ],
      "metadata": {
        "colab": {
          "base_uri": "https://localhost:8080/"
        },
        "id": "dvxucRaxceLl",
        "outputId": "31beadaa-ce4c-401b-f864-3f8168747741"
      },
      "execution_count": 116,
      "outputs": [
        {
          "output_type": "execute_result",
          "data": {
            "text/plain": [
              "['A', 'B']"
            ]
          },
          "metadata": {},
          "execution_count": 116
        }
      ]
    },
    {
      "cell_type": "markdown",
      "source": [
        "이것도 됩니다???\n",
        "\n",
        "하지만 defalutdict가 필요한 결정적인 이유가 있습니다"
      ],
      "metadata": {
        "id": "9fI5UYKtczxk"
      }
    },
    {
      "cell_type": "code",
      "source": [
        "from collections import defaultdict\n",
        "\n",
        "dict=defaultdict(list)  #호출 즉시 빈 리스트를 생성하므로\n",
        "dict['a'].append('B')   #첫값이든 아니든 append로 추가할 수 있음\n",
        "dict['a'].append('B')\n",
        "dict['a']\n",
        "\n",
        "#아래는 오류\n",
        "#dict={}\n",
        "#dict['a'].append('B')  #첫값을 반드시 직접 [원소] 꼴로 할당해야함\n",
        "#dict['a']"
      ],
      "metadata": {
        "colab": {
          "base_uri": "https://localhost:8080/"
        },
        "id": "Dca5yPTsdQFg",
        "outputId": "3c6b237e-3376-413a-c152-3c82066637ed"
      },
      "execution_count": 134,
      "outputs": [
        {
          "output_type": "execute_result",
          "data": {
            "text/plain": [
              "['B', 'B']"
            ]
          },
          "metadata": {},
          "execution_count": 134
        }
      ]
    },
    {
      "cell_type": "code",
      "source": [
        "#그래서 #하나더\n",
        "\n",
        "from collections import defaultdict\n",
        "er=defaultdict(list) #신고자-피신고자들\n",
        "ed=defaultdict(list) #피신고자-신고자들\n",
        "\n",
        "reports=[tuple(s.split()) for s in set(report)]     #set() 추가\n",
        "\n",
        "for r in reports:\n",
        "  er[r[0]].append(r[1])\n",
        "for r in reports:\n",
        "  ed[r[1]].append(r[0])\n",
        "\n",
        "ans=[0]*len(id_list)\n",
        "\n",
        "for i in range(len(id_list)):\n",
        "  for ed_ in er[id_list[i]]:   #i번째 신고자의 피신고자들에 대해\n",
        "    if len(ed[ed_])>=k:        #피신고자의 신고자들 수가 k 이상일 때마다\n",
        "      ans[i]=ans[i]+1          #ans i번째에 +1\n",
        "\n",
        "ans"
      ],
      "metadata": {
        "colab": {
          "base_uri": "https://localhost:8080/"
        },
        "id": "LEj9m5h1bfM7",
        "outputId": "c770c2ad-f9d0-431b-e39d-81da7d3a2ff9"
      },
      "execution_count": 145,
      "outputs": [
        {
          "output_type": "execute_result",
          "data": {
            "text/plain": [
              "[2, 1, 1, 0]"
            ]
          },
          "metadata": {},
          "execution_count": 145
        }
      ]
    },
    {
      "cell_type": "code",
      "source": [
        "#주석 제거, 다듬기\n",
        "def solution(id_list, report, k):\n",
        "  \n",
        "  from collections import defaultdict\n",
        "  er=defaultdict(list); ed=defaultdict(list) \n",
        "\n",
        "  reports=[tuple(s.split()) for s in set(report)] \n",
        "\n",
        "  for r in reports:\n",
        "    er[r[0]].append(r[1]); ed[r[1]].append(r[0])\n",
        "\n",
        "  ans=[0]*len(id_list)\n",
        "\n",
        "  for i in range(len(id_list)):\n",
        "    for ed_ in er[id_list[i]]:\n",
        "      if len(ed[ed_])>=k:       \n",
        "        ans[i]=ans[i]+1       \n",
        "\n",
        "  return ans"
      ],
      "metadata": {
        "id": "9fpPLpkogXLx"
      },
      "execution_count": null,
      "outputs": []
    },
    {
      "cell_type": "markdown",
      "source": [
        "위 풀이도 통과했다!\n",
        "\n",
        "코드 길이는 비슷하지만 딕셔너리를 하나 더 만든 대신 모듈을 하나 덜 불러왔다"
      ],
      "metadata": {
        "id": "h_1ktSenbeor"
      }
    },
    {
      "cell_type": "markdown",
      "source": [
        "\n",
        "\n",
        "---\n",
        "\n"
      ],
      "metadata": {
        "id": "XHPEzrnyhLfM"
      }
    },
    {
      "cell_type": "markdown",
      "source": [
        "#5. 모의고사"
      ],
      "metadata": {
        "id": "2s82SAEMhKEx"
      }
    },
    {
      "cell_type": "code",
      "source": [
        "#절반 맞은 풀이 \n",
        "\n",
        "def solution(answers):\n",
        "    \n",
        "    supo1=[1,2,3,4,5]\n",
        "    supo2=[2,1,2,3,2,4,2,5]\n",
        "    supo3=[3,3,1,1,2,2,4,4,5,5]\n",
        "    s=0\n",
        "    ans=[]\n",
        "    \n",
        "    for supo in [supo1, supo2, supo3]:\n",
        "        \n",
        "        if len(supo)>len(answers):\n",
        "            a=answers   #더 짧은 쪽을 중심으로 비교\n",
        "            b=supo\n",
        "            \n",
        "        else:\n",
        "            a=supo\n",
        "            b=answers\n",
        "            \n",
        "        for i in range(len(a)):\n",
        "            if b[i]==a[i]:\n",
        "                s+=1\n",
        "        \n",
        "        ans.append(s)\n",
        "        s=0\n",
        "        \n",
        "    ans_=[(ans[i],i+1) for i in range(len(ans))]\n",
        "    ans_=[x[1] for x in ans_ if x[0]==max(ans)]\n",
        "    \n",
        "    return sorted(ans_)"
      ],
      "metadata": {
        "colab": {
          "base_uri": "https://localhost:8080/"
        },
        "id": "8iVAUfwKlSSt",
        "outputId": "382ebd94-7377-4e6f-e710-f3097a0c4528"
      },
      "execution_count": 147,
      "outputs": [
        {
          "output_type": "execute_result",
          "data": {
            "text/plain": [
              "False"
            ]
          },
          "metadata": {},
          "execution_count": 147
        }
      ]
    },
    {
      "cell_type": "markdown",
      "source": [
        "풀이패턴을 무한정 반복하는 걸 잊고 답지와 풀이패턴 한 줄 중 더 짧은 쪽을 비교하는 코드를 짰더니 테스트케이스 60%를 통과하지 못했다\n",
        "\n",
        "(40%나 맞았다는게 신기한데..?)"
      ],
      "metadata": {
        "id": "ASOHsvO-n2sp"
      }
    },
    {
      "cell_type": "code",
      "source": [
        "#수정 코드\n",
        "\n",
        "#절반 맞은 풀이 \n",
        "\n",
        "def solution(answers):\n",
        "    \n",
        "    supo1=[1,2,3,4,5]\n",
        "    supo2=[2,1,2,3,2,4,2,5]\n",
        "    supo3=[3,3,1,1,2,2,4,4,5,5]\n",
        "    s=0\n",
        "    ans=[]\n",
        "    \n",
        "    for supo in [supo1, supo2, supo3]:          #이중 for문이지만 케이스가 3개 뿐이라 효율성 문제 x\n",
        "            \n",
        "        for i in range(len(answers)):\n",
        "            if answers[i]==supo[i%len(supo)]:\n",
        "                s+=1\n",
        "        \n",
        "        ans.append(s)\n",
        "        s=0\n",
        "        \n",
        "    ans_=[(ans[i],i+1) for i in range(len(ans))]\n",
        "    ans_=[x[1] for x in ans_ if x[0]==max(ans)]  #(여러명이 최댓값이면 번호 빠른 친구부터 들어가므로) 오름차순 불필요\n",
        "    \n",
        "    return ans_"
      ],
      "metadata": {
        "id": "tjD-fE-Ln135"
      },
      "execution_count": 149,
      "outputs": []
    },
    {
      "cell_type": "markdown",
      "source": [
        "(다른 사람 풀이) \n",
        "각자 정답수의 리스트인 ans를 구한 뒤 최고득점자 인덱스를 담은 ans_를 아래 코드로 만들면 더 깔끔하다\n",
        "\n",
        "    for idx, s in enumerate(ans):\n",
        "        if s == max(ans):\n",
        "            ans_.append(idx+1)"
      ],
      "metadata": {
        "id": "3qBFLj-jo3y7"
      }
    },
    {
      "cell_type": "markdown",
      "source": [
        "이 문제는 풀이가 크게 갈리지 않는 것 같다. 대체로 한줄패턴 할당과 %연산자를 이용했다. "
      ],
      "metadata": {
        "id": "il9i9ag9pfNk"
      }
    }
  ]
}