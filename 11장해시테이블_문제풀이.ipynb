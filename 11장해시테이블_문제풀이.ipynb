{
  "nbformat": 4,
  "nbformat_minor": 0,
  "metadata": {
    "colab": {
      "name": "11장해시테이블.ipynb",
      "provenance": [],
      "authorship_tag": "ABX9TyNk9hceUGKt/Hg4w+Q7v5NP",
      "include_colab_link": true
    },
    "kernelspec": {
      "name": "python3",
      "display_name": "Python 3"
    },
    "language_info": {
      "name": "python"
    }
  },
  "cells": [
    {
      "cell_type": "markdown",
      "metadata": {
        "id": "view-in-github",
        "colab_type": "text"
      },
      "source": [
        "<a href=\"https://colab.research.google.com/github/daJarae/coding-test/blob/main/11%EC%9E%A5%ED%95%B4%EC%8B%9C%ED%85%8C%EC%9D%B4%EB%B8%94_%EB%AC%B8%EC%A0%9C%ED%92%80%EC%9D%B4.ipynb\" target=\"_parent\"><img src=\"https://colab.research.google.com/assets/colab-badge.svg\" alt=\"Open In Colab\"/></a>"
      ]
    },
    {
      "cell_type": "markdown",
      "source": [
        "23명이 모이면 생일 같은 사람이 한쌍은 있을 확률은 정말 0.5에 가까울까?\n",
        "\n",
        "=\"적어도\" 한쌍 문제."
      ],
      "metadata": {
        "id": "2jk1bS3QTEF2"
      }
    },
    {
      "cell_type": "code",
      "execution_count": 1,
      "metadata": {
        "colab": {
          "base_uri": "https://localhost:8080/"
        },
        "id": "7ikjDakfS2_7",
        "outputId": "d760798f-f66a-47bf-e4be-4661a5f8aeba"
      },
      "outputs": [
        {
          "output_type": "execute_result",
          "data": {
            "text/plain": [
              "3.0182731890515037e-37"
            ]
          },
          "metadata": {},
          "execution_count": 1
        }
      ],
      "source": [
        "from math import factorial\n",
        "\n",
        "#모두 다를 확률은 이게 아닌건가..\n",
        "\n",
        "(1/365)**23*factorial(23)"
      ]
    },
    {
      "cell_type": "markdown",
      "source": [
        "#해시맵 디자인"
      ],
      "metadata": {
        "id": "iXQAJGV5X4VG"
      }
    },
    {
      "cell_type": "code",
      "source": [
        "class hashMap:\n",
        "  def __init__(self, length=31):\n",
        "    self.L=[None]*length"
      ],
      "metadata": {
        "id": "M1JUhAnjUnpe"
      },
      "execution_count": 4,
      "outputs": []
    },
    {
      "cell_type": "code",
      "source": [
        "hm=hashMap()"
      ],
      "metadata": {
        "id": "v9pIv_EEYZ3D"
      },
      "execution_count": 5,
      "outputs": []
    },
    {
      "cell_type": "code",
      "source": [
        "if hm.L[0]:\n",
        "  print('?')"
      ],
      "metadata": {
        "id": "C30P4Cz3YgRs"
      },
      "execution_count": 7,
      "outputs": []
    },
    {
      "cell_type": "code",
      "source": [
        "1%3"
      ],
      "metadata": {
        "colab": {
          "base_uri": "https://localhost:8080/"
        },
        "id": "OOdIoJVjZ8GU",
        "outputId": "54c5c2e3-3e22-4769-f34f-079542c4be59"
      },
      "execution_count": 14,
      "outputs": [
        {
          "output_type": "execute_result",
          "data": {
            "text/plain": [
              "1"
            ]
          },
          "metadata": {},
          "execution_count": 14
        }
      ]
    },
    {
      "cell_type": "code",
      "source": [
        "class hashMap:\n",
        "  def __init__(self, length=31):\n",
        "    self.L=[None]*length\n",
        "\n",
        "  def put(self, key, val):\n",
        "    if not self.L[key%31]: #값 없어 None일 경우\n",
        "      self.L[key%31]=val\n",
        "    else:\n",
        "      pass\n",
        "      #연결리스트 처리\n",
        "\n",
        "  def get(self, key):\n",
        "    if self.L[key%31]:\n",
        "      return -1\n",
        "    else:\n",
        "      return self.L[key%31]\n",
        "    \n",
        "  def remove(self, key):\n",
        "    self.L[key%31]==None"
      ],
      "metadata": {
        "id": "xLB9GmxYYm9R"
      },
      "execution_count": 15,
      "outputs": []
    },
    {
      "cell_type": "code",
      "source": [
        "hm=hashMap()\n",
        "\n",
        "hm.put(1,1)"
      ],
      "metadata": {
        "id": "LE0S3JVkZlV9"
      },
      "execution_count": 16,
      "outputs": []
    },
    {
      "cell_type": "code",
      "source": [
        "hm.put(2,2)"
      ],
      "metadata": {
        "id": "ba_Wy77cZypu"
      },
      "execution_count": 17,
      "outputs": []
    },
    {
      "cell_type": "code",
      "source": [
        "hm.get(1)"
      ],
      "metadata": {
        "colab": {
          "base_uri": "https://localhost:8080/"
        },
        "id": "Kkjnu1JIZ0tv",
        "outputId": "77712165-9c8f-4ce2-acb9-7172738047a2"
      },
      "execution_count": 18,
      "outputs": [
        {
          "output_type": "execute_result",
          "data": {
            "text/plain": [
              "-1"
            ]
          },
          "metadata": {},
          "execution_count": 18
        }
      ]
    },
    {
      "cell_type": "code",
      "source": [
        "x=1\n",
        "1+3 if x<3 else x>5"
      ],
      "metadata": {
        "colab": {
          "base_uri": "https://localhost:8080/"
        },
        "id": "vmhb4o55njhA",
        "outputId": "316bb9d4-66b2-4980-dc42-416cf147707b"
      },
      "execution_count": 60,
      "outputs": [
        {
          "output_type": "execute_result",
          "data": {
            "text/plain": [
              "4"
            ]
          },
          "metadata": {},
          "execution_count": 60
        }
      ]
    },
    {
      "cell_type": "code",
      "source": [
        "x=7\n",
        "a=4 if x<3 else x  # a=4 (if x<3) / else ★a=x  와 같음\n",
        "a"
      ],
      "metadata": {
        "colab": {
          "base_uri": "https://localhost:8080/"
        },
        "id": "ttUKbQGOnrJE",
        "outputId": "08820ad5-ad1f-4a35-d661-27e09c8befd1"
      },
      "execution_count": 63,
      "outputs": [
        {
          "output_type": "execute_result",
          "data": {
            "text/plain": [
              "7"
            ]
          },
          "metadata": {},
          "execution_count": 63
        }
      ]
    },
    {
      "cell_type": "markdown",
      "source": [
        "위 if else 구조가 헷갈릴 수 있는데\n",
        "\n",
        "(if충족시 실행) if 조건 else (if 불충시 실행)\n",
        "\n",
        "하나의 if로 O일 때, X일 때 실행 동작을 한줄 코딩한 것"
      ],
      "metadata": {
        "id": "DsvcVgOmn3ri"
      }
    },
    {
      "cell_type": "markdown",
      "source": [
        "왜 아무것도 안되나요.."
      ],
      "metadata": {
        "id": "qMRTmv5-aEGJ"
      }
    },
    {
      "cell_type": "code",
      "source": [
        "#교재 풀이\n",
        "\n",
        "from collections import defaultdict\n",
        "\n",
        "class ListNode:\n",
        "  def __init__(self, key=None, val=None):\n",
        "    self.key=key\n",
        "    self.val=val\n",
        "    self.next=None\n",
        "\n",
        "class hashMap:\n",
        "  def __init__(self):\n",
        "    self.size=1000    #초기화 사이즈 1000\n",
        "    self.table=defaultdict(ListNode)           #self.table의 요소는 연결리스트 노드\n",
        "                                               #자료형: ListNode / 없는 key 조회 시 참조 에러 없이 즉석에서 (None, None) 노드 객체 생성\n",
        "                                      \n",
        "\n",
        "  def put(self, key: int, val: int) -> None:\n",
        "    index=key%self.size\n",
        "\n",
        "    #해당 인덱스 칸이 비어있을 때\n",
        "    if self.table[index].val is None:        #self.table[index] is None은 절대 True가 되지 않으므로 .val로 판단\n",
        "      self.table[index] = ListNode(key, val) #index로 조회 즉시 (None, None)의 리스트 노드 생성\n",
        "      return\n",
        "\n",
        "    #해당 인덱스 칸에 노드가 있을 때\n",
        "    p=self.table[index]\n",
        "\n",
        "    while p:\n",
        "      if p.key==key: #동일한 key가 또 put 된 경우 업데이트 (dict[key]=val의 작동방식)\n",
        "        p.val=val\n",
        "        return\n",
        "      if p.next is None: break #섬세한 break 위치.. p가 마지막 노드면 p를 다음 노드로 옮기지 않고 종료\n",
        "      p=p.next\n",
        "\n",
        "    p.next=ListNode(key, val) #모든 노드와 key가 다르다면, 마지막에 추가\n",
        "\n",
        "\n",
        "\n",
        "\n",
        "  def get(self, key: int) -> int:\n",
        "    index=key%1000\n",
        "    if self.table[index].val is None: #val이 None일 경우\n",
        "      return -1\n",
        "\n",
        "    p=self.table[index]\n",
        "    while p:\n",
        "      if p.key==key:\n",
        "        return p.val\n",
        "      p=p.next\n",
        "    return -1   #p가 None이 되어 while 끝난 경우 연결리스트에 key 없음\n",
        "\n",
        "  \n",
        "  def remove(self, key: int) -> None:\n",
        "    index=key%1000\n",
        "    \n",
        "    if self.table[index].val is None: #첫 노드 비어있을 때 \n",
        "      return\n",
        "\n",
        "    p=self.table[index]\n",
        "    if p.key==key:    #첫 노드 key와 같다면 ListNode 초기화 & 뒤 노드 있다면 연결\n",
        "      self.table[index]=ListNode() if (p.next is None) else p.next\n",
        "      return\n",
        "\n",
        "    while p.next:     #연결 리스트의 노드일 때\n",
        "      if p.next.key==key:\n",
        "        p.next=p.next.next\n",
        "        break\n",
        "\n",
        "#교재\n",
        "\n",
        "#     prev=p\n",
        "#     while p:\n",
        "#         if p.key==key:\n",
        "#           prev.next=p.next\n",
        "#           return\n",
        "#         prev, p= p, p.next  #p보다 한 노드 뒤쳐진 prev"
      ],
      "metadata": {
        "id": "tWHH4agTZ_gH"
      },
      "execution_count": 84,
      "outputs": []
    },
    {
      "cell_type": "code",
      "source": [
        "hm= hashMap()"
      ],
      "metadata": {
        "id": "y96qsIEzke7N"
      },
      "execution_count": 85,
      "outputs": []
    },
    {
      "cell_type": "code",
      "source": [
        "hm.put(1,1)\n",
        "hm.get(1)"
      ],
      "metadata": {
        "colab": {
          "base_uri": "https://localhost:8080/"
        },
        "id": "qm2oBwLDprDK",
        "outputId": "eff1cac3-0b31-4c76-e89d-584e12b064ef"
      },
      "execution_count": 86,
      "outputs": [
        {
          "output_type": "execute_result",
          "data": {
            "text/plain": [
              "1"
            ]
          },
          "metadata": {},
          "execution_count": 86
        }
      ]
    },
    {
      "cell_type": "code",
      "source": [
        "hm.put(1001,2)\n",
        "hm.get(1001)"
      ],
      "metadata": {
        "colab": {
          "base_uri": "https://localhost:8080/"
        },
        "id": "hvfWWBYtp-Le",
        "outputId": "1b77a936-07f3-4dd1-a888-1fb70b451463"
      },
      "execution_count": 88,
      "outputs": [
        {
          "output_type": "execute_result",
          "data": {
            "text/plain": [
              "2"
            ]
          },
          "metadata": {},
          "execution_count": 88
        }
      ]
    },
    {
      "cell_type": "code",
      "source": [
        "hm.remove(1001)\n",
        "hm.get(1001)"
      ],
      "metadata": {
        "colab": {
          "base_uri": "https://localhost:8080/"
        },
        "id": "YTeoboz5qiiP",
        "outputId": "470ae3c9-70ef-4516-f5e0-2c5b74dc3c68"
      },
      "execution_count": 89,
      "outputs": [
        {
          "output_type": "execute_result",
          "data": {
            "text/plain": [
              "-1"
            ]
          },
          "metadata": {},
          "execution_count": 89
        }
      ]
    },
    {
      "cell_type": "markdown",
      "source": [
        "해시테이블 구현 문제라길래 딕셔너리 관련으로 아무것도 못쓰는 줄 알았는데 defaultdict는 되는건가요.."
      ],
      "metadata": {
        "id": "VC6ORpmjbxAr"
      }
    },
    {
      "cell_type": "code",
      "source": [
        "if None:\n",
        "  print('실행 x')\n",
        "\n",
        "a=None\n",
        "\n",
        "if not a:\n",
        "  print('실행')\n",
        "\n",
        "if a is None:\n",
        "  print('실행')"
      ],
      "metadata": {
        "colab": {
          "base_uri": "https://localhost:8080/"
        },
        "id": "I7DYv-ohgHrO",
        "outputId": "6c4d4832-da6c-42ad-8166-cf9d605928f3"
      },
      "execution_count": 20,
      "outputs": [
        {
          "output_type": "stream",
          "name": "stdout",
          "text": [
            "실행\n",
            "실행\n"
          ]
        }
      ]
    },
    {
      "cell_type": "markdown",
      "source": [
        "교재에서는 \"val이 None일 때\"의 조건을\n",
        "\n",
        "if self.table[index].val is None: 로 쓰는데\n",
        "\n",
        "if self.table[index].val: 로 써도 아무 문제 없을까?"
      ],
      "metadata": {
        "id": "1wa8io4-gc9j"
      }
    },
    {
      "cell_type": "markdown",
      "source": [
        "\n",
        "\n",
        "---\n",
        "\n"
      ],
      "metadata": {
        "id": "AHnIyLVi78pJ"
      }
    },
    {
      "cell_type": "markdown",
      "source": [
        "#31 상위 k개 빈도 요소"
      ],
      "metadata": {
        "id": "FbMpmN0nq52q"
      }
    },
    {
      "cell_type": "code",
      "source": [
        "#상위 k번 이상 등장하는 요소\n",
        "\n",
        "nums=[1,1,1,2,2,3]\n",
        "k=2\n",
        "\n",
        "#출력 [1,2]"
      ],
      "metadata": {
        "id": "quNGKJX671wC"
      },
      "execution_count": 90,
      "outputs": []
    },
    {
      "cell_type": "markdown",
      "source": [
        "\n",
        "\n",
        "---\n",
        "\n"
      ],
      "metadata": {
        "id": "6-BTMcNBKEuz"
      }
    },
    {
      "cell_type": "markdown",
      "source": [
        "#교재풀이 1\n",
        "\n",
        "우선순위 큐 사용 풀이\n",
        "\n",
        "자동 정렬되는 힙에 (-val,key)를 추가한 뒤 k번만큼 key를 가져옴"
      ],
      "metadata": {
        "id": "Noq9z-fcHi0s"
      }
    },
    {
      "cell_type": "code",
      "source": [
        "def topk(nums, k):\n",
        "  from collections import Counter\n",
        "  import heapq\n",
        "  \n",
        "  freqs=Counter(nums)\n",
        "  heap=[]\n",
        "\n",
        "  for f in freqs:\n",
        "    heapq.heappush(heap, (-freqs[f],f))  #heappush로 삽입시 매번 heapify()(오름차순~ 정렬)가 작동함\n",
        "\n",
        "  print(heap) #확인용\n",
        "  topk=list()\n",
        "\n",
        "  for _ in range(k): #k번 실행\n",
        "    topk.append(heapq.heappop(heap)[1])\n",
        "\n",
        "  return topk"
      ],
      "metadata": {
        "id": "7FXHTbouKBf3"
      },
      "execution_count": 165,
      "outputs": []
    },
    {
      "cell_type": "code",
      "source": [
        "topk(nums, k)"
      ],
      "metadata": {
        "colab": {
          "base_uri": "https://localhost:8080/"
        },
        "id": "7wCk-p--LVM8",
        "outputId": "633f9e28-0b4b-4b41-ea52-d34d081158ca"
      },
      "execution_count": 166,
      "outputs": [
        {
          "output_type": "stream",
          "name": "stdout",
          "text": [
            "[(-3, 1), (-2, 2), (-1, 3)]\n"
          ]
        },
        {
          "output_type": "execute_result",
          "data": {
            "text/plain": [
              "[1, 2]"
            ]
          },
          "metadata": {},
          "execution_count": 166
        }
      ]
    },
    {
      "cell_type": "markdown",
      "source": [
        "\n",
        "\n",
        "---\n",
        "\n"
      ],
      "metadata": {
        "id": "9AjeXdanMn6y"
      }
    },
    {
      "cell_type": "markdown",
      "source": [
        "# 내풀이 1"
      ],
      "metadata": {
        "id": "FqO0I0yAFLcg"
      }
    },
    {
      "cell_type": "code",
      "source": [
        "def topk(nums, k):\n",
        "\n",
        "  from collections import defaultdict\n",
        "  dict=defaultdict(int)\n",
        "\n",
        "  for n in nums:\n",
        "    dict[n]+=1\n",
        "\n",
        "  freq_k=sorted(list(dict.items())[:k], key=lambda x: -x[1]) #[(1, 3), (2, 2)]\n",
        "  \n",
        "  return [n[0] for n in freq_k]"
      ],
      "metadata": {
        "id": "eQs6XaE-FKGt"
      },
      "execution_count": 151,
      "outputs": []
    },
    {
      "cell_type": "code",
      "source": [
        "topk(nums, k)"
      ],
      "metadata": {
        "colab": {
          "base_uri": "https://localhost:8080/"
        },
        "id": "qoQerak7HFvm",
        "outputId": "8c0868ca-2d97-4804-901b-4ab80b255a5d"
      },
      "execution_count": 152,
      "outputs": [
        {
          "output_type": "execute_result",
          "data": {
            "text/plain": [
              "[1, 2]"
            ]
          },
          "metadata": {},
          "execution_count": 152
        }
      ]
    },
    {
      "cell_type": "markdown",
      "source": [
        "\n",
        "\n",
        "---\n",
        "\n"
      ],
      "metadata": {
        "id": "3ceK3DQWFKhM"
      }
    },
    {
      "cell_type": "markdown",
      "source": [
        "# 내풀이 2"
      ],
      "metadata": {
        "id": "1Fram9-EFITb"
      }
    },
    {
      "cell_type": "code",
      "source": [
        "from collections import Counter\n",
        "freqs=Counter(nums)"
      ],
      "metadata": {
        "id": "Bl2hFDJT9Kvq"
      },
      "execution_count": 92,
      "outputs": []
    },
    {
      "cell_type": "code",
      "source": [
        "freqs.most_common(2)"
      ],
      "metadata": {
        "colab": {
          "base_uri": "https://localhost:8080/"
        },
        "id": "5OYSn5_n9Og-",
        "outputId": "4854397d-4acc-4b68-c6a4-dcca29f3d31a"
      },
      "execution_count": 94,
      "outputs": [
        {
          "output_type": "execute_result",
          "data": {
            "text/plain": [
              "[(1, 3), (2, 2)]"
            ]
          },
          "metadata": {},
          "execution_count": 94
        }
      ]
    },
    {
      "cell_type": "code",
      "source": [
        "#풀이 1\n",
        "\n",
        "def topk(nums, k):\n",
        "  from collections import Counter\n",
        "  return [f[0] for f in Counter(nums).most_common(k)]"
      ],
      "metadata": {
        "id": "AmV-1VID84vZ"
      },
      "execution_count": 99,
      "outputs": []
    },
    {
      "cell_type": "code",
      "source": [
        "topk(nums, k)"
      ],
      "metadata": {
        "colab": {
          "base_uri": "https://localhost:8080/"
        },
        "id": "mkRRqHdU9grR",
        "outputId": "a06dba7f-59e2-4009-cb7f-3870e90b4689"
      },
      "execution_count": 100,
      "outputs": [
        {
          "output_type": "execute_result",
          "data": {
            "text/plain": [
              "[1, 2]"
            ]
          },
          "metadata": {},
          "execution_count": 100
        }
      ]
    },
    {
      "cell_type": "markdown",
      "source": [
        "#교재풀이 2"
      ],
      "metadata": {
        "id": "ZvxpEDrwMT9Y"
      }
    },
    {
      "cell_type": "code",
      "source": [
        "#비슷한 교재 풀이\n",
        "\n",
        "def topk(nums, k):\n",
        "  from collections import Counter\n",
        "  return list(zip(*Counter(nums).most_common(k)))[0]"
      ],
      "metadata": {
        "id": "D73S1nQY9unN"
      },
      "execution_count": 101,
      "outputs": []
    },
    {
      "cell_type": "code",
      "source": [
        "topk(nums, k) #결과는 튜플"
      ],
      "metadata": {
        "colab": {
          "base_uri": "https://localhost:8080/"
        },
        "id": "3o7I0Er_98N2",
        "outputId": "9742b8e6-ea60-4448-bd0a-b84f771fcf7b"
      },
      "execution_count": 102,
      "outputs": [
        {
          "output_type": "execute_result",
          "data": {
            "text/plain": [
              "(1, 2)"
            ]
          },
          "metadata": {},
          "execution_count": 102
        }
      ]
    },
    {
      "cell_type": "markdown",
      "source": [
        "#관련 문법"
      ],
      "metadata": {
        "id": "iugycX2t-qPY"
      }
    },
    {
      "cell_type": "code",
      "source": [
        "#같은 인덱스끼리 튜플로 묶어주는 zip\n",
        "\n",
        "a=[1,2,3,4]\n",
        "b=[5,6,7]\n",
        "c=[8,9]\n",
        "\n",
        "zip(a,b,c)"
      ],
      "metadata": {
        "colab": {
          "base_uri": "https://localhost:8080/"
        },
        "id": "QX_G3PDq-sxr",
        "outputId": "0fe17a1b-e65a-4872-cd59-caa9443b11e4"
      },
      "execution_count": 110,
      "outputs": [
        {
          "output_type": "execute_result",
          "data": {
            "text/plain": [
              "<zip at 0x7f6abb108b90>"
            ]
          },
          "metadata": {},
          "execution_count": 110
        }
      ]
    },
    {
      "cell_type": "code",
      "source": [
        "list(zip(a,b)) #원소는 튜플로, 불변 객체다."
      ],
      "metadata": {
        "colab": {
          "base_uri": "https://localhost:8080/"
        },
        "id": "v8qmFZGl_Qcf",
        "outputId": "4533bac1-8bed-41b8-cd23-a55b0ea5de60"
      },
      "execution_count": 111,
      "outputs": [
        {
          "output_type": "execute_result",
          "data": {
            "text/plain": [
              "[(1, 5), (2, 6), (3, 7)]"
            ]
          },
          "metadata": {},
          "execution_count": 111
        }
      ]
    },
    {
      "cell_type": "markdown",
      "source": [
        "제일 개수가 적은 c의 원소 수에 맞춰 "
      ],
      "metadata": {
        "id": "6ld-vXUN_HHh"
      }
    },
    {
      "cell_type": "markdown",
      "source": [
        "*의 더 확실한 기능은 아래 두 코드를 비교하면 알 수 있다\n",
        "\n",
        "리스트/문자열/튜플들의 밖을 감싸고 있는 리스트를 제거하는 역할\n",
        "\n",
        "이미 하나의 리스트에 담긴 두 튜플 등에 대해 zip을 적용하고 싶을 때 편리하다\n",
        "\n",
        "(마치 array의 차원 축소를 보는 느낌이다)"
      ],
      "metadata": {
        "id": "iFsjfjga__Xn"
      }
    },
    {
      "cell_type": "code",
      "source": [
        "Counter(nums).most_common(k)"
      ],
      "metadata": {
        "colab": {
          "base_uri": "https://localhost:8080/"
        },
        "id": "DQ94Wr10APe_",
        "outputId": "9aa24c5e-75c2-4876-c78b-eac7af2c56a3"
      },
      "execution_count": 114,
      "outputs": [
        {
          "output_type": "execute_result",
          "data": {
            "text/plain": [
              "[(1, 3), (2, 2)]"
            ]
          },
          "metadata": {},
          "execution_count": 114
        }
      ]
    },
    {
      "cell_type": "markdown",
      "source": [
        "잘못된 코드"
      ],
      "metadata": {
        "id": "rkZzj2xyBgzo"
      }
    },
    {
      "cell_type": "code",
      "source": [
        "list(zip(Counter(nums).most_common(k)))\n",
        "#[(1,3), (2,2)]를 zip에 대해 하나의 입력값으로 인식\n",
        "#(1,3)와 공백(?)이 하나의 튜플로"
      ],
      "metadata": {
        "colab": {
          "base_uri": "https://localhost:8080/"
        },
        "id": "pV8f6Hlh_3Bo",
        "outputId": "9f368426-6e30-411c-882d-f4af5c6b6428"
      },
      "execution_count": 115,
      "outputs": [
        {
          "output_type": "execute_result",
          "data": {
            "text/plain": [
              "[((1, 3),), ((2, 2),)]"
            ]
          },
          "metadata": {},
          "execution_count": 115
        }
      ]
    },
    {
      "cell_type": "code",
      "source": [
        "#아래 코드도 결과가 같다\n",
        "list(zip(Counter(nums).most_common(k), ))"
      ],
      "metadata": {
        "colab": {
          "base_uri": "https://localhost:8080/"
        },
        "id": "nPzmkYcAA-NF",
        "outputId": "f581abbf-770a-4809-9f28-3eb4b39b3464"
      },
      "execution_count": 121,
      "outputs": [
        {
          "output_type": "execute_result",
          "data": {
            "text/plain": [
              "[((1, 3),), ((2, 2),)]"
            ]
          },
          "metadata": {},
          "execution_count": 121
        }
      ]
    },
    {
      "cell_type": "markdown",
      "source": [
        "바른 코드"
      ],
      "metadata": {
        "id": "qsSA1lwqBd4F"
      }
    },
    {
      "cell_type": "code",
      "source": [
        "list(zip(*Counter(nums).most_common(k)))\n",
        "#위 (1,3)와 (2,2)를 zip에 대해 분리된 두개의 입력값으로 인식\n",
        "#(1,3)에서 1, (2,2)에서 2를 꺼내 하나의 튜플로"
      ],
      "metadata": {
        "colab": {
          "base_uri": "https://localhost:8080/"
        },
        "id": "KTIm_VmA_92a",
        "outputId": "86e08133-9719-42b0-c515-d30fc3b67773"
      },
      "execution_count": 113,
      "outputs": [
        {
          "output_type": "execute_result",
          "data": {
            "text/plain": [
              "[(1, 2), (3, 2)]"
            ]
          },
          "metadata": {},
          "execution_count": 113
        }
      ]
    },
    {
      "cell_type": "code",
      "source": [
        "#k가 2로 고정이었다면 다음과도 같다\n",
        "\n",
        "a,b=Counter(nums).most_common(k)\n",
        "[a[0], b[1]]"
      ],
      "metadata": {
        "colab": {
          "base_uri": "https://localhost:8080/"
        },
        "id": "N8Yi2WPRBh2N",
        "outputId": "3d4103c3-6a49-4066-d44d-bf60fb52458f"
      },
      "execution_count": 125,
      "outputs": [
        {
          "output_type": "execute_result",
          "data": {
            "text/plain": [
              "[1, 2]"
            ]
          },
          "metadata": {},
          "execution_count": 125
        }
      ]
    },
    {
      "cell_type": "code",
      "source": [
        "a=[1,2,3,4]\n",
        "b=[5,6,7]\n",
        "c=[8,9]\n",
        "\n",
        "for a,b,c in zip(a,b,c):\n",
        "  print(a,b,c)"
      ],
      "metadata": {
        "colab": {
          "base_uri": "https://localhost:8080/"
        },
        "id": "lHqoNHxT--EO",
        "outputId": "9f49b482-6df3-4a13-b3a7-a5e768564a18"
      },
      "execution_count": 109,
      "outputs": [
        {
          "output_type": "stream",
          "name": "stdout",
          "text": [
            "1 5 8\n",
            "2 6 9\n"
          ]
        }
      ]
    },
    {
      "cell_type": "markdown",
      "source": [
        "# \\* 좀더 보기: 튜플, 리스트 등 시퀀스 언패킹"
      ],
      "metadata": {
        "id": "zbLMTxD3C8vQ"
      }
    },
    {
      "cell_type": "markdown",
      "source": [
        "print와 언팩 *"
      ],
      "metadata": {
        "id": "ANkLXe__D2Ye"
      }
    },
    {
      "cell_type": "code",
      "source": [
        "# unpack 하는 *\n",
        "\n",
        "drinks=['coffee', 'water', 'juice']\n",
        "print(*drinks)"
      ],
      "metadata": {
        "colab": {
          "base_uri": "https://localhost:8080/"
        },
        "id": "g9c0VwEv-IqJ",
        "outputId": "956bf284-ea49-48c9-8d71-0de10dcc6b69"
      },
      "execution_count": 103,
      "outputs": [
        {
          "output_type": "stream",
          "name": "stdout",
          "text": [
            "coffee water juice\n"
          ]
        }
      ]
    },
    {
      "cell_type": "code",
      "source": [
        "#print 함수의 원리\n",
        "\n",
        "def print_(inputs):\n",
        "  print(*inputs) #print(*리스트) 하면 print(원소1, 원소2...) 와 같음\n",
        "\n",
        "print_(drinks)"
      ],
      "metadata": {
        "colab": {
          "base_uri": "https://localhost:8080/"
        },
        "id": "2b1mbe6oDCie",
        "outputId": "42487a73-956a-4c6f-fee1-190b65e0b2a9"
      },
      "execution_count": 128,
      "outputs": [
        {
          "output_type": "stream",
          "name": "stdout",
          "text": [
            "coffee water juice\n"
          ]
        }
      ]
    },
    {
      "cell_type": "code",
      "source": [
        "#print 함수의 원리\n",
        "\n",
        "def print_(*inputs):   #입력 부분에 *하는 건 의미 x\n",
        "  print(inputs)\n",
        "\n",
        "print_(drinks) "
      ],
      "metadata": {
        "colab": {
          "base_uri": "https://localhost:8080/"
        },
        "id": "KSWKTrU1CgBT",
        "outputId": "edd1ae89-7579-4865-e380-8f445c6bc83b"
      },
      "execution_count": 129,
      "outputs": [
        {
          "output_type": "stream",
          "name": "stdout",
          "text": [
            "(['coffee', 'water', 'juice'],)\n"
          ]
        }
      ]
    },
    {
      "cell_type": "code",
      "source": [
        "print_(drinks, drinks)"
      ],
      "metadata": {
        "colab": {
          "base_uri": "https://localhost:8080/"
        },
        "id": "4blY4oPMDaI7",
        "outputId": "972f2f8c-9424-443a-aa01-56d317aca234"
      },
      "execution_count": 130,
      "outputs": [
        {
          "output_type": "stream",
          "name": "stdout",
          "text": [
            "(['coffee', 'water', 'juice'], ['coffee', 'water', 'juice'])\n"
          ]
        }
      ]
    },
    {
      "cell_type": "markdown",
      "source": [
        "몰아서 변수 할당"
      ],
      "metadata": {
        "id": "RwZpTEpED4eN"
      }
    },
    {
      "cell_type": "code",
      "source": [
        "a, *b= [1,2,3,4]\n",
        "\n",
        "print(a, b)"
      ],
      "metadata": {
        "colab": {
          "base_uri": "https://localhost:8080/"
        },
        "id": "Pr6eOd4FC3h2",
        "outputId": "408d0e42-b7d8-4b24-fa04-696611281f9d"
      },
      "execution_count": 131,
      "outputs": [
        {
          "output_type": "stream",
          "name": "stdout",
          "text": [
            "1 [2, 3, 4]\n"
          ]
        }
      ]
    },
    {
      "cell_type": "code",
      "source": [
        "a=[1,2,3,4,5]\n",
        "b=[6,7]\n",
        "c=[*a, *b]\n",
        "print(c)"
      ],
      "metadata": {
        "colab": {
          "base_uri": "https://localhost:8080/"
        },
        "id": "JcHPRMk_EgpP",
        "outputId": "33772795-29ec-4189-b096-3db202bec0cd"
      },
      "execution_count": 134,
      "outputs": [
        {
          "output_type": "stream",
          "name": "stdout",
          "text": [
            "[1, 2, 3, 4, 5, 6, 7]\n"
          ]
        }
      ]
    },
    {
      "cell_type": "markdown",
      "source": [
        "이쯤되면 논리적 이해의 영역이 아니라 쓰임에 익숙해져야 하는 문제인데..?"
      ],
      "metadata": {
        "id": "fgRaT5TnEDE5"
      }
    },
    {
      "cell_type": "markdown",
      "source": [
        "# \\** 해시 키/값 언패킹"
      ],
      "metadata": {
        "id": "RaPnKokqEPZI"
      }
    },
    {
      "cell_type": "code",
      "source": [
        "known={'a':1, 'b':2, 'c':3}\n",
        "new={**known, 'd':4, 'e':5}\n",
        "new"
      ],
      "metadata": {
        "colab": {
          "base_uri": "https://localhost:8080/"
        },
        "id": "eq_Ch9vaEa5o",
        "outputId": "3efcdcf4-7e97-4faf-da1d-1daa72a2b17c"
      },
      "execution_count": 139,
      "outputs": [
        {
          "output_type": "execute_result",
          "data": {
            "text/plain": [
              "{'a': 1, 'b': 2, 'c': 3, 'd': 4, 'e': 5}"
            ]
          },
          "metadata": {},
          "execution_count": 139
        }
      ]
    },
    {
      "cell_type": "code",
      "source": [
        ""
      ],
      "metadata": {
        "id": "Q_dqfYOoFBpG"
      },
      "execution_count": null,
      "outputs": []
    },
    {
      "cell_type": "markdown",
      "source": [
        "\n",
        "\n",
        "---\n",
        "\n"
      ],
      "metadata": {
        "id": "58ZNX0alCZ6p"
      }
    },
    {
      "cell_type": "markdown",
      "source": [
        "#다른 문제"
      ],
      "metadata": {
        "id": "lup_89apRCvV"
      }
    },
    {
      "cell_type": "code",
      "source": [
        "#29 보석과 돌\n",
        "\n",
        "J=\"aA\"\n",
        "S=\"aAAbbbb\"\n",
        "\n",
        "from collections import Counter\n",
        "freqs=Counter(list(S))\n",
        "\n",
        "sum([freqs[j] for j in list(J)])"
      ],
      "metadata": {
        "colab": {
          "base_uri": "https://localhost:8080/"
        },
        "id": "4NrAbc4Y-Ecb",
        "outputId": "d662f27e-5177-4fb2-e192-fcad448d6560"
      },
      "execution_count": 170,
      "outputs": [
        {
          "output_type": "execute_result",
          "data": {
            "text/plain": [
              "3"
            ]
          },
          "metadata": {},
          "execution_count": 170
        }
      ]
    },
    {
      "cell_type": "code",
      "source": [
        "#30 중복 문자 없는 가장 긴 부분 문자열\n",
        "\n",
        "letter=\"abcabcbb\"\n",
        "#출력 3"
      ],
      "metadata": {
        "id": "9p8BH-EgQ6eM"
      },
      "execution_count": 175,
      "outputs": []
    },
    {
      "cell_type": "code",
      "source": [
        "#교재 컨닝해서 풀기\n",
        "\n",
        "def substr(s):\n",
        "  \n",
        "  let_loc={}\n",
        "  maxlen=0\n",
        "  start=0\n",
        "\n",
        "  for i,s in enumerate(s):\n",
        "    if s in let_loc:\n",
        "      start=i\n",
        "    else:\n",
        "      maxlen=max(maxlen, i-start+1) #기존값과 새값 비교!\n",
        "    let_loc[s]=i #갱신(or 첫 저장)은 항상\n",
        "\n",
        "  return maxlen"
      ],
      "metadata": {
        "id": "WGyJ1N9qRqCm"
      },
      "execution_count": 176,
      "outputs": []
    },
    {
      "cell_type": "code",
      "source": [
        "substr(letter)"
      ],
      "metadata": {
        "colab": {
          "base_uri": "https://localhost:8080/"
        },
        "id": "-57V385jWvaL",
        "outputId": "7f2f0cdf-fe9b-4194-c92f-ec9e71a7db65"
      },
      "execution_count": 177,
      "outputs": [
        {
          "output_type": "execute_result",
          "data": {
            "text/plain": [
              "3"
            ]
          },
          "metadata": {},
          "execution_count": 177
        }
      ]
    }
  ]
}