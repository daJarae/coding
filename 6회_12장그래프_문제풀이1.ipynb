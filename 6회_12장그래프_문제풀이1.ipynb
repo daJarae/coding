{
  "nbformat": 4,
  "nbformat_minor": 0,
  "metadata": {
    "colab": {
      "name": "6회_12장그래프_문제풀이1.ipynb",
      "provenance": [],
      "authorship_tag": "ABX9TyMDKLxV4xSGFHVEcxgr3xmv",
      "include_colab_link": true
    },
    "kernelspec": {
      "name": "python3",
      "display_name": "Python 3"
    },
    "language_info": {
      "name": "python"
    }
  },
  "cells": [
    {
      "cell_type": "markdown",
      "metadata": {
        "id": "view-in-github",
        "colab_type": "text"
      },
      "source": [
        "<a href=\"https://colab.research.google.com/github/daJarae/coding-test/blob/main/6%ED%9A%8C_12%EC%9E%A5%EA%B7%B8%EB%9E%98%ED%94%84_%EB%AC%B8%EC%A0%9C%ED%92%80%EC%9D%B41.ipynb\" target=\"_parent\"><img src=\"https://colab.research.google.com/assets/colab-badge.svg\" alt=\"Open In Colab\"/></a>"
      ]
    },
    {
      "cell_type": "markdown",
      "source": [
        "#32-38 문제 7개"
      ],
      "metadata": {
        "id": "ssx5jsWCtdSP"
      }
    },
    {
      "cell_type": "markdown",
      "source": [
        "헤밀턴 경로: 정점 한번씩만 방문하는 경로 존재?\n",
        "\n",
        " NP 완전 문제 (결정시간 풀이 가능 - P이자 NP / 최적 알고리즘 없음)\n",
        "\n",
        "외판원: 정점 한번씩 방문 후 처음으로 돌아오는 최단 경로?\n",
        "\n",
        "NP 난해 문제 (최적 알고리즘 없음)\n",
        "\n",
        "* 어떻게 P도 아니고 NP도 아닌 문제가 있을 수 있는거죠..? \n",
        "\n",
        "\"비결정 다항 시간에 풀이 가능\"의 의미를 잘 이해하지 못한 건가"
      ],
      "metadata": {
        "id": "uIJTyUYnSzsW"
      }
    },
    {
      "cell_type": "markdown",
      "source": [
        "그래프 문제에선 대체로 DFS(깊이)가 BFS(너비)보다 자주 쓰인다 함\n",
        "\n",
        "BFS는 최단 경로 찾는 다익스트라 등의 문제에서 유용"
      ],
      "metadata": {
        "id": "SHRoDe2sSrAq"
      }
    },
    {
      "cell_type": "markdown",
      "source": [
        "#그래프 순회"
      ],
      "metadata": {
        "id": "JFB7o5LGQuoz"
      }
    },
    {
      "cell_type": "code",
      "execution_count": 2,
      "metadata": {
        "id": "spO0ArBTQpF5"
      },
      "outputs": [],
      "source": [
        "graph={\n",
        "    1: [2,3,4],\n",
        "    2: [5],\n",
        "    3: [5],\n",
        "    4: [],\n",
        "    5: [6,7],\n",
        "    6:[],\n",
        "    7:[3]\n",
        "}"
      ]
    },
    {
      "cell_type": "markdown",
      "source": [
        "#DFS- 재귀"
      ],
      "metadata": {
        "id": "JrRND7yLTfgo"
      }
    },
    {
      "cell_type": "code",
      "source": [
        "def dfs_rec(graph, node, seen=[]): #지정 매개변수: 리스트를 처음 한번만 초기화하고 내부에서 재사용 가능\n",
        "  seen.append(node) #첫방문 추가\n",
        "  for node_ in graph[node]:\n",
        "    if node_ not in seen: #첫방문 노드의 갈래들이 첫방문일 때\n",
        "      dfs_rec(graph, node_, seen)\n",
        "  return seen"
      ],
      "metadata": {
        "id": "bRE3bOIEQ86m"
      },
      "execution_count": 8,
      "outputs": []
    },
    {
      "cell_type": "code",
      "source": [
        "dfs_rec(graph, 1, seen=[])"
      ],
      "metadata": {
        "colab": {
          "base_uri": "https://localhost:8080/"
        },
        "id": "a45BEktkR1SH",
        "outputId": "922caed0-ce8c-4e87-d034-164fd9333d5c"
      },
      "execution_count": 9,
      "outputs": [
        {
          "output_type": "execute_result",
          "data": {
            "text/plain": [
              "[1, 2, 5, 6, 7, 3, 4]"
            ]
          },
          "metadata": {},
          "execution_count": 9
        }
      ]
    },
    {
      "cell_type": "markdown",
      "source": [
        "#DFS- 스택"
      ],
      "metadata": {
        "id": "WJmZvC5tTgyi"
      }
    },
    {
      "cell_type": "code",
      "source": [
        "def dfs_stack(graph, node):\n",
        "  seen=[]\n",
        "  stack=[node]\n",
        "  \n",
        "  while stack: #len(S)>0과 유사\n",
        "    x=stack.pop()\n",
        "    if x not in seen:\n",
        "      seen.append(x)\n",
        "      for node_ in graph[x]:\n",
        "        stack.append(node_)\n",
        "\n",
        "  return seen"
      ],
      "metadata": {
        "id": "rGVPXNVnSoYE"
      },
      "execution_count": 51,
      "outputs": []
    },
    {
      "cell_type": "markdown",
      "source": [
        "처음 에러 원인: for문을 if 안에 들여쓰기 안함\n",
        "\n",
        "이 경우 x가 기탐색 노드여도 x의 가지들을 계속 stack에 append하므로 무한 루프 발생"
      ],
      "metadata": {
        "id": "UoVfxaCBVfTq"
      }
    },
    {
      "cell_type": "code",
      "source": [
        "dfs_stack(graph, 1)"
      ],
      "metadata": {
        "colab": {
          "base_uri": "https://localhost:8080/"
        },
        "id": "o1F2d4izZ9pK",
        "outputId": "63bc77b7-8ae0-41b8-fdd3-a98bc40b7a1f"
      },
      "execution_count": 52,
      "outputs": [
        {
          "output_type": "execute_result",
          "data": {
            "text/plain": [
              "[1, 4, 3, 5, 7, 6, 2]"
            ]
          },
          "metadata": {},
          "execution_count": 52
        }
      ]
    },
    {
      "cell_type": "code",
      "source": [
        "def dfs_stack(graph, node):\n",
        "  seen=[]\n",
        "  stack=[node]\n",
        "  \n",
        "  while stack:\n",
        "    x=stack.pop(0)\n",
        "    if x not in seen:\n",
        "      seen.append(x)\n",
        "      for node_ in graph[x]:\n",
        "        stack.append(node_)\n",
        "\n",
        "  return seen"
      ],
      "metadata": {
        "id": "ArNoDdGSZ6Wd"
      },
      "execution_count": 54,
      "outputs": []
    },
    {
      "cell_type": "code",
      "source": [
        "dfs_stack(graph, 1)"
      ],
      "metadata": {
        "colab": {
          "base_uri": "https://localhost:8080/"
        },
        "id": "Dh01w8dza4u-",
        "outputId": "688a4031-f1b4-45a5-bbb8-4a569db2d17a"
      },
      "execution_count": 55,
      "outputs": [
        {
          "output_type": "execute_result",
          "data": {
            "text/plain": [
              "[1, 2, 3, 4, 5, 6, 7]"
            ]
          },
          "metadata": {},
          "execution_count": 55
        }
      ]
    },
    {
      "cell_type": "markdown",
      "source": [
        "queue식 선입후출 pop(0)만 수정했더니 BFS가 되었다..!?"
      ],
      "metadata": {
        "id": "Ri1sjCida8o5"
      }
    },
    {
      "cell_type": "markdown",
      "source": [
        "\n",
        "\n",
        "---\n",
        "\n"
      ],
      "metadata": {
        "id": "xkZWms44VtVw"
      }
    },
    {
      "cell_type": "markdown",
      "source": [
        "#BFS- 큐"
      ],
      "metadata": {
        "id": "Pr80DVfsVns5"
      }
    },
    {
      "cell_type": "code",
      "source": [
        "stack=[1,2,3]\n",
        "stack.pop()\n",
        "\n",
        "#후입 선출"
      ],
      "metadata": {
        "colab": {
          "base_uri": "https://localhost:8080/"
        },
        "id": "05EBU2vJV-8o",
        "outputId": "7b2525e5-b7f0-422a-a840-541b0223623d"
      },
      "execution_count": 26,
      "outputs": [
        {
          "output_type": "execute_result",
          "data": {
            "text/plain": [
              "3"
            ]
          },
          "metadata": {},
          "execution_count": 26
        }
      ]
    },
    {
      "cell_type": "code",
      "source": [
        "queue=[1,2,3]\n",
        "queue.pop(0)\n",
        "\n",
        "#선입 선출"
      ],
      "metadata": {
        "colab": {
          "base_uri": "https://localhost:8080/"
        },
        "id": "prOEXtBxWBbn",
        "outputId": "ee974bfd-ae92-4fae-ec8e-dc4e12bcbfcc"
      },
      "execution_count": 27,
      "outputs": [
        {
          "output_type": "execute_result",
          "data": {
            "text/plain": [
              "1"
            ]
          },
          "metadata": {},
          "execution_count": 27
        }
      ]
    },
    {
      "cell_type": "markdown",
      "source": [
        "선입선출식 너비 탐색과 선입후출식 깊이 탐색 차이의 핵심은\n",
        "\n",
        "BFS: 1번 노드와 연결된 1-1~3번 노드들까지만 탐색 후 1-1번 노드의 다음 노드들만 탐색...\n",
        "\n",
        "DFS: 1번 노드와 연결된 1-1번 노드를 타고 끝까지 탐색 후 1-2번 노드 연결 끝까지 탐색"
      ],
      "metadata": {
        "id": "CMqKSdeMWX4j"
      }
    },
    {
      "cell_type": "markdown",
      "source": [
        "DFS가 큐로 안될 이유가 있나..?"
      ],
      "metadata": {
        "id": "l7YHFqn4XgkD"
      }
    },
    {
      "cell_type": "code",
      "source": [
        "#일단 BFS\n",
        "\n",
        "def bfs_que(graph, node):\n",
        "  seen=[]\n",
        "  que=[node]\n",
        "\n",
        "  while que:\n",
        "    x=que.pop(0)\n",
        "    if x not in seen:\n",
        "      seen.append(x)\n",
        "      for node_ in graph[x]:\n",
        "        que.append(node_) #다음 노드들 다 추가\n",
        "  \n",
        "  return seen"
      ],
      "metadata": {
        "id": "c28r3UoRSolo"
      },
      "execution_count": 29,
      "outputs": []
    },
    {
      "cell_type": "code",
      "source": [
        "bfs_que(graph,1)"
      ],
      "metadata": {
        "colab": {
          "base_uri": "https://localhost:8080/"
        },
        "id": "6D16Nxq9YDU3",
        "outputId": "64efb501-e39b-40d0-e6ca-1370af444965"
      },
      "execution_count": 30,
      "outputs": [
        {
          "output_type": "execute_result",
          "data": {
            "text/plain": [
              "[1, 2, 3, 4, 5, 6, 7]"
            ]
          },
          "metadata": {},
          "execution_count": 30
        }
      ]
    },
    {
      "cell_type": "code",
      "source": [
        "#교재풀이 (약간다름)\n",
        "\n",
        "def bfs(graph, node):\n",
        "  seen=[node] #seen에 node를 넣어두고 시작해야 for-if 문 안에 append(다음 노드) 사용 가능\n",
        "  que=[node]\n",
        "  while que:\n",
        "    x=que.pop(0)\n",
        "    for node_ in graph[x]: #일단 다음 노드 다 펼치고\n",
        "      if node_ not in seen: \n",
        "        seen.append(node_) #seen.append(node_)를 for&if 안에 넣어둬야 중복 탐색이 줄겠군\n",
        "        que.append(node_) \n",
        "        \n",
        "  return seen"
      ],
      "metadata": {
        "id": "rfK5vUEgYKvB"
      },
      "execution_count": 38,
      "outputs": []
    },
    {
      "cell_type": "code",
      "source": [
        "bfs(graph,1)"
      ],
      "metadata": {
        "colab": {
          "base_uri": "https://localhost:8080/"
        },
        "id": "0EaBjMtNZjIE",
        "outputId": "c5b87caa-38f9-4e9f-94b2-17f6d9cbbecf"
      },
      "execution_count": 39,
      "outputs": [
        {
          "output_type": "execute_result",
          "data": {
            "text/plain": [
              "[1, 2, 3, 4, 5, 6, 7]"
            ]
          },
          "metadata": {},
          "execution_count": 39
        }
      ]
    },
    {
      "cell_type": "markdown",
      "source": [
        "위 방식 모두 모든 노드가 최소 한 다리는 연결되어있다는 전제가 있나..."
      ],
      "metadata": {
        "id": "Vlp43tTDUQ3q"
      }
    },
    {
      "cell_type": "code",
      "source": [
        "def bfs1(graph, node):\n",
        "  seen=[node] #seen에 node를 넣어두고 시작해야 for-if 문 안에 append(다음 노드) 사용 가능\n",
        "  que=[node]\n",
        "  while que:\n",
        "    x=que.pop()\n",
        "    for node_ in graph[x]: #일단 다음 노드 다 펼치고\n",
        "      if node_ not in seen: \n",
        "        seen.append(node_) #seen.append(node_)를 for&if 안에 넣어둬야 중복 탐색이 줄겠군\n",
        "        que.append(node_) \n",
        "  \n",
        "  return seen"
      ],
      "metadata": {
        "id": "1m7izWxGZlNA"
      },
      "execution_count": 40,
      "outputs": []
    },
    {
      "cell_type": "code",
      "source": [
        "bfs1(graph,1) #스택으로도 되는데용..."
      ],
      "metadata": {
        "colab": {
          "base_uri": "https://localhost:8080/"
        },
        "id": "I0qVjwCOZpH6",
        "outputId": "fcd86db3-7e10-4e44-d3e4-2369adc08315"
      },
      "execution_count": 41,
      "outputs": [
        {
          "output_type": "execute_result",
          "data": {
            "text/plain": [
              "[1, 2, 3, 4, 5, 6, 7]"
            ]
          },
          "metadata": {},
          "execution_count": 41
        }
      ]
    },
    {
      "cell_type": "markdown",
      "source": [
        "#BFS는 재귀 불가\n"
      ],
      "metadata": {
        "id": "PlNzEhIuZezB"
      }
    },
    {
      "cell_type": "markdown",
      "source": [
        "너비 탐색해야 하는데 깊이 탐색을 하게 되거나 종료 지점을 모르는게 문제요소일 듯한데"
      ],
      "metadata": {
        "id": "4pt76CnnkMwH"
      }
    },
    {
      "cell_type": "code",
      "source": [
        "def bfs_rec(graph, node, seen=[]): #지정 매개변수: 리스트를 처음 한번만 초기화하고 내부에서 재사용 가능\n",
        "  if node in seen:\n",
        "    return #while의 break 역할\n",
        "\n",
        "  seen.append(node) #첫방문 추가\n",
        "  for node_ in graph[node]:\n",
        "    if node_ not in seen: #첫방문 노드의 갈래들이 첫방문일 때\n",
        "      bfs_rec(graph, node_, seen)\n",
        "  return seen"
      ],
      "metadata": {
        "id": "w5gNTHIJj2G_"
      },
      "execution_count": 6,
      "outputs": []
    },
    {
      "cell_type": "code",
      "source": [
        "bfs_rec(graph,1)\n",
        "#그렇다. 결국 깊이 탐색이 되어버림!"
      ],
      "metadata": {
        "colab": {
          "base_uri": "https://localhost:8080/"
        },
        "id": "nwKLRTwnkcSx",
        "outputId": "0a8590e1-ea5b-43b5-a0f4-a70679170341"
      },
      "execution_count": 7,
      "outputs": [
        {
          "output_type": "execute_result",
          "data": {
            "text/plain": [
              "[1, 2, 5, 6, 7, 3, 4]"
            ]
          },
          "metadata": {},
          "execution_count": 7
        }
      ]
    },
    {
      "cell_type": "markdown",
      "source": [
        "다음 한노드 탐색 후 잠시 킵하여 그 다음이 아닌 옆 노드 탐색하려면...\n",
        "\n",
        "굳이 안되는 재귀를 붙잡고 써먹으려 하느니\n",
        "\n",
        "\"임시 저장\" 기능을 하는 큐를 사용하는 편이 깔끔"
      ],
      "metadata": {
        "id": "jV7oedSrkvhS"
      }
    },
    {
      "cell_type": "markdown",
      "source": [
        "#백트래킹\n",
        "\n",
        "가능성이 없다고 판단되는 즉시 backtrack (후보를 포기하고 물러남) / 제약 충족 문제에 유용\n",
        "\n",
        "더 갈 수 없으면 왔던 길을 되돌아감 (DFS가 백트래킹의 골격을 이룸 / 주로 재귀 구현)\n",
        "\n",
        "=pruning(가지치기)를 통한 탐색 최적화"
      ],
      "metadata": {
        "id": "q33pjPeRle9F"
      }
    },
    {
      "cell_type": "markdown",
      "source": [
        "#문제"
      ],
      "metadata": {
        "id": "zKgPnZpsmPYS"
      }
    },
    {
      "cell_type": "markdown",
      "source": [
        "#32 섬의 개수"
      ],
      "metadata": {
        "id": "CxucX8HhmP6l"
      }
    },
    {
      "cell_type": "code",
      "source": [
        "#11110\n",
        "#11010\n",
        "#11000\n",
        "#00000"
      ],
      "metadata": {
        "id": "F5KzjXVJmJfN"
      },
      "execution_count": null,
      "outputs": []
    },
    {
      "cell_type": "markdown",
      "source": [
        "2D그리드맵이 인풋"
      ],
      "metadata": {
        "id": "h5aBXGu6nQYs"
      }
    },
    {
      "cell_type": "code",
      "source": [
        "n=int(input())\n",
        "map_=[]\n",
        "for _ in range(n):\n",
        "  map_.append([int(x) for x in list(input())])"
      ],
      "metadata": {
        "colab": {
          "base_uri": "https://localhost:8080/"
        },
        "id": "04fx2Zpmkew8",
        "outputId": "839f28fa-e54e-4402-93e2-842792b1a7a0"
      },
      "execution_count": 50,
      "outputs": [
        {
          "name": "stdout",
          "output_type": "stream",
          "text": [
            "4\n",
            "11110\n",
            "11010\n",
            "11000\n",
            "00000\n"
          ]
        }
      ]
    },
    {
      "cell_type": "code",
      "source": [
        "map_"
      ],
      "metadata": {
        "colab": {
          "base_uri": "https://localhost:8080/"
        },
        "id": "U6g5tfuanM60",
        "outputId": "4210f473-2d0c-4017-8742-1b92a7d5e041"
      },
      "execution_count": 51,
      "outputs": [
        {
          "output_type": "execute_result",
          "data": {
            "text/plain": [
              "[[1, 1, 1, 1, 0], [1, 1, 0, 1, 0], [1, 1, 0, 0, 0], [0, 0, 0, 0, 0]]"
            ]
          },
          "metadata": {},
          "execution_count": 51
        }
      ]
    },
    {
      "cell_type": "code",
      "source": [
        "def island(map_, x=0, y=0, seen=[], isl=0):\n",
        "  if (x,y) not in seen and (x>-1 and x<4) and (y>-1 and y<4): #미발견, 착륙 가능\n",
        "    seen.append([(x,y)])\n",
        "    isl+=1\n",
        "    \n",
        "  if map_[x][y] ==1:\n",
        "    if map_[x-1][y]\n",
        "    seen\n"
      ],
      "metadata": {
        "id": "x5fkYid7neIB"
      },
      "execution_count": null,
      "outputs": []
    },
    {
      "cell_type": "code",
      "source": [
        "for i,k in [(1,2),(1,1),(2,1),(2,2)]:\n",
        "  print(i,k)"
      ],
      "metadata": {
        "colab": {
          "base_uri": "https://localhost:8080/"
        },
        "id": "DlskbDlFrYdd",
        "outputId": "983c1d95-2ecc-459b-d8cf-a58d75612e28"
      },
      "execution_count": 23,
      "outputs": [
        {
          "output_type": "stream",
          "name": "stdout",
          "text": [
            "1 2\n",
            "1 1\n",
            "2 1\n",
            "2 2\n"
          ]
        }
      ]
    },
    {
      "cell_type": "code",
      "source": [
        "def island(map_):\n",
        "  seen=[]\n",
        "  ans=0\n",
        "\n",
        "  for x in range(len(map_)):\n",
        "    for y in range(len(map_[0])):\n",
        "\n",
        "      parted=0\n",
        "      for i,k in [(x-1,y),(x,y-1),(x+1,y),(x,y+1)]:\n",
        "        \n",
        "        if (i>=0 and i<len(map_)) and (k>=0 and k<len(map_[0])): #방문 가능 섬\n",
        "           if (i,k) not in seen or map_[i][k] ==0 :\n",
        "             parted+=1\n",
        "\n",
        "        if parted==4: #미발견 섬이다!\n",
        "          ans+=1\n",
        "\n",
        "      seen.append((x,y))\n",
        "    \n",
        "  return ans"
      ],
      "metadata": {
        "id": "nt_shzD-qgPG"
      },
      "execution_count": 26,
      "outputs": []
    },
    {
      "cell_type": "code",
      "source": [
        "island(map_)"
      ],
      "metadata": {
        "colab": {
          "base_uri": "https://localhost:8080/"
        },
        "id": "ZsVVSartszxU",
        "outputId": "7d94061f-3ea4-4f0a-d4b1-bcc4789f8cf7"
      },
      "execution_count": 27,
      "outputs": [
        {
          "output_type": "execute_result",
          "data": {
            "text/plain": [
              "0"
            ]
          },
          "metadata": {},
          "execution_count": 27
        }
      ]
    },
    {
      "cell_type": "markdown",
      "source": [
        "실패.."
      ],
      "metadata": {
        "id": "cz2X_1YitBfo"
      }
    },
    {
      "cell_type": "markdown",
      "source": [
        "\n",
        "\n",
        "---\n",
        "\n"
      ],
      "metadata": {
        "id": "EhtZf7XNzxLZ"
      }
    },
    {
      "cell_type": "markdown",
      "source": [
        "교재풀이"
      ],
      "metadata": {
        "id": "Msl-5K8xtEly"
      }
    },
    {
      "cell_type": "markdown",
      "source": [
        "한번 실행으로 연결된 모든 땅을 0으로 변경\n",
        "\n",
        "-> 다음 실행에는 연결되어있던 모든 1이 사라져 가지치기가 된 상태\n"
      ],
      "metadata": {
        "id": "0r27zetdtjdS"
      }
    },
    {
      "cell_type": "code",
      "source": [
        "def dfs(i,k): #0인 땅 -> 종료, 1인 땅 -> 0으로 (dfs 실행 1회마다 count+=1)\n",
        "  if (i<0 or i>=len(map_)) or (k<0 and k>=len(map_[0])) or map_[i][k]!=1: #첫 미방문 섬 발견시 실행x, 재귀적 탐색을 위한 코드\n",
        "    return\n",
        "\n",
        "  map_[i][k]=0\n",
        "  \n",
        "  dfs(i-1,k)\n",
        "  dfs(i,k-1)\n",
        "  dfs(i+1,k)\n",
        "  dfs(i,k+1) #연결된 땅까지 탐색대상으로 넘겨줘야함\n",
        "\n",
        "def island(map_):\n",
        "\n",
        "  ans=0\n",
        "\n",
        "  for x in range(len(map_)):\n",
        "    for y in range(len(map_[0])):\n",
        "      if map_[x][y]==1: #\n",
        "        dfs(x,y)\n",
        "        print(map_)\n",
        "        ans+=1     \n",
        "    \n",
        "  return ans"
      ],
      "metadata": {
        "id": "GkCQjwaptAA0"
      },
      "execution_count": 47,
      "outputs": []
    },
    {
      "cell_type": "code",
      "source": [
        "island(map_)"
      ],
      "metadata": {
        "colab": {
          "base_uri": "https://localhost:8080/"
        },
        "id": "01x6jMeKve-L",
        "outputId": "286a5fcb-1a49-41ca-e137-ebcd38268069"
      },
      "execution_count": 52,
      "outputs": [
        {
          "output_type": "stream",
          "name": "stdout",
          "text": [
            "[[0, 0, 0, 0, 0], [0, 0, 0, 0, 0], [0, 0, 0, 0, 0], [0, 0, 0, 0, 0]]\n"
          ]
        },
        {
          "output_type": "execute_result",
          "data": {
            "text/plain": [
              "1"
            ]
          },
          "metadata": {},
          "execution_count": 52
        }
      ]
    },
    {
      "cell_type": "markdown",
      "source": [
        "코드를 그대로 따라 썼는데 답이 틀렸던 이유는..?\n",
        "\n",
        "-> 이 코드는 map_ 변수를 바꿔버리기 때문에... 코드를 한번 실행하면 맵을 다시 받아와야함"
      ],
      "metadata": {
        "id": "6vVCNlljxCyq"
      }
    },
    {
      "cell_type": "markdown",
      "source": [
        "중첩함수가 부모 함수의 변수를 공유"
      ],
      "metadata": {
        "id": "qHUfgIi0xIDf"
      }
    },
    {
      "cell_type": "code",
      "source": [
        "def outer_function(t):\n",
        "  text: str = t #t-> text 타입 지정 변수 할당\n",
        "\n",
        "  def inner_function():\n",
        "    print(text)\n",
        "\n",
        "  inner_function()\n",
        "\n",
        "outer_function('hi')"
      ],
      "metadata": {
        "colab": {
          "base_uri": "https://localhost:8080/"
        },
        "id": "LdSB4RxexFuQ",
        "outputId": "25b6c9db-0cee-4b7a-d7db-f23851247820"
      },
      "execution_count": 37,
      "outputs": [
        {
          "output_type": "stream",
          "name": "stdout",
          "text": [
            "hi\n"
          ]
        }
      ]
    },
    {
      "cell_type": "markdown",
      "source": [
        "부모함수 내 할당된 변수는 내부함수에서 그대로 사용\n",
        "\n",
        "어떤 내부함수 내에 같은 이름의 변수를 만들어 사용하는 것은 해당 내부함수에서만 적용됨"
      ],
      "metadata": {
        "id": "dI6kh1Vtx4Cf"
      }
    },
    {
      "cell_type": "markdown",
      "source": [
        "\n",
        "\n",
        "---\n",
        "\n"
      ],
      "metadata": {
        "id": "Dm9_w-hhzy8O"
      }
    },
    {
      "cell_type": "markdown",
      "source": [
        "#33 전화번호 문자 조합\n",
        "\n",
        "주어진 키 숫자에서 발생하는 모든 문자 조합"
      ],
      "metadata": {
        "id": "zYWcWks2yLZA"
      }
    },
    {
      "cell_type": "code",
      "source": [
        "#교재 거의 참고 풀이\n",
        "\n",
        "def letter(digits: str):\n",
        "\n",
        "  keyb={'2':'abc','3':'def','4':'ghi','5':'jkl','6':'mno','7':'pqrs','8':'tuv','9':'wxyz'}\n",
        "  result=[]\n",
        "  \n",
        "  def dfs(i, path):\n",
        "    if i==len(digits):\n",
        "      result.append(path)\n",
        "      return\n",
        "    \n",
        "    for letters in keyb[digits[i]]: #'2', '3'\n",
        "      for letter in letters:\n",
        "        new_path=path+letter #★new_path 처음에 path라 해서 틀림 ㅠ\n",
        "        dfs(i+1, new_path)  #내부적으로 for문 여러번 돌건데 재귀 처리시 코드 간결\n",
        "\n",
        "  dfs(0,\"\")\n",
        "\n",
        "  return result"
      ],
      "metadata": {
        "id": "cgw4Zu-OxlKP"
      },
      "execution_count": 67,
      "outputs": []
    },
    {
      "cell_type": "code",
      "source": [
        "letter('23')"
      ],
      "metadata": {
        "colab": {
          "base_uri": "https://localhost:8080/"
        },
        "id": "MjPv9YAM7bVa",
        "outputId": "be53b5d4-24a7-4ca7-c094-167ac8491d65"
      },
      "execution_count": 68,
      "outputs": [
        {
          "output_type": "stream",
          "name": "stdout",
          "text": [
            "a a\n",
            "ad d\n",
            "ae e\n",
            "af f\n",
            "b b\n",
            "bd d\n",
            "be e\n",
            "bf f\n",
            "c c\n",
            "cd d\n",
            "ce e\n",
            "cf f\n"
          ]
        },
        {
          "output_type": "execute_result",
          "data": {
            "text/plain": [
              "['ad', 'ae', 'af', 'bd', 'be', 'bf', 'cd', 'ce', 'cf']"
            ]
          },
          "metadata": {},
          "execution_count": 68
        }
      ]
    },
    {
      "cell_type": "markdown",
      "source": [
        "    new_path=path+letter\n",
        "    dfs(i+1, new_path)\n",
        "\n",
        "이 부분은 dfs(i+1, [path+letter) 한줄로 바꿀 수 있음 (재귀적 우아 +1)"
      ],
      "metadata": {
        "id": "Tj3YsfPO-TDm"
      }
    },
    {
      "cell_type": "markdown",
      "source": [
        "\n",
        "\n",
        "---\n",
        "\n"
      ],
      "metadata": {
        "id": "hJkH0JOy-eJj"
      }
    },
    {
      "cell_type": "markdown",
      "source": [
        "#34 순열 (중복 없는 순열)\n",
        "\n",
        "서로 다른 정수에서 가능한 모든 순열 리턴"
      ],
      "metadata": {
        "id": "TEtDrCpp-ew0"
      }
    },
    {
      "cell_type": "code",
      "source": [
        "def series(nums, ans=[], temp=[]):\n",
        "  \n",
        "  if len(nums)==len(temp):\n",
        "    ans.append(temp)\n",
        "    return\n",
        "\n",
        "  for x in nums[:-len(temp)]:\n",
        "    print(x)\n",
        "    temp.append(x)\n",
        "    nums.append(x)\n",
        "    nums.remove(x)\n",
        "    series(nums, ans, temp)\n",
        "\n",
        "  return ans"
      ],
      "metadata": {
        "id": "rUFpYiQL9olV"
      },
      "execution_count": 71,
      "outputs": []
    },
    {
      "cell_type": "code",
      "source": [
        "series([1,2,3])"
      ],
      "metadata": {
        "colab": {
          "base_uri": "https://localhost:8080/"
        },
        "id": "FcNY5IQwArRT",
        "outputId": "c40a10d2-c85e-4a12-d69a-81028f3292fd"
      },
      "execution_count": 72,
      "outputs": [
        {
          "output_type": "execute_result",
          "data": {
            "text/plain": [
              "[]"
            ]
          },
          "metadata": {},
          "execution_count": 72
        }
      ]
    },
    {
      "cell_type": "markdown",
      "source": [
        "재귀마다 순열 i번째 원소로 선택된 nums의 원소를 뒤로 보내 nums의 i-1번까지 원소에 대해 for문을 돌리는 코드를 구상했으나...\n",
        "\n",
        "모든 재귀가 하나의 nums를 공유하기 때문에 문제일듯"
      ],
      "metadata": {
        "id": "WvT8ZO7BA48H"
      }
    },
    {
      "cell_type": "markdown",
      "source": [
        "원본 nums를 훼손하면 안되고, 기사용 숫자는 다시 사용할 수 없다는 점이 어려움~"
      ],
      "metadata": {
        "id": "crMFW1qdCkkT"
      }
    },
    {
      "cell_type": "markdown",
      "source": [
        "그럼 집합을 이용해 이번 temp를 배제한 nums 원소만 본다면?"
      ],
      "metadata": {
        "id": "ec44VRQgDeVq"
      }
    },
    {
      "cell_type": "code",
      "source": [
        "for x in set([1,2,3])-set([3]):\n",
        "  print(x)  "
      ],
      "metadata": {
        "colab": {
          "base_uri": "https://localhost:8080/"
        },
        "id": "cDlFr4oJDlwz",
        "outputId": "006130aa-2051-45db-dcb5-4261c1e5a90b"
      },
      "execution_count": 73,
      "outputs": [
        {
          "output_type": "stream",
          "name": "stdout",
          "text": [
            "1\n",
            "2\n"
          ]
        }
      ]
    },
    {
      "cell_type": "code",
      "source": [
        "def series(nums, ans=[], temp=[]):\n",
        "  \n",
        "  def dfs(temp):\n",
        "    if len(nums)==len(temp):\n",
        "      ans.append(temp)\n",
        "      return\n",
        "\n",
        "    for x in set(nums)-set(temp):\n",
        "      temp.append(x)\n",
        "      print(x, temp)\n",
        "      dfs(temp)\n",
        "\n",
        "  for x in nums:\n",
        "    dfs([x])\n",
        "\n",
        "  return ans"
      ],
      "metadata": {
        "id": "1Tcj9GeIBVl4"
      },
      "execution_count": 99,
      "outputs": []
    },
    {
      "cell_type": "code",
      "source": [
        "series([1,2,3])"
      ],
      "metadata": {
        "colab": {
          "base_uri": "https://localhost:8080/"
        },
        "id": "E8GUs2s8DwVA",
        "outputId": "67d48f0d-6f12-467e-8df8-194cdac5eec6"
      },
      "execution_count": 100,
      "outputs": [
        {
          "output_type": "stream",
          "name": "stdout",
          "text": [
            "2 [1, 2]\n",
            "3 [1, 2, 3]\n",
            "3 [1, 2, 3, 3]\n",
            "1 [2, 1]\n",
            "3 [2, 1, 3]\n",
            "3 [2, 1, 3, 3]\n",
            "1 [3, 1]\n",
            "2 [3, 1, 2]\n",
            "2 [3, 1, 2, 2]\n"
          ]
        },
        {
          "output_type": "execute_result",
          "data": {
            "text/plain": [
              "[[1, 2, 3, 3], [2, 1, 3, 3], [3, 1, 2, 2]]"
            ]
          },
          "metadata": {},
          "execution_count": 100
        }
      ]
    },
    {
      "cell_type": "markdown",
      "source": [
        "총체적 난국..."
      ],
      "metadata": {
        "id": "VdfZNnM7GdcB"
      }
    },
    {
      "cell_type": "code",
      "source": [
        "a=[1,2,3]\n",
        "a.append(4)\n",
        "a.pop()\n",
        "\n",
        "#append와 pop은 오른쪽, appendleft와 popleft가 왼쪽"
      ],
      "metadata": {
        "colab": {
          "base_uri": "https://localhost:8080/"
        },
        "id": "bOuP10rdHflO",
        "outputId": "1ad8a676-c169-498c-d467-755ae9849155"
      },
      "execution_count": 98,
      "outputs": [
        {
          "output_type": "execute_result",
          "data": {
            "text/plain": [
              "4"
            ]
          },
          "metadata": {},
          "execution_count": 98
        }
      ]
    },
    {
      "cell_type": "code",
      "source": [
        "#교재풀이\n",
        "\n",
        "def permute(nums):\n",
        "  ans=[]\n",
        "  temp=[]\n",
        "\n",
        "  def dfs(elements):\n",
        "    if len(elements)==0:\n",
        "      ans.append(temp[:]) #이 temp도 주소 복사 해야 다른 temp 수정해도 보존됨 ㄷ 이거 때문에 에러남\n",
        "      return\n",
        "\n",
        "    for e in elements:\n",
        "      temp.append(e)\n",
        "      temp_nums=elements[:]\n",
        "      temp_nums.remove(e)\n",
        "\n",
        "      dfs(temp_nums)\n",
        "      temp.pop() #★ Wow.. dfs로 이번 e에 대한 깊이 탐색 넘기고\n",
        "                 #매번 새로운 경우의수 분기마다 이전 temp 변화를 삭제     \n",
        "  \n",
        "  dfs(nums)\n",
        "  \n",
        "  return ans"
      ],
      "metadata": {
        "id": "1JTgDvqWFXtX"
      },
      "execution_count": 136,
      "outputs": []
    },
    {
      "cell_type": "code",
      "source": [
        "permute([1,2,3])"
      ],
      "metadata": {
        "colab": {
          "base_uri": "https://localhost:8080/"
        },
        "id": "Ee-gDdbyMsbN",
        "outputId": "c49b3ebe-3ba8-420e-ba8d-cf745a498d8d"
      },
      "execution_count": 137,
      "outputs": [
        {
          "output_type": "execute_result",
          "data": {
            "text/plain": [
              "[[1, 2, 3], [1, 3, 2], [2, 1, 3], [2, 3, 1], [3, 1, 2], [3, 2, 1]]"
            ]
          },
          "metadata": {},
          "execution_count": 137
        }
      ]
    },
    {
      "cell_type": "markdown",
      "source": [
        "주소 복사와 remove로 ans 보존까진  생각했는데.. ㅠㅠ\n",
        "\n",
        "for문에서 temp에 i번째 원소를 추가하고 깊이 탐색 하면 temp는 어떻게 보존 or 복원하지 가 문제였는데\n",
        "\n",
        " temp.pop()을 for문 마지막에 배치하면 되는군요!"
      ],
      "metadata": {
        "id": "iC41i8XQHRU_"
      }
    },
    {
      "cell_type": "code",
      "source": [
        "def permute(nums):\n",
        "  from itertools import permutations as pmt\n",
        "  return list(map(list, pmt(nums))) #교재에 없는 map도 추가해보기 (튜플도 정답 인정됨)"
      ],
      "metadata": {
        "id": "RhwiuyzmJi-J"
      },
      "execution_count": 116,
      "outputs": []
    },
    {
      "cell_type": "code",
      "source": [
        "permute([1,2,3]) #이게 최고다! "
      ],
      "metadata": {
        "colab": {
          "base_uri": "https://localhost:8080/"
        },
        "id": "WK6r6_PgJrd-",
        "outputId": "cc75a442-f06d-4ba3-b7d0-3224180a14e5"
      },
      "execution_count": 117,
      "outputs": [
        {
          "output_type": "execute_result",
          "data": {
            "text/plain": [
              "[[1, 2, 3], [1, 3, 2], [2, 1, 3], [2, 3, 1], [3, 1, 2], [3, 2, 1]]"
            ]
          },
          "metadata": {},
          "execution_count": 117
        }
      ]
    },
    {
      "cell_type": "markdown",
      "source": [
        "\n",
        "\n",
        "---\n",
        "\n"
      ],
      "metadata": {
        "id": "YH0Lzk0TJ6IG"
      }
    },
    {
      "cell_type": "markdown",
      "source": [
        "#여기서부터 나"
      ],
      "metadata": {
        "id": "YHK9-7nJJ6r9"
      }
    },
    {
      "cell_type": "markdown",
      "source": [
        "#조합"
      ],
      "metadata": {
        "id": "bwrvup6DJ4VW"
      }
    },
    {
      "cell_type": "code",
      "source": [
        "#입력: n, k\n",
        "#출력: n Combination k의 조합 리스트 리턴"
      ],
      "metadata": {
        "id": "_YVlzEQJJ--b"
      },
      "execution_count": null,
      "outputs": []
    },
    {
      "cell_type": "code",
      "source": [
        "nums=[i+1 for i in range(n)]\n",
        "nums"
      ],
      "metadata": {
        "colab": {
          "base_uri": "https://localhost:8080/"
        },
        "id": "8A0KinCBMAay",
        "outputId": "12227a22-07fc-4383-dca9-8d010f371c68"
      },
      "execution_count": 110,
      "outputs": [
        {
          "output_type": "execute_result",
          "data": {
            "text/plain": [
              "[1, 2, 3, 4]"
            ]
          },
          "metadata": {},
          "execution_count": 110
        }
      ]
    },
    {
      "cell_type": "code",
      "source": [
        "#일단.. 위풀이 재활용\n",
        "\n",
        "def combination(n, k):\n",
        "  nums=[i+1 for i in range(n)]\n",
        "  ans=[]\n",
        "  temp=[]\n",
        "\n",
        "  def dfs(elements):\n",
        "\n",
        "    if len(elements)==len(nums)-k:\n",
        "      ans.append(temp[:])\n",
        "      return\n",
        "\n",
        "    for e in elements:\n",
        "      temp.append(e)\n",
        "      temp_nums=elements[:]\n",
        "      temp_nums.remove(e)\n",
        "\n",
        "      dfs(temp_nums)\n",
        "\n",
        "      temp.pop() #아 혹시 for끼리 temp를 따로 공유해서 dfs 내 temp와 별개인건가!?\n",
        "\n",
        "  dfs(nums)\n",
        "\n",
        "  ans=list(set([tuple(sorted(lst)) for lst in ans])) #모든 조합 정렬 > 튜플 > 중복원소 제거 (set화) > 리스트화\n",
        "\n",
        "  return ans"
      ],
      "metadata": {
        "id": "FcC5U5TFKFVd"
      },
      "execution_count": 140,
      "outputs": []
    },
    {
      "cell_type": "code",
      "source": [
        "combination(4,2)"
      ],
      "metadata": {
        "colab": {
          "base_uri": "https://localhost:8080/"
        },
        "id": "eDYu702yL4TU",
        "outputId": "2caa5e7b-a498-4e4e-9b2f-1351051090a5"
      },
      "execution_count": 141,
      "outputs": [
        {
          "output_type": "execute_result",
          "data": {
            "text/plain": [
              "[(1, 2), (1, 3), (1, 4), (2, 3), (3, 4), (2, 4)]"
            ]
          },
          "metadata": {},
          "execution_count": 141
        }
      ]
    },
    {
      "cell_type": "code",
      "source": [
        "def combination(n,k):\n",
        "  nums=[i+1 for i in range(n)]\n",
        "\n",
        "  from itertools import combinations as cmb\n",
        "  return list(map(list, cmb(nums,k))) #cmb 적용 직후는 아래처럼 펼쳐진 원소들이므로 바로 map 적용 가능"
      ],
      "metadata": {
        "id": "LjDVnYADMdPt"
      },
      "execution_count": 148,
      "outputs": []
    },
    {
      "cell_type": "code",
      "source": [
        "cmb(nums,k)"
      ],
      "metadata": {
        "colab": {
          "base_uri": "https://localhost:8080/"
        },
        "id": "Vt1x7E5KPVb7",
        "outputId": "64f7133f-e10f-484f-e7e0-bbeb08fa804a"
      },
      "execution_count": 150,
      "outputs": [
        {
          "output_type": "execute_result",
          "data": {
            "text/plain": [
              "<itertools.combinations at 0x7fd8dacf6a70>"
            ]
          },
          "metadata": {},
          "execution_count": 150
        }
      ]
    },
    {
      "cell_type": "code",
      "source": [
        "combination(4,2)"
      ],
      "metadata": {
        "colab": {
          "base_uri": "https://localhost:8080/"
        },
        "id": "vN6ad9t7PLEo",
        "outputId": "9b5deaf4-15d4-4ffc-db73-37c780a743fd"
      },
      "execution_count": 149,
      "outputs": [
        {
          "output_type": "execute_result",
          "data": {
            "text/plain": [
              "[[1, 2], [1, 3], [1, 4], [2, 3], [2, 4], [3, 4]]"
            ]
          },
          "metadata": {},
          "execution_count": 149
        }
      ]
    },
    {
      "cell_type": "code",
      "source": [
        "#교재풀이\n",
        "\n",
        "def combine(n,k):\n",
        "  ans=[]\n",
        "\n",
        "  def dfs(temp, start, k):\n",
        "    if k==0:\n",
        "      ans.append(temp[:])\n",
        "      return\n",
        "\n",
        "    for i in range(start, n+1):\n",
        "      temp.append(i)\n",
        "      dfs(temp, i+1, k-1)            #★ << 시작점 설정으로 중복 탐색 배제 smartest!\n",
        "      temp.pop()\n",
        "\n",
        "  dfs([],1,k)\n",
        "  return ans"
      ],
      "metadata": {
        "id": "jjqqe4l2QGAY"
      },
      "execution_count": 151,
      "outputs": []
    },
    {
      "cell_type": "code",
      "source": [
        "combine(4,2)"
      ],
      "metadata": {
        "colab": {
          "base_uri": "https://localhost:8080/"
        },
        "id": "Mx3_bnRCQ8O9",
        "outputId": "06d6b148-1047-49ac-e616-22149a7f77b8"
      },
      "execution_count": 152,
      "outputs": [
        {
          "output_type": "execute_result",
          "data": {
            "text/plain": [
              "[[1, 2], [1, 3], [1, 4], [2, 3], [2, 4], [3, 4]]"
            ]
          },
          "metadata": {},
          "execution_count": 152
        }
      ]
    },
    {
      "cell_type": "markdown",
      "source": [
        "k는 조합에 더 추가할 원소 수\n",
        "\n",
        "start는 중복 탐색 방지를 위해 1~i~n 순차 탐색시 다음 추가할 원소로 i 전 원소를 배제\n",
        "\n",
        "1,2,3 / 1,2,4 / (1,3,2) < 중복!! / 1,3,4\n",
        "\n",
        "dfs([],1,k): 1~4 중 하나 (i) temp에 추가\n",
        "\n",
        "dfs(temp, i+1, k-1): 이전 i 다음부터 (k-1이 0이 아닐 경우) 새 원소 추가"
      ],
      "metadata": {
        "id": "0CXUIqj4RDE4"
      }
    },
    {
      "cell_type": "markdown",
      "source": [
        "조합은 부모 값부터 시작해도 되지만 순열은 자식노드가 항상 처음부터 시작해야 하므로 계산이 더 많음"
      ],
      "metadata": {
        "id": "vf1qnEKYWUAa"
      }
    },
    {
      "cell_type": "markdown",
      "source": [
        "\n",
        "\n",
        "---\n",
        "# 36 조합의 합 (중복 조합)\n"
      ],
      "metadata": {
        "id": "gtpm2GU_SSuh"
      }
    },
    {
      "cell_type": "code",
      "source": [
        "candidates=[2,3,6,7]\n",
        "target=7\n",
        "\n",
        "#target이 합이 되는 candidates 내 원소 조합 출력 (중복 사용 가능)"
      ],
      "metadata": {
        "id": "vOnP18DsScex"
      },
      "execution_count": null,
      "outputs": []
    },
    {
      "cell_type": "code",
      "source": [
        "#틀림\n",
        "\n",
        "def cmb_sum(cdd):\n",
        "  temp=[]; ans=[]\n",
        "\n",
        "  def dfs(cdd):\n",
        "    \n",
        "    if sum(temp)==target: #종료 조건은 맞음 ㅋㅋ\n",
        "      ans.append(temp)\n",
        "      return\n",
        "    if sum(temp)>target:\n",
        "      return\n",
        "\n",
        "    for i in \n",
        "\n",
        "  return ans"
      ],
      "metadata": {
        "id": "fabll1lUSjKc"
      },
      "execution_count": 154,
      "outputs": []
    },
    {
      "cell_type": "code",
      "source": [
        "cmb_sum([2,3,6,7])"
      ],
      "metadata": {
        "colab": {
          "base_uri": "https://localhost:8080/"
        },
        "id": "xdvZ1vGxVib0",
        "outputId": "2123deb5-b7ae-452e-a039-f555201ef270"
      },
      "execution_count": 156,
      "outputs": [
        {
          "output_type": "execute_result",
          "data": {
            "text/plain": [
              "[]"
            ]
          },
          "metadata": {},
          "execution_count": 156
        }
      ]
    },
    {
      "cell_type": "markdown",
      "source": [
        "외 않 되 ㅠㅠ"
      ],
      "metadata": {
        "id": "IB4pCXG0Vq1i"
      }
    },
    {
      "cell_type": "code",
      "source": [
        "#교재풀이\n",
        "\n",
        "def cmb_sum(cdd, target):\n",
        "  ans=[]\n",
        "\n",
        "  def dfs(dsum, idx, temp): #dsum은 목표값과 현재 누적합의 차, temp는 임시 조합\n",
        "    if dsum< 0:\n",
        "      return\n",
        "    if dsum==0:\n",
        "      ans.append(temp)\n",
        "\n",
        "    for i in range(idx, len(cdd)):\n",
        "      dfs(dsum - cdd[i], i, temp+[cdd[i]])  #i가 항상 0이라면 항상 전범위 for 루프 -> 순열\n",
        "\n",
        "  dfs(target, 0, [])\n",
        "  return ans"
      ],
      "metadata": {
        "id": "gQ4kc1BOVtyb"
      },
      "execution_count": 157,
      "outputs": []
    },
    {
      "cell_type": "code",
      "source": [
        "cmb_sum([2,3,6,7],7)"
      ],
      "metadata": {
        "colab": {
          "base_uri": "https://localhost:8080/"
        },
        "id": "yp089OoQX0BM",
        "outputId": "eb205eab-5070-4184-c107-3a1e0212712c"
      },
      "execution_count": 158,
      "outputs": [
        {
          "output_type": "execute_result",
          "data": {
            "text/plain": [
              "[[2, 2, 3], [7]]"
            ]
          },
          "metadata": {},
          "execution_count": 158
        }
      ]
    },
    {
      "cell_type": "markdown",
      "source": [
        "조합 생성 문제와 비슷하게 i번째 이전은 dfs탐색 범위에 포함시키지 않는 것이 포인트.\n",
        "\n",
        "게다가 temp.append(cdd[i]) 대신 temp+[cdd[i]]를 쓴 것을 봐도 알 수 있듯\n",
        "\n",
        "dfs 내에서 temp를 따로 변수로 할당하지 않아 temp 복원 / 보존 이슈도 고려할 필요가 없다"
      ],
      "metadata": {
        "id": "C76KyCtlYqzj"
      }
    },
    {
      "cell_type": "code",
      "source": [
        "def cmb_sum(cdd, target):\n",
        "  ans=[]\n",
        "\n",
        "  def dfs(dsum, idx, temp):\n",
        "    if dsum<0:\n",
        "      return\n",
        "    if dsum==0:\n",
        "      ans.append(temp)\n",
        "      return\n",
        "\n",
        "    for i in range(idx, len(cdd)):\n",
        "      dfs(dsum-cdd[i], i, temp+[cdd[i]])\n",
        "\n",
        "  dfs(target, 0, []) #idx자리에 1 하면 결과 [[3,5]] X(\n",
        "  return ans"
      ],
      "metadata": {
        "id": "QTSaK6hUZJpe"
      },
      "execution_count": 167,
      "outputs": []
    },
    {
      "cell_type": "code",
      "source": [
        "cmb_sum([2,3,5],8)"
      ],
      "metadata": {
        "colab": {
          "base_uri": "https://localhost:8080/"
        },
        "id": "oKkXZXMhZsqF",
        "outputId": "a69dadf2-0921-41d5-eb35-8f5952e86234"
      },
      "execution_count": 168,
      "outputs": [
        {
          "output_type": "execute_result",
          "data": {
            "text/plain": [
              "[[2, 2, 2, 2], [2, 3, 3], [3, 5]]"
            ]
          },
          "metadata": {},
          "execution_count": 168
        }
      ]
    },
    {
      "cell_type": "markdown",
      "source": [
        "\n",
        "\n",
        "---\n",
        "\n"
      ],
      "metadata": {
        "id": "_nixhBcSaQR_"
      }
    },
    {
      "cell_type": "markdown",
      "source": [
        "#37 부분집합 (중복아닌 조합)\n",
        "\n",
        "모든 부분집합 리턴 <- 조합 문제"
      ],
      "metadata": {
        "id": "jz2I-8zBaDY6"
      }
    },
    {
      "cell_type": "code",
      "source": [
        "nums=[1,2,3]"
      ],
      "metadata": {
        "id": "ip9RGwjBaCuj"
      },
      "execution_count": null,
      "outputs": []
    },
    {
      "cell_type": "code",
      "source": [
        "def subs(nums):\n",
        "  ans=[]\n",
        "\n",
        "  def dfs(idx, temp):\n",
        "\n",
        "    if temp not in ans: #부분집합 처음 추가시, 종료 안하고 계속 진행\n",
        "      ans.append(temp)\n",
        "    else: #이전에 추가한 부분집합일 경우\n",
        "      return\n",
        "\n",
        "    if len(temp)==len(nums): return #최대 원소개수의 temp인 경우 종료\n",
        "  \n",
        "    for i in range(idx, len(nums)):\n",
        "      dfs(i+1, temp+[nums[i]])           #이번엔 중복 허용 안하는! 조합이므로 i 대신 i+1\n",
        "\n",
        "  dfs(0, [])\n",
        "  return ans"
      ],
      "metadata": {
        "id": "4E8mRNJ6ab9J"
      },
      "execution_count": 174,
      "outputs": []
    },
    {
      "cell_type": "code",
      "source": [
        "subs([1,2,3])"
      ],
      "metadata": {
        "colab": {
          "base_uri": "https://localhost:8080/"
        },
        "id": "pWRazK2YcOJe",
        "outputId": "7eb3921c-0817-4bc2-c545-48ab3563fb45"
      },
      "execution_count": 175,
      "outputs": [
        {
          "output_type": "execute_result",
          "data": {
            "text/plain": [
              "[[], [1], [1, 2], [1, 2, 3], [1, 3], [2], [2, 3], [3]]"
            ]
          },
          "metadata": {},
          "execution_count": 175
        }
      ]
    },
    {
      "cell_type": "markdown",
      "source": [
        "그런데 이 문제의 또다른 포인트는\n",
        "\n",
        "for / i 문을 사용하기에 idx가 len(nums)와 같아지면\n",
        "\n",
        "자동으로 재귀를 종료한다는 점입니다\n",
        "\n",
        "★즉 종료 조건을 따로 설정할 필요가 없다!!!★"
      ],
      "metadata": {
        "id": "6HWQWppXdCaw"
      }
    },
    {
      "cell_type": "code",
      "source": [
        "#교재풀이 \n",
        "\n",
        "def subs(nums):\n",
        "  ans=[]\n",
        "\n",
        "  def dfs(idx, temp):\n",
        "\n",
        "    if temp not in ans:\n",
        "      ans.append(temp)\n",
        "\n",
        "    for i in range(idx, len(nums)):\n",
        "      dfs(i+1, temp+[nums[i]])         \n",
        "\n",
        "  dfs(0, [])\n",
        "  return ans"
      ],
      "metadata": {
        "id": "LHffM93bc5uK"
      },
      "execution_count": 176,
      "outputs": []
    },
    {
      "cell_type": "code",
      "source": [
        "subs([1,2,3])"
      ],
      "metadata": {
        "colab": {
          "base_uri": "https://localhost:8080/"
        },
        "id": "Uf6rFQsFdUl2",
        "outputId": "73ee7238-a5c4-48c2-f659-fee0b0ad9ea9"
      },
      "execution_count": 177,
      "outputs": [
        {
          "output_type": "execute_result",
          "data": {
            "text/plain": [
              "[[], [1], [1, 2], [1, 2, 3], [1, 3], [2], [2, 3], [3]]"
            ]
          },
          "metadata": {},
          "execution_count": 177
        }
      ]
    },
    {
      "cell_type": "markdown",
      "source": [
        "아래 둘다 오류 없이 return False의 결과를 냅니다"
      ],
      "metadata": {
        "id": "wMZrllKod7W_"
      }
    },
    {
      "cell_type": "code",
      "source": [
        "for i in range(2,2):\n",
        "  print(i)\n",
        "for i in range(3,2):\n",
        "  print(i)"
      ],
      "metadata": {
        "id": "7W1jkSB2dd9o"
      },
      "execution_count": 180,
      "outputs": []
    },
    {
      "cell_type": "markdown",
      "source": [
        "\n",
        "\n",
        "---\n",
        "\n"
      ],
      "metadata": {
        "id": "xVABTPc3e7fD"
      }
    },
    {
      "cell_type": "markdown",
      "source": [
        "\n",
        "\n",
        "---\n",
        "\n",
        "이후 문제"
      ],
      "metadata": {
        "id": "RnmbAihSiaBB"
      }
    },
    {
      "cell_type": "markdown",
      "source": [
        "#38 일정 재구성\n",
        "\n",
        "from, to로 구성된 항공권 목록을 이용해 JFK에서 출발하는 여행 일정 구성 (여러 일정인 경우 사전 어휘순 방문)"
      ],
      "metadata": {
        "id": "3rlcp8lDe54R"
      }
    },
    {
      "cell_type": "code",
      "source": [
        "path=[[\"MU\",\"LH\"],['JF','MU'],['SF','SJ'],['LH','SF']] #두글자 이상 다른 경우는 없어 마지막 글자 생략\n",
        "\n",
        "#예상 출력: JF, MU, LH, SF, SJ"
      ],
      "metadata": {
        "id": "pWiJ-GaKe8WW"
      },
      "execution_count": 184,
      "outputs": []
    },
    {
      "cell_type": "code",
      "source": [
        "def travel(path):\n",
        "  path=sorted(path, key=lambda x: x[1])\n",
        "  ans=['JF']\n",
        "  now=''\n",
        "\n",
        "  for p in path:\n",
        "      if p[0]=='JF':\n",
        "        now=p[1]\n",
        "        ans.append(now)\n",
        "        path.remove(p)\n",
        "        break\n",
        "\n",
        "  while path:\n",
        "    for p in path:\n",
        "      if p[0]==now:\n",
        "        now=p[1]\n",
        "        ans.append(now)\n",
        "        path.remove(p)\n",
        "        break\n",
        "\n",
        "  return ans"
      ],
      "metadata": {
        "id": "Eflx5bqMfsn3"
      },
      "execution_count": 190,
      "outputs": []
    },
    {
      "cell_type": "code",
      "source": [
        "travel(path)"
      ],
      "metadata": {
        "colab": {
          "base_uri": "https://localhost:8080/"
        },
        "id": "AdGLX-FugfP1",
        "outputId": "e82794a0-7370-4a42-bec5-ac8be30abeb7"
      },
      "execution_count": 220,
      "outputs": [
        {
          "output_type": "stream",
          "name": "stdout",
          "text": [
            "['MU']\n",
            "['LH']\n",
            "['SF']\n",
            "['SJ']\n"
          ]
        },
        {
          "output_type": "execute_result",
          "data": {
            "text/plain": [
              "['JF', 'MU', 'LH', 'SF', 'SJ']"
            ]
          },
          "metadata": {},
          "execution_count": 220
        }
      ]
    },
    {
      "cell_type": "markdown",
      "source": [
        "엥 이렇게 풀어도 되는건가"
      ],
      "metadata": {
        "id": "SktLBJ0XiJdF"
      }
    },
    {
      "cell_type": "markdown",
      "source": [
        "-> pop 대신 remove를 쓰긴 했는데 while 돌리며 stack 비우는 방식이 \n",
        "\n",
        "교재풀이 3(일정 그래프 반복)이랑 비슷함\n",
        "\n",
        "아래 교재풀이는 graph[frm] 원소가 둘 이상인 경우 모두 pop할 때까지 while을 또 돌리지만\n",
        "\n",
        "어차피 "
      ],
      "metadata": {
        "id": "ca0_CanNo0KN"
      }
    },
    {
      "cell_type": "code",
      "source": [
        "#교재풀이 3\n",
        "\n",
        "def travel(tickets):\n",
        "  from collections import defaultdict as dfd\n",
        "  graph=dfd(list)\n",
        "  for a,b in sorted(tickets): #오직 같은 출발지에 대한 여러 행선지 정렬 목적\n",
        "    graph[a].append(b)\n",
        "\n",
        "  route=[]\n",
        "  stack=['JFK']\n",
        "\n",
        "  while stack:\n",
        "\n",
        "    while graph[stack[-1]]: #stack의 마지막 원소 (=마지막 도착지이자 다음 출발지)\n",
        "      stack.append(graph[stack[-1]].pop(0))  #도착지가 여러개면 (정렬된) 왼쪽 행선지를 꺼내 stack에 append\n",
        "\n",
        "    route.append(stack.pop()) #스택이 빌 때까지다 꺼내 route에 담기 (선입후출이라 역순)\n",
        "\n",
        "  return route[::-1] #뒤집기"
      ],
      "metadata": {
        "id": "OYzW2U1Jpcw-"
      },
      "execution_count": 236,
      "outputs": []
    },
    {
      "cell_type": "code",
      "source": [
        "travel([['JFK','SFO'],['JFK','ATL'],['SFO','ATL'],['ATL','JFK'],['ATL','SFO']])"
      ],
      "metadata": {
        "colab": {
          "base_uri": "https://localhost:8080/"
        },
        "id": "_ZqTFv2hrdWX",
        "outputId": "acf306bb-da88-4a34-d001-d80c085c57d0"
      },
      "execution_count": 237,
      "outputs": [
        {
          "output_type": "stream",
          "name": "stdout",
          "text": [
            "['JFK', 'ATL'] defaultdict(<class 'list'>, {'ATL': ['JFK', 'SFO'], 'JFK': ['SFO'], 'SFO': ['ATL']})\n",
            "['JFK', 'ATL', 'JFK'] defaultdict(<class 'list'>, {'ATL': ['SFO'], 'JFK': ['SFO'], 'SFO': ['ATL']})\n",
            "['JFK', 'ATL', 'JFK', 'SFO'] defaultdict(<class 'list'>, {'ATL': ['SFO'], 'JFK': [], 'SFO': ['ATL']})\n",
            "['JFK', 'ATL', 'JFK', 'SFO', 'ATL'] defaultdict(<class 'list'>, {'ATL': ['SFO'], 'JFK': [], 'SFO': []})\n",
            "['JFK', 'ATL', 'JFK', 'SFO', 'ATL', 'SFO'] defaultdict(<class 'list'>, {'ATL': [], 'JFK': [], 'SFO': []})\n"
          ]
        },
        {
          "output_type": "execute_result",
          "data": {
            "text/plain": [
              "['JFK', 'ATL', 'JFK', 'SFO', 'ATL', 'SFO']"
            ]
          },
          "metadata": {},
          "execution_count": 237
        }
      ]
    },
    {
      "cell_type": "markdown",
      "source": [
        "재방문 가능한 (해야하는) 문제인걸 이제야 깨달았습니다.."
      ],
      "metadata": {
        "id": "ZAhtnAntsatV"
      }
    },
    {
      "cell_type": "markdown",
      "source": [
        "JFK -> "
      ],
      "metadata": {
        "id": "qd1SqCrWrPyv"
      }
    },
    {
      "cell_type": "code",
      "source": [
        "#교재풀이 1\n",
        "\n",
        "def travel(tickets):\n",
        "  from collections import defaultdict as dfd\n",
        "  graph=dfd(list)\n",
        "  for a, b in sorted(tickets):\n",
        "    graph[a].append(b)            #{'JF': ['MU'], 'LH': ['SF'], 'MU': ['LH'], 'SF': ['SJ']\n",
        "\n",
        "  route=[]\n",
        "  print(graph)\n",
        "\n",
        "  def dfs(frm):\n",
        "    while graph[frm]:        #★ 중복 도착지 고려 (frm이 key인 value list 원소 빌 때까지 pop) \n",
        "      print(frm, graph[frm])\n",
        "      dfs(graph[frm].pop(0)) #★frm -> to인 도착지에 대해 재귀 하는 동시에 해당 원소 삭제 / pop(0)의 역할은 행선지 둘 이상일 때 사전 순 추출\n",
        "\n",
        "    route.append(frm)\n",
        "\n",
        "  dfs('JFK')\n",
        "  return route[::-1]"
      ],
      "metadata": {
        "id": "8CAPCUOiiW21"
      },
      "execution_count": 229,
      "outputs": []
    },
    {
      "cell_type": "markdown",
      "source": [
        "while이 원소 빌 때까지 pop의 목적인지, 단순히 .pop 에러 나지 말라고 한 필터 장치인지 모르겠습니다"
      ],
      "metadata": {
        "id": "M8jsVUETlwel"
      }
    },
    {
      "cell_type": "code",
      "source": [
        "travel([['JFK','SFO'],['JFK','ATL'],['SFO','ATL'],['ATL','JFK'],['ATL','SFO']])\n",
        "\n",
        "#JFK에서 .pop(0)한 JFK ['ATL', 'SFO']\n",
        "#ATL에 대해 먼저 재귀를 돌림 ATL ['JFK', 'SFO']\n",
        "#다시 돌아와서 JFK의 행선지 확인 JFK ['SFO'] ..."
      ],
      "metadata": {
        "colab": {
          "base_uri": "https://localhost:8080/"
        },
        "id": "VL91y3uvivXL",
        "outputId": "a2063d76-8264-4012-bda2-1df5308fe1e6"
      },
      "execution_count": 230,
      "outputs": [
        {
          "output_type": "stream",
          "name": "stdout",
          "text": [
            "defaultdict(<class 'list'>, {'ATL': ['JFK', 'SFO'], 'JFK': ['ATL', 'SFO'], 'SFO': ['ATL']})\n",
            "JFK ['ATL', 'SFO']\n",
            "ATL ['JFK', 'SFO']\n",
            "JFK ['SFO']\n",
            "SFO ['ATL']\n",
            "ATL ['SFO']\n"
          ]
        },
        {
          "output_type": "execute_result",
          "data": {
            "text/plain": [
              "['JFK', 'ATL', 'JFK', 'SFO', 'ATL', 'SFO']"
            ]
          },
          "metadata": {},
          "execution_count": 230
        }
      ]
    },
    {
      "cell_type": "code",
      "source": [
        "from collections import defaultdict as dfd\n",
        "graph=dfd(list)\n",
        "for a, b in sorted(path):\n",
        "  graph[a].append(b)\n",
        "\n",
        "graph[a] #a는 위 for문에서 마지막으로 지정된 a (path의 맨 마지막 왼쪽 요소인 'SF')"
      ],
      "metadata": {
        "colab": {
          "base_uri": "https://localhost:8080/"
        },
        "id": "T38DGekWi2JG",
        "outputId": "74dedd25-3cc5-44f2-e5a4-082e980dedb2"
      },
      "execution_count": 204,
      "outputs": [
        {
          "output_type": "execute_result",
          "data": {
            "text/plain": [
              "['SJ']"
            ]
          },
          "metadata": {},
          "execution_count": 204
        }
      ]
    },
    {
      "cell_type": "markdown",
      "source": [
        "list를 값으로 쓰는 defaultdict - while과 dict[key].pop()이 포인트 "
      ],
      "metadata": {
        "id": "1uOxRTxQknPP"
      }
    },
    {
      "cell_type": "markdown",
      "source": [
        "교재풀이2 최적화: 파이썬에서 pop(0)은 실상 O(n)이므로, 선입선출의 스택.pop()을 이용하면 연산이 좀더 최적화 된다"
      ],
      "metadata": {
        "id": "tvyIG9AyoPfj"
      }
    }
  ]
}