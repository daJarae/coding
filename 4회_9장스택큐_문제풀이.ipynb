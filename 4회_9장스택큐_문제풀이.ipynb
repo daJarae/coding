{
  "nbformat": 4,
  "nbformat_minor": 0,
  "metadata": {
    "colab": {
      "name": "4회_9장스택큐_문제풀이.ipynb",
      "provenance": [],
      "authorship_tag": "ABX9TyOYIIttsy4YymeqBjU2WkE7",
      "include_colab_link": true
    },
    "kernelspec": {
      "name": "python3",
      "display_name": "Python 3"
    },
    "language_info": {
      "name": "python"
    }
  },
  "cells": [
    {
      "cell_type": "markdown",
      "metadata": {
        "id": "view-in-github",
        "colab_type": "text"
      },
      "source": [
        "<a href=\"https://colab.research.google.com/github/daJarae/coding-test/blob/main/4%ED%9A%8C_9%EC%9E%A5%EC%8A%A4%ED%83%9D%ED%81%90_%EB%AC%B8%EC%A0%9C%ED%92%80%EC%9D%B4.ipynb\" target=\"_parent\"><img src=\"https://colab.research.google.com/assets/colab-badge.svg\" alt=\"Open In Colab\"/></a>"
      ]
    },
    {
      "cell_type": "markdown",
      "source": [
        "#ADT"
      ],
      "metadata": {
        "id": "xybo3c8PAf6K"
      }
    },
    {
      "cell_type": "code",
      "execution_count": null,
      "metadata": {
        "id": "nSBMZbtAAcEw"
      },
      "outputs": [],
      "source": [
        "class Node:\n",
        "  def __init__(self, item, next): #next는 연결리스트처럼 모르는 다음값이 아닌 이전에 저장된 값임 (항상 지정 가능)\n",
        "    self.item=item\n",
        "    self.next=next\n",
        "\n",
        "class stack:\n",
        "  def __init__(self):\n",
        "    self.last=None #맨 위 아이템이 없는 처음 상태\n",
        "\n",
        "  def push(self, item):\n",
        "    self.last=Node(item, self.last) #맨 위에 기존 self.last와 연결될 item 노드를 쌓아줌 \n",
        "  \n",
        "  def pop(self):\n",
        "    item=self.last.item\n",
        "    self.last=self.last.next\n",
        "    return item #값 리턴"
      ]
    },
    {
      "cell_type": "code",
      "source": [
        "st=stack()\n",
        "st.push(1)\n",
        "st.pop()"
      ],
      "metadata": {
        "colab": {
          "base_uri": "https://localhost:8080/"
        },
        "id": "JeOpsvAqB_1Y",
        "outputId": "eacf3ad9-dafd-4fc2-8c7b-f64fb032836f"
      },
      "execution_count": null,
      "outputs": [
        {
          "output_type": "execute_result",
          "data": {
            "text/plain": [
              "1"
            ]
          },
          "metadata": {},
          "execution_count": 12
        }
      ]
    },
    {
      "cell_type": "markdown",
      "source": [
        "#일일온도(739)"
      ],
      "metadata": {
        "id": "467SGq2lDJ14"
      }
    },
    {
      "cell_type": "code",
      "source": [
        "def dailyTemperatures(T):\n",
        "\n",
        "  from collections import deque\n",
        "  in_dq=deque(T)\n",
        "  temp=deque(T)\n",
        "  out_dq=deque()\n",
        "  t,k,day=0,0,0\n",
        "\n",
        "  for i in range(len(T)):\n",
        "    day=0\n",
        "    temp=deque(T)\n",
        "    t=temp.popleft()\n",
        "\n",
        "    while k<=t:\n",
        "      try:\n",
        "        t=in_dq.popleft()\n",
        "      except IndexError:\n",
        "        day+=1\n",
        "        break\n",
        "      day+=1\n",
        "\n",
        "    out_dq.append(day)\n",
        "  \n",
        "  return list(out_dq)"
      ],
      "metadata": {
        "id": "tZzIpfV1DpYS"
      },
      "execution_count": null,
      "outputs": []
    },
    {
      "cell_type": "code",
      "source": [
        "T=[73,74,75,71,69,72,76,73]\n",
        "dailyTemperatures(T)"
      ],
      "metadata": {
        "colab": {
          "base_uri": "https://localhost:8080/"
        },
        "id": "1Tfop9_pE8nw",
        "outputId": "075f71ea-8bdb-4257-caa8-f708445eab4b"
      },
      "execution_count": null,
      "outputs": [
        {
          "output_type": "execute_result",
          "data": {
            "text/plain": [
              "[9, 1, 1, 1, 1, 1, 1, 1]"
            ]
          },
          "metadata": {},
          "execution_count": 36
        }
      ]
    },
    {
      "cell_type": "markdown",
      "source": [
        "20분 소모 후 실패.. ★문제도 못풀다니 ㅠ"
      ],
      "metadata": {
        "id": "wINQJh_MGn_u"
      }
    },
    {
      "cell_type": "code",
      "source": [
        "#input: T=[73,74,75,71,69,72,76,73]\n",
        "#output: [1,1,4,2,1,1,0,0]\n",
        "\n",
        "#더 따뜻한 날을 위해 기다려야 하는 날짜수"
      ],
      "metadata": {
        "id": "P7n1BKzFCKU2"
      },
      "execution_count": null,
      "outputs": []
    },
    {
      "cell_type": "code",
      "source": [
        "#빗물 트래핑과 유사한 풀이\n",
        "\n",
        "def dailyTemperatures(T):\n",
        "  ans=[0]*len(T)\n",
        "  stack=[]\n",
        "\n",
        "  for i, cur in enumerate(T): #리스트의 인덱스와 값을 빠르게\n",
        "\n",
        "    while stack and cur>T[stack[-1]]: #★★★이 두줄이\n",
        "      last=stack.pop()                #★★★핵심이다!\n",
        "      ans[last]=i-last\n",
        "    stack.append(i)\n",
        "\n",
        "  return ans"
      ],
      "metadata": {
        "id": "93XCms1nGtI-"
      },
      "execution_count": null,
      "outputs": []
    },
    {
      "cell_type": "code",
      "source": [
        "T=[73,74,75,71,69,72,76,73]\n",
        "dailyTemperatures(T)"
      ],
      "metadata": {
        "colab": {
          "base_uri": "https://localhost:8080/"
        },
        "id": "PxQfr8JlItwP",
        "outputId": "b624fc5b-d09e-426b-bc3c-fd36bd795f70"
      },
      "execution_count": null,
      "outputs": [
        {
          "output_type": "stream",
          "name": "stdout",
          "text": [
            "cur:74, last:0, i:1, ans:[1, 0, 0, 0, 0, 0, 0, 0], stack:[]\n",
            "cur:75, last:1, i:2, ans:[1, 1, 0, 0, 0, 0, 0, 0], stack:[]\n",
            "cur:72, last:4, i:5, ans:[1, 1, 0, 0, 1, 0, 0, 0], stack:[2, 3]\n",
            "cur:72, last:3, i:5, ans:[1, 1, 0, 2, 1, 0, 0, 0], stack:[2]\n",
            "cur:76, last:5, i:6, ans:[1, 1, 0, 2, 1, 1, 0, 0], stack:[2]\n",
            "cur:76, last:2, i:6, ans:[1, 1, 4, 2, 1, 1, 0, 0], stack:[]\n"
          ]
        },
        {
          "output_type": "execute_result",
          "data": {
            "text/plain": [
              "[1, 1, 4, 2, 1, 1, 0, 0]"
            ]
          },
          "metadata": {},
          "execution_count": 64
        }
      ]
    },
    {
      "cell_type": "markdown",
      "source": [
        "인풋[스택[-1]] 요게 진짜 포인트인 것 같다"
      ],
      "metadata": {
        "id": "zz5Fw_8iH0yc"
      }
    },
    {
      "cell_type": "code",
      "source": [
        "stack=[]\n",
        "if stack: #빈 리스트면 False\n",
        "  print(1)\n",
        "\n",
        "#stack[-1] idx out 오류"
      ],
      "metadata": {
        "colab": {
          "base_uri": "https://localhost:8080/",
          "height": 209
        },
        "id": "y21nL2sxFFR8",
        "outputId": "5ec4dcda-a62b-4930-b4cc-3e814e022b97"
      },
      "execution_count": null,
      "outputs": [
        {
          "output_type": "error",
          "ename": "IndexError",
          "evalue": "ignored",
          "traceback": [
            "\u001b[0;31m---------------------------------------------------------------------------\u001b[0m",
            "\u001b[0;31mIndexError\u001b[0m                                Traceback (most recent call last)",
            "\u001b[0;32m<ipython-input-61-3ecbe1920565>\u001b[0m in \u001b[0;36m<module>\u001b[0;34m()\u001b[0m\n\u001b[1;32m      3\u001b[0m   \u001b[0mprint\u001b[0m\u001b[0;34m(\u001b[0m\u001b[0;36m1\u001b[0m\u001b[0;34m)\u001b[0m\u001b[0;34m\u001b[0m\u001b[0;34m\u001b[0m\u001b[0m\n\u001b[1;32m      4\u001b[0m \u001b[0;34m\u001b[0m\u001b[0m\n\u001b[0;32m----> 5\u001b[0;31m \u001b[0mstack\u001b[0m\u001b[0;34m[\u001b[0m\u001b[0;34m-\u001b[0m\u001b[0;36m1\u001b[0m\u001b[0;34m]\u001b[0m\u001b[0;34m\u001b[0m\u001b[0;34m\u001b[0m\u001b[0m\n\u001b[0m",
            "\u001b[0;31mIndexError\u001b[0m: list index out of range"
          ]
        }
      ]
    },
    {
      "cell_type": "code",
      "source": [
        "stack=[1]\n",
        "stack.pop() #list도 pop 가능"
      ],
      "metadata": {
        "colab": {
          "base_uri": "https://localhost:8080/"
        },
        "id": "no_uPYd_jGZ9",
        "outputId": "ff126f52-83d0-4332-fee2-0bfa05c54552"
      },
      "execution_count": null,
      "outputs": [
        {
          "output_type": "execute_result",
          "data": {
            "text/plain": [
              "1"
            ]
          },
          "metadata": {},
          "execution_count": 62
        }
      ]
    },
    {
      "cell_type": "code",
      "source": [
        "#복습\n",
        "\n",
        "def Temps(T):\n",
        "\n",
        "  stack=[]\n",
        "  ans=len(T)*[0]\n",
        "\n",
        "  for i, cur in enumerate(T):\n",
        "    \n",
        "    while stack and cur>T[stack[-1]]:   #stack은 stack[-1]이 오류 나기 전에 while을 거치지 않게 함\n",
        "      last=stack.pop()\n",
        "      ans[last]=i-last\n",
        "    stack.append(i)\n",
        "\n",
        "  return ans"
      ],
      "metadata": {
        "id": "eGi4dK8giWmM"
      },
      "execution_count": null,
      "outputs": []
    },
    {
      "cell_type": "code",
      "source": [
        "Temps(T)"
      ],
      "metadata": {
        "colab": {
          "base_uri": "https://localhost:8080/"
        },
        "id": "sF_VYv07johD",
        "outputId": "d20ff3e1-e7ce-4c7a-afab-1fb4563cbe0d"
      },
      "execution_count": null,
      "outputs": [
        {
          "output_type": "execute_result",
          "data": {
            "text/plain": [
              "[1, 1, 4, 2, 1, 1, 0, 0]"
            ]
          },
          "metadata": {},
          "execution_count": 65
        }
      ]
    },
    {
      "cell_type": "markdown",
      "source": [
        "스택 응용 문제가 아직도 익숙하지 않지만 흥미롭다...\n",
        "\n",
        "문제를 더 보면 나아질 것이라고 생각함"
      ],
      "metadata": {
        "id": "64q-LyisjsA5"
      }
    },
    {
      "cell_type": "markdown",
      "source": [
        "#큐를 이용한 스택 구현 (225)"
      ],
      "metadata": {
        "id": "QjOxaQm6kMEv"
      }
    },
    {
      "cell_type": "markdown",
      "source": [
        "큐는 선입선출, 스택은 후입선출"
      ],
      "metadata": {
        "id": "o9Nrfkqukc8O"
      }
    },
    {
      "cell_type": "code",
      "source": [
        "if None:\n",
        "  print('if statement worked')"
      ],
      "metadata": {
        "id": "RSoJBNuhmVY9"
      },
      "execution_count": null,
      "outputs": []
    },
    {
      "cell_type": "code",
      "source": [
        "'''class node:\n",
        "  def __init__(self, item, next):\n",
        "    self.item=item\n",
        "    self.next=next\n",
        "\n",
        "class stack:\n",
        "  def __init__(self, item=None, next=None):\n",
        "    if not item:\n",
        "      self.last=node(item)\n",
        "    self.next=None\n",
        "\n",
        "  def push(self, item):\n",
        "    self.last=node(item, self.last)\n",
        "\n",
        "  def pop(self):\n",
        "    self.last=self.last.next\n",
        "\n",
        "  def top(self):\n",
        "    return self.last\n",
        "\n",
        "  def empty(self):\n",
        "    if self.last is None:\n",
        "      return True\n",
        "    else:\n",
        "      return False'''"
      ],
      "metadata": {
        "id": "H6QweJLcj24R"
      },
      "execution_count": null,
      "outputs": []
    },
    {
      "cell_type": "markdown",
      "source": [
        "이걸 시킨게 아닌데..?"
      ],
      "metadata": {
        "id": "xJAgDVYlm1mj"
      }
    },
    {
      "cell_type": "markdown",
      "source": [
        "leftpop()과 append()만 쓸 수 있는 deque로 스택 구현"
      ],
      "metadata": {
        "id": "rl6SCiY1nM3x"
      }
    },
    {
      "cell_type": "code",
      "source": [
        "class stack:\n",
        "  def __init__(self):\n",
        "    from collections import deque\n",
        "    self.q=deque() #self에 q를 따로 붙이는구나..\n",
        "\n",
        "  def push(self, x):\n",
        "    self.q.append(x) #가장 뒤에 붙었으므로 맨 앞으로 옮기려면\n",
        "    for _ in range(len(self.q)-1):\n",
        "      self.q.append(self.q.popleft()) #왼쪽을 떼서 오른쪽에 n-1번 옮김\n",
        "\n",
        "  def pop(self):\n",
        "    self.q.popleft()\n",
        "\n",
        "  def top(self):\n",
        "    return self.q[0]\n",
        "\n",
        "  def empty(self):\n",
        "    return len(self.q)==0"
      ],
      "metadata": {
        "id": "VDvfSakImCmD"
      },
      "execution_count": null,
      "outputs": []
    },
    {
      "cell_type": "code",
      "source": [
        "#연결리스트\n",
        "\n"
      ],
      "metadata": {
        "id": "ENkkqAv5khIr"
      },
      "execution_count": null,
      "outputs": []
    }
  ]
}