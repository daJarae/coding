{
  "nbformat": 4,
  "nbformat_minor": 0,
  "metadata": {
    "colab": {
      "name": "17장_이진탐색.ipynb",
      "provenance": [],
      "authorship_tag": "ABX9TyMqlnwGySovIRC0bKUBvONT",
      "include_colab_link": true
    },
    "kernelspec": {
      "name": "python3",
      "display_name": "Python 3"
    },
    "language_info": {
      "name": "python"
    }
  },
  "cells": [
    {
      "cell_type": "markdown",
      "metadata": {
        "id": "view-in-github",
        "colab_type": "text"
      },
      "source": [
        "<a href=\"https://colab.research.google.com/github/daJarae/coding/blob/main/17%EC%9E%A5_%EC%9D%B4%EC%A7%84%ED%83%90%EC%83%89.ipynb\" target=\"_parent\"><img src=\"https://colab.research.google.com/assets/colab-badge.svg\" alt=\"Open In Colab\"/></a>"
      ]
    },
    {
      "cell_type": "markdown",
      "source": [
        "트리문제 숙제\n",
        "\n",
        "#993 Cousins in Binary Tree"
      ],
      "metadata": {
        "id": "x3FzRljh-gFK"
      }
    },
    {
      "cell_type": "code",
      "execution_count": null,
      "metadata": {
        "id": "aoXdlQdJ-EFu"
      },
      "outputs": [],
      "source": [
        "# Definition for a binary tree node.\n",
        "# class TreeNode:\n",
        "#     def __init__(self, val=0, left=None, right=None):\n",
        "#         self.val = val\n",
        "#         self.left = left\n",
        "#         self.right = right\n",
        "\n",
        "\n",
        "class Solution:\n",
        "\n",
        "    def isCousins(self, root: Optional[TreeNode], x: int, y: int) -> bool:\n",
        "        res=[]\n",
        "        \n",
        "        def depth(root, x, y, d, parent):\n",
        "            \n",
        "            if not root:\n",
        "                return            \n",
        "            #print(root.val)\n",
        "            \n",
        "            if root.val==x or root.val==y:\n",
        "                res.append((d,parent))\n",
        "            depth(root.left, x, y, d+1, root.val)\n",
        "            depth(root.right, x, y, d+1, root.val)\n",
        "               \n",
        "        #실행      \n",
        "        depth(root,x,y,0, None)\n",
        "        return res[0][0]==res[1][0] and res[0][1]!=res[1][1]        "
      ]
    },
    {
      "cell_type": "markdown",
      "source": [
        "#118 Pascal's Triangle\n",
        "\n",
        "트라이 문제 찾다가 잘못 발견...ㅋㅋ"
      ],
      "metadata": {
        "id": "6M8mYAQ2-07A"
      }
    },
    {
      "cell_type": "code",
      "source": [
        "class Solution:\n",
        "    \n",
        "    def generate(self, numRows: int) -> List[List[int]]:\n",
        "        res=[[1]]\n",
        "        \n",
        "        def pascal(row):\n",
        "            n=len(row)\n",
        "            next_row=[1]\n",
        "            for i in range(0,n-1):\n",
        "                next_row.append(row[i]+row[i+1])\n",
        "            return next_row+[1]\n",
        "        \n",
        "        while numRows-1>0: #[1]을 만들고 시작\n",
        "            res.append(pascal(res[-1]))\n",
        "            numRows-=1\n",
        "            \n",
        "        return res\n",
        "                "
      ],
      "metadata": {
        "id": "YpD_8Yqd-0k6"
      },
      "execution_count": null,
      "outputs": []
    },
    {
      "cell_type": "markdown",
      "source": [
        "Runtime: 57 ms, **faster than 18.25%** of Python3 online submissions\n",
        "\n",
        "Memory Usage: 13.8 MB, **less than 73.98%** of Python3 online submissions"
      ],
      "metadata": {
        "id": "jkAFJF2eBmNk"
      }
    },
    {
      "cell_type": "markdown",
      "source": [
        "아래는 빠르다는 풀이"
      ],
      "metadata": {
        "id": "5x7H0lEGB1Od"
      }
    },
    {
      "cell_type": "code",
      "source": [
        "numRows=5\n",
        "triangle = [[1]*(i+1) for i in range(numRows)]\n",
        "\n",
        "print(triangle)"
      ],
      "metadata": {
        "colab": {
          "base_uri": "https://localhost:8080/"
        },
        "id": "d0j9nzkHB0cm",
        "outputId": "9fecfc53-db9a-468a-c13c-1c8e2d010ba7"
      },
      "execution_count": 2,
      "outputs": [
        {
          "output_type": "stream",
          "name": "stdout",
          "text": [
            "[[1], [1, 1], [1, 1, 1], [1, 1, 1, 1], [1, 1, 1, 1, 1]]\n"
          ]
        }
      ]
    },
    {
      "cell_type": "code",
      "source": [
        "# calculate values for nodes  0 < item_idx < last\n",
        "\n",
        "for row_i in range(1, numRows):\n",
        "    for col_idx in range(1, row_i):\n",
        "        triangle[row_i][col_idx] = triangle[row_i - 1][col_idx - 1] + triangle[row_i - 1][col_idx]\n",
        "\n",
        "print(triangle)\n",
        "\n",
        "#triangle[i][j]를 for 반복문으로 계산\n",
        "#이게 더 느릴줄 알았는데...?!"
      ],
      "metadata": {
        "colab": {
          "base_uri": "https://localhost:8080/"
        },
        "id": "UYptv98dB_Kb",
        "outputId": "67fd967f-e9c4-43b1-e9d0-bbf89cffebb3"
      },
      "execution_count": 3,
      "outputs": [
        {
          "output_type": "stream",
          "name": "stdout",
          "text": [
            "[[1], [1, 1], [1, 2, 1], [1, 3, 3, 1], [1, 4, 6, 4, 1]]\n"
          ]
        }
      ]
    },
    {
      "cell_type": "markdown",
      "source": [
        "Runtime: 38 ms, **faster than 67.07%**of Python3 online submissions\n",
        "\n",
        "Memory Usage: 13.9 MB, **less than 30.15%** of Python3 online submissions"
      ],
      "metadata": {
        "id": "28xyoO5vCnVx"
      }
    },
    {
      "cell_type": "markdown",
      "source": [
        "근데 속도와 용량을 둘다 잡은 풀이는 아니다.\n",
        "\n",
        "이게 바로 Time-Space Tradeoffs 입니까??"
      ],
      "metadata": {
        "id": "JMLj0bKKC1HL"
      }
    },
    {
      "cell_type": "markdown",
      "source": [
        "\n",
        "\n",
        "---\n",
        "\n"
      ],
      "metadata": {
        "id": "KjFUAR5qC6AR"
      }
    },
    {
      "cell_type": "markdown",
      "source": [
        "버블 정렬"
      ],
      "metadata": {
        "id": "4-nmEddJC8dy"
      }
    },
    {
      "cell_type": "code",
      "source": [
        "def bubblesort(A):\n",
        "  for _ in range(len(A)-1):\n",
        "    for j in range(0, len(A)-1):\n",
        "      if A[j]>A[j+1]:\n",
        "        A[j], A[j+1]= A[j+1],A[j] #두 수를 비교해 스왑\n",
        "      print(A,\"스왑:\", A[j+1],A[j])\n",
        "    print(\"\\n\")\n",
        "  return A"
      ],
      "metadata": {
        "id": "PhHnJzf5C8OT"
      },
      "execution_count": 54,
      "outputs": []
    },
    {
      "cell_type": "markdown",
      "source": [
        "최대 (n-1)*2의 스왑 발생 (빅오는 일차항 무시하므로 O(N^2))\n",
        "모든 원소가 최대 n-1의 비교&스왑 거침"
      ],
      "metadata": {
        "id": "vmzzAC52Iuz1"
      }
    },
    {
      "cell_type": "code",
      "source": [
        "bubblesort([4,1,2,3])\n",
        "\n",
        "#[4,1,2,3]\n",
        "\n",
        "#4만 이동하면 되서 실상 O(N)에 정렬 끝\n",
        "#이 경우 첫번째 원소를 맨 뒤로 이동시키고 끝"
      ],
      "metadata": {
        "colab": {
          "base_uri": "https://localhost:8080/"
        },
        "id": "fhw5WM_NDmQL",
        "outputId": "88870f49-6bc1-4903-857a-a18ec8a11ddd"
      },
      "execution_count": 46,
      "outputs": [
        {
          "output_type": "stream",
          "name": "stdout",
          "text": [
            "[1, 4, 2, 3] 스왑: 4 1\n",
            "[1, 2, 4, 3] 스왑: 4 2\n",
            "[1, 2, 3, 4] 스왑: 4 3\n",
            "\n",
            "\n",
            "[1, 2, 3, 4] 스왑: 2 1\n",
            "[1, 2, 3, 4] 스왑: 3 2\n",
            "[1, 2, 3, 4] 스왑: 4 3\n",
            "\n",
            "\n",
            "[1, 2, 3, 4] 스왑: 2 1\n",
            "[1, 2, 3, 4] 스왑: 3 2\n",
            "[1, 2, 3, 4] 스왑: 4 3\n",
            "\n",
            "\n"
          ]
        },
        {
          "output_type": "execute_result",
          "data": {
            "text/plain": [
              "[1, 2, 3, 4]"
            ]
          },
          "metadata": {},
          "execution_count": 46
        }
      ]
    },
    {
      "cell_type": "code",
      "source": [
        "bubblesort([4,3,2,1])\n",
        "#역순이 앞 시작 버블정렬 기준에서 가장 순서가 엉망인 input일 텐데\n",
        "#그래도 마지막 외부 반복의 첫번째 내부 반복에서 정렬 종료됨 (그래봤자 O(N^2)인건 변함없지만)"
      ],
      "metadata": {
        "colab": {
          "base_uri": "https://localhost:8080/"
        },
        "id": "YZDnUY-7FBM0",
        "outputId": "4fc679a9-ed40-42a4-9c76-62e8431704be"
      },
      "execution_count": 52,
      "outputs": [
        {
          "output_type": "stream",
          "name": "stdout",
          "text": [
            "[3, 4, 2, 1] 스왑: 4 3\n",
            "[3, 2, 4, 1] 스왑: 4 2\n",
            "[3, 2, 1, 4] 스왑: 4 1\n",
            "\n",
            "\n",
            "[2, 3, 1, 4] 스왑: 3 2\n",
            "[2, 1, 3, 4] 스왑: 3 1\n",
            "[2, 1, 3, 4] 스왑: 4 3\n",
            "\n",
            "\n",
            "[1, 2, 3, 4] 스왑: 2 1\n",
            "[1, 2, 3, 4] 스왑: 3 2\n",
            "[1, 2, 3, 4] 스왑: 4 3\n",
            "\n",
            "\n"
          ]
        },
        {
          "output_type": "execute_result",
          "data": {
            "text/plain": [
              "[1, 2, 3, 4]"
            ]
          },
          "metadata": {},
          "execution_count": 52
        }
      ]
    },
    {
      "cell_type": "code",
      "source": [
        "bubblesort([5,4,1,3,2])"
      ],
      "metadata": {
        "colab": {
          "base_uri": "https://localhost:8080/"
        },
        "id": "5kolwT5UImce",
        "outputId": "b904b609-d881-4527-9bb9-0b3a1517fe66"
      },
      "execution_count": 56,
      "outputs": [
        {
          "output_type": "stream",
          "name": "stdout",
          "text": [
            "[4, 5, 1, 3, 2] 스왑: 5 4\n",
            "[4, 1, 5, 3, 2] 스왑: 5 1\n",
            "[4, 1, 3, 5, 2] 스왑: 5 3\n",
            "[4, 1, 3, 2, 5] 스왑: 5 2\n",
            "\n",
            "\n",
            "[1, 4, 3, 2, 5] 스왑: 4 1\n",
            "[1, 3, 4, 2, 5] 스왑: 4 3\n",
            "[1, 3, 2, 4, 5] 스왑: 4 2\n",
            "[1, 3, 2, 4, 5] 스왑: 5 4\n",
            "\n",
            "\n",
            "[1, 3, 2, 4, 5] 스왑: 3 1\n",
            "[1, 2, 3, 4, 5] 스왑: 3 2\n",
            "[1, 2, 3, 4, 5] 스왑: 4 3\n",
            "[1, 2, 3, 4, 5] 스왑: 5 4\n",
            "\n",
            "\n",
            "[1, 2, 3, 4, 5] 스왑: 2 1\n",
            "[1, 2, 3, 4, 5] 스왑: 3 2\n",
            "[1, 2, 3, 4, 5] 스왑: 4 3\n",
            "[1, 2, 3, 4, 5] 스왑: 5 4\n",
            "\n",
            "\n"
          ]
        },
        {
          "output_type": "execute_result",
          "data": {
            "text/plain": [
              "[1, 2, 3, 4, 5]"
            ]
          },
          "metadata": {},
          "execution_count": 56
        }
      ]
    },
    {
      "cell_type": "markdown",
      "source": [
        "5,4,3 제자리 찾고 나면 1,2는 움직이지 않아도 되기 때문에 외부 반복문은 세번 돔"
      ],
      "metadata": {
        "id": "rtiiud_0J-Ru"
      }
    },
    {
      "cell_type": "code",
      "source": [
        "bubblesort([5,4,1,2,3])"
      ],
      "metadata": {
        "colab": {
          "base_uri": "https://localhost:8080/"
        },
        "id": "3RZwNaguKEC1",
        "outputId": "98f5be45-dadb-4979-d1f4-fb2041c3428c"
      },
      "execution_count": 57,
      "outputs": [
        {
          "output_type": "stream",
          "name": "stdout",
          "text": [
            "[4, 5, 1, 2, 3] 스왑: 5 4\n",
            "[4, 1, 5, 2, 3] 스왑: 5 1\n",
            "[4, 1, 2, 5, 3] 스왑: 5 2\n",
            "[4, 1, 2, 3, 5] 스왑: 5 3\n",
            "\n",
            "\n",
            "[1, 4, 2, 3, 5] 스왑: 4 1\n",
            "[1, 2, 4, 3, 5] 스왑: 4 2\n",
            "[1, 2, 3, 4, 5] 스왑: 4 3\n",
            "[1, 2, 3, 4, 5] 스왑: 5 4\n",
            "\n",
            "\n",
            "[1, 2, 3, 4, 5] 스왑: 2 1\n",
            "[1, 2, 3, 4, 5] 스왑: 3 2\n",
            "[1, 2, 3, 4, 5] 스왑: 4 3\n",
            "[1, 2, 3, 4, 5] 스왑: 5 4\n",
            "\n",
            "\n",
            "[1, 2, 3, 4, 5] 스왑: 2 1\n",
            "[1, 2, 3, 4, 5] 스왑: 3 2\n",
            "[1, 2, 3, 4, 5] 스왑: 4 3\n",
            "[1, 2, 3, 4, 5] 스왑: 5 4\n",
            "\n",
            "\n"
          ]
        },
        {
          "output_type": "execute_result",
          "data": {
            "text/plain": [
              "[1, 2, 3, 4, 5]"
            ]
          },
          "metadata": {},
          "execution_count": 57
        }
      ]
    },
    {
      "cell_type": "markdown",
      "source": [
        "5,4,3 제자리 찾고 나면 1,2는 움직이지 않아도 되기 때문에 외부 반복문은 두번 돔"
      ],
      "metadata": {
        "id": "YY2DGGVsKJ2j"
      }
    },
    {
      "cell_type": "markdown",
      "source": [
        "\n",
        "\n",
        "---\n",
        "\n"
      ],
      "metadata": {
        "id": "RpGYY_7Wbduf"
      }
    },
    {
      "cell_type": "markdown",
      "source": [
        "#병합 정렬"
      ],
      "metadata": {
        "id": "dXngObQuKQgX"
      }
    },
    {
      "cell_type": "markdown",
      "source": [
        "최선과 최악 모두 O(nlogn)인, 사실상 완전한 O(nlogn)으로 일정한 알고리즘\n",
        "\n",
        "\n",
        "대부분 퀵 정렬 보다 느리지만 안전 정렬이라 상용 라이브러리에 많이 사용\n",
        "\n",
        "먼저 발견된, 두 수 사이 오름차순 지점을 기준으로 리스트를 분할, 정렬 하는\n",
        "과정을 반복한 후 합침\n",
        "\n",
        "방식 자체보다 이게 더 효율적인 정렬일 거라는 발상이 감탄스럽다~"
      ],
      "metadata": {
        "id": "upkcYvHFKVGo"
      }
    },
    {
      "cell_type": "markdown",
      "source": [
        "\n",
        "\n",
        "---\n",
        "\n"
      ],
      "metadata": {
        "id": "LOk81LJuber-"
      }
    },
    {
      "cell_type": "markdown",
      "source": [
        "#퀵 정렬\n",
        "\n",
        "피벗 기준 더 작은 값은 피벗 왼쪽, 큰 값은 오른쪽으로 나누는\n",
        "\n",
        "투포인터 파티션 교환 정렬 (양측 재귀)\n",
        "\n",
        "입력변수로 원 리스트를 사용하며 lo, pivot-1 또는 pivot+1, hi 변수로 슬라이싱 역할을 해준다"
      ],
      "metadata": {
        "id": "A4YiwUUlLBhg"
      }
    },
    {
      "cell_type": "code",
      "source": [
        "def quicksort(A,lo,hi): #lo, hi는 인덱스\n",
        "  def partition(lo,hi):\n",
        "    pivot=A[hi]\n",
        "    left=lo\n",
        "    for right in range(lo, hi):\n",
        "\n",
        "      ### 채워보기 ###\n",
        "\n",
        "      if A[right] > pivot and A[right]>A[left]: #right가 left보다 커도 pivot보다 작으면 그냥 둬도 됨 (향후 정렬)\n",
        "        A[left], A[right] = A[right], A[left]\n",
        "      if A[right] > pivot and right==hi-1:\n",
        "        A[left], A[hi]=  A[hi], A[left]      \n",
        "\n",
        "      ### 채워보기 ###      \n",
        "    return left #최종 left의 위치가 새 피벗\n",
        "\n",
        "  if lo<hi:\n",
        "    pivot=partition(lo,hi)\n",
        "    quicksort(A, lo, pivot-1)\n",
        "    quicksort(A, pivot+1, hi)"
      ],
      "metadata": {
        "id": "4_7BDcVFKIg2"
      },
      "execution_count": null,
      "outputs": []
    },
    {
      "cell_type": "code",
      "source": [
        "def quicksort(A,lo,hi): #lo, hi는 인덱스\n",
        "  def partition(lo,hi):\n",
        "    pivot=A[hi]\n",
        "    left=lo\n",
        "    for right in range(lo, hi):\n",
        "      if A[right] < pivot: #★1) 조건 틀림 // A[right] < pivot and A[right]>A[left] 도 말 돼죠?\n",
        "        A[left], A[right] = A[right], A[left]\n",
        "        left+=1 # ★2) \n",
        "    A[left], A[hi]=  A[hi], A[left] #★3) 조건 없이 실행 \n",
        "    return left\n",
        "\n",
        "  if lo<hi:\n",
        "    pivot=partition(lo,hi)\n",
        "    quicksort(A, lo, pivot-1)\n",
        "    quicksort(A, pivot+1, hi)"
      ],
      "metadata": {
        "id": "wnlyCR1uZoE2"
      },
      "execution_count": null,
      "outputs": []
    },
    {
      "cell_type": "markdown",
      "source": [
        "★2) right의 for문이므로 left 인덱스는 수동 이동 \n",
        "\n",
        "★3) A[right] > pivot는 늘 충족 (pivot보다 작은 값은 왼쪽에 계속 보냄),\n",
        "\n",
        "right==hi-1 역시 right가 늘 끝까지 이동하므로 불필요 -> 해당 조건 명기 불필요"
      ],
      "metadata": {
        "id": "aak9tAx1bAjc"
      }
    },
    {
      "cell_type": "markdown",
      "source": [
        "pivot보다 작은 right번째 원소를 left번째 원소와 계속 교환,\n",
        "\n",
        " right가 더 이상 pivot보다 작은 원소를 못 만난다면\n",
        "left는 pivot보다 큰 원소들 중 맨 앞 원소 자리에 잔류\n",
        "\n",
        "left 전/후는 각각 정렬되지 않은 상태"
      ],
      "metadata": {
        "id": "HOKaSxdgblP6"
      }
    },
    {
      "cell_type": "markdown",
      "source": [
        "\n",
        "\n",
        "---\n",
        "\n"
      ],
      "metadata": {
        "id": "YficmjpVdMwj"
      }
    },
    {
      "cell_type": "markdown",
      "source": [
        "안전정렬: 중복된 값을 입력 순서와 동일하게 정렬하는 알고리즘\n",
        "\n",
        "지역(사전순 문자열), 시간(숫자) 두 변수로 이뤄진 데이터에 대해\n",
        "\n",
        "불안정 정렬로 지역 기준 정렬시, 같은 지역명의 시간 변수는 뒤죽박죽 뒤섞일 수 있다\n",
        "\n",
        "*퀵 정렬은 피벗 전 후로 분류하겠다는 기준만으로... 장난감 상자 뒤지듯 휙휙 분류해서 안정 정렬이 아니다"
      ],
      "metadata": {
        "id": "tNqcPQs4dP9E"
      }
    },
    {
      "cell_type": "markdown",
      "source": [
        "제 순서를 정확히 찾아 끼우는(?) 병합 정렬, 버블 정렬이 안전 정렬이다.\n",
        "\n",
        "파이썬의 기본 정렬 알고리즘은 병합 정렬과 삽입 정렬을 휴리스틱하게 조합한 팀소트 이다"
      ],
      "metadata": {
        "id": "hJz_yEuld5gE"
      }
    },
    {
      "cell_type": "markdown",
      "source": [
        "\n",
        "\n",
        "---\n",
        "\n"
      ],
      "metadata": {
        "id": "gSWWBT0qecrM"
      }
    },
    {
      "cell_type": "markdown",
      "source": [
        "#58 리스트 정렬"
      ],
      "metadata": {
        "id": "HFAaCdcoedJy"
      }
    },
    {
      "cell_type": "code",
      "source": [
        "#Definition for singly-linked list\n",
        "\n",
        "class ListNode:\n",
        "    def __init__(self, val=0, next=None):\n",
        "        self.val = val\n",
        "        self.next = next"
      ],
      "metadata": {
        "id": "U2LlLFsrd5Tt"
      },
      "execution_count": 62,
      "outputs": []
    },
    {
      "cell_type": "markdown",
      "source": [
        "내부 반복용 node, 외부 반복용 node_를 이용한 버블 정렬"
      ],
      "metadata": {
        "id": "ziiLSkfvjfHt"
      }
    },
    {
      "cell_type": "code",
      "source": [
        "class Solution:\n",
        "    def sortList(self, head):\n",
        "        \n",
        "        if not head:\n",
        "            return\n",
        "        \n",
        "        node_=head\n",
        "        \n",
        "        while node_.next:\n",
        "            node=head\n",
        "        \n",
        "            while node.next:\n",
        "                print(node.val,node.next.val)\n",
        "                if node.val > node.next.val:\n",
        "                    print(node.val, node.next.val)\n",
        "                    node.val, node.next.val=node.next.val, node.val\n",
        "                    print(node.val, node.next.val)\n",
        "                node=node.next\n",
        "                \n",
        "            node_=node_.next\n",
        "            \n",
        "        return head"
      ],
      "metadata": {
        "id": "jlSsUwI4bk0n"
      },
      "execution_count": null,
      "outputs": []
    },
    {
      "cell_type": "markdown",
      "source": [
        "테스트 케이스 통과, submission은 불통"
      ],
      "metadata": {
        "id": "jkJNla6FjuyJ"
      }
    },
    {
      "cell_type": "code",
      "source": [
        "class Solution:\n",
        "    def sortList(self, head):\n",
        "        \n",
        "        if not head:\n",
        "            return\n",
        "        \n",
        "        node=head\n",
        "        ls=[]\n",
        "        \n",
        "        while node:\n",
        "            ls.append(node.val)\n",
        "            node=node.next\n",
        "        \n",
        "        ls=sorted(ls, reverse=True) #역정렬 스택\n",
        "        \n",
        "        node=head\n",
        "            \n",
        "        while ls:\n",
        "            node.val=ls.pop()\n",
        "            node=node.next\n",
        "        \n",
        "        return head"
      ],
      "metadata": {
        "id": "8cchopabk0MT"
      },
      "execution_count": null,
      "outputs": []
    },
    {
      "cell_type": "markdown",
      "source": [
        "Runtime: 169 ms, **faster than 97.19%** of Python3\n",
        "\n",
        "Memory Usage: 30.1 MB, **less than 35.62%** of Python3"
      ],
      "metadata": {
        "id": "kszIfEDYk4E_"
      }
    },
    {
      "cell_type": "markdown",
      "source": [
        "음... 너무 쉬운 방법으로 풀었나?"
      ],
      "metadata": {
        "id": "wMPofznilAJ5"
      }
    },
    {
      "cell_type": "code",
      "source": [
        "#교재풀이3\n",
        "\n",
        "def sort_(head):\n",
        "  node=head\n",
        "  ls=[]\n",
        "  while node:\n",
        "    ls.append(node.val)\n",
        "    node=node.next\n",
        "\n",
        "  ls.sort()\n",
        "\n",
        "  node=head\n",
        "  for i in range(len(ls)):\n",
        "    node.val=ls[i]\n",
        "    node=node.next\n",
        "    \n",
        "  return head"
      ],
      "metadata": {
        "id": "znjRMe1ClZ2q"
      },
      "execution_count": 63,
      "outputs": []
    },
    {
      "cell_type": "markdown",
      "source": [
        "while 이나 for이나 풀이 시간은 비슷함"
      ],
      "metadata": {
        "id": "CLhPg31ymQkC"
      }
    },
    {
      "cell_type": "markdown",
      "source": [
        "#교재풀이"
      ],
      "metadata": {
        "id": "kh4MAchIlH_R"
      }
    },
    {
      "cell_type": "markdown",
      "source": [
        "몰랐는데 시간복잡도 O(nlogn) 제약이 있었다.\n",
        "\n",
        "버블 정렬은 아예 안됨..."
      ],
      "metadata": {
        "id": "EQSDoMN5lL5n"
      }
    },
    {
      "cell_type": "markdown",
      "source": [
        "정렬 연결리스트 병합"
      ],
      "metadata": {
        "id": "EnbwLtHn5VBV"
      }
    },
    {
      "cell_type": "code",
      "source": [
        "#정렬된 두 연결리스트 병합 코드\n",
        "\n",
        "  def mergeTwoLN(self, l1, l2): #l1, l2 각자 정렬 전제\n",
        "    if l1 and l2:\n",
        "      if l1.val>l2.val:\n",
        "        l1, l2= l2, l1  #l1이 더 작은 쪽이 되도록\n",
        "      l1.next=self.mergeTwoLN(l1.next,l2)\n",
        "\n",
        "    return l1 or l2"
      ],
      "metadata": {
        "id": "0UyVJFK43QHm"
      },
      "execution_count": null,
      "outputs": []
    },
    {
      "cell_type": "code",
      "source": [
        "l1=ListNode(3)\n",
        "l1.next=ListNode(5)\n",
        "l2=ListNode(2)\n",
        "l2.next=ListNode(4)\n",
        "l2.next.next=ListNode(1)"
      ],
      "metadata": {
        "id": "R15tBkQNxs6i"
      },
      "execution_count": 91,
      "outputs": []
    },
    {
      "cell_type": "code",
      "source": [
        "root=s.mergeTwoLN(l1,l2)"
      ],
      "metadata": {
        "id": "GusagV-SxniX"
      },
      "execution_count": 76,
      "outputs": []
    },
    {
      "cell_type": "code",
      "source": [
        "root.val"
      ],
      "metadata": {
        "colab": {
          "base_uri": "https://localhost:8080/"
        },
        "id": "X9tErSOvx6UJ",
        "outputId": "9a8ac62f-2386-4226-dc33-89972971c462"
      },
      "execution_count": 82,
      "outputs": [
        {
          "output_type": "execute_result",
          "data": {
            "text/plain": [
              "2"
            ]
          },
          "metadata": {},
          "execution_count": 82
        }
      ]
    },
    {
      "cell_type": "code",
      "source": [
        "root.next.val"
      ],
      "metadata": {
        "colab": {
          "base_uri": "https://localhost:8080/"
        },
        "id": "M27YC_4FyQIh",
        "outputId": "3a951e95-992c-4e80-fbb1-79d6e85dedde"
      },
      "execution_count": 80,
      "outputs": [
        {
          "output_type": "execute_result",
          "data": {
            "text/plain": [
              "3"
            ]
          },
          "metadata": {},
          "execution_count": 80
        }
      ]
    },
    {
      "cell_type": "code",
      "source": [
        "root.next.next.val"
      ],
      "metadata": {
        "colab": {
          "base_uri": "https://localhost:8080/"
        },
        "id": "aK28fpUWyQjo",
        "outputId": "76122858-7f64-43d8-bae3-d0a159d2fde0"
      },
      "execution_count": 81,
      "outputs": [
        {
          "output_type": "execute_result",
          "data": {
            "text/plain": [
              "4"
            ]
          },
          "metadata": {},
          "execution_count": 81
        }
      ]
    },
    {
      "cell_type": "code",
      "source": [
        "import matplotlib.pyplot as plt\n",
        "import matplotlib.image as img\n",
        "  \n",
        "plt.figure(figsize = (10,40))\n",
        "plt.xticks([])\n",
        "plt.yticks([])\n",
        "im = img.imread('/content/sigakhwa.png')\n",
        "plt.imshow(im)"
      ],
      "metadata": {
        "colab": {
          "base_uri": "https://localhost:8080/",
          "height": 657
        },
        "id": "Iru8t13K2dcp",
        "outputId": "701114ef-6aff-4a37-b3c6-997f680fb203"
      },
      "execution_count": 89,
      "outputs": [
        {
          "output_type": "execute_result",
          "data": {
            "text/plain": [
              "<matplotlib.image.AxesImage at 0x7f52d0dba990>"
            ]
          },
          "metadata": {},
          "execution_count": 89
        },
        {
          "output_type": "display_data",
          "data": {
            "text/plain": [
              "<Figure size 720x2880 with 1 Axes>"
            ],
            "image/png": "[encoded data removed]"
          },
          "metadata": {}
        }
      ]
    },
    {
      "cell_type": "markdown",
      "source": [
        "전체 코드"
      ],
      "metadata": {
        "id": "REYQwloK5SxB"
      }
    },
    {
      "cell_type": "code",
      "source": [
        "#교재풀이1: 병합 정렬\n",
        "\n",
        "class Solution:\n",
        "\n",
        "  def mergeTwoLN(self, l1, l2): #l1, l2 각자 정렬 전제\n",
        "  \n",
        "  #확인용\n",
        "    if l1:\n",
        "      node=l1\n",
        "      print('\\nl1: ', end='')\n",
        "      while node:\n",
        "        print(node.val, end='')\n",
        "        node=node.next\n",
        "    if l2:\n",
        "      node=l2\n",
        "      print('\\nl2: ', end='')\n",
        "      while node:\n",
        "        print(node.val, end='')\n",
        "        node=node.next\n",
        "\n",
        "\n",
        "    if l1 and l2:\n",
        "      if l1.val>l2.val:\n",
        "        l1, l2= l2, l1  #l1이 더 작은 쪽이 되도록\n",
        "      l1.next=self.mergeTwoLN(l1.next,l2)\n",
        "\n",
        "    return l1 or l2\n",
        "\n",
        "\n",
        "  def sortLN(self, head): #재귀\n",
        "    if not (head and head.next): #None or uni Node\n",
        "      return head\n",
        "\n",
        "    half, slow, fast= None, head, head #런너\n",
        "    while fast and fast.next:\n",
        "      half,slow,fast= slow, slow.next, fast.next.next #홀수 연결은 (n+1)/2, 짝수는 n/2에 slow 멈춤\n",
        "    half.next=None #half에서 단절\n",
        "    \n",
        "    l1=self.sortLN(head)\n",
        "    l2=self.sortLN(slow)\n",
        "    \n",
        "\n",
        "    #모든 요소 다 끊겨서 fast.next가 None일 때 while 건너뜀\n",
        "\n",
        "    return self.mergeTwoLN(l1,l2) #?? 다 끊어져 있는데 어떻게 연결?"
      ],
      "metadata": {
        "id": "sO2_RSnQlLlp"
      },
      "execution_count": 146,
      "outputs": []
    },
    {
      "cell_type": "code",
      "source": [
        "l1=ListNode(-1)\n",
        "l1.next=ListNode(5)\n",
        "l1.next.next=ListNode(3)\n",
        "l1.next.next.next=ListNode(4)\n",
        "l1.next.next.next.next=ListNode(0)"
      ],
      "metadata": {
        "id": "8LVQoxqy5a0K"
      },
      "execution_count": 150,
      "outputs": []
    },
    {
      "cell_type": "code",
      "source": [
        "s=Solution()\n",
        "root=s.sortLN(l1)"
      ],
      "metadata": {
        "colab": {
          "base_uri": "https://localhost:8080/"
        },
        "id": "IhOohEn1uYs6",
        "outputId": "edbc0872-b227-4e9c-bf8d-501c9f362377"
      },
      "execution_count": 151,
      "outputs": [
        {
          "output_type": "stream",
          "name": "stdout",
          "text": [
            "\n",
            "l1: -1\n",
            "l2: 5\n",
            "l2: 5\n",
            "l1: 4\n",
            "l2: 0\n",
            "l2: 4\n",
            "l1: 3\n",
            "l2: 04\n",
            "l1: 4\n",
            "l2: 3\n",
            "l2: 4\n",
            "l1: -15\n",
            "l2: 034\n",
            "l1: 5\n",
            "l2: 034\n",
            "l1: 34\n",
            "l2: 5\n",
            "l1: 4\n",
            "l2: 5\n",
            "l2: 5"
          ]
        }
      ]
    },
    {
      "cell_type": "code",
      "source": [
        "node=root\n",
        "while node:\n",
        "  print(node.val)\n",
        "  node=node.next"
      ],
      "metadata": {
        "colab": {
          "base_uri": "https://localhost:8080/"
        },
        "id": "LVl3SLds5mjG",
        "outputId": "645c1a49-be6b-4d11-d34e-98690247483f"
      },
      "execution_count": 152,
      "outputs": [
        {
          "output_type": "stream",
          "name": "stdout",
          "text": [
            "-1\n",
            "0\n",
            "3\n",
            "4\n",
            "5\n"
          ]
        }
      ]
    },
    {
      "cell_type": "markdown",
      "source": [
        "정렬이 잘 된 것을... 볼 수 있다\n",
        "\n",
        "재귀 뜯어보기는 참 머리아프다\n",
        "\n",
        "이 이상의 이해는 지금으로서는 어려울둣..."
      ],
      "metadata": {
        "id": "5XZaZU_65xzG"
      }
    },
    {
      "cell_type": "markdown",
      "source": [
        "#교재풀이2: 퀵 정렬 (성능 편차 커서.. 이 문제에선 타임아웃)\n",
        "\n",
        "풀 수는 있으나 변형 최적화 필요 (교재 범위 외라며 포함하지 않으신...)\n",
        "\n",
        "같은 알고리즘으로는 자바, C++ 가능"
      ],
      "metadata": {
        "id": "OkWXjPHI7-3P"
      }
    },
    {
      "cell_type": "markdown",
      "source": [
        "\n",
        "\n",
        "---\n",
        "\n"
      ],
      "metadata": {
        "id": "krVhLcpY8Fi2"
      }
    },
    {
      "cell_type": "markdown",
      "source": [
        "#56 구간 병합"
      ],
      "metadata": {
        "id": "DD1eTa9P9j1f"
      }
    },
    {
      "cell_type": "code",
      "source": [
        "#N^2\n",
        "def merge_range(rg):\n",
        "  res=[]\n",
        "  rg=sorted(rg, key= lambda x: x[0])\n",
        "  i=0\n",
        "\n",
        "  while i<len(rg):\n",
        "    left,right, right_bound= rg[i][0],rg[i][1], rg[i][1]\n",
        "    print(left)\n",
        "\n",
        "    while i<len(rg):\n",
        "      if rg[i][0]>right: #[1,3]의 3보다 [8,10]의 8이 크면 [1,6]까지 추가 -> 마지막 범위는 항상 추가 안됨\n",
        "        res.append([left, right_bound])\n",
        "        print(res)\n",
        "        break\n",
        "      right_bound=rg[i][1]\n",
        "      i+=1   \n",
        "\n",
        "  res.append(rg[-1])\n",
        "  \n",
        "  return res"
      ],
      "metadata": {
        "id": "3IiEXo-blJHE"
      },
      "execution_count": 214,
      "outputs": []
    },
    {
      "cell_type": "markdown",
      "source": [
        "처음에 right와 right_bound 구분 안해서 망한..."
      ],
      "metadata": {
        "id": "DdAewl_xB3aC"
      }
    },
    {
      "cell_type": "code",
      "source": [
        "merge_range([[1,3],[2,6],[8,10],[15,18]])"
      ],
      "metadata": {
        "colab": {
          "base_uri": "https://localhost:8080/"
        },
        "id": "J7eQIZB6_ZV5",
        "outputId": "a52637f0-388c-4a8d-c3f7-20b7a6c59d45"
      },
      "execution_count": 215,
      "outputs": [
        {
          "output_type": "stream",
          "name": "stdout",
          "text": [
            "1\n",
            "[[1, 6]]\n",
            "8\n",
            "[[1, 6], [8, 10]]\n",
            "15\n"
          ]
        },
        {
          "output_type": "execute_result",
          "data": {
            "text/plain": [
              "[[1, 6], [8, 10], [15, 18]]"
            ]
          },
          "metadata": {},
          "execution_count": 215
        }
      ]
    },
    {
      "cell_type": "code",
      "source": [
        "merge_range([[1,3],[2,6],[8,17],[15,18]])"
      ],
      "metadata": {
        "colab": {
          "base_uri": "https://localhost:8080/"
        },
        "id": "6Me9uUTJDmMI",
        "outputId": "a98cc309-6ba7-4d46-a3f9-59d2117500ec"
      },
      "execution_count": 216,
      "outputs": [
        {
          "output_type": "stream",
          "name": "stdout",
          "text": [
            "1\n",
            "[[1, 6]]\n",
            "8\n"
          ]
        },
        {
          "output_type": "execute_result",
          "data": {
            "text/plain": [
              "[[1, 6], [15, 18]]"
            ]
          },
          "metadata": {},
          "execution_count": 216
        }
      ]
    },
    {
      "cell_type": "markdown",
      "source": [
        "꼬인 풀이다...\n",
        "\n",
        "left, right를 인덱스로 지정하는 게 나았을 것 같다"
      ],
      "metadata": {
        "id": "4cf0abxcDvEg"
      }
    },
    {
      "cell_type": "markdown",
      "source": [
        "#교재 풀이"
      ],
      "metadata": {
        "id": "aB2tioYWD0UX"
      }
    },
    {
      "cell_type": "code",
      "source": [
        "def merge(intervals):\n",
        "  merged=[]\n",
        "  for i in sorted(intervals, key=lambda x: x[0]):\n",
        "    if merged and i[0] <= merged[-1][1]:\n",
        "      merged[-1][1]=max(merged[-1][1],i[1])\n",
        "    else:\n",
        "      merged+=i, #콤마 없으면 왜 오류임????\n",
        "    print(merged)\n",
        "  return merged"
      ],
      "metadata": {
        "id": "FkmLWBsAyIHI"
      },
      "execution_count": 231,
      "outputs": []
    },
    {
      "cell_type": "code",
      "source": [
        "merge([[1,3],[2,6],[8,10],[15,18]])"
      ],
      "metadata": {
        "colab": {
          "base_uri": "https://localhost:8080/"
        },
        "id": "_miiYPMGEKM4",
        "outputId": "8902176e-9236-43fc-c446-be0f3d8ce29d"
      },
      "execution_count": 233,
      "outputs": [
        {
          "output_type": "stream",
          "name": "stdout",
          "text": [
            "[[1, 3]]\n",
            "[[1, 6]]\n",
            "[[1, 6], [8, 10]]\n",
            "[[1, 6], [8, 10], [15, 18]]\n"
          ]
        },
        {
          "output_type": "execute_result",
          "data": {
            "text/plain": [
              "[[1, 6], [8, 10], [15, 18]]"
            ]
          },
          "metadata": {},
          "execution_count": 233
        }
      ]
    }
  ]
}