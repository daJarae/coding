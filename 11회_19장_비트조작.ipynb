{
  "nbformat": 4,
  "nbformat_minor": 0,
  "metadata": {
    "colab": {
      "name": "19장_비트조작.ipynb",
      "provenance": [],
      "collapsed_sections": [],
      "authorship_tag": "ABX9TyN0rK9skTrHbkBr1Px55cCz",
      "include_colab_link": true
    },
    "kernelspec": {
      "name": "python3",
      "display_name": "Python 3"
    },
    "language_info": {
      "name": "python"
    }
  },
  "cells": [
    {
      "cell_type": "markdown",
      "metadata": {
        "id": "view-in-github",
        "colab_type": "text"
      },
      "source": [
        "<a href=\"https://colab.research.google.com/github/daJarae/coding/blob/main/11%ED%9A%8C_19%EC%9E%A5_%EB%B9%84%ED%8A%B8%EC%A1%B0%EC%9E%91.ipynb\" target=\"_parent\"><img src=\"https://colab.research.google.com/assets/colab-badge.svg\" alt=\"Open In Colab\"/></a>"
      ]
    },
    {
      "cell_type": "markdown",
      "source": [
        "#70 싱글넘버\n",
        "\n",
        "유일하게 하나만 있는 엘리먼트 찾기 (나머진 2개씩 있음)"
      ],
      "metadata": {
        "id": "LvIwuP7WRE9c"
      }
    },
    {
      "cell_type": "code",
      "execution_count": 17,
      "metadata": {
        "id": "v9IeXOYq-4oW"
      },
      "outputs": [],
      "source": [
        "#비트연산 ^ 이용\n",
        "\n",
        "def single(nums):\n",
        "  ans=0\n",
        "  for n in nums:\n",
        "    print(n, ans)\n",
        "    ans^=n\n",
        "    print(ans)\n",
        "\n",
        "  return ans"
      ]
    },
    {
      "cell_type": "code",
      "source": [
        "single([2,5,1,1,2,7])"
      ],
      "metadata": {
        "colab": {
          "base_uri": "https://localhost:8080/"
        },
        "id": "3CtjZMgBUat-",
        "outputId": "ac0ccfb9-a4d0-4f23-a2a9-3e70a51c6850"
      },
      "execution_count": 41,
      "outputs": [
        {
          "output_type": "stream",
          "name": "stdout",
          "text": [
            "2 0\n",
            "2\n",
            "5 2\n",
            "7\n",
            "1 7\n",
            "6\n",
            "1 6\n",
            "7\n",
            "2 7\n",
            "5\n",
            "7 5\n",
            "2\n"
          ]
        },
        {
          "output_type": "execute_result",
          "data": {
            "text/plain": [
              "2"
            ]
          },
          "metadata": {},
          "execution_count": 41
        }
      ]
    },
    {
      "cell_type": "code",
      "source": [
        "print(bin(2),bin(7))"
      ],
      "metadata": {
        "colab": {
          "base_uri": "https://localhost:8080/"
        },
        "id": "hjqgGNClWNgV",
        "outputId": "6a3d435b-5a3d-4b82-e63d-3cc59e2f7df7"
      },
      "execution_count": 36,
      "outputs": [
        {
          "output_type": "stream",
          "name": "stdout",
          "text": [
            "0b10 0b111\n"
          ]
        }
      ]
    },
    {
      "cell_type": "code",
      "source": [
        "bin(0b10^0b111)"
      ],
      "metadata": {
        "colab": {
          "base_uri": "https://localhost:8080/",
          "height": 35
        },
        "id": "pwMrBozyV7k9",
        "outputId": "611e9c7b-ad3b-41cd-e555-ad7572c24401"
      },
      "execution_count": 37,
      "outputs": [
        {
          "output_type": "execute_result",
          "data": {
            "text/plain": [
              "'0b101'"
            ],
            "application/vnd.google.colaboratory.intrinsic+json": {
              "type": "string"
            }
          },
          "metadata": {},
          "execution_count": 37
        }
      ]
    },
    {
      "cell_type": "code",
      "source": [
        "int('101',2)"
      ],
      "metadata": {
        "colab": {
          "base_uri": "https://localhost:8080/"
        },
        "id": "d3ub5fxqWzPx",
        "outputId": "541b1431-c967-4ba3-d127-19673838798d"
      },
      "execution_count": 38,
      "outputs": [
        {
          "output_type": "execute_result",
          "data": {
            "text/plain": [
              "5"
            ]
          },
          "metadata": {},
          "execution_count": 38
        }
      ]
    },
    {
      "cell_type": "code",
      "source": [
        "print(0^0)\n",
        "print(0^2)\n",
        "print(2^2)\n",
        "print(2^1) #0 아닌수 (True?) 두개 오면 합 또는 차 출력"
      ],
      "metadata": {
        "colab": {
          "base_uri": "https://localhost:8080/"
        },
        "id": "QCoPNjK0Uhot",
        "outputId": "e16d626b-722a-41c6-a45b-0152ef10a5ec"
      },
      "execution_count": 9,
      "outputs": [
        {
          "output_type": "stream",
          "name": "stdout",
          "text": [
            "0\n",
            "2\n",
            "0\n",
            "3\n"
          ]
        }
      ]
    },
    {
      "cell_type": "markdown",
      "source": [
        "수가 두번 있다면 같은 걸 더하고 빼는 효과인가.."
      ],
      "metadata": {
        "id": "jyATdW3iXoVk"
      }
    },
    {
      "cell_type": "markdown",
      "source": [
        "#71 해밍 거리"
      ],
      "metadata": {
        "id": "GQjhu_CVXzgh"
      }
    },
    {
      "cell_type": "code",
      "source": [
        "#x=1, y=4\n",
        "#몇군데 비트가 서로 다른지 수 세기\n",
        "#0001, 0100 이면 1의 자리, 4의 자리가 다르므로 2"
      ],
      "metadata": {
        "id": "ZAiNscT8UvwJ"
      },
      "execution_count": null,
      "outputs": []
    },
    {
      "cell_type": "code",
      "source": [
        "def hamming(x,y):\n",
        "  x=bin(x)[2:]\n",
        "  y=bin(y)[2:]\n",
        "  while len(y)<len(x):\n",
        "    y='0'+y\n",
        "\n",
        "  return sum([x[i]!=y[i] for i in range(len(x))])"
      ],
      "metadata": {
        "id": "3ElUmBDYYEfd"
      },
      "execution_count": 67,
      "outputs": []
    },
    {
      "cell_type": "code",
      "source": [
        "hamming(4,1)"
      ],
      "metadata": {
        "colab": {
          "base_uri": "https://localhost:8080/"
        },
        "id": "iLQw26BHYKDM",
        "outputId": "9ce9ed21-986d-429d-b880-258396329c0b"
      },
      "execution_count": 68,
      "outputs": [
        {
          "output_type": "execute_result",
          "data": {
            "text/plain": [
              "2"
            ]
          },
          "metadata": {},
          "execution_count": 68
        }
      ]
    },
    {
      "cell_type": "code",
      "source": [
        "def hamming(x,y):\n",
        "  return bin(x^y).count('1') #0b는 안세니까.."
      ],
      "metadata": {
        "id": "k1GkYBQqYwx0"
      },
      "execution_count": 69,
      "outputs": []
    },
    {
      "cell_type": "markdown",
      "source": [
        "엥?"
      ],
      "metadata": {
        "id": "c1Ad4-EgZbLD"
      }
    },
    {
      "cell_type": "code",
      "source": [
        "2^5 #아앗... 지금까지 R의 ^와 헷갈리고 있었다"
      ],
      "metadata": {
        "colab": {
          "base_uri": "https://localhost:8080/"
        },
        "id": "oNsCLlcnZg9m",
        "outputId": "beacfbda-edfa-4502-f98c-e1709b43bfc5"
      },
      "execution_count": 72,
      "outputs": [
        {
          "output_type": "execute_result",
          "data": {
            "text/plain": [
              "7"
            ]
          },
          "metadata": {},
          "execution_count": 72
        }
      ]
    },
    {
      "cell_type": "code",
      "source": [
        "bin(2^5) #^는 이진 연산자.. 입니다.."
      ],
      "metadata": {
        "colab": {
          "base_uri": "https://localhost:8080/",
          "height": 35
        },
        "id": "RA4KuDLRZcfw",
        "outputId": "ac5cb509-93a4-47c7-f7ad-16d0a21ac06c"
      },
      "execution_count": 73,
      "outputs": [
        {
          "output_type": "execute_result",
          "data": {
            "text/plain": [
              "'0b111'"
            ],
            "application/vnd.google.colaboratory.intrinsic+json": {
              "type": "string"
            }
          },
          "metadata": {},
          "execution_count": 73
        }
      ]
    },
    {
      "cell_type": "markdown",
      "source": [
        "#74 1비트의 개수\n",
        "정수형을 받아 (이진수일 때의) 1비트 개수 출력 (?? 그냥 세면 안되나?)"
      ],
      "metadata": {
        "id": "Zt-NHs_QZ1Nx"
      }
    },
    {
      "cell_type": "code",
      "source": [
        "def hamweight(n):\n",
        "  return bin(n).count('1')"
      ],
      "metadata": {
        "id": "fR5KZgXNZ762"
      },
      "execution_count": 74,
      "outputs": []
    },
    {
      "cell_type": "code",
      "source": [
        "hamweight(31)"
      ],
      "metadata": {
        "colab": {
          "base_uri": "https://localhost:8080/"
        },
        "id": "oXjd35jVaFDT",
        "outputId": "eab37d51-a790-40f8-f207-0cd49dd2c6be"
      },
      "execution_count": 75,
      "outputs": [
        {
          "output_type": "execute_result",
          "data": {
            "text/plain": [
              "5"
            ]
          },
          "metadata": {},
          "execution_count": 75
        }
      ]
    },
    {
      "cell_type": "markdown",
      "source": [
        "비트 연산 방식"
      ],
      "metadata": {
        "id": "Brr1qaRfaJx2"
      }
    },
    {
      "cell_type": "code",
      "source": [
        "#가장 노동적인 풀이?\n",
        "\n",
        "def hamweight(n):\n",
        "  ans=0\n",
        "  \n",
        "  k=0\n",
        "  while 2**(k)<=n:\n",
        "    k+=1\n",
        "\n",
        "  for x in range(0,k):\n",
        "    print(n,2**(k-1-x))\n",
        "    b,n=divmod(n,2**(k-1-x))\n",
        "    if b: ans+=1\n",
        "\n",
        "  return ans"
      ],
      "metadata": {
        "id": "Wz96EISYaGl_"
      },
      "execution_count": 107,
      "outputs": []
    },
    {
      "cell_type": "code",
      "source": [
        "hamweight(33)"
      ],
      "metadata": {
        "colab": {
          "base_uri": "https://localhost:8080/"
        },
        "id": "nsQzz3JTaj-n",
        "outputId": "b76e1e38-e23d-4527-bd5d-7724d017b97c"
      },
      "execution_count": 108,
      "outputs": [
        {
          "output_type": "stream",
          "name": "stdout",
          "text": [
            "33 32\n",
            "1 16\n",
            "1 8\n",
            "1 4\n",
            "1 2\n",
            "1 1\n"
          ]
        },
        {
          "output_type": "execute_result",
          "data": {
            "text/plain": [
              "2"
            ]
          },
          "metadata": {},
          "execution_count": 108
        }
      ]
    },
    {
      "cell_type": "code",
      "source": [
        "hamweight(15)"
      ],
      "metadata": {
        "colab": {
          "base_uri": "https://localhost:8080/"
        },
        "id": "iPSFxh4Sasge",
        "outputId": "387edc15-d4e6-41b5-b46e-4a4ec721fcbd"
      },
      "execution_count": 109,
      "outputs": [
        {
          "output_type": "stream",
          "name": "stdout",
          "text": [
            "15 8\n",
            "7 4\n",
            "3 2\n",
            "1 1\n"
          ]
        },
        {
          "output_type": "execute_result",
          "data": {
            "text/plain": [
              "4"
            ]
          },
          "metadata": {},
          "execution_count": 109
        }
      ]
    },
    {
      "cell_type": "code",
      "source": [
        "#비트연산자 사용\n",
        "def hamweight(n):\n",
        "  ans=0\n",
        "  \n",
        "  k=0\n",
        "  while 2**(k)<=n:\n",
        "    k+=1\n",
        "\n",
        "  return bin(n^(2**(k-1))).count('1')+1\n",
        "\n",
        "#111 과 100을 비교\n",
        "#맨 앞자리 1은 같아서 안 세지므로 1 추가"
      ],
      "metadata": {
        "id": "9DwghO8Lcppl"
      },
      "execution_count": 125,
      "outputs": []
    },
    {
      "cell_type": "code",
      "source": [
        "hamweight(15)\n",
        "#1111 1000 비교 -> 3\n",
        "# +1 =4"
      ],
      "metadata": {
        "colab": {
          "base_uri": "https://localhost:8080/"
        },
        "id": "mY8R5kWKdTHe",
        "outputId": "45330537-d3cb-40d9-a168-c141ef14b3ac"
      },
      "execution_count": 126,
      "outputs": [
        {
          "output_type": "execute_result",
          "data": {
            "text/plain": [
              "4"
            ]
          },
          "metadata": {},
          "execution_count": 126
        }
      ]
    },
    {
      "cell_type": "code",
      "source": [
        "#교재풀이\n",
        "\n",
        "def hamweight(n):\n",
        "  ans=0\n",
        "  while n:\n",
        "    print(n, bin(n),bin(n-1))\n",
        "    n&=n-1 #n에 n&n-1 이진 AND 연산 결과를 할당\n",
        "    ans+=1\n",
        "\n",
        "  return ans"
      ],
      "metadata": {
        "id": "d8HueG2UdWVc"
      },
      "execution_count": 140,
      "outputs": []
    },
    {
      "cell_type": "code",
      "source": [
        "hamweight(15)"
      ],
      "metadata": {
        "colab": {
          "base_uri": "https://localhost:8080/"
        },
        "id": "a097tfeHeOdW",
        "outputId": "651a39e4-0c09-4d46-f45b-0468fac23499"
      },
      "execution_count": 141,
      "outputs": [
        {
          "output_type": "stream",
          "name": "stdout",
          "text": [
            "15 0b1111 0b1110\n",
            "14 0b1110 0b1101\n",
            "12 0b1100 0b1011\n",
            "8 0b1000 0b111\n"
          ]
        },
        {
          "output_type": "execute_result",
          "data": {
            "text/plain": [
              "4"
            ]
          },
          "metadata": {},
          "execution_count": 141
        }
      ]
    },
    {
      "cell_type": "code",
      "source": [
        "hamweight(6)"
      ],
      "metadata": {
        "colab": {
          "base_uri": "https://localhost:8080/"
        },
        "id": "040wNDqZgAKJ",
        "outputId": "88c04e6c-8b10-4d7e-e3d2-fe49c7359ad9"
      },
      "execution_count": 142,
      "outputs": [
        {
          "output_type": "stream",
          "name": "stdout",
          "text": [
            "6 0b110 0b101\n",
            "4 0b100 0b11\n"
          ]
        },
        {
          "output_type": "execute_result",
          "data": {
            "text/plain": [
              "2"
            ]
          },
          "metadata": {},
          "execution_count": 142
        }
      ]
    },
    {
      "cell_type": "markdown",
      "source": [
        "뒤에서 가장 가까운 1이 하나씩 빠짐\n",
        "\n",
        "11 AND 10 -> 10\n",
        "\n",
        "1로 끝난경우, 11 AND 10 -> 마지막 1 지워짐\n",
        "\n",
        "11000 AND 10111 -> 10000\n",
        "\n",
        "(연속)0으로 끝난 경우, (연속)0로 끝나는것 AND 1이 빠진 것 -> 마지막 1 지워짐\n",
        "\n",
        "* 1001 -1 = 1000, 1000 -1 = 0999의 뺄셈처럼, 0이 아닌 가장 작은 자리의 숫자를 내림하고 빼는 원리"
      ],
      "metadata": {
        "id": "1hKugigTf3RY"
      }
    },
    {
      "cell_type": "markdown",
      "source": [
        "#이것이 코딩테스트다 197쪽 <2> 부품찾기"
      ],
      "metadata": {
        "id": "uA0Y84BmpxbO"
      }
    },
    {
      "cell_type": "markdown",
      "source": [
        "부품 N개의 품목번호 리스트와, 손님이 잔량 확인을 요청하는 부품 M개의 품목번호 리스트를 줄 때\n",
        "\n",
        "각 부품이 모두 있다면 yes, 아니라면 no 출력"
      ],
      "metadata": {
        "id": "HUqrI88Fp0SS"
      }
    },
    {
      "cell_type": "code",
      "source": [
        "#n=5,N=[8,3,7,8,2]\n",
        "#m=3,M=[5,7,9]\n",
        "\n",
        "#M에 있는 각 물건마다 확인해야함"
      ],
      "metadata": {
        "id": "n7OBjBDIe7FL"
      },
      "execution_count": null,
      "outputs": []
    },
    {
      "cell_type": "markdown",
      "source": [
        "젤 쉬운 방법..^^"
      ],
      "metadata": {
        "id": "a6JXXse3qnvl"
      }
    },
    {
      "cell_type": "code",
      "source": [
        "def spare1(N,M):\n",
        "  for x in M:\n",
        "    if x in N:\n",
        "      print('yes')\n",
        "    else:\n",
        "      print('no')"
      ],
      "metadata": {
        "id": "qHvj7VBiqRgG"
      },
      "execution_count": 153,
      "outputs": []
    },
    {
      "cell_type": "code",
      "source": [
        "spare1([8,3,7,9,2],[5,7,9])"
      ],
      "metadata": {
        "colab": {
          "base_uri": "https://localhost:8080/"
        },
        "id": "iyW3r99JqqVt",
        "outputId": "7a60fc79-6d70-488f-ee37-88b9ddfcebf1"
      },
      "execution_count": 155,
      "outputs": [
        {
          "output_type": "stream",
          "name": "stdout",
          "text": [
            "no\n",
            "yes\n",
            "yes\n"
          ]
        }
      ]
    },
    {
      "cell_type": "code",
      "source": [
        "#투포인터\n",
        "def spare2(N,M):\n",
        "  N.sort()\n",
        "  M.sort()\n",
        "  i,j=0,0\n",
        "  print(M,N)\n",
        "\n",
        "  while j<len(M):\n",
        "    print(M[j],N[i])\n",
        "    if M[j]<N[i]:\n",
        "      i+=1\n",
        "    elif M[j]>N[i]:\n",
        "      print('no')\n",
        "      j+=1\n",
        "    else:\n",
        "      print('yes')\n",
        "      j+=1 "
      ],
      "metadata": {
        "id": "EMUVlcwlqm-9"
      },
      "execution_count": 161,
      "outputs": []
    },
    {
      "cell_type": "code",
      "source": [
        "spare2([8,3,7,9,2],[5,7,9])"
      ],
      "metadata": {
        "colab": {
          "base_uri": "https://localhost:8080/"
        },
        "id": "lzTsrBPSrr1r",
        "outputId": "1c77644e-3e07-49eb-db9a-133928af59d1"
      },
      "execution_count": 162,
      "outputs": [
        {
          "output_type": "stream",
          "name": "stdout",
          "text": [
            "[5, 7, 9] [2, 3, 7, 8, 9]\n",
            "5 2\n",
            "no\n",
            "7 2\n",
            "no\n",
            "9 2\n",
            "no\n"
          ]
        }
      ]
    },
    {
      "cell_type": "markdown",
      "source": [
        "N에 M의 최솟값보다 작은 값이 있으면 안돌아가는 오류"
      ],
      "metadata": {
        "id": "XI4YuiXqstQt"
      }
    },
    {
      "cell_type": "code",
      "source": [
        "#투포인터 보완\n",
        "\n",
        "def spare2(N,M):\n",
        "  N.sort()\n",
        "  M.sort()\n",
        "  j=0\n",
        "  import bisect\n",
        "  i=bisect.bisect_left(N,M[j])\n",
        "  print(j,i,M,N)\n",
        "\n",
        "  while j<len(M):\n",
        "    i=bisect.bisect_left(N,M[j]) #i 업데이트를 계속 안하면 밑이 복잡해짐\n",
        "    if M[j]>N[i]:\n",
        "      print('no?')\n",
        "      j+=1\n",
        "    else:\n",
        "      if M[j]==N[i]:\n",
        "        print('yes')\n",
        "        j+=1 \n",
        "        i+=1\n",
        "      else: #i를 bisect로 구한 후 M[j]<N[i]여야 no??\n",
        "        print('no')\n",
        "        j+=1        "
      ],
      "metadata": {
        "id": "mKsg5xNYsQun"
      },
      "execution_count": 204,
      "outputs": []
    },
    {
      "cell_type": "code",
      "source": [
        "spare2([8,3,7,9,2],[5,7,9])\n",
        "#j번째 M원소가 i번째 N원소를 초과하기 전까지 yes, no 판단을 하면 안됨"
      ],
      "metadata": {
        "colab": {
          "base_uri": "https://localhost:8080/"
        },
        "id": "6WnAtnIQs9JE",
        "outputId": "0ccae12b-e7c7-4081-cfbd-85a6757c61b2"
      },
      "execution_count": 205,
      "outputs": [
        {
          "output_type": "stream",
          "name": "stdout",
          "text": [
            "0 2 [5, 7, 9] [2, 3, 7, 8, 9]\n",
            "no\n",
            "yes\n",
            "yes\n"
          ]
        }
      ]
    },
    {
      "cell_type": "markdown",
      "source": [
        "    if M[j]>N[i]:\n",
        "      print('no?')\n",
        "      j+=1\n",
        "\n",
        "bisect로 i를 찾을 경우, M[j]가 N[i]보다 작은 경우는 없다"
      ],
      "metadata": {
        "id": "9w14xf3jwIT-"
      }
    },
    {
      "cell_type": "code",
      "source": [
        "import bisect\n",
        "print(bisect.bisect_left([1,1,1],2)) #리스트 최대값이 삽입하려는 수보다 작다면 리스트 범위 밖 인덱스(정확히는 len(리스트)) 리턴함\n",
        "print(bisect.bisect_left([1,1,2],2))\n",
        "print(bisect.bisect_left([1,1,3],2))"
      ],
      "metadata": {
        "colab": {
          "base_uri": "https://localhost:8080/"
        },
        "id": "35XEpJu7wTZI",
        "outputId": "e2d8413f-bf12-4104-8b6c-dbacace74268"
      },
      "execution_count": 209,
      "outputs": [
        {
          "output_type": "stream",
          "name": "stdout",
          "text": [
            "3\n",
            "2\n",
            "2\n"
          ]
        }
      ]
    },
    {
      "cell_type": "code",
      "source": [
        "#투포인터 최종 보완\n",
        "\n",
        "def spare2(N,M):\n",
        "  N.sort(); M.sort()\n",
        "  j=0\n",
        "\n",
        "  import bisect\n",
        "  i=bisect.bisect_left(N,M[j])\n",
        "\n",
        "  while j<len(M):\n",
        "    i=bisect.bisect_left(N,M[j]) #i 지속 업데이트\n",
        "\n",
        "    if M[j]==N[i]:\n",
        "      print('yes') #맞을 경우, 포인터 모두 이동\n",
        "      j+=1 \n",
        "      i+=1\n",
        "\n",
        "    else: #M[j]<N[i]면 다음 M 품목 확인 (자기와 같은 값 없다)\n",
        "      print('no')\n",
        "      j+=1        "
      ],
      "metadata": {
        "id": "nzaL1CGFtAlv"
      },
      "execution_count": 212,
      "outputs": []
    },
    {
      "cell_type": "code",
      "source": [
        "spare2([8,3,7,9,2],[5,7,9])"
      ],
      "metadata": {
        "colab": {
          "base_uri": "https://localhost:8080/"
        },
        "id": "1oZ3Od5DwuOR",
        "outputId": "f501f390-ffc9-48d5-d95a-feb08ff3cc83"
      },
      "execution_count": 213,
      "outputs": [
        {
          "output_type": "stream",
          "name": "stdout",
          "text": [
            "no\n",
            "yes\n",
            "yes\n"
          ]
        }
      ]
    }
  ]
}