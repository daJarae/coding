{
  "nbformat": 4,
  "nbformat_minor": 0,
  "metadata": {
    "colab": {
      "name": "프로그래머스Lv1(03.05).ipynb",
      "provenance": [],
      "authorship_tag": "ABX9TyMTX8lY5+lr/l586RbJQUL+",
      "include_colab_link": true
    },
    "kernelspec": {
      "name": "python3",
      "display_name": "Python 3"
    },
    "language_info": {
      "name": "python"
    }
  },
  "cells": [
    {
      "cell_type": "markdown",
      "metadata": {
        "id": "view-in-github",
        "colab_type": "text"
      },
      "source": [
        "<a href=\"https://colab.research.google.com/github/daJarae/coding/blob/main/%ED%94%84%EB%A1%9C%EA%B7%B8%EB%9E%98%EB%A8%B8%EC%8A%A4Lv1(03_05).ipynb\" target=\"_parent\"><img src=\"https://colab.research.google.com/assets/colab-badge.svg\" alt=\"Open In Colab\"/></a>"
      ]
    },
    {
      "cell_type": "markdown",
      "source": [
        "#1 숫자 문자열과 영단어"
      ],
      "metadata": {
        "id": "cVm9f3hBRArn"
      }
    },
    {
      "cell_type": "code",
      "source": [
        "def solution(s):   \n",
        "    nums={}; temp=''; ans=''; i=0\n",
        "\n",
        "    for x in ['zero', 'one', 'two', 'three', 'four', 'five', 'six', 'seven', 'eight', 'nine']:\n",
        "        nums[x]=str(i); i+=1    \n",
        "    \n",
        "    for x in s:\n",
        "        if x in ['0','1','2','3','4','5','6','7','8','9']:\n",
        "            ans+=x\n",
        "            temp=''     \n",
        "        else:\n",
        "            temp+=x\n",
        "            if temp in nums:\n",
        "                ans+=nums[temp]\n",
        "                temp=''\n",
        "    \n",
        "    return int(ans)"
      ],
      "metadata": {
        "id": "o7WmV4y1RBG-"
      },
      "execution_count": null,
      "outputs": []
    },
    {
      "cell_type": "code",
      "execution_count": 4,
      "metadata": {
        "id": "agqV56Y7PJ2f"
      },
      "outputs": [],
      "source": [
        "#위 for문은 replace를 쓰면 더 간결해진다!\n",
        "\n",
        "#for key, value in nums.items():\n",
        "#        answer = answer.replace(key, value)"
      ]
    },
    {
      "cell_type": "code",
      "source": [
        "'happy'.replace('pp','p') #정규식 표현에서만 가능한줄...."
      ],
      "metadata": {
        "colab": {
          "base_uri": "https://localhost:8080/",
          "height": 35
        },
        "id": "msxjl05uRaKB",
        "outputId": "d905cfe4-9594-4d87-e101-123eecc636af"
      },
      "execution_count": 2,
      "outputs": [
        {
          "output_type": "execute_result",
          "data": {
            "application/vnd.google.colaboratory.intrinsic+json": {
              "type": "string"
            },
            "text/plain": [
              "'hapy'"
            ]
          },
          "metadata": {},
          "execution_count": 2
        }
      ]
    },
    {
      "cell_type": "markdown",
      "source": [
        "\n",
        "\n",
        "---\n",
        "\n"
      ],
      "metadata": {
        "id": "Q-gHj4zYSQTs"
      }
    },
    {
      "cell_type": "markdown",
      "source": [
        "#2 없는 숫자 더하기\n",
        "\n",
        "쉬운 문제도... 있구나..."
      ],
      "metadata": {
        "id": "vVNYTJrmRZz5"
      }
    },
    {
      "cell_type": "code",
      "source": [
        "#내 풀이\n",
        "def solution(numbers):\n",
        "    return sum(list(set([1,2,3,4,5,6,7,8,9])-set(numbers)))"
      ],
      "metadata": {
        "id": "tsNvGQStSDpv"
      },
      "execution_count": null,
      "outputs": []
    },
    {
      "cell_type": "code",
      "source": [
        "#람다를 사용한 진짜 한줄 코드\n",
        "\n",
        "solution = lambda x: sum(range(10)) - sum(x)"
      ],
      "metadata": {
        "id": "GTlA7YOcR64J"
      },
      "execution_count": 5,
      "outputs": []
    },
    {
      "cell_type": "code",
      "source": [
        "solution([1,2,3])"
      ],
      "metadata": {
        "colab": {
          "base_uri": "https://localhost:8080/"
        },
        "id": "TltS39EtSBLB",
        "outputId": "9cf50c93-2c1a-49a1-b062-e834c21c6987"
      },
      "execution_count": 6,
      "outputs": [
        {
          "output_type": "execute_result",
          "data": {
            "text/plain": [
              "39"
            ]
          },
          "metadata": {},
          "execution_count": 6
        }
      ]
    },
    {
      "cell_type": "markdown",
      "source": [
        "사실 문제 내용상 45-sum(numbers)해도 된다."
      ],
      "metadata": {
        "id": "40tGjgs3SNCr"
      }
    },
    {
      "cell_type": "markdown",
      "source": [
        "#3 로또 최고 순위와 최저 순위"
      ],
      "metadata": {
        "id": "INw40CP_UsZC"
      }
    },
    {
      "cell_type": "code",
      "source": [
        "def solution(lottos, win_nums):\n",
        "    \n",
        "    same=len(set(lottos)&set(win_nums))\n",
        "    var=lottos.count(0)\n",
        "    \n",
        "    if same==0 and var==0: return [6,6]\n",
        "    \n",
        "    return [abs(7-min(6, same+var)), abs(7-max(1, same))]"
      ],
      "metadata": {
        "id": "elDVq8nsUvgC"
      },
      "execution_count": null,
      "outputs": []
    },
    {
      "cell_type": "markdown",
      "source": [
        "처음에 세줄 코딩 하려고 했으나, if의 상황을 고려 하지 않아\n",
        "\n",
        "테스트 케이스 14번만 실패했음.\n",
        "\n",
        "abs(7-min/max) 대신 아래처럼 딕셔너리를 만드는 방법도 생각 했으나\n",
        "\n",
        "어차피 한줄 추가 되는 거 빠른 if로 했다..."
      ],
      "metadata": {
        "id": "yG1AkEP0UyQE"
      }
    },
    {
      "cell_type": "code",
      "source": [
        "rank = {0: 6, 1: 6, 2: 5, 3: 4, 4: 3, 5: 2, 6: 1}"
      ],
      "metadata": {
        "id": "ex2ZRfsMUvBs"
      },
      "execution_count": null,
      "outputs": []
    },
    {
      "cell_type": "markdown",
      "source": [
        "테스트 케이스를 충분히 고려하며 푸는 것도 중요한 것 같다"
      ],
      "metadata": {
        "id": "JgzKR581Vcuj"
      }
    },
    {
      "cell_type": "markdown",
      "source": [
        "#4 소수 만들기"
      ],
      "metadata": {
        "id": "rfRU7VulVcH0"
      }
    },
    {
      "cell_type": "markdown",
      "source": [
        "테스트 케이스 기댓값은 중복 합의 다른 조합은 배제하는데\n",
        "\n",
        "실제 테스트는 중복 합의 다른 조합을 모두 count해야 통과가 되었다.... 문제 오류 같다"
      ],
      "metadata": {
        "id": "mernDJX3byIh"
      }
    },
    {
      "cell_type": "code",
      "source": [
        "def make_prime(nums):\n",
        "  ans=[]\n",
        "\n",
        "  import sympy\n",
        "  from itertools import combinations as cmb\n",
        "\n",
        "  for x in cmb(nums,3):\n",
        "    if sympy.isprime(sum(x)):\n",
        "      ans.append(sum(x))\n",
        "\n",
        "  return  len(set(ans))"
      ],
      "metadata": {
        "id": "ys3AdCbYVbwl"
      },
      "execution_count": 17,
      "outputs": []
    },
    {
      "cell_type": "code",
      "source": [
        "make_prime([1,2,3,4])"
      ],
      "metadata": {
        "colab": {
          "base_uri": "https://localhost:8080/"
        },
        "id": "YSHj19S9Xz87",
        "outputId": "2316d05b-f6ce-4866-96ea-b9c552754bec"
      },
      "execution_count": 18,
      "outputs": [
        {
          "output_type": "execute_result",
          "data": {
            "text/plain": [
              "1"
            ]
          },
          "metadata": {},
          "execution_count": 18
        }
      ]
    },
    {
      "cell_type": "markdown",
      "source": [
        "소수 찾는 코드 안짜고 짧게 하려 했는데 생각만큼 짧진 않았다...\n",
        "\n",
        "게다가 프로그래머스에서는 sympy를 쓸 수 없었다....>..."
      ],
      "metadata": {
        "id": "YaM8SBBoYRlR"
      }
    },
    {
      "cell_type": "code",
      "source": [
        "2%1"
      ],
      "metadata": {
        "colab": {
          "base_uri": "https://localhost:8080/"
        },
        "id": "dfVTJEE5aGkZ",
        "outputId": "a3b5f21e-99d7-4aff-ee28-e393c1049bc1"
      },
      "execution_count": 30,
      "outputs": [
        {
          "output_type": "execute_result",
          "data": {
            "text/plain": [
              "0"
            ]
          },
          "metadata": {},
          "execution_count": 30
        }
      ]
    },
    {
      "cell_type": "code",
      "source": [
        "def solution(nums):\n",
        "  ans=[]\n",
        "\n",
        "  def is_prime(n):\n",
        "    for i in range(2,int(n**.5)+1):    \n",
        "      if n!=i and n%i==0: #처음에 ==0 안해서 이상해졌음 ㅠ\n",
        "        return False\n",
        "    return True\n",
        "\n",
        "  from itertools import combinations as cmb\n",
        "\n",
        "  for x in cmb(nums,3):\n",
        "    if is_prime(sum(x)):\n",
        "      print(x, sum(x))\n",
        "      ans.append(sum(x))\n",
        "\n",
        "  return  len(ans)"
      ],
      "metadata": {
        "id": "36J6U5X7X5Ye"
      },
      "execution_count": 50,
      "outputs": []
    },
    {
      "cell_type": "code",
      "source": [
        "solution([1,2,3,4,6,7])"
      ],
      "metadata": {
        "colab": {
          "base_uri": "https://localhost:8080/"
        },
        "id": "uMS4r63yZJJw",
        "outputId": "4041b966-be92-46d1-ebe1-bdc2eacd1dca"
      },
      "execution_count": 51,
      "outputs": [
        {
          "output_type": "stream",
          "name": "stdout",
          "text": [
            "(1, 2, 4) 7\n",
            "(1, 3, 7) 11\n",
            "(1, 4, 6) 11\n",
            "(2, 3, 6) 11\n",
            "(2, 4, 7) 13\n",
            "(3, 4, 6) 13\n",
            "(4, 6, 7) 17\n"
          ]
        },
        {
          "output_type": "execute_result",
          "data": {
            "text/plain": [
              "7"
            ]
          },
          "metadata": {},
          "execution_count": 51
        }
      ]
    },
    {
      "cell_type": "code",
      "source": [
        "#소수 체크 함수\n",
        "\n",
        "def is_prime(n):\n",
        "  for i in range(2,int(n**.5)+1):   \n",
        "    if n!=i and n%i==0:\n",
        "      return False\n",
        "  return True"
      ],
      "metadata": {
        "id": "Mikuz-AcZw8V"
      },
      "execution_count": 40,
      "outputs": []
    },
    {
      "cell_type": "markdown",
      "source": [
        "다른 사람 풀이는 패스 (대체로 내 코드와 비슷하거나 더 복잡?하다)"
      ],
      "metadata": {
        "id": "H4ogeSB4b_n5"
      }
    },
    {
      "cell_type": "markdown",
      "source": [
        "#5 최소 직사각형 "
      ],
      "metadata": {
        "id": "3cHVRis4cOwq"
      }
    },
    {
      "cell_type": "markdown",
      "source": [
        "처음에 문제를 잘못 이해하고 가로, 세로별 max 값을 단순히 곱했다..."
      ],
      "metadata": {
        "id": "VO8s2wXEdxbf"
      }
    },
    {
      "cell_type": "code",
      "source": [
        "def solution(sizes):\n",
        "    \n",
        "    for x in sizes:\n",
        "        if x[0]>x[1]:\n",
        "            x[0],x[1]=x[1],x[0] #스왑\n",
        "\n",
        "    return max([x[0] for x in sizes])*max([x[1] for x in sizes])"
      ],
      "metadata": {
        "id": "eLkidBRkcOa4"
      },
      "execution_count": 52,
      "outputs": []
    },
    {
      "cell_type": "markdown",
      "source": [
        "가로나 세로 중 더 긴 길이를 x[1]에 오도록 한 후 max값끼리 곱해야 한다"
      ],
      "metadata": {
        "id": "Uqr9h1_Heneo"
      }
    },
    {
      "cell_type": "markdown",
      "source": [
        "다른 사람 풀이"
      ],
      "metadata": {
        "id": "2CPbkzY9gE4G"
      }
    },
    {
      "cell_type": "code",
      "source": [
        "def solution(sizes):\n",
        "    return max(max(x) for x in sizes) * max(min(x) for x in sizes)"
      ],
      "metadata": {
        "id": "soXOR1ZKeymO"
      },
      "execution_count": 56,
      "outputs": []
    },
    {
      "cell_type": "markdown",
      "source": [
        "가로, 세로 중 더 큰(max) 것들 중 max, 더 작은(min) 것들 중 max의 곱"
      ],
      "metadata": {
        "id": "nAegqzR2gwZl"
      }
    },
    {
      "cell_type": "code",
      "source": [
        "solution(sizes)"
      ],
      "metadata": {
        "colab": {
          "base_uri": "https://localhost:8080/"
        },
        "id": "nqoK2emVgsMz",
        "outputId": "3af83248-faba-42d6-fdbc-fa2d3e6864e6"
      },
      "execution_count": 57,
      "outputs": [
        {
          "output_type": "execute_result",
          "data": {
            "text/plain": [
              "4000"
            ]
          },
          "metadata": {},
          "execution_count": 57
        }
      ]
    },
    {
      "cell_type": "code",
      "source": [
        "#max와 sum을 이용한 풀이도 있었다\n",
        "\n",
        "sizes=[[60, 50], [30, 70], [60, 30], [80, 40]]\n",
        "max(sum(sizes, [])) "
      ],
      "metadata": {
        "colab": {
          "base_uri": "https://localhost:8080/"
        },
        "id": "nerCrcsIaSa4",
        "outputId": "907557e4-f10a-4fbe-ead2-27d4b5f06f7e"
      },
      "execution_count": 54,
      "outputs": [
        {
          "output_type": "execute_result",
          "data": {
            "text/plain": [
              "80"
            ]
          },
          "metadata": {},
          "execution_count": 54
        }
      ]
    },
    {
      "cell_type": "code",
      "source": [
        "print(sum(sizes, [])) #sum 함수로 flatten할 수 있다....?!"
      ],
      "metadata": {
        "colab": {
          "base_uri": "https://localhost:8080/"
        },
        "id": "Wwzw08vSgTMw",
        "outputId": "dded31b9-537f-4c89-8824-52ed2418c2fe"
      },
      "execution_count": 55,
      "outputs": [
        {
          "output_type": "stream",
          "name": "stdout",
          "text": [
            "[60, 50, 30, 70, 60, 30, 80, 40]\n"
          ]
        }
      ]
    }
  ]
}