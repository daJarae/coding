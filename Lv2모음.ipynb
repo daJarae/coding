{
  "nbformat": 4,
  "nbformat_minor": 0,
  "metadata": {
    "colab": {
      "provenance": [],
      "collapsed_sections": [],
      "authorship_tag": "ABX9TyOmwM79tswGBoKQjPYXMGvA",
      "include_colab_link": true
    },
    "kernelspec": {
      "name": "python3",
      "display_name": "Python 3"
    },
    "language_info": {
      "name": "python"
    }
  },
  "cells": [
    {
      "cell_type": "markdown",
      "metadata": {
        "id": "view-in-github",
        "colab_type": "text"
      },
      "source": [
        "<a href=\"https://colab.research.google.com/github/daJarae/coding/blob/main/Lv2%EB%AA%A8%EC%9D%8C.ipynb\" target=\"_parent\"><img src=\"https://colab.research.google.com/assets/colab-badge.svg\" alt=\"Open In Colab\"/></a>"
      ]
    },
    {
      "cell_type": "code",
      "execution_count": null,
      "metadata": {
        "id": "l3rf_0prUixr"
      },
      "outputs": [],
      "source": [
        "#택배상자\n",
        "def solution(order):\n",
        "    box=[i for i in range(1,len(order)+1)][::-1]\n",
        "    assist=list()\n",
        "    \n",
        "    for i in range(len(order)):\n",
        "        now=order[i]\n",
        "        \n",
        "        #바로 확인됨. 계속 진행\n",
        "        if box and box[-1]==now:\n",
        "            box.pop()\n",
        "            continue\n",
        "        elif assist and now==assist[-1]: #보조컨테이너\n",
        "            assist.pop()\n",
        "            continue\n",
        "        \n",
        "        #더이상 탐색할 필요 없음\n",
        "        elif not box or now in assist:\n",
        "            return i\n",
        "\n",
        "        #보조 컨베이어에 추가\n",
        "        else:\n",
        "            while now!=box[-1]:\n",
        "                assist.append(box.pop())\n",
        "            else:\n",
        "                box.pop()\n",
        "                continue\n",
        "\n",
        "    return i+1"
      ]
    },
    {
      "cell_type": "code",
      "source": [
        "#연속 부분 수열 합\n",
        "def solution(elements):\n",
        "    result=[sum(elements)]\n",
        "    element=elements*2\n",
        "    \n",
        "    for l in range(1,len(elements)): #연속수열 길이\n",
        "        for i in range(len(element)):\n",
        "            result.append(sum(element[i:i+l]))\n",
        "            \n",
        "    return len(set(result))"
      ],
      "metadata": {
        "id": "PSoFA2slUtzs"
      },
      "execution_count": null,
      "outputs": []
    },
    {
      "cell_type": "code",
      "source": [
        "#점프와 순간이동\n",
        "def solution(n):\n",
        "    ans=0\n",
        "    \n",
        "    while n>0:\n",
        "        if n%2==0:\n",
        "            n=n//2\n",
        "        else:\n",
        "            n-=1\n",
        "            ans+=1\n",
        "    \n",
        "    return ans\n",
        "\n",
        "#bin(n).count('1') 로도 가능"
      ],
      "metadata": {
        "id": "Me5xJVDUa80T"
      },
      "execution_count": null,
      "outputs": []
    },
    {
      "cell_type": "code",
      "source": [
        "#배달\n",
        "INF = 10**9 #왜 이게 최고값 기준인지는 모르겠음...\n",
        "\n",
        "def solution(N, road, K):\n",
        "    #NxN개 표\n",
        "    graph = [[INF] * (N+1) for _ in range(N+1)] #0번 열,행은 사용안함\n",
        "    \n",
        "    #없으면 틀린다 (없으면, 아래 삼중 for문에서 a,x,b 둘 이상이 같아지는 경우에 문제 생김)\n",
        "    for a in range(N+1):\n",
        "        graph[a][a] = 0\n",
        "        \n",
        "    for r in road:\n",
        "        graph[r[1]][r[0]]=graph[r[0]][r[1]]=min(graph[r[0]][r[1]],r[2])\n",
        "    \n",
        "#각 중간 위치 x에 대해 a-x-b의 최단 거리를 a,b의 최단 거리로 업데이트 하는 과정\n",
        "    for x in range(1,N+1):\n",
        "        for a in range(1,N+1):\n",
        "            for b in range(1,N+1):\n",
        "                graph[a][b] = min(graph[a][x]+graph[x][b], graph[a][b])\n",
        "\n",
        "#이건 틀린다... \n",
        "#    for a in range(1,N+1):\n",
        " #       for b in range(1,N+1):\n",
        "  #          for x in range(1,N+1):\n",
        "   #             graph[a][b]=min(graph[a][b],graph[a][x]+graph[x][b])\n",
        "                \n",
        "    ans=0\n",
        "    for x in sorted(graph[1][1:]):\n",
        "        if x<=K: ans +=1\n",
        "    return ans"
      ],
      "metadata": {
        "id": "ZYvL-plMbGC4"
      },
      "execution_count": null,
      "outputs": []
    },
    {
      "cell_type": "code",
      "source": [],
      "metadata": {
        "id": "isXjqp5V3ywS"
      },
      "execution_count": null,
      "outputs": []
    }
  ]
}