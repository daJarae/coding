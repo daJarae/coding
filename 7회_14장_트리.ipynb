{
  "nbformat": 4,
  "nbformat_minor": 0,
  "metadata": {
    "colab": {
      "name": "7회_14장_트리.ipynb",
      "provenance": [],
      "authorship_tag": "ABX9TyMC+abDdLqEHkP1r1TcxW85",
      "include_colab_link": true
    },
    "kernelspec": {
      "name": "python3",
      "display_name": "Python 3"
    },
    "language_info": {
      "name": "python"
    }
  },
  "cells": [
    {
      "cell_type": "markdown",
      "metadata": {
        "id": "view-in-github",
        "colab_type": "text"
      },
      "source": [
        "<a href=\"https://colab.research.google.com/github/daJarae/coding/blob/main/7%ED%9A%8C_14%EC%9E%A5_%ED%8A%B8%EB%A6%AC.ipynb\" target=\"_parent\"><img src=\"https://colab.research.google.com/assets/colab-badge.svg\" alt=\"Open In Colab\"/></a>"
      ]
    },
    {
      "cell_type": "markdown",
      "source": [
        "트리와 그래프의 차이: 트리는 순환이 발생할 수 없다 (이후 발견 노드가 이전 노드에 연결되지 못함)\n",
        "\n",
        "정 이진 트리: 모든 노드가 0~2개 자식 노드 (아래 포괄하는 넓은 범위인듯)\n",
        "\n",
        "완전 이진 트리: 마지막 레벨의 오른쪽부터만 비어있는 노드 존재 (n-1레벨 다 채워짐)\n",
        "\n",
        "포화 이진 트리: 모든 부모 노드가 두개(이진)의 자식 노드를 가짐"
      ],
      "metadata": {
        "id": "wAX9iZznzrAo"
      }
    },
    {
      "cell_type": "markdown",
      "source": [
        "# 42 이진 트리의 최대 깊이"
      ],
      "metadata": {
        "id": "L5PT6ndjzqVr"
      }
    },
    {
      "cell_type": "code",
      "execution_count": null,
      "metadata": {
        "id": "_9DOYWQoy8I7"
      },
      "outputs": [],
      "source": [
        "nodes=[3,9,20,'null','null',15,7] #교재에서는 그냥 null인데 NameError 발생함...\n",
        "\n",
        "#3-9,20-nullnull157 로 인해 깊이는 3\n",
        "#아마 포화 이진 트리 전제"
      ]
    },
    {
      "cell_type": "code",
      "source": [
        "def depth(nodes):\n",
        "  n=len(nodes)\n",
        "  k=0\n",
        "\n",
        "  while n>0:\n",
        "    n-=2**k\n",
        "    k+=1     #최종 k가 트리 깊이\n",
        "\n",
        "  return k"
      ],
      "metadata": {
        "id": "dnyIanMd0s3b"
      },
      "execution_count": null,
      "outputs": []
    },
    {
      "cell_type": "code",
      "source": [
        "depth(nodes)"
      ],
      "metadata": {
        "colab": {
          "base_uri": "https://localhost:8080/"
        },
        "id": "NxypnI7A0cVf",
        "outputId": "6565cebf-f1d0-4d7f-c83e-96f695ce0e8c"
      },
      "execution_count": null,
      "outputs": [
        {
          "output_type": "execute_result",
          "data": {
            "text/plain": [
              "3"
            ]
          },
          "metadata": {},
          "execution_count": 4
        }
      ]
    },
    {
      "cell_type": "markdown",
      "source": [
        "엇.. 이걸 시키는 문제가 아니었나보다\n",
        "\n",
        "LeetCode에서는 TreeNode라는 클래스를 사용하는듯"
      ],
      "metadata": {
        "id": "4dUjvF_W1dg3"
      }
    },
    {
      "cell_type": "markdown",
      "source": [
        "대충 감으로 만들어보자"
      ],
      "metadata": {
        "id": "1knTxkU92Gt7"
      }
    },
    {
      "cell_type": "code",
      "source": [
        "class TreeNode:\n",
        "\n",
        "  def __init__(self, node):\n",
        "    self.val=node\n",
        "    self.child1=None\n",
        "    self.child2=None"
      ],
      "metadata": {
        "id": "V98klT442JoL"
      },
      "execution_count": 4,
      "outputs": []
    },
    {
      "cell_type": "code",
      "source": [
        "tn=TreeNode(2)"
      ],
      "metadata": {
        "id": "H_6xy74_2rlQ"
      },
      "execution_count": null,
      "outputs": []
    },
    {
      "cell_type": "code",
      "source": [
        "tn.val"
      ],
      "metadata": {
        "colab": {
          "base_uri": "https://localhost:8080/"
        },
        "id": "f74TsQGA211N",
        "outputId": "d7fe9e2d-8000-4a21-dd0c-18c4279d7cb1"
      },
      "execution_count": null,
      "outputs": [
        {
          "output_type": "execute_result",
          "data": {
            "text/plain": [
              "2"
            ]
          },
          "metadata": {},
          "execution_count": 4
        }
      ]
    },
    {
      "cell_type": "code",
      "source": [
        "tn.child1=TreeNode(1)"
      ],
      "metadata": {
        "id": "XQINYZeZ2thv"
      },
      "execution_count": null,
      "outputs": []
    },
    {
      "cell_type": "code",
      "source": [
        "tn.child1.node"
      ],
      "metadata": {
        "id": "KmSfCMHY2ydC"
      },
      "execution_count": null,
      "outputs": []
    },
    {
      "cell_type": "code",
      "source": [
        "#문제의 트리를 만들면...\n",
        "\n",
        "root=TreeNode(3)\n",
        "root.child1=TreeNode(9)\n",
        "root.child2=TreeNode(20)\n",
        "root.child2.child1=TreeNode(15)\n",
        "root.child2.child2=TreeNode(7)"
      ],
      "metadata": {
        "id": "5o4mRlUc24-A"
      },
      "execution_count": null,
      "outputs": []
    },
    {
      "cell_type": "markdown",
      "source": [
        "교재풀이"
      ],
      "metadata": {
        "id": "inVDoZjv8v6s"
      }
    },
    {
      "cell_type": "code",
      "source": [
        "#교재풀이\n",
        "\n",
        "def depth1(root):\n",
        "  if root is None:\n",
        "    return 0\n",
        "  from collections import deque\n",
        "  que=deque([root])\n",
        "  d=0 #depth\n",
        "\n",
        "  while que:\n",
        "    d+=1\n",
        "    for _ in range(len(que)): #que 요소 전부에 대해\n",
        "      cur_node=que.popleft()\n",
        "      if cur_node.child1: #비어있지 않음 / 자식 노드 둘에 대해 \n",
        "        que.append(cur_node.child1)\n",
        "      if cur_node.child2:\n",
        "        que.append(cur_node.child2)\n",
        "\n",
        "  return d"
      ],
      "metadata": {
        "id": "IoB2CpmU1Nmn"
      },
      "execution_count": null,
      "outputs": []
    },
    {
      "cell_type": "code",
      "source": [
        "depth1(root)"
      ],
      "metadata": {
        "colab": {
          "base_uri": "https://localhost:8080/"
        },
        "id": "osGgeixR8pyf",
        "outputId": "d82789f2-ea18-414b-f3c9-43b1bf4ed11a"
      },
      "execution_count": null,
      "outputs": [
        {
          "output_type": "execute_result",
          "data": {
            "text/plain": [
              "3"
            ]
          },
          "metadata": {},
          "execution_count": 48
        }
      ]
    },
    {
      "cell_type": "markdown",
      "source": [
        "특별히 첨언할 것은 없을듯 하다\n",
        "\n",
        "트리 구조를 이용하게 되면 이렇게 풀 수 밖에 없었을듯"
      ],
      "metadata": {
        "id": "ML__uhrm8xdW"
      }
    },
    {
      "cell_type": "markdown",
      "source": [
        "\n",
        "\n",
        "---\n",
        "\n"
      ],
      "metadata": {
        "id": "Vnvhdf6K8-0E"
      }
    },
    {
      "cell_type": "markdown",
      "source": [
        "# 43 이진 트리의 직경"
      ],
      "metadata": {
        "id": "Wk8suXx985ej"
      }
    },
    {
      "cell_type": "code",
      "source": [
        "#교재 풀이\n",
        "\n",
        "class solution:\n",
        "  longest: int = 0 #아래에서 재할당\n",
        "\n",
        "  def diameter(self, root:TreeNode) -> int:\n",
        "    \n",
        "    def dfs(node: TreeNode) -> int:\n",
        "      if not node:\n",
        "        return -1\n",
        "      child1=dfs(node.child1)\n",
        "      child2=dfs(node.child2)\n",
        "\n",
        "      self.longest=max(self.longest, child1+child2+2) #지금 노드 양옆 최대 거리\n",
        "      print(\"노드 {} 최대거리 {} 외길 최대 {}\".format(node.node, self.longest, max(child1, child2) +1))\n",
        "      return max(child1, child2) +1 #지금 노드부터 자식1 또는 자식2로의 \"외길\" 최대 거리? ★★ 이부분 빼면 코드 오류나던데 무슨 역할??\n",
        "\n",
        "    dfs(root)\n",
        "    return self.longest"
      ],
      "metadata": {
        "id": "7G2sBQBN8sE3"
      },
      "execution_count": null,
      "outputs": []
    },
    {
      "cell_type": "code",
      "source": [
        "a=solution()"
      ],
      "metadata": {
        "id": "demoYQSgD7Ml"
      },
      "execution_count": null,
      "outputs": []
    },
    {
      "cell_type": "code",
      "source": [
        "a.diameter(root)\n",
        "\n",
        "#이게 왜.. 돼지"
      ],
      "metadata": {
        "colab": {
          "base_uri": "https://localhost:8080/"
        },
        "id": "CzmYnhEYEApo",
        "outputId": "8b66c04b-a3e5-4c5c-e709-bfbcd11749c8"
      },
      "execution_count": null,
      "outputs": [
        {
          "output_type": "stream",
          "name": "stdout",
          "text": [
            "노드 9 최대거리 0 외길 최대 0\n",
            "노드 15 최대거리 0 외길 최대 0\n",
            "노드 7 최대거리 0 외길 최대 0\n",
            "노드 20 최대거리 2 외길 최대 1\n",
            "노드 3 최대거리 3 외길 최대 2\n"
          ]
        },
        {
          "output_type": "execute_result",
          "data": {
            "text/plain": [
              "3"
            ]
          },
          "metadata": {},
          "execution_count": 41
        }
      ]
    },
    {
      "cell_type": "markdown",
      "source": [
        "#44 가장 긴 동일 값의 경로"
      ],
      "metadata": {
        "id": "GAc-kuaQF8WG"
      }
    },
    {
      "cell_type": "markdown",
      "source": [
        "- 기존 최대 거리값과 해당 노드를 포함한 경로의 거리값을 비교해 최대 거리 업데이트\n",
        "\n",
        "- 다음 거리값 계산을 위해 '상태값' 현 노드로부터 각 자식 노드로 뻗는 두 외길 거리 중 최대"
      ],
      "metadata": {
        "id": "ZfK837b3LM7h"
      }
    },
    {
      "cell_type": "code",
      "source": [
        "#교재풀이\n",
        "\n",
        "class solution:\n",
        "  result: int=0\n",
        "  \n",
        "  def longest(self, root:TreeNode) -> int:\n",
        "    \n",
        "    def dfs(node: TreeNode):\n",
        "      if node is None:\n",
        "        return 0\n",
        "\n",
        "      #dfs 재귀&재귀... 구조상 맨 밑 노드 dfs 먼저 실행 (return 0) 후\n",
        "      #그 부모 노드에 대해 if \n",
        "\n",
        "      dist1=dfs(node.child1)\n",
        "      dist2=dfs(node.child2)\n",
        "\n",
        "      if node.child1 and node.child1.val == node.val:\n",
        "        dist1 +=1 #노드 같을 경우, dist1을 이어서 갱신\n",
        "      else:\n",
        "        dist1=0 #거리 초기화 필수\n",
        "\n",
        "      if node.child2 and node.child2.val == node.val:\n",
        "        dist2 +=1\n",
        "      else:\n",
        "        dist2=0\n",
        "\n",
        "      self.result=max(self.result, dist1+dist2) #★거리값\n",
        "      return max(dist1, dist2) #★상태값: 해당 노드 통과 거리가 아닌 외길 거리, 둘다 자식노드와 달랐다면 0\n",
        "\n",
        "    dfs(root)\n",
        "\n",
        "    return self.result"
      ],
      "metadata": {
        "id": "-4psykRGEixk"
      },
      "execution_count": null,
      "outputs": []
    },
    {
      "cell_type": "markdown",
      "source": [
        "왜 난이도가 ★일까요... 어려운데..."
      ],
      "metadata": {
        "id": "zCYQSeDpHjpi"
      }
    },
    {
      "cell_type": "markdown",
      "source": [
        "#45 이진 트리 반전\n",
        "\n",
        "엇 그림을 보니까 쉬운 문제 같은데"
      ],
      "metadata": {
        "id": "CR1Q0erGzTPp"
      }
    },
    {
      "cell_type": "code",
      "source": [
        "root=TreeNode(4)\n",
        "root.child1=TreeNode(2)\n",
        "root.child2=TreeNode(7)\n",
        "root.child1.child1=TreeNode(1)\n",
        "root.child1.child2=TreeNode(3)\n",
        "root.child2.child1=TreeNode(6)\n",
        "root.child2.child2=TreeNode(9)\n",
        "\n",
        "#기대 출력은 3 7 2 9 6 3 1 을 입력한 것과 같은 구조"
      ],
      "metadata": {
        "id": "mXhPrc1azUjg"
      },
      "execution_count": null,
      "outputs": []
    },
    {
      "cell_type": "code",
      "source": [
        "def mirror(root):\n",
        "\n",
        "  def switch(node):\n",
        "    if node.child1 and node.child2: #완전 이진 트리 가정\n",
        "      switch(node.child1)\n",
        "      switch(node.child2)\n",
        "    node.child1, node.child2=node.child2, node.child1\n",
        "\n",
        "  switch(root)\n",
        "  return root"
      ],
      "metadata": {
        "id": "65qfuf5Cz0FJ"
      },
      "execution_count": null,
      "outputs": []
    },
    {
      "cell_type": "code",
      "source": [
        "mirror(root)"
      ],
      "metadata": {
        "colab": {
          "base_uri": "https://localhost:8080/"
        },
        "id": "g-82z32z0aQd",
        "outputId": "d9a86dd9-a8d3-41e8-83c1-50767ca9e592"
      },
      "execution_count": null,
      "outputs": [
        {
          "output_type": "stream",
          "name": "stdout",
          "text": [
            "<__main__.TreeNode object at 0x7f90ac190450>\n",
            "<__main__.TreeNode object at 0x7f90a565ab90>\n",
            "<__main__.TreeNode object at 0x7f90a57239d0>\n",
            "<__main__.TreeNode object at 0x7f90a565ad90>\n",
            "<__main__.TreeNode object at 0x7f90a565ad10>\n",
            "<__main__.TreeNode object at 0x7f90a55ef410>\n",
            "<__main__.TreeNode object at 0x7f90a55ef190>\n"
          ]
        },
        {
          "output_type": "execute_result",
          "data": {
            "text/plain": [
              "<__main__.TreeNode at 0x7f90a55ef190>"
            ]
          },
          "metadata": {},
          "execution_count": 34
        }
      ]
    },
    {
      "cell_type": "markdown",
      "source": [
        "생각해보니... return값은 최종 한번에만 사용되고 switch() 이외의 함수가 사용되지 않으니 좀더 간결하게 만들 수 있지 않을까 한다"
      ],
      "metadata": {
        "id": "HadAZu7T4HjA"
      }
    },
    {
      "cell_type": "markdown",
      "source": [
        "최종풀이"
      ],
      "metadata": {
        "id": "iyj5B83o425q"
      }
    },
    {
      "cell_type": "code",
      "source": [
        "def my_mirror(node):\n",
        "\n",
        "    if node.child1 and node.child2: #완전 이진 트리 가정\n",
        "      mirror(node.child1)\n",
        "      mirror(node.child2)\n",
        "    node.child1, node.child2=node.child2, node.child1"
      ],
      "metadata": {
        "id": "Ycawdwpy4YVG"
      },
      "execution_count": null,
      "outputs": []
    },
    {
      "cell_type": "markdown",
      "source": [
        "테스트"
      ],
      "metadata": {
        "id": "nUDVK3OJ4327"
      }
    },
    {
      "cell_type": "code",
      "source": [
        "#트리 초기화 코드\n",
        "\n",
        "root=TreeNode(4)\n",
        "root.child1=TreeNode(2)\n",
        "root.child2=TreeNode(7)\n",
        "root.child1.child1=TreeNode(1)\n",
        "root.child1.child2=TreeNode(3)\n",
        "root.child2.child1=TreeNode(6)\n",
        "root.child2.child2=TreeNode(9)\n",
        "\n",
        "print(root.val)\n",
        "print(root.child1.val, root.child2.val)\n",
        "print(root.child1.child1.val, root.child1.child2.val, root.child2.child1.val, root.child2.child2.val) # 9 6 3 1 이어야 하는데..."
      ],
      "metadata": {
        "colab": {
          "base_uri": "https://localhost:8080/"
        },
        "id": "PpRT4WpT04sQ",
        "outputId": "df56ebbc-5e88-47b7-a18e-0754e5528ac6"
      },
      "execution_count": null,
      "outputs": [
        {
          "output_type": "stream",
          "name": "stdout",
          "text": [
            "4\n",
            "2 7\n",
            "1 3 6 9\n"
          ]
        }
      ]
    },
    {
      "cell_type": "code",
      "source": [
        "my_mirror(root)"
      ],
      "metadata": {
        "id": "8_HyCIrx4sL7"
      },
      "execution_count": null,
      "outputs": []
    },
    {
      "cell_type": "code",
      "source": [
        "print(root.val)\n",
        "print(root.child1.val, root.child2.val)\n",
        "print(root.child1.child1.val, root.child1.child2.val, root.child2.child1.val, root.child2.child2.val) # 9 6 3 1 이어야 하는데..."
      ],
      "metadata": {
        "colab": {
          "base_uri": "https://localhost:8080/"
        },
        "id": "V9aeP-MY9849",
        "outputId": "eb1b2193-58d9-43c6-ebff-d65442cdb538"
      },
      "execution_count": null,
      "outputs": [
        {
          "output_type": "stream",
          "name": "stdout",
          "text": [
            "4\n",
            "7 2\n",
            "9 6 3 1\n"
          ]
        }
      ]
    },
    {
      "cell_type": "markdown",
      "source": [
        "해당 케이스에 대해선 맞았다고 봐도 될 것 같습니다"
      ],
      "metadata": {
        "id": "5X2RHjx22IX9"
      }
    },
    {
      "cell_type": "code",
      "source": [
        "#교재풀이는 더 간결\n",
        "\n",
        "def mirror1(node): #해당 노드의 두 자식 노드를 교환\n",
        "\n",
        "  if node: #child1과 child2이 아닌 부모 노드의 None 따짐\n",
        "    node.child1, node.child2= mirror(node.child2), mirror(node.child1)\n",
        "    #자식노드 1,2를 각각 반전된 자식노드 2,1과 교환\n",
        "    return node\n",
        "\n",
        "  #return None은 생략 가능 (★파이썬과 달리 자바나 C++은 리턴 없으면 에러.)"
      ],
      "metadata": {
        "id": "H55ZKH7g1xw1"
      },
      "execution_count": null,
      "outputs": []
    },
    {
      "cell_type": "markdown",
      "source": [
        "교재풀이는 mirror()가 노드를 return 하도록 설정해 스왑 대상으로 직접 사용함\n",
        "\n",
        "어려운 알고리즘은 아닌 이유는 아마 스왑 순서가 정답에 영향을 미치지 않기 때문인 것 같다. (그래서 다른 풀이도 여럿)\n"
      ],
      "metadata": {
        "id": "4tRyYs-13rrs"
      }
    },
    {
      "cell_type": "code",
      "source": [
        "#교재풀이 2: 반복 구조 BFS (선입선출 que) ◆일 안하는 코드◆\n",
        "\n",
        "def mirror2(root):\n",
        "  from collections import deque\n",
        "  que=deque([root])\n",
        "\n",
        "  while que:\n",
        "    node=que.popleft() #que의 부모 노드 pop\n",
        "    print(node.val)\n",
        "  if node:\n",
        "    node.child1, node.child2= node.child2, node.child1\n",
        "    #자식 노드 스왑 후 que에 추가\n",
        "    que.append(node.child1)\n",
        "    que.append(node.child2)\n",
        "    print(que)\n",
        "#각 레벨의 맨 왼쪽 노드가 que에서 먼저 pop"
      ],
      "metadata": {
        "id": "Dr98Gi0H59jz"
      },
      "execution_count": null,
      "outputs": []
    },
    {
      "cell_type": "code",
      "source": [
        "mirror2(root)"
      ],
      "metadata": {
        "colab": {
          "base_uri": "https://localhost:8080/"
        },
        "id": "jY35PGvC7zNf",
        "outputId": "4b9b29b0-22d0-435d-e207-fd700eb76609"
      },
      "execution_count": null,
      "outputs": [
        {
          "output_type": "stream",
          "name": "stdout",
          "text": [
            "4\n",
            "deque([<__main__.TreeNode object at 0x7f90a384d710>, <__main__.TreeNode object at 0x7f90a384d3d0>])\n"
          ]
        }
      ]
    },
    {
      "cell_type": "code",
      "source": [
        "print(root.val)\n",
        "print(root.child1.val, root.child2.val)\n",
        "print(root.child1.child1.val, root.child1.child2.val, root.child2.child1.val, root.child2.child2.val) # 9 6 3 1 이어야 하는데..."
      ],
      "metadata": {
        "colab": {
          "base_uri": "https://localhost:8080/"
        },
        "id": "cLZ9E74n-YwD",
        "outputId": "d39c8a50-3ff3-4ff2-a98e-53ea76354bb1"
      },
      "execution_count": null,
      "outputs": [
        {
          "output_type": "stream",
          "name": "stdout",
          "text": [
            "4\n",
            "2 7\n",
            "1 3 6 9\n"
          ]
        }
      ]
    },
    {
      "cell_type": "markdown",
      "source": [
        "?????"
      ],
      "metadata": {
        "id": "qIlyU6vG84Hs"
      }
    },
    {
      "cell_type": "markdown",
      "source": [
        "교재랑 똑같이 썼고 달리 안 돌아갈 이유가 없는데 que에 원소가 있는 상태에서 while 이 안돌아가는 이유가 뭘까...."
      ],
      "metadata": {
        "id": "TyTFxx0tAUr6"
      }
    },
    {
      "cell_type": "code",
      "source": [
        "#교재풀이 3: 반복구조로 DFS (선입후출의 stack)\n",
        "\n",
        "def mirror3(root):\n",
        "  from collections import deque\n",
        "  stack=deque([root])\n",
        "\n",
        "  while stack:\n",
        "    node=stack.pop()\n",
        "\n",
        "    if node:\n",
        "      node.child1, node.child2= node.child2, node.child1\n",
        "      stack.append(node.child1)\n",
        "      stack.append(node.child2)\n",
        "\n",
        "  return node\n",
        "\n",
        "#각 레벨의 맨 오른쪽 아래 노드부터, 맨 오른쪽 라인을 따라 위 순으로 (popleft라서) stack에서 먼저 pop"
      ],
      "metadata": {
        "id": "93IrfFTE6fc4"
      },
      "execution_count": null,
      "outputs": []
    },
    {
      "cell_type": "code",
      "source": [
        "mirror3(root)\n",
        "\n",
        "print(root.val)\n",
        "print(root.child1.val, root.child2.val)\n",
        "print(root.child1.child1.val, root.child1.child2.val, root.child2.child1.val, root.child2.child2.val) # 9 6 3 1 이어야 하는데..."
      ],
      "metadata": {
        "colab": {
          "base_uri": "https://localhost:8080/"
        },
        "id": "O23E2LBP8lcZ",
        "outputId": "0c6daa22-8654-48ab-ccb5-7a221dbaa78a"
      },
      "execution_count": null,
      "outputs": [
        {
          "output_type": "stream",
          "name": "stdout",
          "text": [
            "4\n",
            "7 2\n",
            "9 6 3 1\n"
          ]
        }
      ]
    },
    {
      "cell_type": "code",
      "source": [
        "#교재풀이 4: 반복구조로 DFS 후위 순회\n",
        "\n",
        "def mirror4(root):\n",
        "  from collections import deque\n",
        "  stack=deque([root])\n",
        "\n",
        "  while stack:\n",
        "    node=stack.pop()\n",
        "\n",
        "    if node:\n",
        "      node.child1, node.child2= node.child2, node.child1\n",
        "      stack.append(node.child1)\n",
        "      stack.append(node.child2)\n",
        "\n",
        "  return node\n",
        "\n",
        "#각 레벨의 맨 오른쪽 아래 노드부터, 맨 오른쪽 라인을 따라 위 순으로 (popleft라서) stack에서 먼저 pop"
      ],
      "metadata": {
        "colab": {
          "base_uri": "https://localhost:8080/"
        },
        "id": "LbMU5CBf8yDd",
        "outputId": "b0a616da-d197-466c-d47b-b88e7c052924"
      },
      "execution_count": null,
      "outputs": [
        {
          "output_type": "stream",
          "name": "stdout",
          "text": [
            "4\n",
            "7 2\n",
            "6 9 3 1\n"
          ]
        }
      ]
    },
    {
      "cell_type": "markdown",
      "source": [
        "#46 두 이진 트리 병합"
      ],
      "metadata": {
        "id": "NZXPIeSaXaeT"
      }
    },
    {
      "cell_type": "code",
      "source": [
        "#트리1\n",
        "\n",
        "root1=TreeNode(1)\n",
        "root1.child1=TreeNode(3)\n",
        "root1.child2=TreeNode(2)\n",
        "root1.child1.child1=TreeNode(5)\n",
        "\n",
        "root2=TreeNode(2)\n",
        "root2.child1=TreeNode(1)\n",
        "root2.child2=TreeNode(3)\n",
        "root2.child1.child2=TreeNode(4)\n",
        "root2.child2.child2=TreeNode(7)"
      ],
      "metadata": {
        "id": "Ns4lgbFWXev6"
      },
      "execution_count": 66,
      "outputs": []
    },
    {
      "cell_type": "code",
      "source": [
        "def print_tree(root):\n",
        "\n",
        "  values=[]\n",
        "\n",
        "  for root in [root, root.child1, root.child2, root.child1.child1, root.child1.child2, root.child2.child1, root.child2.child2]:\n",
        "    if root is None:\n",
        "      values.append('.')\n",
        "    else:\n",
        "      values.append(str(root.val))\n",
        "\n",
        "  print(values[0])\n",
        "  print(*values[1:3])\n",
        "  print(*values[3:7])"
      ],
      "metadata": {
        "id": "mcPOHAphXzJN"
      },
      "execution_count": 17,
      "outputs": []
    },
    {
      "cell_type": "code",
      "source": [
        "print_tree(root1)"
      ],
      "metadata": {
        "colab": {
          "base_uri": "https://localhost:8080/"
        },
        "id": "02Mhd09UX6OY",
        "outputId": "e855e2ce-9592-407c-a8d9-4cee9cd0b047"
      },
      "execution_count": 71,
      "outputs": [
        {
          "output_type": "stream",
          "name": "stdout",
          "text": [
            "3\n",
            "3 2\n",
            "5 . . .\n"
          ]
        }
      ]
    },
    {
      "cell_type": "code",
      "source": [
        "print_tree(root2)"
      ],
      "metadata": {
        "colab": {
          "base_uri": "https://localhost:8080/"
        },
        "id": "CtXMbX1PZH3b",
        "outputId": "13930d27-bd33-461d-c979-9498fb585bc5"
      },
      "execution_count": 19,
      "outputs": [
        {
          "output_type": "stream",
          "name": "stdout",
          "text": [
            "2\n",
            "1 3\n",
            ". 4 . 7\n"
          ]
        }
      ]
    },
    {
      "cell_type": "markdown",
      "source": [
        "굿! 드디어 (풀 문제는 세개만 남았지만) 트리 출력 함수를 만들었다."
      ],
      "metadata": {
        "id": "yAGXxu56ZCBb"
      }
    },
    {
      "cell_type": "code",
      "source": [
        "def merge_tree(root1, root2): #root1에 합치자\n",
        "\n",
        "    #root2만 None이면 그대로\n",
        "  if root1 is None and root2 is not None:\n",
        "    root1.val=root2.val\n",
        "  if root1 is not None and root2 is not None:\n",
        "    root1.val=root1.val+root2.val\n",
        "\n",
        "  merge_tree(root1.child1, root2.child1)\n",
        "  merge_tree(root1.child2, root2.child2)\n",
        "\n",
        "  return root1"
      ],
      "metadata": {
        "id": "mdm0pWqYX7Ve"
      },
      "execution_count": 56,
      "outputs": []
    },
    {
      "cell_type": "code",
      "source": [
        "print_tree(root1)\n",
        "print_tree(root2)"
      ],
      "metadata": {
        "colab": {
          "base_uri": "https://localhost:8080/"
        },
        "id": "X_TbQn4UYCUQ",
        "outputId": "a3339831-4d5e-44df-dc59-d72c3b4512fb"
      },
      "execution_count": 57,
      "outputs": [
        {
          "output_type": "stream",
          "name": "stdout",
          "text": [
            "1\n",
            "3 2\n",
            "5 . . .\n",
            "2\n",
            "1 3\n",
            ". 4 . 7\n"
          ]
        }
      ]
    },
    {
      "cell_type": "code",
      "source": [
        "merge_tree(root1,root2)"
      ],
      "metadata": {
        "colab": {
          "base_uri": "https://localhost:8080/"
        },
        "id": "GBZHozD9abBQ",
        "outputId": "4cdcefd3-2028-46d4-f971-a8e842fb9da0"
      },
      "execution_count": 58,
      "outputs": [
        {
          "output_type": "execute_result",
          "data": {
            "text/plain": [
              "<__main__.TreeNode at 0x7f3367684250>"
            ]
          },
          "metadata": {},
          "execution_count": 58
        }
      ]
    },
    {
      "cell_type": "code",
      "source": [
        "print(merge_tree(root1,root2))"
      ],
      "metadata": {
        "colab": {
          "base_uri": "https://localhost:8080/"
        },
        "id": "StU2wrLUskEN",
        "outputId": "262d05d1-7e68-411a-c506-4b84f8515ca1"
      },
      "execution_count": 59,
      "outputs": [
        {
          "output_type": "stream",
          "name": "stdout",
          "text": [
            "<__main__.TreeNode object at 0x7f3367684250>\n"
          ]
        }
      ]
    },
    {
      "cell_type": "markdown",
      "source": [
        "앗.. root1, root2가 None인 경우의 병합은 처리했는데 재귀로 빠질 때 root1이 None일 경우 root1.child1을 호출하는게 불가해서 에러 발생"
      ],
      "metadata": {
        "id": "cEawqutqa6JP"
      }
    },
    {
      "cell_type": "code",
      "source": [
        "a=solution()"
      ],
      "metadata": {
        "id": "r9YNE84BoI_K"
      },
      "execution_count": 54,
      "outputs": []
    },
    {
      "cell_type": "code",
      "source": [
        "print_tree(a.merge(root1, root2))\n",
        "#4,5(레벨2) 3(레벨1)의 노드에 대해 merge 세번 작용"
      ],
      "metadata": {
        "colab": {
          "base_uri": "https://localhost:8080/"
        },
        "id": "NTcVGVZ9sBR_",
        "outputId": "ffd66d0a-894a-4af7-84e5-6bd8eda8091b"
      },
      "execution_count": 55,
      "outputs": [
        {
          "output_type": "stream",
          "name": "stdout",
          "text": [
            "4\n",
            "5\n",
            "3\n",
            "3\n",
            "4 5\n",
            "5 4 . 7\n"
          ]
        }
      ]
    },
    {
      "cell_type": "code",
      "source": [
        "#위 풀이 보고 수정\n",
        "\n",
        "class my_sol:\n",
        "\n",
        "  def __init__(self, root1):\n",
        "    self.root=root1\n",
        "\n",
        "  def merge_tree(self, root1, root2): #root1에 합치자\n",
        "\n",
        "      #root2만 None이면 그대로\n",
        "    if root1 is None and root2 is not None:\n",
        "      root1.val=root2.val\n",
        "    if root1 is not None and root2 is not None:\n",
        "      root1.val=root1.val+root2.val\n",
        "    else:\n",
        "      merge_tree(root1.child1, root2.child1)\n",
        "      merge_tree(root1.child2, root2.child2)\n",
        "\n",
        "  def solution(self, root1, root2):\n",
        "    merge_tree(root1, root2)\n",
        "    return self.root"
      ],
      "metadata": {
        "id": "ENMbLVRYsAnr"
      },
      "execution_count": 63,
      "outputs": []
    },
    {
      "cell_type": "code",
      "source": [
        "a=my_sol(root1)\n",
        "print_tree(a.solution(root1, root2))"
      ],
      "metadata": {
        "colab": {
          "base_uri": "https://localhost:8080/"
        },
        "id": "VihIxyjytkSS",
        "outputId": "3afb3044-06bf-49d6-be9d-f3e4f72ffede"
      },
      "execution_count": 67,
      "outputs": [
        {
          "output_type": "stream",
          "name": "stdout",
          "text": [
            "3\n",
            "3 2\n",
            "5 . . .\n"
          ]
        }
      ]
    },
    {
      "cell_type": "markdown",
      "source": [
        "실행은 되는데 틀린듯"
      ],
      "metadata": {
        "id": "cvjqHwzguSDz"
      }
    },
    {
      "cell_type": "markdown",
      "source": [
        "함수 사용 방식이 통상적 알고리즘 문제 채점 방식과 다른 점,\n",
        "\n",
        "문제에서 요구하는 것은 새 TreeNode를 만드는 것으로 해석되는 점으로 좋은 풀이가 아님"
      ],
      "metadata": {
        "id": "PwS_fctUtrRF"
      }
    },
    {
      "cell_type": "markdown",
      "source": [
        "교재풀이"
      ],
      "metadata": {
        "id": "YMHkfHJju50r"
      }
    },
    {
      "cell_type": "code",
      "source": [
        "#교재풀이\n",
        "\n",
        "class solution:\n",
        "  def __init__(self):\n",
        "    pass\n",
        "\n",
        "  def merge(self, root1, root2):\n",
        "\n",
        "    if root1 and root2:\n",
        "      node=TreeNode(root1.val+root2.val) #TreeNode를 아예 만들어..버리기\n",
        "      node.child1= self.merge(root1.child1, root2.child1)\n",
        "      node.child2= self.merge(root1.child2, root2.child2)\n",
        "      print(node.val)\n",
        "      return node\n",
        "    else:\n",
        "      return root1 or root2 #한 값이 존재하면 None이 아닌 것을 출력 (둘다 None이면 x)"
      ],
      "metadata": {
        "id": "nv7hnecRann_"
      },
      "execution_count": 53,
      "outputs": []
    },
    {
      "cell_type": "markdown",
      "source": [
        "\n",
        "\n",
        "---\n",
        "\n"
      ],
      "metadata": {
        "id": "FZkd8-NQC6oo"
      }
    },
    {
      "cell_type": "markdown",
      "source": [
        "47은 추후 정리"
      ],
      "metadata": {
        "id": "2qOdAkxyDQuV"
      }
    },
    {
      "cell_type": "markdown",
      "source": [
        "#48 균형 이진 트리\n",
        "\n",
        "높이 균형인지 판단 (모든 노드 서브 트리간 높이 차가 1이하\n",
        "\n",
        "DFS 해서 바닥 노드의 레벨을 구하고 max-min 하면 될듯"
      ],
      "metadata": {
        "id": "hjLS0pRdxySe"
      }
    },
    {
      "cell_type": "code",
      "source": [
        "def my_sol(root):\n",
        "\n",
        "  def level(node, lev=0, levs=[]):\n",
        "\n",
        "    if node.child1:\n",
        "      print(node.child1.val)\n",
        "      level(node.child1, lev+1, levs+[lev+1])\n",
        "    if node.child2:\n",
        "      print(node.child1.val)\n",
        "      level(node.child2, lev+1, levs+[lev+1])\n",
        "\n",
        "  level(root)\n",
        "\n",
        "  if max(levs)-min(levs)<=1:\n",
        "      return True "
      ],
      "metadata": {
        "id": "dohzKukfoRSI"
      },
      "execution_count": 78,
      "outputs": []
    },
    {
      "cell_type": "code",
      "source": [
        "#level(root1)"
      ],
      "metadata": {
        "id": "DayPYm2hyv0f"
      },
      "execution_count": 80,
      "outputs": []
    },
    {
      "cell_type": "markdown",
      "source": [
        "완전 맞는 것 같은데 왜 안되지,,"
      ],
      "metadata": {
        "id": "2vgjHb_Bz7wn"
      }
    },
    {
      "cell_type": "code",
      "source": [
        "def isBalanced(root):\n",
        "\n",
        "  def check(root):\n",
        "    if not root:\n",
        "      return 0\n",
        "\n",
        "    child1=check(root.child1)\n",
        "    child2=check(root.child2)\n",
        "\n",
        "    if child1== -1 or child2== -1 or abs(child1-child2)>1:\n",
        "      return -1\n",
        "    return max(child1, child2)+1\n",
        "\n",
        "  return check(root)!=-1"
      ],
      "metadata": {
        "id": "kJpVP7_yoTrt"
      },
      "execution_count": 81,
      "outputs": []
    },
    {
      "cell_type": "code",
      "source": [
        "print_tree(root1)"
      ],
      "metadata": {
        "colab": {
          "base_uri": "https://localhost:8080/"
        },
        "id": "gHSyJR4KB5uU",
        "outputId": "decc40be-f344-4fd4-adf9-c0a427eb4650"
      },
      "execution_count": 85,
      "outputs": [
        {
          "output_type": "stream",
          "name": "stdout",
          "text": [
            "3\n",
            "3 2\n",
            "5 . . .\n"
          ]
        }
      ]
    },
    {
      "cell_type": "code",
      "source": [
        "isBalanced(root1)"
      ],
      "metadata": {
        "colab": {
          "base_uri": "https://localhost:8080/"
        },
        "id": "mbir6MTtBpv2",
        "outputId": "f4897ed3-caa4-4a14-8a7a-32e0dced5bec"
      },
      "execution_count": 82,
      "outputs": [
        {
          "output_type": "execute_result",
          "data": {
            "text/plain": [
              "True"
            ]
          },
          "metadata": {},
          "execution_count": 82
        }
      ]
    },
    {
      "cell_type": "code",
      "source": [
        "root=TreeNode(4)\n",
        "root.child2=TreeNode(7)\n",
        "root.child2.child1=TreeNode(6)\n",
        "root.child2.child2=TreeNode(9)"
      ],
      "metadata": {
        "id": "Id5LwnYgBvsn"
      },
      "execution_count": 83,
      "outputs": []
    },
    {
      "cell_type": "code",
      "source": [
        "isBalanced(root)"
      ],
      "metadata": {
        "colab": {
          "base_uri": "https://localhost:8080/"
        },
        "id": "owA3Zb6EB2yR",
        "outputId": "ebbe8f61-80f0-4b88-a5d3-e59bf7785e95"
      },
      "execution_count": 84,
      "outputs": [
        {
          "output_type": "execute_result",
          "data": {
            "text/plain": [
              "False"
            ]
          },
          "metadata": {},
          "execution_count": 84
        }
      ]
    },
    {
      "cell_type": "markdown",
      "source": [
        "맨 밑노드 높이를 1로 보고\n",
        "\n",
        "두 자식 노드의 차이가 1 또는 0일 때 높이를 +1 하며 타고 올라감\n",
        "\n",
        "한번이라도 차이가 2 이상 발생하면 -1 리턴\n",
        "\n",
        "추가로 자식 중 하나가 -1 인 경우도 -1 리턴"
      ],
      "metadata": {
        "id": "LkUB6EBQCASq"
      }
    }
  ]
}