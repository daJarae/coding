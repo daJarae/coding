{
  "nbformat": 4,
  "nbformat_minor": 0,
  "metadata": {
    "colab": {
      "name": "프로그래머스lv2.ipynb",
      "provenance": [],
      "collapsed_sections": [],
      "authorship_tag": "ABX9TyP2ZO6atkAnKCkhBb2p1ix4",
      "include_colab_link": true
    },
    "kernelspec": {
      "name": "python3",
      "display_name": "Python 3"
    },
    "language_info": {
      "name": "python"
    }
  },
  "cells": [
    {
      "cell_type": "markdown",
      "metadata": {
        "id": "view-in-github",
        "colab_type": "text"
      },
      "source": [
        "<a href=\"https://colab.research.google.com/github/daJarae/coding-test/blob/main/%ED%94%84%EB%A1%9C%EA%B7%B8%EB%9E%98%EB%A8%B8%EC%8A%A4lv2.ipynb\" target=\"_parent\"><img src=\"https://colab.research.google.com/assets/colab-badge.svg\" alt=\"Open In Colab\"/></a>"
      ]
    },
    {
      "cell_type": "markdown",
      "source": [
        "#전화번호 목록"
      ],
      "metadata": {
        "id": "ioBOUTMXPskN"
      }
    },
    {
      "cell_type": "markdown",
      "source": [
        "전화번호부에 적힌 전화번호를 담은 배열 phone_book 이 solution 함수의 매개변수로 주어질 때, 어떤 번호가 다른 번호의 접두어인 경우가 있으면 false를 그렇지 않으면 true를 return 하도록 solution 함수를 작성해주세요."
      ],
      "metadata": {
        "id": "FR_Mg_nHAD6z"
      }
    },
    {
      "cell_type": "code",
      "source": [
        "#입력: ['12', '123', '1235', '567', '88']\n",
        "#출력: False (12가 123의 접두어임)"
      ],
      "metadata": {
        "id": "BRVp5iAYAGLj"
      },
      "execution_count": null,
      "outputs": []
    },
    {
      "cell_type": "markdown",
      "source": [
        "\n",
        "\n",
        "---\n",
        "\n"
      ],
      "metadata": {
        "id": "OqQLX1TCAMZ-"
      }
    },
    {
      "cell_type": "code",
      "execution_count": null,
      "metadata": {
        "id": "mO0dqWXLOcej",
        "colab": {
          "base_uri": "https://localhost:8080/",
          "height": 35
        },
        "outputId": "d66bc4a7-4db4-4c6e-8952-ab5b7d6b4928"
      },
      "outputs": [
        {
          "output_type": "execute_result",
          "data": {
            "application/vnd.google.colaboratory.intrinsic+json": {
              "type": "string"
            },
            "text/plain": [
              "'bc'"
            ]
          },
          "metadata": {},
          "execution_count": 2
        }
      ],
      "source": [
        "'abc'[:0]+'abc'[1:3]"
      ]
    },
    {
      "cell_type": "code",
      "source": [
        "'abc'[:0]+'abc'[3:] #없는 인덱스를 호출해도 오류 안남"
      ],
      "metadata": {
        "colab": {
          "base_uri": "https://localhost:8080/",
          "height": 35
        },
        "id": "kEYeQMxHRHLy",
        "outputId": "1d89f1c9-5415-41d6-e4b5-d00a23f71bfa"
      },
      "execution_count": null,
      "outputs": [
        {
          "output_type": "execute_result",
          "data": {
            "application/vnd.google.colaboratory.intrinsic+json": {
              "type": "string"
            },
            "text/plain": [
              "''"
            ]
          },
          "metadata": {},
          "execution_count": 5
        }
      ]
    },
    {
      "cell_type": "code",
      "source": [
        "book=[\"12\",\"123\",\"1235\",\"567\",\"88\"]\n",
        "book.sort(key=lambda x: (x,len(x))) #괄호 필수\n",
        "book"
      ],
      "metadata": {
        "colab": {
          "base_uri": "https://localhost:8080/"
        },
        "id": "cgrPlcV2SalO",
        "outputId": "205cc2e5-999d-45d1-cae3-bde8188ca78a"
      },
      "execution_count": 1,
      "outputs": [
        {
          "output_type": "execute_result",
          "data": {
            "text/plain": [
              "['12', '123', '1235', '567', '88']"
            ]
          },
          "metadata": {},
          "execution_count": 1
        }
      ]
    },
    {
      "cell_type": "markdown",
      "source": [
        "\n",
        "\n",
        "---\n",
        "\n"
      ],
      "metadata": {
        "id": "xEhWrXaDAN0n"
      }
    },
    {
      "cell_type": "code",
      "source": [
        "#내 풀이(질문 참고)\n",
        "\n",
        "def solution_my(book):\n",
        "    \n",
        "    book.sort(key=lambda x: (x, len(x))) #처음에 두번 정렬 안하고 for문 두번 사용해서 효율성 두개 통과x\n",
        "    \n",
        "    for i in range(len(book)-1): #처음에 len(book)로 해서 book[i+1]이랑 충돌남\n",
        "      if len(book[i])<=len(book[i+1]) and book[i]==book[i+1][:len(book[i])]:\n",
        "          return False        \n",
        "    return True"
      ],
      "metadata": {
        "id": "Bu3Rl6RK9piD"
      },
      "execution_count": 28,
      "outputs": []
    },
    {
      "cell_type": "code",
      "source": [
        "solution_my(['1234', '1235', '567', '88'])"
      ],
      "metadata": {
        "colab": {
          "base_uri": "https://localhost:8080/"
        },
        "id": "1Z-18H8E9x_g",
        "outputId": "40bdb6b9-c3ee-4167-dc11-f547652242e1"
      },
      "execution_count": 11,
      "outputs": [
        {
          "output_type": "execute_result",
          "data": {
            "text/plain": [
              "True"
            ]
          },
          "metadata": {},
          "execution_count": 11
        }
      ]
    },
    {
      "cell_type": "code",
      "source": [
        "#인기풀이1\n",
        "\n",
        "def solution(phoneBook):\n",
        "    phoneBook = sorted(phoneBook) # 정렬 1회\n",
        "\n",
        "    for p1, p2 in zip(phoneBook, phoneBook[1:]):\n",
        "        if p2.startswith(p1): # ★최적의 함수 startswith()가 있었다...\n",
        "            return False\n",
        "    return True"
      ],
      "metadata": {
        "id": "haRIC3TB-eRx"
      },
      "execution_count": null,
      "outputs": []
    },
    {
      "cell_type": "code",
      "source": [
        "#인기풀이2\n",
        "\n",
        "import re\n",
        "def solution(phoneBook):\n",
        "\n",
        "    for b in phoneBook:\n",
        "        p = re.compile(\"^\"+b) #b로 시작하는 문자열 찾기 정규식\n",
        "        for b2 in phoneBook:\n",
        "            print(p,b2)\n",
        "            if b != b2 and p.match(b2): # b != b2가 없으면 실패하는 이유는 b를 제외하지 않고 두번째 for문을 사용해서\n",
        "                return False\n",
        "    return True\n",
        "\n",
        "#for문이 두개라 효율성에서 실패하긴 함"
      ],
      "metadata": {
        "id": "xdDlA8tJ-f7r"
      },
      "execution_count": 26,
      "outputs": []
    },
    {
      "cell_type": "code",
      "source": [
        "solution(['1234', '1235', '567', '88'])"
      ],
      "metadata": {
        "colab": {
          "base_uri": "https://localhost:8080/"
        },
        "id": "Qx2H6bd1_Pdm",
        "outputId": "928f1a35-56f8-47c4-d320-33176dcec9b0"
      },
      "execution_count": 27,
      "outputs": [
        {
          "output_type": "stream",
          "name": "stdout",
          "text": [
            "re.compile('^1234') 1234\n",
            "re.compile('^1234') 1235\n",
            "re.compile('^1234') 567\n",
            "re.compile('^1234') 88\n",
            "re.compile('^1235') 1234\n",
            "re.compile('^1235') 1235\n",
            "re.compile('^1235') 567\n",
            "re.compile('^1235') 88\n",
            "re.compile('^567') 1234\n",
            "re.compile('^567') 1235\n",
            "re.compile('^567') 567\n",
            "re.compile('^567') 88\n",
            "re.compile('^88') 1234\n",
            "re.compile('^88') 1235\n",
            "re.compile('^88') 567\n",
            "re.compile('^88') 88\n"
          ]
        },
        {
          "output_type": "execute_result",
          "data": {
            "text/plain": [
              "True"
            ]
          },
          "metadata": {},
          "execution_count": 27
        }
      ]
    },
    {
      "cell_type": "markdown",
      "source": [
        "\n",
        "\n",
        "---\n",
        "\n"
      ],
      "metadata": {
        "id": "5tLrqh_u-PT3"
      }
    }
  ]
}