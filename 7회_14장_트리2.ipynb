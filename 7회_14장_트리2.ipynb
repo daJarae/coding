{
  "nbformat": 4,
  "nbformat_minor": 0,
  "metadata": {
    "colab": {
      "name": "7회_14장_트리2.ipynb",
      "provenance": [],
      "authorship_tag": "ABX9TyNf7fnQ4U8hwO1vnpC6mGmJ",
      "include_colab_link": true
    },
    "kernelspec": {
      "name": "python3",
      "display_name": "Python 3"
    },
    "language_info": {
      "name": "python"
    }
  },
  "cells": [
    {
      "cell_type": "markdown",
      "metadata": {
        "id": "view-in-github",
        "colab_type": "text"
      },
      "source": [
        "<a href=\"https://colab.research.google.com/github/daJarae/coding/blob/main/7%ED%9A%8C_14%EC%9E%A5_%ED%8A%B8%EB%A6%AC2.ipynb\" target=\"_parent\"><img src=\"https://colab.research.google.com/assets/colab-badge.svg\" alt=\"Open In Colab\"/></a>"
      ]
    },
    {
      "cell_type": "markdown",
      "source": [
        "필수 5 문제\n",
        "\n",
        "51 52 + 트리 두 문제 + 최단경로 한 문제"
      ],
      "metadata": {
        "id": "QUlaEAdwZQj8"
      }
    },
    {
      "cell_type": "markdown",
      "source": [
        "#51 BST(이진 탐색 트리)를 더 큰 수 합계 트리로"
      ],
      "metadata": {
        "id": "UJ6TCpBnkMm4"
      }
    },
    {
      "cell_type": "code",
      "execution_count": 1,
      "metadata": {
        "id": "ya19raTaZOgR"
      },
      "outputs": [],
      "source": [
        "class TreeNode:\n",
        "\n",
        "  def __init__(self, node):\n",
        "    self.val=node\n",
        "    self.left=None\n",
        "    self.right=None"
      ]
    },
    {
      "cell_type": "code",
      "source": [
        "root=TreeNode(4)\n",
        "root.left=TreeNode(1)\n",
        "root.right=TreeNode(6)\n",
        "root.left.left=TreeNode(0)\n",
        "root.left.right=TreeNode(2)\n",
        "root.left.right.right=TreeNode(3)\n",
        "root.right.left=TreeNode(5)\n",
        "root.right.right=TreeNode(7)\n",
        "root.right.right.right=TreeNode(8)"
      ],
      "metadata": {
        "id": "v53wIEFwe9sU"
      },
      "execution_count": 62,
      "outputs": []
    },
    {
      "cell_type": "code",
      "source": [
        "def bst_sum(root):\n",
        "  node=root #이게 주소 복사가 되던가?\n",
        "\n",
        "  def check(temp, k):  #현재 노드 위치와 관계 없이 root 부터 탐색\n",
        "\n",
        "    if temp.left:\n",
        "      if temp.left and temp.left.val > k:\n",
        "        k+=temp.left.val\n",
        "        temp=temp.left\n",
        "      check(temp.left, k)\n",
        "      check(temp.right, k)\n",
        "      \n",
        "    if temp.right:\n",
        "      if temp.right and temp.right.val > k:\n",
        "        k+=temp.right.val\n",
        "        temp=temp.right\n",
        "      check(temp.left, k)\n",
        "      check(temp.right, k)\n",
        "\n",
        "    return k\n",
        "\n",
        "\n",
        "  if node.left:\n",
        "    node.left=TreeNode(check(root, node.left.val))\n",
        "    print(node.left.val)\n",
        "\n",
        "  if node.right:\n",
        "    node.right=TreeNode(check(root, node.right.val))\n",
        "    print(node.right.val)\n",
        "\n",
        "  return root"
      ],
      "metadata": {
        "id": "EJz8irRmeAgf"
      },
      "execution_count": 19,
      "outputs": []
    },
    {
      "cell_type": "code",
      "source": [
        "bst_sum(root) #실패"
      ],
      "metadata": {
        "id": "Fo4GWWdli0Ee"
      },
      "execution_count": 20,
      "outputs": []
    },
    {
      "cell_type": "markdown",
      "source": [
        "교재풀이"
      ],
      "metadata": {
        "id": "8Ve4QkkVkLUf"
      }
    },
    {
      "cell_type": "code",
      "source": [
        "#아니..?\n",
        "\n",
        "class Solution:\n",
        "  val: int=0\n",
        "\n",
        "  def bst_sum(self, root: TreeNode) -> TreeNode:\n",
        "    \n",
        "    if root:\n",
        "      self.bst_sum(root.right)\n",
        "      print(root.val)\n",
        "      self.val+=root.val\n",
        "      root.val=self.val\n",
        "      print(self.val)\n",
        "      self.bst_sum(root.left)\n",
        "\n",
        "    return root"
      ],
      "metadata": {
        "id": "qyvCplPFkK08"
      },
      "execution_count": 40,
      "outputs": []
    },
    {
      "cell_type": "code",
      "source": [
        "s=Solution()\n",
        "s=s.bst_sum(root)"
      ],
      "metadata": {
        "colab": {
          "base_uri": "https://localhost:8080/"
        },
        "id": "kgR2c1sfi6lS",
        "outputId": "f142d703-a497-4b18-9665-e82463673af8"
      },
      "execution_count": 44,
      "outputs": [
        {
          "output_type": "stream",
          "name": "stdout",
          "text": [
            "8\n",
            "8\n",
            "7\n",
            "15\n",
            "6\n",
            "21\n",
            "5\n",
            "26\n",
            "4\n",
            "30\n",
            "3\n",
            "33\n",
            "2\n",
            "35\n",
            "1\n",
            "36\n",
            "0\n",
            "36\n"
          ]
        }
      ]
    },
    {
      "cell_type": "markdown",
      "source": [
        "?? 이 풀이는 문제가 오른쪽 아래를 우선으로 향하는 DFS 방식으로 풀이 가능하도록 노드 순서를 짜주지 않았다면 불가능한 방법 아닌가?\n",
        "\n",
        "이런 국소적인 방법도 해결이라고 할 수 있나??"
      ],
      "metadata": {
        "id": "mrHsU5U_mb63"
      }
    },
    {
      "cell_type": "code",
      "source": [
        "print(s.val,\n",
        "s.left.val,\n",
        "s.right.val,\n",
        "s.left.left.val,\n",
        "s.left.right.val)"
      ],
      "metadata": {
        "colab": {
          "base_uri": "https://localhost:8080/"
        },
        "id": "ylSTQKQelcKt",
        "outputId": "e023971a-f0d8-4a03-94f3-5b3232d91f49"
      },
      "execution_count": 45,
      "outputs": [
        {
          "output_type": "stream",
          "name": "stdout",
          "text": [
            "30 36 21 36 35\n"
          ]
        }
      ]
    },
    {
      "cell_type": "markdown",
      "source": [
        "#52 BST 합의 범위 (L이상 R 이하 값의 노드 합)"
      ],
      "metadata": {
        "id": "UqiTEmCCnBA5"
      }
    },
    {
      "cell_type": "code",
      "source": [
        "#관건은 노드를 한번씩만 지나는 것\n",
        "\n",
        "class Solution:\n",
        "  val=0\n",
        "\n",
        "  def bst_sum2(self, root, L, R):\n",
        "    if root:\n",
        "      self.bst_sum2(root.right, L, R) #순서 그대로 가져오기~\n",
        "      if root and root.val >=L and root.val<=R:\n",
        "        self.val+=root.val\n",
        "      self.bst_sum2(root.left, L, R)\n",
        "\n",
        "    return self.val"
      ],
      "metadata": {
        "id": "TrkxvEuzlJcN"
      },
      "execution_count": 59,
      "outputs": []
    },
    {
      "cell_type": "code",
      "source": [
        "s=Solution()\n",
        "s.bst_sum2(root, 7, 15)"
      ],
      "metadata": {
        "colab": {
          "base_uri": "https://localhost:8080/"
        },
        "id": "ZrNKokhYnxTQ",
        "outputId": "3eb594c1-e2d4-4f37-c955-336204110382"
      },
      "execution_count": 63,
      "outputs": [
        {
          "output_type": "execute_result",
          "data": {
            "text/plain": [
              "15"
            ]
          },
          "metadata": {},
          "execution_count": 63
        }
      ]
    },
    {
      "cell_type": "markdown",
      "source": [
        "제출해보니 잘 되는 것을 보아 맞는 풀이다\n",
        "\n",
        "Runtime: 422 ms, faster than **16.02%** of Python3 online submissions\n",
        "\n",
        "Memory Usage: 23 MB, less than 53.88% of Python3 online submissions\n",
        "\n",
        "놀랍게도 브루트포스와 *메모리 사용이 같으면서 훨씬 느리다*"
      ],
      "metadata": {
        "id": "HrYnkQlprDIm"
      }
    },
    {
      "cell_type": "markdown",
      "source": [
        "교재풀이"
      ],
      "metadata": {
        "id": "gd02-6S8orJL"
      }
    },
    {
      "cell_type": "code",
      "source": [
        "#브루트포스\n",
        "class Solution:\n",
        "\n",
        "  def range_sum(self, root, L, R):\n",
        "    if not root:\n",
        "      return 0\n",
        "\n",
        "    return (root.val if L<=root.val <= R else 0) + \\\n",
        "     self.range_sum(root.left, L, R) + self.range_sum(root.right, L, R)"
      ],
      "metadata": {
        "id": "5xMmOIMvoO18"
      },
      "execution_count": 69,
      "outputs": []
    },
    {
      "cell_type": "code",
      "source": [
        "s=Solution()\n",
        "s.range_sum(root, 7,15)"
      ],
      "metadata": {
        "colab": {
          "base_uri": "https://localhost:8080/"
        },
        "id": "6TKp6UT6ocmW",
        "outputId": "4b6c36e9-1c34-455b-efcf-2eb3aa13344b"
      },
      "execution_count": 70,
      "outputs": [
        {
          "output_type": "execute_result",
          "data": {
            "text/plain": [
              "15"
            ]
          },
          "metadata": {},
          "execution_count": 70
        }
      ]
    },
    {
      "cell_type": "markdown",
      "source": [
        "Runtime: 329 ms, **faster than 44.73%** of Python3 online submissions\n",
        "\n",
        "Memory Usage: 22.9 MB, less than 53.88% of Python3 online submissions"
      ],
      "metadata": {
        "id": "t_DkK05PrnYV"
      }
    },
    {
      "cell_type": "markdown",
      "source": [
        "교재풀이 2~4"
      ],
      "metadata": {
        "id": "1_GZ5KwwsoTr"
      }
    },
    {
      "cell_type": "code",
      "source": [
        "#가지치기로 최적화 (탐색 배제)\n",
        "\n",
        "def rangeSum2(root, L, R):\n",
        "\n",
        "  def dfs(node):\n",
        "    if not node:\n",
        "      return 0\n",
        "    \n",
        "    #필요한 노드만 타고 내려가도록, 가지치기를 위한 파트\n",
        "    #끝까지 내려가서 리프노드가 범위 밖일시 아무것도 리턴하지 않음 (가지치기 당한..)\n",
        "\n",
        "    if node.val < L:\n",
        "      #print(node.val)\n",
        "      return dfs(node.right)\n",
        "    elif node.val > R:\n",
        "      #print(node.val)\n",
        "      return dfs(node.left)\n",
        "    \n",
        "    #L이상 R이하의 경우 자식 노드 최대 둘을 모두 탐색하게 됨\n",
        "\n",
        "    #재귀 점화\n",
        "    #print(node.val, dfs(node.left), dfs(node.right))\n",
        "    return node.val + dfs(node.left) + dfs(node.right)\n",
        "\n",
        "  return dfs(root) #루트노드와 그 이하에 대해 root.val + dfs(root.left) + dfs(root.right), 즉 이후 노드 중 범위 내 합 탐색\n"
      ],
      "metadata": {
        "id": "YwhQUtLypV9c"
      },
      "execution_count": 80,
      "outputs": []
    },
    {
      "cell_type": "markdown",
      "source": [
        "elif - 이진 탐색 트리는 왼쪽이 항상 오른쪽보다 작기 때문에 (?!)\n",
        "\n",
        "현 노드가 L 보다 작다면 왼쪽 가지는 탐색할 필요가 없고,\n",
        "\n",
        "마찬가지로 현 노드가 R 보다 크다면 오른쪽 가지는 탐색할 필요가 없다\n",
        "\n",
        "현노드 값이 L보다 작거나 R보다 큰 두 상황 중 하나만 발생하기 때문에 if - elif를 사용."
      ],
      "metadata": {
        "id": "YCxamMwwt1K1"
      }
    },
    {
      "cell_type": "code",
      "source": [
        "root=TreeNode(10)\n",
        "root.left=TreeNode(5)\n",
        "root.right=TreeNode(15)\n",
        "root.left.left=TreeNode(3)\n",
        "root.left.right=TreeNode(7)\n",
        "root.right.left=TreeNode(18)"
      ],
      "metadata": {
        "id": "2JV3rGySvb-C"
      },
      "execution_count": 78,
      "outputs": []
    },
    {
      "cell_type": "markdown",
      "source": [
        "5: (left 가지치기)-> 7 (아래재귀 합 0)\n",
        "\n",
        "18: elif에서 dfs(node.left= None)으로 출력 내용 없음 \n",
        "\n",
        "15: (if, elif 건너 뛰고 18 출력, 아래재귀 합 0)\n",
        "\n",
        "10: (아래노드인 15, 18 중 18만 if에 걸려 18 출력, 아래 재귀 합 32)\n",
        "\n",
        "10 이후로 똑같이 5 ~ 18 반복으로 보이는 이유는\n",
        "\n",
        "10 7 15까지가 dfs(root)~node.val 까지고, 그 후가 dfs(node.left)+dfs(node.right) 이기 때문"
      ],
      "metadata": {
        "id": "52iICFMIz2tG"
      }
    },
    {
      "cell_type": "code",
      "source": [
        "rangeSum2(root,7,15)"
      ],
      "metadata": {
        "colab": {
          "base_uri": "https://localhost:8080/"
        },
        "id": "HT5j3UAjvYSa",
        "outputId": "26616263-b44a-47b5-cbbd-65e7a52feb8e"
      },
      "execution_count": 81,
      "outputs": [
        {
          "output_type": "stream",
          "name": "stdout",
          "text": [
            "5\n",
            "7 0 0\n",
            "18\n",
            "15 0 0\n",
            "18\n",
            "10 7 15\n",
            "5\n",
            "7 0 0\n",
            "18\n",
            "15 0 0\n",
            "18\n"
          ]
        },
        {
          "output_type": "execute_result",
          "data": {
            "text/plain": [
              "32"
            ]
          },
          "metadata": {},
          "execution_count": 81
        }
      ]
    },
    {
      "cell_type": "markdown",
      "source": [
        "#시각화 해야할지도.."
      ],
      "metadata": {
        "id": "IxClb6F_0at5"
      }
    },
    {
      "cell_type": "code",
      "source": [
        "#반복구조 DFS로 필요 노드 탐색\n",
        "\n",
        "def rangeSum3(root, L, R):\n",
        "\n",
        "  stack, sum= [root], 0\n",
        "  \n",
        "  while stack:\n",
        "    node=stack.pop()\n",
        "\n",
        "    if node:\n",
        "      #범위 내 일경우만 두 자식 노드 모두 확인!\n",
        "      if node.val > L:\n",
        "        stack.append(node.left) #dfs(node.left) 대신, stack.append(node.left)\n",
        "      if node.val < R:\n",
        "        stack.append(node.right)\n",
        "\n",
        "      if L <= node.val <= R:\n",
        "        sum += node.val\n",
        "        print([i.val for i in stack if i is not None], node.val, sum) # if i is not None 안하면 stack이 비어있을 때 오류나는듯\n",
        "  \n",
        "  return sum"
      ],
      "metadata": {
        "id": "CDOlSVFcpTrJ"
      },
      "execution_count": 92,
      "outputs": []
    },
    {
      "cell_type": "code",
      "source": [
        "rangeSum3(root, 7, 15)"
      ],
      "metadata": {
        "colab": {
          "base_uri": "https://localhost:8080/"
        },
        "id": "6Xuq2TX21JEW",
        "outputId": "dc55a44f-690f-417f-9069-c202027de1a9"
      },
      "execution_count": 93,
      "outputs": [
        {
          "output_type": "stream",
          "name": "stdout",
          "text": [
            "[5, 15] 10 10\n",
            "[5, 18] 15 25\n",
            "[] 7 32\n"
          ]
        },
        {
          "output_type": "execute_result",
          "data": {
            "text/plain": [
              "32"
            ]
          },
          "metadata": {},
          "execution_count": 93
        }
      ]
    },
    {
      "cell_type": "code",
      "source": [
        "#반복구조 BFS로 필요 노드 탐색\n",
        "#leftpop쓰는 것만 다를듯?\n",
        "\n",
        "def rangeSum4(root, L, R):\n",
        "\n",
        "  stack, sum= [root], 0\n",
        "  \n",
        "  while stack:\n",
        "    node=stack.pop(0)\n",
        "    if node is not None: print(node.val)\n",
        "\n",
        "    if node:\n",
        "      if node.val > L:\n",
        "        stack.append(node.left)\n",
        "      if node.val < R:\n",
        "        stack.append(node.right)\n",
        "\n",
        "      if L <= node.val <= R:\n",
        "        sum += node.val\n",
        "\n",
        "  return sum"
      ],
      "metadata": {
        "id": "tpHgJVFQ1r41"
      },
      "execution_count": 101,
      "outputs": []
    },
    {
      "cell_type": "code",
      "source": [
        "rangeSum4(root, 7, 15)\n",
        "\n",
        "#5가 범위 밖이라 append 되지 않은 3을 제외 하고, 위부터 & 왼->오른 순으로 출력됨."
      ],
      "metadata": {
        "colab": {
          "base_uri": "https://localhost:8080/"
        },
        "id": "MRg7vLtp18o7",
        "outputId": "a8cbe4da-6511-4c6f-e783-2b9836a9994b"
      },
      "execution_count": 103,
      "outputs": [
        {
          "output_type": "stream",
          "name": "stdout",
          "text": [
            "10\n",
            "5\n",
            "15\n",
            "7\n",
            "18\n"
          ]
        },
        {
          "output_type": "execute_result",
          "data": {
            "text/plain": [
              "32"
            ]
          },
          "metadata": {},
          "execution_count": 103
        }
      ]
    },
    {
      "cell_type": "markdown",
      "source": [
        "\n",
        "\n",
        "---\n",
        "\n"
      ],
      "metadata": {
        "id": "296J13hZFAOF"
      }
    },
    {
      "cell_type": "markdown",
      "source": [
        "#235 Lowest Common Ancestor"
      ],
      "metadata": {
        "id": "lCmxZWvIE5yU"
      }
    },
    {
      "cell_type": "code",
      "source": [
        "#미해결 풀이\n",
        "\n",
        "class TreeNode:\n",
        "    def __init__(self, x):\n",
        "        self.val = x\n",
        "        self.left = None\n",
        "        self.right = None\n",
        "\n",
        "class Solution:\n",
        "  \n",
        "  path_=[]\n",
        "\n",
        "  def Lowest_CA(self, root: 'TreeNode', p: 'TreeNode', q: 'TreeNode') -> 'TreeNode':\n",
        "    \n",
        "    def dfs(find, node, path):\n",
        "      if node:\n",
        "        if node.val == find:\n",
        "          self.path_.append(path)\n",
        "        else:\n",
        "          dfs(find, node.left, path+[node.val])\n",
        "          dfs(find, node.right, path+[node.val])\n",
        "\n",
        "    dfs(p, root, [])\n",
        "    dfs(q, root, [])\n",
        "\n",
        "    return self.path_"
      ],
      "metadata": {
        "id": "m-X9Lu1o2Lpk"
      },
      "execution_count": 4,
      "outputs": []
    },
    {
      "cell_type": "markdown",
      "source": [
        "p, q가 고유한 노드값으로 주어지는줄 알고 TreeNode로 부터 p 또는 q로 가는 경로를 path_에 추가하도록 했는데 ...\n",
        "\n",
        " 혹시 노드를 써야 하는 문제인가?"
      ],
      "metadata": {
        "id": "8HjVKiLWGe2a"
      }
    },
    {
      "cell_type": "code",
      "source": [
        "#다른 사람 쉬운 풀이\n",
        "\n",
        "class Solution:\n",
        "    def lowestCommonAncestor(self, root: 'TreeNode', p: 'TreeNode', q: 'TreeNode') -> 'TreeNode':\n",
        "\n",
        "        if root:\n",
        "            print(root.val, '____')\n",
        "\n",
        "        if root is None: #없으면 오류 (LeetCode 라서?)\n",
        "            return root\n",
        "        if root==p or root==q: #접근 구조가 같으면 같은 Node로 취급되는듯\n",
        "            return root\n",
        "\n",
        "        left=self.lowestCommonAncestor(root.left,p,q)\n",
        "        right=self.lowestCommonAncestor(root.right,p,q) #2, 8만 재귀 (얘네 이후는 p,q의 자식들이므로 무시됨...)\n",
        "\n",
        "        if root:\n",
        "            print(root.val, '__________')\n",
        "\n",
        "\n",
        "        #대체 왜 있지\n",
        "        \n",
        "        if not left:          \n",
        "            return right\n",
        "        if not right:\n",
        "            return left\n",
        "\n",
        "        return root"
      ],
      "metadata": {
        "id": "UIMPSrLCGucW"
      },
      "execution_count": 66,
      "outputs": []
    },
    {
      "cell_type": "code",
      "source": [
        "root=TreeNode(6)\n",
        "root.left=TreeNode(2); root.right=TreeNode(8)\n",
        "root.left.left=TreeNode(0); root.left.right=TreeNode(4)\n",
        "root.right.left=TreeNode(7); root.right.right=TreeNode(9)\n",
        "root.right.right.left=TreeNode(3); root.right.right.right=TreeNode(5)\n",
        "p=root.left; q=root.right"
      ],
      "metadata": {
        "id": "1XOJivyrJU9z"
      },
      "execution_count": 67,
      "outputs": []
    },
    {
      "cell_type": "code",
      "source": [
        "s=Solution()\n",
        "node=s.lowestCommonAncestor(root, p, q)"
      ],
      "metadata": {
        "colab": {
          "base_uri": "https://localhost:8080/"
        },
        "id": "pPSYbNSVJONg",
        "outputId": "1847f643-ad7d-42b1-c98f-7c034b006480"
      },
      "execution_count": 68,
      "outputs": [
        {
          "output_type": "stream",
          "name": "stdout",
          "text": [
            "6 ____\n",
            "2 ____\n",
            "8 ____\n",
            "6 __________\n"
          ]
        }
      ]
    },
    {
      "cell_type": "code",
      "source": [
        "node.val"
      ],
      "metadata": {
        "colab": {
          "base_uri": "https://localhost:8080/"
        },
        "id": "S7hDSaWWKAfV",
        "outputId": "5c11e162-0993-4143-9789-2cd1e3573ce3"
      },
      "execution_count": 69,
      "outputs": [
        {
          "output_type": "execute_result",
          "data": {
            "text/plain": [
              "6"
            ]
          },
          "metadata": {},
          "execution_count": 69
        }
      ]
    },
    {
      "cell_type": "markdown",
      "source": [
        "어질어질 하네요.."
      ],
      "metadata": {
        "id": "XegMLzrqIi_s"
      }
    },
    {
      "cell_type": "markdown",
      "source": [
        "다른 케이스"
      ],
      "metadata": {
        "id": "beQzELhOLipv"
      }
    },
    {
      "cell_type": "code",
      "source": [
        "root=TreeNode(6)\n",
        "root.left=TreeNode(2); root.right=TreeNode(8)\n",
        "root.left.left=TreeNode(0); root.left.right=TreeNode(4)\n",
        "root.right.left=TreeNode(7); root.right.right=TreeNode(9)\n",
        "root.right.right.left=TreeNode(3); root.right.right.right=TreeNode(5)\n",
        "p=root.left; q=root.left.right"
      ],
      "metadata": {
        "id": "DZuxvOOpLiUp"
      },
      "execution_count": 70,
      "outputs": []
    },
    {
      "cell_type": "code",
      "source": [
        "s=Solution()\n",
        "node=s.lowestCommonAncestor(root, p, q)"
      ],
      "metadata": {
        "colab": {
          "base_uri": "https://localhost:8080/"
        },
        "id": "YQMIyvHILfK1",
        "outputId": "3eff856d-d149-4fa6-c334-7f8f5fa4fec9"
      },
      "execution_count": 71,
      "outputs": [
        {
          "output_type": "stream",
          "name": "stdout",
          "text": [
            "6 ____\n",
            "2 ____\n",
            "8 ____\n",
            "7 ____\n",
            "7 __________\n",
            "9 ____\n",
            "3 ____\n",
            "3 __________\n",
            "5 ____\n",
            "5 __________\n",
            "9 __________\n",
            "8 __________\n",
            "6 __________\n",
            "2\n"
          ]
        }
      ]
    },
    {
      "cell_type": "code",
      "source": [
        "node.val"
      ],
      "metadata": {
        "colab": {
          "base_uri": "https://localhost:8080/"
        },
        "id": "-icirr8BLfZU",
        "outputId": "cc686917-55ae-4e76-d7bf-8dfe6e5b10af"
      },
      "execution_count": 72,
      "outputs": [
        {
          "output_type": "execute_result",
          "data": {
            "text/plain": [
              "2"
            ]
          },
          "metadata": {},
          "execution_count": 72
        }
      ]
    },
    {
      "cell_type": "markdown",
      "source": [
        "재귀를 상당히 많이 돌게 됩니다.. .!! ........."
      ],
      "metadata": {
        "id": "g2a5HqAtMI0X"
      }
    }
  ]
}