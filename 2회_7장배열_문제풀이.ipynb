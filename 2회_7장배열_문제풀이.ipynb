{
  "nbformat": 4,
  "nbformat_minor": 0,
  "metadata": {
    "colab": {
      "name": "7장_Leetcode풀이.ipynb",
      "provenance": [],
      "authorship_tag": "ABX9TyPPgpJ11bN6l1dKx7xFXet5",
      "include_colab_link": true
    },
    "kernelspec": {
      "name": "python3",
      "display_name": "Python 3"
    },
    "language_info": {
      "name": "python"
    }
  },
  "cells": [
    {
      "cell_type": "markdown",
      "metadata": {
        "id": "view-in-github",
        "colab_type": "text"
      },
      "source": [
        "<a href=\"https://colab.research.google.com/github/daJarae/coding-test/blob/main/7%EC%9E%A5_Leetcode%ED%92%80%EC%9D%B4.ipynb\" target=\"_parent\"><img src=\"https://colab.research.google.com/assets/colab-badge.svg\" alt=\"Open In Colab\"/></a>"
      ]
    },
    {
      "cell_type": "markdown",
      "source": [
        "자료구조: 메모리 공간 기반의 연속 방식(배열) / 포인터 기반의 연결 방식(연결 리스트)"
      ],
      "metadata": {
        "id": "oyptfJ0oWccj"
      }
    },
    {
      "cell_type": "markdown",
      "source": [
        "배열: 크기를 지정하고 크기만큼의 연속된 메모리 공간을 할당받는 작업을 수행하는 자료형 (크기 고정, 불변) - like R vector?\n",
        "\n",
        "but 대부분 언어 동적 배열 지원 (크기 지정x, 자동 리사이징)"
      ],
      "metadata": {
        "id": "JTPMDl5lXO61"
      }
    },
    {
      "cell_type": "markdown",
      "source": [
        "과거 32비트: 메모리 주소 2^32개 인식해 최대 4GB 지정\n",
        "\n",
        "64비트: 메모리 주소 2^64개 인식해 최대 16EB(엑사바이트) 지정"
      ],
      "metadata": {
        "id": "8hMlGVfVX2gf"
      }
    },
    {
      "cell_type": "markdown",
      "source": [
        "\n",
        "\n",
        "---\n",
        "\n"
      ],
      "metadata": {
        "id": "iLvHTR6cY20t"
      }
    },
    {
      "cell_type": "markdown",
      "source": [
        "# 001 두 수의 합\n",
        "nums의 원소들 중 합으로 target을 만드는 두 원소의 인덱스 list 반환 "
      ],
      "metadata": {
        "id": "O1HZd6xfY3Zo"
      }
    },
    {
      "cell_type": "code",
      "source": [
        "#풀기 전 확인할 것\n",
        "\n",
        "for i in range(0,1):\n",
        "  print(i) #출력\n",
        "\n",
        "for i in range(0,0):\n",
        "  print(i) #출력x (오류도 x)\n",
        "\n",
        "for i in range(0,-1):\n",
        "  print(i) #출력x (오류도 x)\n",
        "\n",
        "print(\"\\n\",[1,3,5].index(5),'\\n')\n",
        "\n",
        "\n",
        "for i, j in enumerate([1,2,3]):\n",
        "  print(i,j)"
      ],
      "metadata": {
        "colab": {
          "base_uri": "https://localhost:8080/"
        },
        "id": "CYQpWUoUZz1a",
        "outputId": "5e81c104-6e0d-47b8-e37f-5c0d15917a33"
      },
      "execution_count": null,
      "outputs": [
        {
          "output_type": "stream",
          "name": "stdout",
          "text": [
            "0\n",
            "\n",
            " 2 \n",
            "\n",
            "0 1\n",
            "1 2\n",
            "2 3\n"
          ]
        }
      ]
    },
    {
      "cell_type": "code",
      "execution_count": null,
      "metadata": {
        "id": "dJv_EOyF8ZZ4"
      },
      "outputs": [],
      "source": [
        "nums=[2,7,5,22]\n",
        "target=9\n",
        "\n",
        "#출력 [0,1]"
      ]
    },
    {
      "cell_type": "code",
      "source": [
        "# 풀이\n",
        "\n",
        "def twoSum(nums, target):\n",
        "  for idx1 in range(len(nums)-1): # -1 안해도 작동함\n",
        "    for idx2 in range(idx1+1, len(nums)):\n",
        "\n",
        "      if nums[idx1]+nums[idx2]==target:\n",
        "        return [idx1, idx2]"
      ],
      "metadata": {
        "id": "GuDtONpYZNbp"
      },
      "execution_count": null,
      "outputs": []
    },
    {
      "cell_type": "code",
      "source": [
        "twoSum([2,7,11,15],9)"
      ],
      "metadata": {
        "colab": {
          "base_uri": "https://localhost:8080/"
        },
        "id": "TrAVTXvlahek",
        "outputId": "99cc4b25-535b-4b2c-e82f-49340ac36925"
      },
      "execution_count": null,
      "outputs": [
        {
          "output_type": "execute_result",
          "data": {
            "text/plain": [
              "[0, 1]"
            ]
          },
          "metadata": {},
          "execution_count": 11
        }
      ]
    },
    {
      "cell_type": "markdown",
      "source": [
        "* 위 풀이(브루트 포스 방식)의 시간 복잡도는 O(N^2)이다 (for문 중첩)"
      ],
      "metadata": {
        "id": "MVX_zTdLavXK"
      }
    },
    {
      "cell_type": "code",
      "source": [
        "# 교재 풀이2: in을 이용한 탐색\n",
        "\n",
        "def twoSum2(nums, target):\n",
        "  for i, n in enumerate(nums): #i:인덱스, n:원소\n",
        "    v=target-n\n",
        "\n",
        "    if v in nums[i+1:]: #i번째 원소인 n 등장 후에 v가 있다면 (시간 효율상 in nums 대신 nums[i+1:])\n",
        "      return [nums.index(n), nums[i+1:].index(v)+(i+1)]  #[i, nums.index(v)] 사용시 답으로 중복 인덱스를 제출할수도"
      ],
      "metadata": {
        "id": "XTmCmwTyao2B"
      },
      "execution_count": null,
      "outputs": []
    },
    {
      "cell_type": "code",
      "source": [
        "twoSum2([2,7,11,15],9)"
      ],
      "metadata": {
        "colab": {
          "base_uri": "https://localhost:8080/"
        },
        "id": "7yxrqw4ubwQ_",
        "outputId": "26b28fa6-f31b-424a-e261-ce358c37d6f9"
      },
      "execution_count": null,
      "outputs": [
        {
          "output_type": "execute_result",
          "data": {
            "text/plain": [
              "[0, 1]"
            ]
          },
          "metadata": {},
          "execution_count": 26
        }
      ]
    },
    {
      "cell_type": "markdown",
      "source": [
        "* 위 풀이(for+in)의 시간 복잡도는 O(N^2)이지만 in 연산이 for 연산보다 빨라 이전 풀이보다 속도 개선"
      ],
      "metadata": {
        "id": "fPS8s4Lib6dG"
      }
    },
    {
      "cell_type": "code",
      "source": [
        "# 교재 풀이3: 딕셔너리 키 조회\n",
        "#{값:키}인 딕셔너리 생성\n",
        "\n",
        "def twoSum3(nums, target):\n",
        "  numd={}\n",
        "  for i,v in enumerate(nums):\n",
        "    numd[v]=i\n",
        "\n",
        "  print(numd)\n",
        "\n",
        "  for i,v in enumerate(nums):\n",
        "    if target-v in numd and numd[target-v]!=i:\n",
        "      return [i, numd[target-v]]"
      ],
      "metadata": {
        "id": "6dh5DguZcADu"
      },
      "execution_count": null,
      "outputs": []
    },
    {
      "cell_type": "code",
      "source": [
        "twoSum3([2,7,11,15],9)"
      ],
      "metadata": {
        "colab": {
          "base_uri": "https://localhost:8080/"
        },
        "id": "bLNBDeRmfNIr",
        "outputId": "11011418-5ce3-45f2-ae3b-41a744b7b757"
      },
      "execution_count": null,
      "outputs": [
        {
          "output_type": "execute_result",
          "data": {
            "text/plain": [
              "[0, 1]"
            ]
          },
          "metadata": {},
          "execution_count": 29
        }
      ]
    },
    {
      "cell_type": "markdown",
      "source": [
        "target-k인 v가 nums에 있는지 탐색한다는 점이 공통적이지만\n",
        "\n",
        "dict의 경우 .index() 사용할 것 없이 index를 값으로 불러와 좀더 시간 효율적"
      ],
      "metadata": {
        "id": "5AY7o5zleRDe"
      }
    },
    {
      "cell_type": "code",
      "source": [
        "# 교재 풀이4: 코드 가독성 개선 (시간 단축 x)\n",
        "\n",
        "def twoSum4(nums, target):\n",
        "  numd={}\n",
        "\n",
        "  for i,v in enumerate(nums):\n",
        "    if target-v in numd:\n",
        "      return [numd[target-v],i] #있다면 리턴, 없다면 딕셔너리 추가 (이 경우 target-v가 numd의 key값으로 먼저 저장돼있음)\n",
        "    numd[v]=i"
      ],
      "metadata": {
        "id": "--N_PmXSg7WR"
      },
      "execution_count": null,
      "outputs": []
    },
    {
      "cell_type": "code",
      "source": [
        "#포인터 이동 풀이?\n",
        "#교재의 투 포인터 소제목을 보고 포인터 이동을 시도한 흔적\n",
        "\n",
        "def twoSum5(nums, target):\n",
        "  for i in range(len(nums)):\n",
        "    point=i+1\n",
        "    while point<len(nums):\n",
        "      if nums[i]+nums[point]==target: return [i, point]\n",
        "      point+=1"
      ],
      "metadata": {
        "id": "40zkxTzPiglg"
      },
      "execution_count": null,
      "outputs": []
    },
    {
      "cell_type": "markdown",
      "source": [
        "알고보니 교재에서는 정렬된 리스트에 대해 합이 타겟보다 작으면 오른쪽으로, 크면 왼쪽으로 이동하는 방식의 투 포인터를 구현했고 해당 비정렬 인풋 + 인덱스 리턴 문제에서는 적용 불가한 방법."
      ],
      "metadata": {
        "id": "AfSCpytBkVQY"
      }
    },
    {
      "cell_type": "code",
      "source": [
        "twoSum5([2,7,11,15],9)"
      ],
      "metadata": {
        "colab": {
          "base_uri": "https://localhost:8080/"
        },
        "id": "immGsMT9jmj3",
        "outputId": "1778df06-2501-40d2-935a-4d21bc51f59e"
      },
      "execution_count": null,
      "outputs": [
        {
          "output_type": "execute_result",
          "data": {
            "text/plain": [
              "[0, 1]"
            ]
          },
          "metadata": {},
          "execution_count": 47
        }
      ]
    },
    {
      "cell_type": "markdown",
      "source": [
        "\n",
        "\n",
        "---\n",
        "\n"
      ],
      "metadata": {
        "id": "n30G4268iedk"
      }
    },
    {
      "cell_type": "markdown",
      "source": [
        "Q.twoSum([1,2,4,1],2)와 같이 같은 수의 합인 경우 중복 인덱스 문제가 발생할까?"
      ],
      "metadata": {
        "id": "_Q1ZI-JPgTYu"
      }
    },
    {
      "cell_type": "code",
      "source": [
        "twoSum([1,2,4,1],2)\n",
        "\n",
        "#서로 다른 모든 idx1과 idx2 조합에 대해 합을 탐색하므로 다른 인덱스를 출력할 수 있다"
      ],
      "metadata": {
        "colab": {
          "base_uri": "https://localhost:8080/"
        },
        "id": "P1J_6-OMfVq5",
        "outputId": "de2f55d3-3032-4a35-e43e-14f4dcc1c0be"
      },
      "execution_count": null,
      "outputs": [
        {
          "output_type": "execute_result",
          "data": {
            "text/plain": [
              "[0, 3]"
            ]
          },
          "metadata": {},
          "execution_count": 37
        }
      ]
    },
    {
      "cell_type": "code",
      "source": [
        "twoSum2([1,2,4,1],2)\n",
        "\n",
        "#중복 인덱스를 방지하고자 [nums.index(n), nums[i+1:].index(v)+(i+1)]로 출력했었다"
      ],
      "metadata": {
        "colab": {
          "base_uri": "https://localhost:8080/"
        },
        "id": "HwjqUShDfZUg",
        "outputId": "715024da-a4f8-410b-c786-d228a5cbf1c2"
      },
      "execution_count": null,
      "outputs": [
        {
          "output_type": "execute_result",
          "data": {
            "text/plain": [
              "[0, 3]"
            ]
          },
          "metadata": {},
          "execution_count": 45
        }
      ]
    },
    {
      "cell_type": "code",
      "source": [
        "twoSum3([1,2,4,1],2)\n",
        "\n",
        "#dict 입력시 같은 수가 있을 때 인덱스가 덮어쓰기 되고, \n",
        "#합 탐색은 앞부터 시작하므로 동일 숫자의 합이어도 다른 인덱스를 출력할 수 있다"
      ],
      "metadata": {
        "colab": {
          "base_uri": "https://localhost:8080/"
        },
        "id": "kP9QbgBtfaRT",
        "outputId": "b2762f01-52f3-47ef-86af-9274e1ba30c9"
      },
      "execution_count": null,
      "outputs": [
        {
          "output_type": "stream",
          "name": "stdout",
          "text": [
            "{1: 3, 2: 1, 4: 2}\n"
          ]
        },
        {
          "output_type": "execute_result",
          "data": {
            "text/plain": [
              "[0, 3]"
            ]
          },
          "metadata": {},
          "execution_count": 34
        }
      ]
    },
    {
      "cell_type": "markdown",
      "source": [
        "\n",
        "\n",
        "---\n",
        "\n"
      ],
      "metadata": {
        "id": "OVuyq1Mflfam"
      }
    },
    {
      "cell_type": "markdown",
      "source": [
        "#042 빗물 트래핑"
      ],
      "metadata": {
        "id": "Hr2N5yWilf8S"
      }
    },
    {
      "cell_type": "markdown",
      "source": [
        "지형 높이가 1,0,2 라면 0에 해당하는 칸에 1만큼의 빗물이 쌓인다."
      ],
      "metadata": {
        "id": "Cg1NcPU1lpNP"
      }
    },
    {
      "cell_type": "code",
      "source": [
        "#입력 [0,1,0,2,1,0,1,3,2,1,2,1]\n",
        "#출력 [6]"
      ],
      "metadata": {
        "id": "CBJdhPG_loPa"
      },
      "execution_count": null,
      "outputs": []
    },
    {
      "cell_type": "code",
      "source": [
        "'''틀린.. 풀이 (40분 경과)'''\n",
        "\n",
        "def trap(lands):\n",
        "  p1,p2=0,0\n",
        "  trap=0\n",
        "\n",
        "  while p2<len(lands):\n",
        "    p2=p1+1\n",
        "    \n",
        "    if p2+1<len(lands) and lands[p2]<lands[p1]:\n",
        "      while lands[p2]<lands[p1]:\n",
        "        if lands[p2+1]>=lands[p1]: break\n",
        "        p2+=1\n",
        "        \n",
        "\n",
        "      trap+=min(lands[p1],lands[p2])*(p2-i)-sum(lands[p1:p2+1])\n",
        "      \n",
        "\n",
        "    p1=p2 #trap의 오른쪽 경계를 새 왼쪽 경계로\n",
        "\n",
        "  return trap\n",
        "\n",
        "#list index out of range 에러"
      ],
      "metadata": {
        "id": "CVQ0qjPaljSk"
      },
      "execution_count": null,
      "outputs": []
    },
    {
      "cell_type": "markdown",
      "source": [
        "40분 소요, 디버깅 실패"
      ],
      "metadata": {
        "id": "3ELeZIxQ28LO"
      }
    },
    {
      "cell_type": "code",
      "source": [
        "#교재풀이1: 두 포인터 최대로 이동\n",
        "\n",
        "def trap(height):\n",
        "  if not height:\n",
        "    return 0\n",
        "\n",
        "  volume=0\n",
        "  p1,p2=0,len(height)-1\n",
        "  p1_max,p2_max=height[p1],height[p2] #시작: 0번, n번 원소가 첫 max\n",
        "\n",
        "  while p1<p2: #투 포인터의 장점: while 조건 설정이 쉽다(?)\n",
        "\n",
        "    p1_max=max(p1_max, height[p1]) #max를 이용한 업데이트\n",
        "    p2_max=max(p2_max, height[p2])\n",
        "\n",
        "    if p1_max<=p2_max: #더 큰 쪽으로 다가가기\n",
        "      volume+= p1_max - height[p1] #height[p1]이 더 작아 p1_max 유지됐다면 (바깥높이-p1높이) 만큼 빗물 추가\n",
        "      p1+=1\n",
        "\n",
        "    else:\n",
        "      volume+= p2_max - height[p2]\n",
        "      p2-=1\n",
        "\n",
        "  return volume\n",
        "\n",
        "#★단순히 p1+=1, p2-=1 추가하면 안되는 이유?: 최대 높이가 가운데에 있다는 보장이 없어서..?"
      ],
      "metadata": {
        "id": "_e-q3q5GuiVQ"
      },
      "execution_count": null,
      "outputs": []
    },
    {
      "cell_type": "code",
      "source": [
        "trap([0,1,0,2,1,0,1,3,2,1,2,1])"
      ],
      "metadata": {
        "colab": {
          "base_uri": "https://localhost:8080/"
        },
        "id": "gyvNTsTy2NzJ",
        "outputId": "4e10c1c2-bbe2-4a0f-8f58-d623f2142769"
      },
      "execution_count": null,
      "outputs": [
        {
          "output_type": "execute_result",
          "data": {
            "text/plain": [
              "6"
            ]
          },
          "metadata": {},
          "execution_count": 70
        }
      ]
    },
    {
      "cell_type": "code",
      "source": [
        "if not 0: print('break')"
      ],
      "metadata": {
        "colab": {
          "base_uri": "https://localhost:8080/"
        },
        "id": "tQ6kyTwS74ZJ",
        "outputId": "48726bcf-2986-4fb2-99e0-d0da9984d34a"
      },
      "execution_count": null,
      "outputs": [
        {
          "output_type": "stream",
          "name": "stdout",
          "text": [
            "break\n"
          ]
        }
      ]
    },
    {
      "cell_type": "code",
      "source": [
        "#교재풀이2: 스택 쌓기\n",
        "#★★ 너무 어렵소\n",
        "\n",
        "def trap2(height):\n",
        "\n",
        "  stack=[]\n",
        "  volume=0\n",
        "\n",
        "  for i in range(len(height)):\n",
        "    while stack and height[i]>height[stack[-1]]: #i번 높이가 stack의 마지막 원소번 높이보다 크면\n",
        "      top=stack.pop()  #stack의 마지막 원소를 버리면서 꺼낸다\n",
        "\n",
        "      if not len(stack): break #len(stack)==0일 때만 break (첫 loop, stack 다 소진시?)\n",
        "\n",
        "      distance=i-1-stack[-1] #좌우 거리 \n",
        "      waters=min(height[i],height[stack[-1]])-height[top] #높이\n",
        "\n",
        "      print(i,top, distance, waters, distance*waters) #해체용...\n",
        "\n",
        "      volume+=distance*waters\n",
        "\n",
        "    stack.append(i) #i 차례로 추가\n",
        "\n",
        "  return volume"
      ],
      "metadata": {
        "id": "kkw1qg7G3G9K"
      },
      "execution_count": null,
      "outputs": []
    },
    {
      "cell_type": "code",
      "source": [
        "trap2([0,1,0,2,1,0,1,3,2,1,2,1])"
      ],
      "metadata": {
        "colab": {
          "base_uri": "https://localhost:8080/"
        },
        "id": "B6ezQudN8hx9",
        "outputId": "974a6e00-0ea3-48b2-e7cc-e8c323447144"
      },
      "execution_count": null,
      "outputs": [
        {
          "output_type": "stream",
          "name": "stdout",
          "text": [
            "3 2 1 1 1\n",
            "6 5 1 1 1\n",
            "7 6 2 0 0\n",
            "7 4 3 1 3\n",
            "10 9 1 1 1\n"
          ]
        },
        {
          "output_type": "execute_result",
          "data": {
            "text/plain": [
              "6"
            ]
          },
          "metadata": {},
          "execution_count": 86
        }
      ]
    },
    {
      "cell_type": "markdown",
      "source": [
        "#15.3Sum 세 수의 합"
      ],
      "metadata": {
        "id": "omN3oh3LDI85"
      }
    },
    {
      "cell_type": "markdown",
      "source": [
        "배열을 입력받아 합으로 0을 만들 수 있는 3개의 엘리먼트를 출력하기"
      ],
      "metadata": {
        "id": "Qv0BoM16DLoe"
      }
    },
    {
      "cell_type": "code",
      "source": [
        "#입력: nums=[-1,0,1,2,-1,-4]\n",
        "#출력: [[-1,0,1],[-1,-1,2]]"
      ],
      "metadata": {
        "id": "HDBIxkOa-y0X"
      },
      "execution_count": null,
      "outputs": []
    },
    {
      "cell_type": "markdown",
      "source": [
        "결과확인& 연습용 쉬운 코드"
      ],
      "metadata": {
        "id": "w7liKR-5HyrJ"
      }
    },
    {
      "cell_type": "code",
      "source": [
        "print(sum((-1,0,1))) #튜플 합 가능\n",
        "print(list((-1,0,1))) #튜플->리스트 가능\n",
        "print(set((1,0,-1)))  #튜플->집합 가능"
      ],
      "metadata": {
        "colab": {
          "base_uri": "https://localhost:8080/"
        },
        "id": "_Tu_AXr6EiNN",
        "outputId": "e680f012-2958-4eed-9c87-7290fdddba0a"
      },
      "execution_count": null,
      "outputs": [
        {
          "output_type": "stream",
          "name": "stdout",
          "text": [
            "0\n",
            "[-1, 0, 1]\n",
            "{0, 1, -1}\n"
          ]
        }
      ]
    },
    {
      "cell_type": "code",
      "source": [
        "print(sorted((1,2))) #튜플을 sorted에 넣으면 자동 리스트 변환\n",
        "print(sorted('abc')) #참고로 문자열도 그러함\n",
        "\n",
        "print(set([(1,2),(1,2)])) #튜플은 집합의 원소로 가능\n",
        "#print(set([[1,2],[1,2]])) 리스트는 가변자료라서 집합 원소로 불가!"
      ],
      "metadata": {
        "colab": {
          "base_uri": "https://localhost:8080/"
        },
        "id": "XZkT4tVSHbef",
        "outputId": "48dd38f8-6842-44e0-a3b3-df6e9531a6f9"
      },
      "execution_count": null,
      "outputs": [
        {
          "output_type": "stream",
          "name": "stdout",
          "text": [
            "[1, 2]\n",
            "['a', 'b', 'c']\n",
            "{(1, 2)}\n"
          ]
        }
      ]
    },
    {
      "cell_type": "code",
      "source": [
        "#시간 재기\n",
        "\n",
        "import time\n",
        "s=time.time()\n",
        "e=time.time()\n",
        "print(e-s)"
      ],
      "metadata": {
        "colab": {
          "base_uri": "https://localhost:8080/"
        },
        "id": "QZz56M9iTN2O",
        "outputId": "94d3435f-7eaa-4e36-a190-8d9f13846ae6"
      },
      "execution_count": null,
      "outputs": [
        {
          "output_type": "stream",
          "name": "stdout",
          "text": [
            "3.123283386230469e-05\n"
          ]
        }
      ]
    },
    {
      "cell_type": "code",
      "source": [
        "#풀이1\n",
        "\n",
        "def threeSum(nums):\n",
        "\n",
        "  #s=time.time()\n",
        "  from itertools import combinations as cm #조합툴 이용\n",
        "\n",
        "  cms=list(set(cm(nums,3)))  \n",
        "  cms2=set([tuple(sorted(c)) for c in cms])  #set으로 20개->14개 중복 감소\n",
        "\n",
        "  #e=time.time()\n",
        "  #print(e-s)\n",
        "  \n",
        "  return [list(c) for c in cms2 if sum(c)==0]"
      ],
      "metadata": {
        "id": "MzalLwtf-3gw"
      },
      "execution_count": null,
      "outputs": []
    },
    {
      "cell_type": "code",
      "source": [
        "threeSum([-1,0,1,2,-1,-4])\n",
        "\n",
        "#소요시간: 0.32425(밀리초)\n",
        "#메모리 초과로 리트코드 불통...ㅠ"
      ],
      "metadata": {
        "colab": {
          "base_uri": "https://localhost:8080/"
        },
        "id": "Z7Z5UwlDEbph",
        "outputId": "be36be08-bbc2-4fed-caa1-97c64681b0e9"
      },
      "execution_count": null,
      "outputs": [
        {
          "output_type": "execute_result",
          "data": {
            "text/plain": [
              "[[-1, -1, 2], [-1, 0, 1]]"
            ]
          },
          "metadata": {},
          "execution_count": 162
        }
      ]
    },
    {
      "cell_type": "code",
      "source": [
        "#풀이2 (브루트포스식?)\n",
        "\n",
        "def threeSum2(nums):\n",
        "  #s=time.time()\n",
        "\n",
        "  result=[]\n",
        "  for i in range(len(nums)):    \n",
        "    for j in range(i+1,len(nums)):\n",
        "      for k in range(j+1, len(nums)):\n",
        "        if nums[i]+nums[j]+nums[k]==0:\n",
        "          result.append([nums[i],nums[j],nums[k]])\n",
        "  \n",
        "  #e=time.time()\n",
        "  #print(e-s)\n",
        "  return list(set([tuple(sorted(c)) for c in result])) #중복된 값 건너뛸 필요 없다 "
      ],
      "metadata": {
        "id": "H5sWgrvsIaY1"
      },
      "execution_count": null,
      "outputs": []
    },
    {
      "cell_type": "code",
      "source": [
        "threeSum2([-1,0,1,2,-1,-4])\n",
        "\n",
        "#소요시간: 0.19332\n",
        "#시간 초과..."
      ],
      "metadata": {
        "colab": {
          "base_uri": "https://localhost:8080/"
        },
        "id": "3RNBPsSdKtd1",
        "outputId": "a0f9d7ec-7bf7-4582-d829-bd202af977be"
      },
      "execution_count": null,
      "outputs": [
        {
          "output_type": "execute_result",
          "data": {
            "text/plain": [
              "[(-1, -1, 2), (-1, 0, 1)]"
            ]
          },
          "metadata": {},
          "execution_count": 164
        }
      ]
    },
    {
      "cell_type": "code",
      "source": [
        "#교재 풀이1: 브루트 포스식\n",
        "\n",
        "def threeSum3(nums):\n",
        "\n",
        "  #s=time.time()\n",
        "\n",
        "  result=[]\n",
        "  nums.sort() #정렬해야 중복 값 건너뛰기 가능\n",
        "\n",
        "  for i in range(len(nums)-2): #i는 0~n-2번째\n",
        "    if i>0 and nums[i]==nums[i-1]: continue #i번째 값==이전값이면 다음 i로 이동\n",
        "    \n",
        "    for j in range(i+1,len(nums)-1):\n",
        "      if j>i+1 and nums[j]==nums[j-1]: continue #j==i+1인 경우 nums[j-1]는 nums[i]와 같고 이 경우를 배제하면 [-1,-1,2] 같은 경우가 집계 안됨\n",
        "\n",
        "      for k in range(j+1, len(nums)):\n",
        "        if k>j+1 and nums[k]==nums[k-1]: continue #배제시 [0,0,0] 같은 경우 집계 안됨\n",
        "                                   \n",
        "        if nums[i]+nums[j]+nums[k]==0: result.append([nums[i],nums[j],nums[k]])\n",
        "\n",
        "  #e=time.time()\n",
        "  #print(e-s)\n",
        "\n",
        "  return result"
      ],
      "metadata": {
        "id": "6YBIe1nEI5KX"
      },
      "execution_count": null,
      "outputs": []
    },
    {
      "cell_type": "code",
      "source": [
        "threeSum3([-1,0,1,2,-1,-4])\n",
        "#소요시간: 0.21696 (정렬 때문에 더 걸렸지만 중복값 많고 input 길어질수록 이득볼듯)"
      ],
      "metadata": {
        "colab": {
          "base_uri": "https://localhost:8080/"
        },
        "id": "UniMPfZyS7_1",
        "outputId": "8ed4d1a8-ef79-4a5d-f6c4-1e09463fcf53"
      },
      "execution_count": null,
      "outputs": [
        {
          "output_type": "execute_result",
          "data": {
            "text/plain": [
              "[[-1, -1, 2], [-1, 0, 1]]"
            ]
          },
          "metadata": {},
          "execution_count": 166
        }
      ]
    },
    {
      "cell_type": "markdown",
      "source": [
        ".sort()와 nums[i]==nums[i-1]로 중복 시작점 제거\n",
        "\n",
        "j,k에는 j>i+1과 k>j+1 조건으로 j=i+1 또는 k=i+1일 때만 최대 세가지 중복값 보존"
      ],
      "metadata": {
        "id": "GKD8F3KySJc1"
      }
    },
    {
      "cell_type": "code",
      "source": [
        "#확인용 코드\n",
        "\n",
        "if 1==1 and 2!=4: print('if')\n",
        "elif 2==2: print('elif')\n",
        "\n",
        "#if 실행시 elif 무시 (elif 실행시 당연 if 실행 x)"
      ],
      "metadata": {
        "colab": {
          "base_uri": "https://localhost:8080/"
        },
        "id": "xeNQC7lVb_kj",
        "outputId": "c6f4cd50-eec2-4261-e9a9-560a89d69f7c"
      },
      "execution_count": null,
      "outputs": [
        {
          "output_type": "stream",
          "name": "stdout",
          "text": [
            "if\n"
          ]
        }
      ]
    },
    {
      "cell_type": "code",
      "source": [
        "#풀이3 (투포인터 합 계산) - 아래 힌트 참고\n",
        "#i 오른쪽을 탐색하되 합이 0에 가까워지도록 포인터 하나씩 이동(정렬 상태 필수)\n",
        "\n",
        "def threeSum4(nums):\n",
        "  nums.sort()\n",
        "  result=[]\n",
        "\n",
        "  if len(nums)==3 and sum(nums)==0: return list(nums) #선 종료 조건\n",
        " \n",
        "  for i in range(len(nums)-2):\n",
        "\n",
        "    p1, p2=i+1,len(nums)-1 #★첫 오류: p2=len(nums)로 인한 out of index 에러★\n",
        "\n",
        "    while p1<p2:\n",
        "\n",
        "      if nums[i]+nums[p1]+nums[p1+1]>0:\n",
        "        break #i번째부터 세 수 합이 0보다 크게 되면 while 종료\n",
        "\n",
        "      if nums[i]+nums[p1]+nums[p2]==0: result.append([nums[i],nums[p1],nums[p2]])\n",
        "    \n",
        "      if nums[i]+nums[p1]+nums[p2]<=0 and p1+1<p2 and nums[i]+nums[p1+1]+nums[p2]<=0: p1+=1 #조건에 따라 포인터 이동\n",
        "      elif nums[i]+nums[p1]+nums[p2]>=0 and p2-1>p1 and nums[i]+nums[p1]+nums[p2-1]>=0: p2-=1 #if실행시 elif 실행 안하는 구조 필요\n",
        "      else: break #★두번째 오류: if, elif 미구분으로 포인터 동시 이동, if, elif 조건 미흡과 break 조건 미설정으로 인한 무한 루프★\n",
        "\n",
        "  return result"
      ],
      "metadata": {
        "id": "ICpQgoYuS3E2"
      },
      "execution_count": null,
      "outputs": []
    },
    {
      "cell_type": "code",
      "source": [
        "threeSum4([-1,0,1,2,-1,-4])\n",
        "\n",
        "#소요시간 0.20742\n",
        "#뭐지 얘도 시간초과라는데 ㅜ"
      ],
      "metadata": {
        "colab": {
          "base_uri": "https://localhost:8080/"
        },
        "id": "_Li65OJVZIAE",
        "outputId": "4d97a850-dc80-4080-e8da-218488a2b464"
      },
      "execution_count": null,
      "outputs": [
        {
          "output_type": "execute_result",
          "data": {
            "text/plain": [
              "[[-1, -1, 2], [-1, 0, 1]]"
            ]
          },
          "metadata": {},
          "execution_count": 169
        }
      ]
    },
    {
      "cell_type": "code",
      "source": [
        "#교재 풀이를 위 표현과 비슷하게 구현시\n",
        "\n",
        "def threeSum5(nums):\n",
        "  nums.sort()\n",
        "  result=[]\n",
        "\n",
        "  for i in range(len(nums)-2):\n",
        "\n",
        "    if i>0 and nums[i]==nums[i-1]: continue #중복 제거 안해도 풀리지만 과정을 단축하긴 할듯\n",
        "    p1, p2=i+1,len(nums)-1\n",
        "\n",
        "    while p1<p2:\n",
        "\n",
        "      if nums[i]+nums[p1]+nums[p2]<0: p1+=1\n",
        "      elif nums[i]+nums[p1]+nums[p2]>0: p2-=1\n",
        "      else: \n",
        "        result.append([nums[i],nums[p1],nums[p2]])   #내 풀이에서 따로 if로 설정\n",
        "      \n",
        "        while p1<p2 and nums[p1]==nums[p1+1]: p1+=1 #(왼쪽에서부터 합이 0 되는 중복 요소 처리)  #내 풀이에서 if 중 >=로 처리된 부분\n",
        "        while p1<p2 and nums[p2]==nums[p2-1]: p2-=1\n",
        "        p1+=1 #다음 p1, p2 확인을 위한 처리 (위까지는 중복)\n",
        "        p2-=1 #★★ Q. 투 포인터를 동시에 이동시켜도 되나요?? (아래 조건들 하에서 가능)\n",
        "              #☆☆ A. i 고정,i+a+b=0, 다음 수는 중복 아님 조건에서 현재 양쪽값이 a, b인 경우, 어차피 a+b다음값이나 b+a다음값이 0이 되는 것은 불가능\n",
        "\n",
        "  return result"
      ],
      "metadata": {
        "id": "qeXRI6dfVLTE"
      },
      "execution_count": null,
      "outputs": []
    },
    {
      "cell_type": "code",
      "source": [
        "threeSum5([-1,0,1,2,-1,-4])"
      ],
      "metadata": {
        "colab": {
          "base_uri": "https://localhost:8080/"
        },
        "id": "DTki82dGjSr7",
        "outputId": "d1372f6d-1266-42bf-aa9e-ee2a778f5bef"
      },
      "execution_count": null,
      "outputs": [
        {
          "output_type": "execute_result",
          "data": {
            "text/plain": [
              "[[-1, -1, 2], [-1, 0, 1]]"
            ]
          },
          "metadata": {},
          "execution_count": 172
        }
      ]
    },
    {
      "cell_type": "markdown",
      "source": [
        "유사한 구조지만 교재 풀이가 더욱 가독성 높다\n",
        "\n",
        "위와 같이 배열 등의 문제에서 시작점, 끝점 등 두 지점을 기준으로 범위를 좁혀나가는 방식의 실전적 풀이를 투 포인터 기법이라 함\n",
        "\n",
        "이제부터 교재풀이, 내 풀이 구분을 위해 함수에 _my1 또는 _sol1 등으로 표기"
      ],
      "metadata": {
        "id": "d3gDI9RSgtkP"
      }
    },
    {
      "cell_type": "markdown",
      "source": [
        "#561 배열 파티션1"
      ],
      "metadata": {
        "id": "hSP6mdxulteG"
      }
    },
    {
      "cell_type": "markdown",
      "source": [
        "n개를 둘씩 짝지어 min(a,b)의 합으로 만들 수 있는 최대의 수는?"
      ],
      "metadata": {
        "id": "tFA9KrVvl7vn"
      }
    },
    {
      "cell_type": "code",
      "source": [
        "#입력: [1,4,3,2] (항상 2n개)\n",
        "#출력: 4"
      ],
      "metadata": {
        "id": "NpqOiSC5lsbr"
      },
      "execution_count": null,
      "outputs": []
    },
    {
      "cell_type": "code",
      "source": [
        "#확인용 코드\n",
        "print([1,2,3,4][::2])"
      ],
      "metadata": {
        "colab": {
          "base_uri": "https://localhost:8080/"
        },
        "id": "jUvjrioIoZJ_",
        "outputId": "e5538406-acd2-49a1-ce10-639f8784a5c3"
      },
      "execution_count": null,
      "outputs": [
        {
          "output_type": "stream",
          "name": "stdout",
          "text": [
            "[1, 3]\n"
          ]
        }
      ]
    },
    {
      "cell_type": "code",
      "source": [
        "def PairSum_my1(nums):\n",
        "\n",
        "  nums.sort()\n",
        "  return sum(nums[::2])\n",
        "\n",
        "#교재3번 풀이에 해당. 더 간결하게 return sum(sorted(nums)[::2])로 합칠 수 있다"
      ],
      "metadata": {
        "id": "KAYB9jtXmP_x"
      },
      "execution_count": null,
      "outputs": []
    },
    {
      "cell_type": "code",
      "source": [
        "PairSum_my1([1,4,3,2])"
      ],
      "metadata": {
        "colab": {
          "base_uri": "https://localhost:8080/"
        },
        "id": "-XeKttAhoshr",
        "outputId": "e24824e7-b79e-4abb-fedb-8f7177be1875"
      },
      "execution_count": null,
      "outputs": [
        {
          "output_type": "execute_result",
          "data": {
            "text/plain": [
              "4"
            ]
          },
          "metadata": {},
          "execution_count": 99
        }
      ]
    },
    {
      "cell_type": "code",
      "source": [
        "#교재풀이1: 오름차순\n",
        "\n",
        "def PairSum_sol1(nums):\n",
        "\n",
        "  nums.sort()\n",
        "  sum_=0\n",
        "  pair=[]\n",
        "\n",
        "  for n in nums:  #pair에 앞 두 수를 넣을 때마다 앞수를 sum에 더하고 pair를 비운다\n",
        "    pair.append(n)\n",
        "    if len(pair)==2:\n",
        "      sum_+=pair[0]\n",
        "      pair=[]\n",
        "\n",
        "  return sum_"
      ],
      "metadata": {
        "id": "cztHMGM3o1Ct"
      },
      "execution_count": null,
      "outputs": []
    },
    {
      "cell_type": "code",
      "source": [
        "PairSum_sol1([1,4,3,2])"
      ],
      "metadata": {
        "colab": {
          "base_uri": "https://localhost:8080/"
        },
        "id": "AHakCARjpvk9",
        "outputId": "ed142bec-dfe2-452f-8f45-4ff0e7d4f874"
      },
      "execution_count": null,
      "outputs": [
        {
          "output_type": "execute_result",
          "data": {
            "text/plain": [
              "4"
            ]
          },
          "metadata": {},
          "execution_count": 104
        }
      ]
    },
    {
      "cell_type": "code",
      "source": [
        "#교재풀이2: 짝수번째 값 계산\n",
        "\n",
        "def PairSum_sol2(nums):\n",
        "  sum_=0\n",
        "  nums.sort()\n",
        "\n",
        "  for i,n in enumerate(nums):\n",
        "    if i%2==0: #인덱스를 일일이 받아서 짝수면 더함\n",
        "      sum_+=n\n",
        "  \n",
        "  return sum_"
      ],
      "metadata": {
        "id": "p9CIsCvTp0hq"
      },
      "execution_count": null,
      "outputs": []
    },
    {
      "cell_type": "markdown",
      "source": [
        "#238 자신 제외 배열 곱"
      ],
      "metadata": {
        "id": "Z3uiUEqjqaWu"
      }
    },
    {
      "cell_type": "markdown",
      "source": [
        "i번째 원소 대신 자신을 제외한 모든 요소의 곱셈 결과가 i번째에 오는 리스트 반환"
      ],
      "metadata": {
        "id": "0FzIURF-qsBM"
      }
    },
    {
      "cell_type": "code",
      "source": [
        "#입력: [1,2,3,4]\n",
        "#출력: [24,12,8,6]"
      ],
      "metadata": {
        "id": "TAaiC7v5qkKJ"
      },
      "execution_count": null,
      "outputs": []
    },
    {
      "cell_type": "code",
      "source": [
        "def product_es_my1(nums):\n",
        "  \n",
        "  k=1\n",
        "\n",
        "  for n in nums:\n",
        "    k*=n\n",
        "\n",
        "  return [int(k/n) for n in nums]"
      ],
      "metadata": {
        "id": "DiqhmccNq3w7"
      },
      "execution_count": null,
      "outputs": []
    },
    {
      "cell_type": "code",
      "source": [
        "product_es_my1([1,2,3,4])\n",
        "#0.00143밀리초"
      ],
      "metadata": {
        "colab": {
          "base_uri": "https://localhost:8080/"
        },
        "id": "dDTLo6IPsN8L",
        "outputId": "a2beb516-b436-40cf-8d04-ec5826437b2b"
      },
      "execution_count": null,
      "outputs": [
        {
          "output_type": "execute_result",
          "data": {
            "text/plain": [
              "[24, 12, 8, 6]"
            ]
          },
          "metadata": {},
          "execution_count": 129
        }
      ]
    },
    {
      "cell_type": "markdown",
      "source": [
        "\"나눗셈을 하지 않고 O(n)에 풀이하라\"는 조건을 이제 봤다..."
      ],
      "metadata": {
        "id": "trljOUo1sY2x"
      }
    },
    {
      "cell_type": "code",
      "source": [
        "#확인용 코드\n",
        "print([1,2,3][::-1]) #역순\n",
        "\n",
        "a=[1,2,3]\n",
        "b=a\n",
        "\n",
        "del b[0]\n",
        "print(a, id(b), id(a)) #a,b 주소 동일\n",
        "\n",
        "\n",
        "a=[1,2,3]\n",
        "c=a[:]\n",
        "\n",
        "del c[0]\n",
        "print(a, id(c), id(a)) #a,c 주소 다름 - 원 리스트에 영향을 미치지 않으려면 [:] 복사 필요"
      ],
      "metadata": {
        "colab": {
          "base_uri": "https://localhost:8080/"
        },
        "id": "XsEDCo-2s5L_",
        "outputId": "d20a69b7-74a3-421b-897c-c200aa99e040"
      },
      "execution_count": null,
      "outputs": [
        {
          "output_type": "stream",
          "name": "stdout",
          "text": [
            "[3, 2, 1]\n",
            "[2, 3] 139933144658400 139933144658400\n",
            "[1, 2, 3] 139933144153136 139933144661920\n"
          ]
        }
      ]
    },
    {
      "cell_type": "code",
      "source": [
        "def product_es_my2(nums):\n",
        "  s=time.time()\n",
        "\n",
        "\n",
        "  import numpy as np\n",
        "  result=[]\n",
        "\n",
        "  for i in range(len(nums)):\n",
        "    nums_=nums[:]\n",
        "    del nums_[i]\n",
        "    result.append(np.prod(nums_))\n",
        "\n",
        "\n",
        "  e=time.time()\n",
        "  print(round((e-s)*1000,5), '밀리초')\n",
        "  return result"
      ],
      "metadata": {
        "id": "sIx9rNBdsUMu"
      },
      "execution_count": null,
      "outputs": []
    },
    {
      "cell_type": "code",
      "source": [
        "product_es_my2([1,2,3,4])"
      ],
      "metadata": {
        "colab": {
          "base_uri": "https://localhost:8080/"
        },
        "id": "JASnhzPNtueH",
        "outputId": "f1cc8a4d-3caa-486b-db41-d6ff301ff566"
      },
      "execution_count": null,
      "outputs": [
        {
          "output_type": "stream",
          "name": "stdout",
          "text": [
            "0.12255 밀리초\n"
          ]
        },
        {
          "output_type": "execute_result",
          "data": {
            "text/plain": [
              "[24, 12, 8, 6]"
            ]
          },
          "metadata": {},
          "execution_count": 149
        }
      ]
    },
    {
      "cell_type": "code",
      "source": [
        "def product_es_sol1(nums):\n",
        "  s=time.time()\n",
        "  \n",
        "\n",
        "  result=[]\n",
        "  p=1\n",
        "\n",
        "  for n in nums:     #i번째 왼쪽까지의 곱\n",
        "    result.append(p) #p 추가 후\n",
        "    p=p*n #현재 p*n이 다음 p 값이 됨\n",
        "\n",
        "  p=1\n",
        "  for i in range(len(nums)-1, -1, -1):  #i번째 왼쪽까지의 곱 *= i번째 오른쪽까지의 곱\n",
        "    result[i]*=p\n",
        "    p=p*nums[i]\n",
        "\n",
        "\n",
        "  e=time.time()\n",
        "  print(round((e-s)*1000,5), '밀리초')\n",
        "  return result"
      ],
      "metadata": {
        "id": "3AMwqVVvve_q"
      },
      "execution_count": null,
      "outputs": []
    },
    {
      "cell_type": "code",
      "source": [
        "product_es_sol1([1,2,3,4])"
      ],
      "metadata": {
        "colab": {
          "base_uri": "https://localhost:8080/"
        },
        "id": "vBlfsmxUwGXF",
        "outputId": "9303eb2a-d124-4593-d55a-23ede9c8ea2e"
      },
      "execution_count": null,
      "outputs": [
        {
          "output_type": "stream",
          "name": "stdout",
          "text": [
            "0.00787 밀리초\n"
          ]
        },
        {
          "output_type": "execute_result",
          "data": {
            "text/plain": [
              "[24, 12, 8, 6]"
            ]
          },
          "metadata": {},
          "execution_count": 151
        }
      ]
    },
    {
      "cell_type": "markdown",
      "source": [
        "for문이 두개지만 중첩이 아니어서 그런지 속도가 빠르다..?"
      ],
      "metadata": {
        "id": "S8D1eP0qx6do"
      }
    },
    {
      "cell_type": "markdown",
      "source": [
        "#121 주식 사고팔 시점"
      ],
      "metadata": {
        "id": "zmkh3Jrvx-ou"
      }
    },
    {
      "cell_type": "markdown",
      "source": [
        "한번의 거래로 낼 수 있는 최대 이익을 산출하라"
      ],
      "metadata": {
        "id": "d3lBL-CyyFQh"
      }
    },
    {
      "cell_type": "code",
      "source": [
        "#입력: [7,1,5,3,6,4]\n",
        "#출력: 5\n",
        "\n",
        "#1일 때 사면 다음 최고인 6에서 팔아 5 이익"
      ],
      "metadata": {
        "id": "WuyMU102x-KP"
      },
      "execution_count": null,
      "outputs": []
    },
    {
      "cell_type": "code",
      "source": [
        "#풀이1 (full 노동)\n",
        "\n",
        "def maxProfit(prices):\n",
        "\n",
        "  m=0\n",
        "  for i in range(len(prices)-1):\n",
        "    if m < max(prices[i+1:])-prices[i]:\n",
        "      m=max(prices[i+1:])-prices[i]\n",
        "\n",
        "  return m\n",
        "\n",
        "  #타임 초과.."
      ],
      "metadata": {
        "id": "TEnbJxY9yE9J"
      },
      "execution_count": null,
      "outputs": []
    },
    {
      "cell_type": "code",
      "source": [
        "maxProfit([7,1,5,3,6,4])"
      ],
      "metadata": {
        "colab": {
          "base_uri": "https://localhost:8080/"
        },
        "id": "M7NyFF-5yyvd",
        "outputId": "e75d6a61-2827-4a0c-9950-fdaaeb956dc0"
      },
      "execution_count": null,
      "outputs": [
        {
          "output_type": "execute_result",
          "data": {
            "text/plain": [
              "5"
            ]
          },
          "metadata": {},
          "execution_count": 156
        }
      ]
    },
    {
      "cell_type": "code",
      "source": [
        "def maxProfit(prices):\n",
        "\n",
        "  m=0\n",
        "  mp=sys.maxsize\n",
        "\n",
        "  for p in prices:\n",
        "    mp=min(mp, p) #현재까지의 최저점\n",
        "    m=max(m, p-mp)  #현재까지의 최대 이익\n",
        "\n",
        "  return m\n",
        "\n",
        "#지금까지의 값과 새 값 min, max 비교해 갱신하는 방식도 자주 쓰이는듯"
      ],
      "metadata": {
        "id": "u5ocLfWF5xeC"
      },
      "execution_count": null,
      "outputs": []
    }
  ]
}
